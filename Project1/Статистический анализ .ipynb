{
 "cells": [
  {
   "cell_type": "markdown",
   "id": "99b2e0d2",
   "metadata": {},
   "source": [
    "<div  style=\"border-radius: 10px; box-shadow: 2px 2px 2px; border: 1px solid; padding: 10px \">\n",
    "\n",
    "**Александр, привет!**\n",
    "\n",
    "Меня зовут Василий Митров и я буду проверять твой проект. Предлагаю общаться на «ты». Если это неприемлемо, то дай мне знать и мы перейдем на «вы». \n",
    "\n",
    "Для удобства я оставлю комментарии в отдельных ячейках Markdown с заголовком «Комментарий ревьюера». Пожалуйста, не перемещай, не изменяй и не удаляй их - так наше общение будет более продуктивным. Я буду использовать цветовую разметку:\n",
    "\n",
    "<div class=\"alert alert-danger\" style=\"border-radius: 10px; box-shadow: 2px 2px 2px; border: 1px solid; padding: 10px \">\n",
    "<b>Комментарий ревьюера</b> \n",
    "    \n",
    "✍ Так выделены самые важные замечания. Без их отработки проект не будет принят. При проверке я обращаю внимание не только на код, но и на интерпретацию и анализ результатов, а также соответствие данных техническому заданию.\n",
    "</div>\n",
    "\n",
    "<div class=\"alert alert-warning\" style=\"border-radius: 10px; box-shadow: 2px 2px 2px; border: 1px solid; padding: 10px \">\n",
    "<b>Комментарий ревьюера</b> \n",
    "    \n",
    "📝 Так выделены небольшие замечания или рекомендации. Постарайся, пожалуйста, учесть эти комментарии в этом проекте или в будущих проектах.\n",
    "</div>\n",
    "\n",
    "<div class=\"alert alert-success\" style=\"border-radius: 10px; box-shadow: 2px 2px 2px; border: 1px solid; padding: 10px \">\n",
    "<b>Комментарий ревьюера</b> \n",
    "    \n",
    "👍 Так выделены все остальные комментарии, включая рекомендации, позитивные моменты или какие-то рассуждения и пояснения.\n",
    "</div>\n",
    "\n",
    "**Важные дополнения:**\n",
    "    \n",
    "* <u>Идеально, когда проект структурирован. Где названия разделов и подразделов будут записаны в ячейках [Markdown](https://paulradzkov.com/2014/markdown_cheatsheet/?).</u>\n",
    "    \n",
    "\n",
    "* <u>Проверь проект на работоспособность перед отправкой на проверку. Сделать это можно так: `Kernel -> Restart And Run All -> Restart And Run All Cells` предварительно сохранив проект нажав на дискету в левом верхнем углу. Это важный навык, который тебе пригодится как на собеседовании, при выполнении тестового задания, так и перед совещанием у руководства компании. Помни, ревьюеры не вносят изменения в код, даже если это путь к датасету или ячейка в неверном формате (code/mardown).</u>\n",
    "    \n",
    "Давай работать над проектом в диалоге: если ты что-то меняешь в проекте или отвечаешь на мои комментарии — пиши об этом. Мне будет легче отследить изменения, если ты выделишь свои комментарии:\n",
    "\n",
    "<div class=\"alert alert-info\" style=\"border-radius: 10px; box-shadow: 2px 2px 2px; border: 1px solid; padding: 10px \"> \n",
    "<b>Комментарий студента</b> \n",
    "    \n",
    "Например, вот так. Также, если есть какие-то вопросы, или что-то осталось непонятным по ревью - спрашивай в таких блоках и я постараюсь дать ответ.\n",
    "</div>\n",
    "\n",
    "---"
   ]
  },
  {
   "cell_type": "markdown",
   "id": "adb39f28",
   "metadata": {},
   "source": [
    "# Сервис аренды самокатов GoFast"
   ]
  },
  {
   "cell_type": "markdown",
   "id": "ef875517",
   "metadata": {},
   "source": [
    "## Цель и ход исследования"
   ]
  },
  {
   "cell_type": "markdown",
   "id": "820f036e",
   "metadata": {},
   "source": [
    "**Цели исследования:**\n",
    "1. Выяснить, выгоднее ли для компании пользователи с подпиской , чем пользователи без подписки.\n",
    "2. Ответить на вопросы отдела маркетинга.\n",
    "\n",
    "**Ход исследования**\n",
    "  \n",
    "  Мы получили данные о некоторых пользователях и их поездках. О качестве данных ничего не известно. Поэтому перед тем, как приступить к целям исследования, понадобится обзор данных.\n",
    "  \n",
    "  Мы проверим данные на наличие пропусков и дубликатов, приведём столбцы к необходимым типам данных, расчитаем и добавим необходимые колонки и приступим к проведению анализа.\n",
    "  \n",
    "  Таким образом, наше исследование будет состоять из семи этапов:\n",
    "  - Обзор и предобработка данных.\n",
    "  - Исследовательский анализ данных.\n",
    "  - Объединение данных.\n",
    "  - Подсчёт помеячной выручки для каждого пользователя.\n",
    "  - Проверка гипотез.\n",
    "  - Ответы на вопросы отдела маркетинга\n",
    "  - Формулирование выводов."
   ]
  },
  {
   "cell_type": "markdown",
   "id": "dee2d6a1",
   "metadata": {},
   "source": [
    "<div class=\"alert alert-success\" style=\"border-radius: 10px; box-shadow: 2px 2px 2px; border: 1px solid; padding: 10px \">\n",
    "<b>Комментарий ревьюера v.1</b> \n",
    "    \n",
    "👍 \n",
    "Вступление в работу очень важно. Так ты поясняешь то, чему она посвящена. Еще лучше будет, если ты сделаешь план работы с гиперссылками. Да, есть плагин ToC. Но хорошо бы уметь реализовывать интерактивный план проекта вручную. Как это реализовать - смотри по [ссылке](https://stackoverflow.com/questions/49535664/how-to-hyperlink-in-a-jupyter-notebook/49717704)"
   ]
  },
  {
   "cell_type": "markdown",
   "id": "61eb7bc4",
   "metadata": {},
   "source": [
    "##  Импорт библиотек и загрузка данных"
   ]
  },
  {
   "cell_type": "code",
   "execution_count": 1,
   "id": "72576667",
   "metadata": {},
   "outputs": [],
   "source": [
    "import pandas as pd\n",
    "import matplotlib.pyplot as plt\n",
    "import seaborn as sns\n",
    "import plotly.express as px\n",
    "from plotly import graph_objects as go\n",
    "from scipy import stats\n",
    "import numpy as np\n",
    "import scipy\n",
    "from math import sqrt\n",
    "from scipy import stats as st"
   ]
  },
  {
   "cell_type": "markdown",
   "id": "5216ab22",
   "metadata": {},
   "source": [
    "<div class=\"alert alert-success\" style=\"border-radius: 10px; box-shadow: 2px 2px 2px; border: 1px solid; padding: 10px \">\n",
    "<b>Комментарий ревьюера v.1</b> \n",
    "    \n",
    "👍 \n",
    "Правильно, что весь импорт ты проводишь в первой ячейке работы. Так твой коллега, запускающий работу, будет в курсе используемых в ней библиотек и сможет при необходимости быстро настроить окружение.\n",
    "</div>"
   ]
  },
  {
   "cell_type": "code",
   "execution_count": 2,
   "id": "eff9f206",
   "metadata": {},
   "outputs": [
    {
     "ename": "FileNotFoundError",
     "evalue": "[Errno 2] No such file or directory: '/datasets/users_go.csv'",
     "output_type": "error",
     "traceback": [
      "\u001b[1;31m---------------------------------------------------------------------------\u001b[0m",
      "\u001b[1;31mFileNotFoundError\u001b[0m                         Traceback (most recent call last)",
      "Cell \u001b[1;32mIn[2], line 2\u001b[0m\n\u001b[0;32m      1\u001b[0m users,rides,subscriptions \u001b[38;5;241m=\u001b[39m (\n\u001b[1;32m----> 2\u001b[0m     pd\u001b[38;5;241m.\u001b[39mread_csv(\u001b[38;5;124m'\u001b[39m\u001b[38;5;124m/datasets/users_go.csv\u001b[39m\u001b[38;5;124m'\u001b[39m),  \n\u001b[0;32m      3\u001b[0m     pd\u001b[38;5;241m.\u001b[39mread_csv(\u001b[38;5;124m'\u001b[39m\u001b[38;5;124m/datasets/rides_go.csv\u001b[39m\u001b[38;5;124m'\u001b[39m,parse_dates\u001b[38;5;241m=\u001b[39m[\u001b[38;5;124m'\u001b[39m\u001b[38;5;124mdate\u001b[39m\u001b[38;5;124m'\u001b[39m], dayfirst\u001b[38;5;241m=\u001b[39m\u001b[38;5;28;01mTrue\u001b[39;00m), \n\u001b[0;32m      4\u001b[0m     pd\u001b[38;5;241m.\u001b[39mread_csv(\u001b[38;5;124m'\u001b[39m\u001b[38;5;124m/datasets/subscriptions_go.csv\u001b[39m\u001b[38;5;124m'\u001b[39m), \n\u001b[0;32m      5\u001b[0m )\n",
      "File \u001b[1;32mC:\\Anaconda\\Lib\\site-packages\\pandas\\io\\parsers\\readers.py:912\u001b[0m, in \u001b[0;36mread_csv\u001b[1;34m(filepath_or_buffer, sep, delimiter, header, names, index_col, usecols, dtype, engine, converters, true_values, false_values, skipinitialspace, skiprows, skipfooter, nrows, na_values, keep_default_na, na_filter, verbose, skip_blank_lines, parse_dates, infer_datetime_format, keep_date_col, date_parser, date_format, dayfirst, cache_dates, iterator, chunksize, compression, thousands, decimal, lineterminator, quotechar, quoting, doublequote, escapechar, comment, encoding, encoding_errors, dialect, on_bad_lines, delim_whitespace, low_memory, memory_map, float_precision, storage_options, dtype_backend)\u001b[0m\n\u001b[0;32m    899\u001b[0m kwds_defaults \u001b[38;5;241m=\u001b[39m _refine_defaults_read(\n\u001b[0;32m    900\u001b[0m     dialect,\n\u001b[0;32m    901\u001b[0m     delimiter,\n\u001b[1;32m   (...)\u001b[0m\n\u001b[0;32m    908\u001b[0m     dtype_backend\u001b[38;5;241m=\u001b[39mdtype_backend,\n\u001b[0;32m    909\u001b[0m )\n\u001b[0;32m    910\u001b[0m kwds\u001b[38;5;241m.\u001b[39mupdate(kwds_defaults)\n\u001b[1;32m--> 912\u001b[0m \u001b[38;5;28;01mreturn\u001b[39;00m _read(filepath_or_buffer, kwds)\n",
      "File \u001b[1;32mC:\\Anaconda\\Lib\\site-packages\\pandas\\io\\parsers\\readers.py:577\u001b[0m, in \u001b[0;36m_read\u001b[1;34m(filepath_or_buffer, kwds)\u001b[0m\n\u001b[0;32m    574\u001b[0m _validate_names(kwds\u001b[38;5;241m.\u001b[39mget(\u001b[38;5;124m\"\u001b[39m\u001b[38;5;124mnames\u001b[39m\u001b[38;5;124m\"\u001b[39m, \u001b[38;5;28;01mNone\u001b[39;00m))\n\u001b[0;32m    576\u001b[0m \u001b[38;5;66;03m# Create the parser.\u001b[39;00m\n\u001b[1;32m--> 577\u001b[0m parser \u001b[38;5;241m=\u001b[39m TextFileReader(filepath_or_buffer, \u001b[38;5;241m*\u001b[39m\u001b[38;5;241m*\u001b[39mkwds)\n\u001b[0;32m    579\u001b[0m \u001b[38;5;28;01mif\u001b[39;00m chunksize \u001b[38;5;129;01mor\u001b[39;00m iterator:\n\u001b[0;32m    580\u001b[0m     \u001b[38;5;28;01mreturn\u001b[39;00m parser\n",
      "File \u001b[1;32mC:\\Anaconda\\Lib\\site-packages\\pandas\\io\\parsers\\readers.py:1407\u001b[0m, in \u001b[0;36mTextFileReader.__init__\u001b[1;34m(self, f, engine, **kwds)\u001b[0m\n\u001b[0;32m   1404\u001b[0m     \u001b[38;5;28mself\u001b[39m\u001b[38;5;241m.\u001b[39moptions[\u001b[38;5;124m\"\u001b[39m\u001b[38;5;124mhas_index_names\u001b[39m\u001b[38;5;124m\"\u001b[39m] \u001b[38;5;241m=\u001b[39m kwds[\u001b[38;5;124m\"\u001b[39m\u001b[38;5;124mhas_index_names\u001b[39m\u001b[38;5;124m\"\u001b[39m]\n\u001b[0;32m   1406\u001b[0m \u001b[38;5;28mself\u001b[39m\u001b[38;5;241m.\u001b[39mhandles: IOHandles \u001b[38;5;241m|\u001b[39m \u001b[38;5;28;01mNone\u001b[39;00m \u001b[38;5;241m=\u001b[39m \u001b[38;5;28;01mNone\u001b[39;00m\n\u001b[1;32m-> 1407\u001b[0m \u001b[38;5;28mself\u001b[39m\u001b[38;5;241m.\u001b[39m_engine \u001b[38;5;241m=\u001b[39m \u001b[38;5;28mself\u001b[39m\u001b[38;5;241m.\u001b[39m_make_engine(f, \u001b[38;5;28mself\u001b[39m\u001b[38;5;241m.\u001b[39mengine)\n",
      "File \u001b[1;32mC:\\Anaconda\\Lib\\site-packages\\pandas\\io\\parsers\\readers.py:1661\u001b[0m, in \u001b[0;36mTextFileReader._make_engine\u001b[1;34m(self, f, engine)\u001b[0m\n\u001b[0;32m   1659\u001b[0m     \u001b[38;5;28;01mif\u001b[39;00m \u001b[38;5;124m\"\u001b[39m\u001b[38;5;124mb\u001b[39m\u001b[38;5;124m\"\u001b[39m \u001b[38;5;129;01mnot\u001b[39;00m \u001b[38;5;129;01min\u001b[39;00m mode:\n\u001b[0;32m   1660\u001b[0m         mode \u001b[38;5;241m+\u001b[39m\u001b[38;5;241m=\u001b[39m \u001b[38;5;124m\"\u001b[39m\u001b[38;5;124mb\u001b[39m\u001b[38;5;124m\"\u001b[39m\n\u001b[1;32m-> 1661\u001b[0m \u001b[38;5;28mself\u001b[39m\u001b[38;5;241m.\u001b[39mhandles \u001b[38;5;241m=\u001b[39m get_handle(\n\u001b[0;32m   1662\u001b[0m     f,\n\u001b[0;32m   1663\u001b[0m     mode,\n\u001b[0;32m   1664\u001b[0m     encoding\u001b[38;5;241m=\u001b[39m\u001b[38;5;28mself\u001b[39m\u001b[38;5;241m.\u001b[39moptions\u001b[38;5;241m.\u001b[39mget(\u001b[38;5;124m\"\u001b[39m\u001b[38;5;124mencoding\u001b[39m\u001b[38;5;124m\"\u001b[39m, \u001b[38;5;28;01mNone\u001b[39;00m),\n\u001b[0;32m   1665\u001b[0m     compression\u001b[38;5;241m=\u001b[39m\u001b[38;5;28mself\u001b[39m\u001b[38;5;241m.\u001b[39moptions\u001b[38;5;241m.\u001b[39mget(\u001b[38;5;124m\"\u001b[39m\u001b[38;5;124mcompression\u001b[39m\u001b[38;5;124m\"\u001b[39m, \u001b[38;5;28;01mNone\u001b[39;00m),\n\u001b[0;32m   1666\u001b[0m     memory_map\u001b[38;5;241m=\u001b[39m\u001b[38;5;28mself\u001b[39m\u001b[38;5;241m.\u001b[39moptions\u001b[38;5;241m.\u001b[39mget(\u001b[38;5;124m\"\u001b[39m\u001b[38;5;124mmemory_map\u001b[39m\u001b[38;5;124m\"\u001b[39m, \u001b[38;5;28;01mFalse\u001b[39;00m),\n\u001b[0;32m   1667\u001b[0m     is_text\u001b[38;5;241m=\u001b[39mis_text,\n\u001b[0;32m   1668\u001b[0m     errors\u001b[38;5;241m=\u001b[39m\u001b[38;5;28mself\u001b[39m\u001b[38;5;241m.\u001b[39moptions\u001b[38;5;241m.\u001b[39mget(\u001b[38;5;124m\"\u001b[39m\u001b[38;5;124mencoding_errors\u001b[39m\u001b[38;5;124m\"\u001b[39m, \u001b[38;5;124m\"\u001b[39m\u001b[38;5;124mstrict\u001b[39m\u001b[38;5;124m\"\u001b[39m),\n\u001b[0;32m   1669\u001b[0m     storage_options\u001b[38;5;241m=\u001b[39m\u001b[38;5;28mself\u001b[39m\u001b[38;5;241m.\u001b[39moptions\u001b[38;5;241m.\u001b[39mget(\u001b[38;5;124m\"\u001b[39m\u001b[38;5;124mstorage_options\u001b[39m\u001b[38;5;124m\"\u001b[39m, \u001b[38;5;28;01mNone\u001b[39;00m),\n\u001b[0;32m   1670\u001b[0m )\n\u001b[0;32m   1671\u001b[0m \u001b[38;5;28;01massert\u001b[39;00m \u001b[38;5;28mself\u001b[39m\u001b[38;5;241m.\u001b[39mhandles \u001b[38;5;129;01mis\u001b[39;00m \u001b[38;5;129;01mnot\u001b[39;00m \u001b[38;5;28;01mNone\u001b[39;00m\n\u001b[0;32m   1672\u001b[0m f \u001b[38;5;241m=\u001b[39m \u001b[38;5;28mself\u001b[39m\u001b[38;5;241m.\u001b[39mhandles\u001b[38;5;241m.\u001b[39mhandle\n",
      "File \u001b[1;32mC:\\Anaconda\\Lib\\site-packages\\pandas\\io\\common.py:859\u001b[0m, in \u001b[0;36mget_handle\u001b[1;34m(path_or_buf, mode, encoding, compression, memory_map, is_text, errors, storage_options)\u001b[0m\n\u001b[0;32m    854\u001b[0m \u001b[38;5;28;01melif\u001b[39;00m \u001b[38;5;28misinstance\u001b[39m(handle, \u001b[38;5;28mstr\u001b[39m):\n\u001b[0;32m    855\u001b[0m     \u001b[38;5;66;03m# Check whether the filename is to be opened in binary mode.\u001b[39;00m\n\u001b[0;32m    856\u001b[0m     \u001b[38;5;66;03m# Binary mode does not support 'encoding' and 'newline'.\u001b[39;00m\n\u001b[0;32m    857\u001b[0m     \u001b[38;5;28;01mif\u001b[39;00m ioargs\u001b[38;5;241m.\u001b[39mencoding \u001b[38;5;129;01mand\u001b[39;00m \u001b[38;5;124m\"\u001b[39m\u001b[38;5;124mb\u001b[39m\u001b[38;5;124m\"\u001b[39m \u001b[38;5;129;01mnot\u001b[39;00m \u001b[38;5;129;01min\u001b[39;00m ioargs\u001b[38;5;241m.\u001b[39mmode:\n\u001b[0;32m    858\u001b[0m         \u001b[38;5;66;03m# Encoding\u001b[39;00m\n\u001b[1;32m--> 859\u001b[0m         handle \u001b[38;5;241m=\u001b[39m \u001b[38;5;28mopen\u001b[39m(\n\u001b[0;32m    860\u001b[0m             handle,\n\u001b[0;32m    861\u001b[0m             ioargs\u001b[38;5;241m.\u001b[39mmode,\n\u001b[0;32m    862\u001b[0m             encoding\u001b[38;5;241m=\u001b[39mioargs\u001b[38;5;241m.\u001b[39mencoding,\n\u001b[0;32m    863\u001b[0m             errors\u001b[38;5;241m=\u001b[39merrors,\n\u001b[0;32m    864\u001b[0m             newline\u001b[38;5;241m=\u001b[39m\u001b[38;5;124m\"\u001b[39m\u001b[38;5;124m\"\u001b[39m,\n\u001b[0;32m    865\u001b[0m         )\n\u001b[0;32m    866\u001b[0m     \u001b[38;5;28;01melse\u001b[39;00m:\n\u001b[0;32m    867\u001b[0m         \u001b[38;5;66;03m# Binary mode\u001b[39;00m\n\u001b[0;32m    868\u001b[0m         handle \u001b[38;5;241m=\u001b[39m \u001b[38;5;28mopen\u001b[39m(handle, ioargs\u001b[38;5;241m.\u001b[39mmode)\n",
      "\u001b[1;31mFileNotFoundError\u001b[0m: [Errno 2] No such file or directory: '/datasets/users_go.csv'"
     ]
    }
   ],
   "source": [
    "users,rides,subscriptions = (\n",
    "    pd.read_csv('/datasets/users_go.csv'),  \n",
    "    pd.read_csv('/datasets/rides_go.csv',parse_dates=['date'], dayfirst=True), \n",
    "    pd.read_csv('/datasets/subscriptions_go.csv'), \n",
    ")"
   ]
  },
  {
   "cell_type": "markdown",
   "id": "e95ebca7",
   "metadata": {},
   "source": [
    "## Обзор и предобработка данных"
   ]
  },
  {
   "cell_type": "markdown",
   "id": "3962d1eb",
   "metadata": {},
   "source": [
    "**Напишем функцию для вывода информации по таблице, а также подсчёту пропусков и дубликатов.**"
   ]
  },
  {
   "cell_type": "code",
   "execution_count": null,
   "id": "af6d202c",
   "metadata": {},
   "outputs": [],
   "source": [
    "def info(df):\n",
    "    display(df.head())\n",
    "    print(('\\033[1m' + 'Общая информация о таблице ' + '\\033[0m'))\n",
    "    display(df.info())\n",
    "    \n",
    "    print(('\\033[1m' + 'Количество пропусков в таблице :' + '\\033[0m'))\n",
    "    display(df.isna().sum())\n",
    "    \n",
    "    print('\\033[1m' + 'Количество дубликатов в таблице :{}'.format(df.duplicated().sum())  + '\\033[0m')"
   ]
  },
  {
   "cell_type": "markdown",
   "id": "13d568ec",
   "metadata": {},
   "source": [
    "### Обзор и предобработка таблицы users."
   ]
  },
  {
   "cell_type": "code",
   "execution_count": null,
   "id": "a8ee6763",
   "metadata": {
    "scrolled": false
   },
   "outputs": [],
   "source": [
    "info(users)"
   ]
  },
  {
   "cell_type": "markdown",
   "id": "fc2662ac",
   "metadata": {},
   "source": [
    "**В таблице найдены дубликты, удалим их.**"
   ]
  },
  {
   "cell_type": "code",
   "execution_count": null,
   "id": "f697820e",
   "metadata": {
    "scrolled": false
   },
   "outputs": [],
   "source": [
    "users=users.drop_duplicates()\n",
    "info(users)"
   ]
  },
  {
   "cell_type": "markdown",
   "id": "4b60cc1a",
   "metadata": {},
   "source": [
    "### Обзор и предобработка таблицы rides."
   ]
  },
  {
   "cell_type": "code",
   "execution_count": null,
   "id": "f013c976",
   "metadata": {
    "scrolled": false
   },
   "outputs": [],
   "source": [
    "info(rides)"
   ]
  },
  {
   "cell_type": "markdown",
   "id": "cc70a549",
   "metadata": {},
   "source": [
    "**Столбец с датой имеет некорректный тип данных, изменим его. Также создадим новую колонку с номером месяца, в который совершалась поездка.**"
   ]
  },
  {
   "cell_type": "code",
   "execution_count": null,
   "id": "67432a32",
   "metadata": {
    "scrolled": true
   },
   "outputs": [],
   "source": [
    "\n",
    "rides['month']=rides['date'].dt.month\n",
    "rides.head()"
   ]
  },
  {
   "cell_type": "markdown",
   "id": "81f7fcae",
   "metadata": {},
   "source": [
    "<div class=\"alert alert-success\" style=\"border-radius: 10px; box-shadow: 2px 2px 2px; border: 1px solid; padding: 10px \">\n",
    "<b>Комментарий ревьюера v.1</b> \n",
    "    \n",
    "👍 При чтении файла можно указать параметр `parse_dates: parse_dates=['date']`. Тогда пандас автоматически переведет список столбцов в даты. Пример можно посмотреть [здесь](https://newtechaudit.ru/gruzi-daty-krasivo/).\n",
    "</div>"
   ]
  },
  {
   "cell_type": "markdown",
   "id": "8b0559d9",
   "metadata": {},
   "source": [
    "<div class=\"alert alert-info\" style=\"border-radius: 10px; box-shadow: 2px 2px 2px; border: 1px solid; padding: 10px \"> \n",
    "<b>Комментарий студента</b> \n",
    "    \n",
    "Сделал. Спасибо, очень удобно!\n",
    "</div>"
   ]
  },
  {
   "cell_type": "markdown",
   "id": "82d844d5",
   "metadata": {},
   "source": [
    "**Проверим , за какой период предоставленны данные.**"
   ]
  },
  {
   "cell_type": "code",
   "execution_count": null,
   "id": "afaec898",
   "metadata": {},
   "outputs": [],
   "source": [
    "f'Получены данные за период с {rides.date.dt.date.min()} по {rides.date.dt.date.max()}.'"
   ]
  },
  {
   "cell_type": "markdown",
   "id": "8a99c420",
   "metadata": {},
   "source": [
    "### Обзор и предобработка таблицы subscriptions."
   ]
  },
  {
   "cell_type": "code",
   "execution_count": null,
   "id": "8f2222f0",
   "metadata": {
    "scrolled": true
   },
   "outputs": [],
   "source": [
    "info(subscriptions)"
   ]
  },
  {
   "cell_type": "markdown",
   "id": "7d416eaa",
   "metadata": {},
   "source": [
    "### Вывод по обзору и предобработке данных."
   ]
  },
  {
   "cell_type": "markdown",
   "id": "9a771b31",
   "metadata": {},
   "source": [
    "**На этапе обзора и предобработки мы:**\n",
    "1. Выяснили, что данные содержат информацию о 18068 поездках 1534 пользователей за период с 1 января по 30 декабря 2021 года.\n",
    "1. Выяснили, что во всех датафреймах отсутствуют пропуски.В таблицах rides и subscriptions дубликаты также не найдены.  \n",
    "2. Удалили дубликаты из таблицы users.\n",
    "3. Привели столбец с датой из таблицы rides к корректному типу данных.\n",
    "4. Добавили новую колонку в таблицу rides с номером месяца совершения поездки."
   ]
  },
  {
   "cell_type": "markdown",
   "id": "bf7f8afb",
   "metadata": {},
   "source": [
    "<div class=\"alert alert-success\" style=\"border-radius: 10px; box-shadow: 2px 2px 2px; border: 1px solid; padding: 10px \">\n",
    "<b>Комментарий ревьюера v.1</b> \n",
    "    \n",
    "👍 \n",
    "Отлично, мы превели первичный анализ и познакомились с данными. Приступим к исследовательскому анализу.\n",
    "</div>"
   ]
  },
  {
   "cell_type": "markdown",
   "id": "212593c7",
   "metadata": {},
   "source": [
    "##  Исследовательский анализ данных"
   ]
  },
  {
   "cell_type": "markdown",
   "id": "525c7545",
   "metadata": {},
   "source": [
    "### Частота встречаемости городов."
   ]
  },
  {
   "cell_type": "markdown",
   "id": "eb7a7fe3",
   "metadata": {},
   "source": [
    "**Посмотрим, сколько городов представлено в данных.**"
   ]
  },
  {
   "cell_type": "code",
   "execution_count": null,
   "id": "a8d4127e",
   "metadata": {},
   "outputs": [],
   "source": [
    "\n",
    "f'В данных содержится информация о пользователях из {users.city.nunique()} городов.'"
   ]
  },
  {
   "cell_type": "markdown",
   "id": "8d052fcb",
   "metadata": {},
   "source": [
    "**Посчитаем, как пользователи распределены по городам в процентном соотношении и построим график.**"
   ]
  },
  {
   "cell_type": "code",
   "execution_count": null,
   "id": "cccc7b25",
   "metadata": {
    "scrolled": false
   },
   "outputs": [],
   "source": [
    "users_city=users.groupby('city',as_index=False)['user_id'].count().sort_values(by='user_id',ascending=False)\n",
    "users_city['city_rate']=round(users_city['user_id']/users_city['user_id'].sum()*100,2)\n",
    "users_city"
   ]
  },
  {
   "cell_type": "code",
   "execution_count": null,
   "id": "5441a352",
   "metadata": {
    "scrolled": false
   },
   "outputs": [],
   "source": [
    "\n",
    "fig = px.bar(users_city.sort_values(by='city_rate'),\n",
    "             \n",
    "             height=400,\n",
    "             width=600,\n",
    "             range_x=[0, 20],\n",
    "             x='city_rate', \n",
    "             y='city', \n",
    "             text='city_rate' # добавляем аргумент, который отобразит текст с информацией\n",
    "                                # о количестве заведений внутри столбца графика\n",
    "            )\n",
    "# оформляем график\n",
    "fig.update_layout(title='Распределение 1534 пользователей по городам',\n",
    "                   xaxis_title='Доля от всех городов(%)',\n",
    "                   yaxis_title='Город')\n",
    "fig.show() "
   ]
  },
  {
   "cell_type": "markdown",
   "id": "426d64d9",
   "metadata": {},
   "source": [
    "**Вывод:**\n",
    " - в данных представлены 8 городов:Пятигорск, Екатеринбург, Ростов-на-Дону, Краснодар, Сочи, Омск, Тюмень и Москва.\n",
    " - пользователи равномерно распределены по городам. Так разница между самым часто встречающимся городом - Пятигорском и самым редко встречающимся - Москвой составила всего около 3 %."
   ]
  },
  {
   "cell_type": "markdown",
   "id": "137eb446",
   "metadata": {},
   "source": [
    "<div class=\"alert alert-success\" style=\"border-radius: 10px; box-shadow: 2px 2px 2px; border: 1px solid; padding: 10px \">\n",
    "<b>Комментарий ревьюера v.1</b> \n",
    "    \n",
    "👍 \n",
    "Не могу не отметить отличную визуализацию. Здорово, что оформляешь графики правильно.\n",
    "</div>"
   ]
  },
  {
   "cell_type": "markdown",
   "id": "403dbcfa",
   "metadata": {},
   "source": [
    "### Соотношение пользователей с подпиской и без подписки."
   ]
  },
  {
   "cell_type": "code",
   "execution_count": null,
   "id": "583f4833",
   "metadata": {},
   "outputs": [],
   "source": [
    "users_subscription_type=users.groupby('subscription_type',as_index=False)['user_id'].count()\n"
   ]
  },
  {
   "cell_type": "code",
   "execution_count": null,
   "id": "0ca6c897",
   "metadata": {
    "scrolled": false
   },
   "outputs": [],
   "source": [
    "fig = go.Figure(data=[go.Pie(labels=users_subscription_type['subscription_type'], # указываем значения, которые появятся на метках сегментов\n",
    "                             values=users_subscription_type['user_id'], # указываем данные, которые отобразятся на графике\n",
    "                             pull = [0.1, 0])]) # добавляем аргумент, который выделит сегмент-лидер на графике\n",
    "fig.update_layout(title='Доля пользователей по типу подписки', # указываем заголовок графика\n",
    "                  width=800, # указываем размеры графика\n",
    "                  height=500,\n",
    "                  annotations=[dict(x=1.12, # вручную настраиваем аннотацию легенды\n",
    "                                    y=1.05,\n",
    "                                    text='Тип подписки',\n",
    "                                    showarrow=False)])\n",
    "fig.show()"
   ]
  },
  {
   "cell_type": "markdown",
   "id": "b8b579a4",
   "metadata": {},
   "source": [
    "**Вывод:**\n",
    " - по типу подписки пользователи распределены практически равномерно. В данных немного больше пользователей без подписки."
   ]
  },
  {
   "cell_type": "markdown",
   "id": "b4815937",
   "metadata": {},
   "source": [
    "<div class=\"alert alert-success\" style=\"border-radius: 10px; box-shadow: 2px 2px 2px; border: 1px solid; padding: 10px \">\n",
    "<b>Комментарий ревьюера v.1</b> \n",
    "    \n",
    "👍 \n",
    "Супер, именно доля  корректно дает ответ на поставленный вопрос. \n",
    "</div>"
   ]
  },
  {
   "cell_type": "markdown",
   "id": "5b891937",
   "metadata": {},
   "source": [
    "### Распределение пользователей по возрасту."
   ]
  },
  {
   "cell_type": "markdown",
   "id": "7b345984",
   "metadata": {},
   "source": [
    "**Смотрим основные числовые характеристики колонки с возрастом.**"
   ]
  },
  {
   "cell_type": "code",
   "execution_count": null,
   "id": "e77f4a3e",
   "metadata": {
    "scrolled": true
   },
   "outputs": [],
   "source": [
    "users['age'].describe()"
   ]
  },
  {
   "cell_type": "markdown",
   "id": "5c0fcad9",
   "metadata": {},
   "source": [
    "**Вывод:**\n",
    " - самому младшему пользователю, попавшему в выборку, 12 лет\n",
    " - самому старшему - 43."
   ]
  },
  {
   "cell_type": "markdown",
   "id": "b82ff5e6",
   "metadata": {},
   "source": [
    "**Посмотрим, как распределяются данные о возрасте.**"
   ]
  },
  {
   "cell_type": "code",
   "execution_count": null,
   "id": "1b87c93a",
   "metadata": {},
   "outputs": [],
   "source": [
    "users.hist('age',bins=15,figsize=(16,6),range=(10,45));\n",
    "plt.title('Гистограмма по возрасту пользователей')\n",
    "plt.ylabel('Количество упоминананий')\n",
    "plt.xlabel('Возраст')\n",
    "plt.show()"
   ]
  },
  {
   "cell_type": "markdown",
   "id": "4ab067cc",
   "metadata": {},
   "source": [
    "**Вывод по графику:**\n",
    " - данные о возрасте пользователей имеют нормальное распределение с центром в возрасте 25 лет.\n",
    " - большинство пользователей  находятся в возрасте от 20 до 30 лет."
   ]
  },
  {
   "cell_type": "markdown",
   "id": "f8a45d44",
   "metadata": {},
   "source": [
    "<div class=\"alert alert-success\" style=\"border-radius: 10px; box-shadow: 2px 2px 2px; border: 1px solid; padding: 10px \">\n",
    "<b>Комментарий ревьюера v.1</b> \n",
    "    \n",
    "👍 \n",
    "Правильно, что используешь describe() для расчета описательных статистик.\n",
    "</div>"
   ]
  },
  {
   "cell_type": "markdown",
   "id": "68d6e84a",
   "metadata": {},
   "source": [
    "**Построим боксплот, чтобы увидеть аномалии.**"
   ]
  },
  {
   "cell_type": "code",
   "execution_count": null,
   "id": "8c7204f9",
   "metadata": {
    "scrolled": false
   },
   "outputs": [],
   "source": [
    "plt.figure(figsize=(10, 6))\n",
    "sns.boxplot(y='age', data=users)\n",
    "plt.ylim(10, 50)\n",
    "plt.title('Распределение пользователей по возрасту')\n",
    "\n",
    "plt.ylabel('Возраст')\n",
    "plt.show()"
   ]
  },
  {
   "cell_type": "markdown",
   "id": "886595ac",
   "metadata": {},
   "source": [
    "**Вывод по графику:**\n",
    " - Пользователи младше 13 лет и старше 38 лет очень редко встречаются в нашей выборке."
   ]
  },
  {
   "cell_type": "markdown",
   "id": "dcadc6f9",
   "metadata": {},
   "source": [
    "### Распределение поездок по  расстоянию."
   ]
  },
  {
   "cell_type": "markdown",
   "id": "d51c0efa",
   "metadata": {},
   "source": [
    "**Смотрим основные числовые характеристики колонки с расстоянием.**"
   ]
  },
  {
   "cell_type": "code",
   "execution_count": null,
   "id": "ac6ab550",
   "metadata": {
    "scrolled": true
   },
   "outputs": [],
   "source": [
    "rides['distance'].describe()"
   ]
  },
  {
   "cell_type": "markdown",
   "id": "69d1d55d",
   "metadata": {},
   "source": [
    "**Вывод:**\n",
    " - наименьшее расстояние, преодолённое за 1 поезку - около 1 метра\n",
    " - наибольшее - 7211 метров"
   ]
  },
  {
   "cell_type": "markdown",
   "id": "cc007e6b",
   "metadata": {},
   "source": [
    "**Посмотрим, как распределяются данные о расстоянии, преодолённом за одну поездку.**"
   ]
  },
  {
   "cell_type": "code",
   "execution_count": null,
   "id": "c969265f",
   "metadata": {
    "scrolled": false
   },
   "outputs": [],
   "source": [
    "rides.hist('distance',bins=30,figsize=(16,6),range=(0,7000));\n",
    "plt.title('Гистограмма по расстоянию, пройденному пользователем за 1 поездку')\n",
    "plt.ylabel('Количество упоминананий')\n",
    "plt.xlabel('Расстояние за 1 поездку (м)')\n",
    "plt.show()"
   ]
  },
  {
   "cell_type": "markdown",
   "id": "81a5b249",
   "metadata": {},
   "source": [
    "**Вывод по графику:**\n",
    " - данные о расстоянии, пройденному за одну поездку имеют нормальное распределение с центром около 3000 метров.\n",
    " - расстояние большинства поездок варьируется от 2200 до 4500 метров\n",
    " - в выборке достаточно большое количество поездок, в которых преодолнное расстояние оказалось меньше 1000 метров"
   ]
  },
  {
   "cell_type": "markdown",
   "id": "fe933109",
   "metadata": {},
   "source": [
    "**Построим боксплот, чтобы увидеть выбросы.**"
   ]
  },
  {
   "cell_type": "code",
   "execution_count": null,
   "id": "23891f96",
   "metadata": {
    "scrolled": false
   },
   "outputs": [],
   "source": [
    "plt.figure(figsize=(10, 6))\n",
    "sns.boxplot(y='distance', data=rides)\n",
    "plt.ylim(0, 7000)\n",
    "plt.title('Распределение пользователей по пройденному расстоянию')\n",
    "\n",
    "plt.ylabel('Расстояние за 1 поездку (м)')\n",
    "plt.show()"
   ]
  },
  {
   "cell_type": "markdown",
   "id": "73bf4244",
   "metadata": {},
   "source": [
    "**Вывод по графику:**\n",
    " - поездки, в которых преодолённое расстояние оказалось меньше 800 и больше 5500 метров, аномальны для нашей выборки"
   ]
  },
  {
   "cell_type": "markdown",
   "id": "c18ef81f",
   "metadata": {},
   "source": [
    "### Распределение продолжительности поездок."
   ]
  },
  {
   "cell_type": "markdown",
   "id": "0d4f2830",
   "metadata": {},
   "source": [
    "**Смотрим основные числовые характеристики колонки с продолжительностью поездок.**"
   ]
  },
  {
   "cell_type": "code",
   "execution_count": null,
   "id": "32196a34",
   "metadata": {
    "scrolled": false
   },
   "outputs": [],
   "source": [
    "rides['duration'].describe()"
   ]
  },
  {
   "cell_type": "markdown",
   "id": "91440ce3",
   "metadata": {},
   "source": [
    "**Вывод:**\n",
    " - время самой непродолжительной поездки в выборке составило 30 секунд\n",
    " - самой продолжительное - около 41 минуты"
   ]
  },
  {
   "cell_type": "markdown",
   "id": "6fba273e",
   "metadata": {},
   "source": [
    "**Посмотрим, как распределяются данные о продолжительности одной поездки.**"
   ]
  },
  {
   "cell_type": "code",
   "execution_count": null,
   "id": "44339129",
   "metadata": {
    "scrolled": false
   },
   "outputs": [],
   "source": [
    "rides.hist('duration',bins=15,figsize=(16,6),range=(0,40));\n",
    "plt.title('Гистограмма по продолжительности поездок')\n",
    "plt.ylabel('Количество упоминананий')\n",
    "plt.xlabel('Продолжительность поездки (мин)')\n",
    "plt.show()"
   ]
  },
  {
   "cell_type": "markdown",
   "id": "ac248892",
   "metadata": {},
   "source": [
    "**Вывод по графику:**\n",
    " - данные о продолжительности поездки имеют нормальное распределение с центром около 17-18 минут\n",
    " - продолжительность поездок в большинстве случаев варьируются от 10 до 25 минут"
   ]
  },
  {
   "cell_type": "markdown",
   "id": "990af589",
   "metadata": {},
   "source": [
    "**Построим боксплот, чтобы увидеть редко встречающиеся значения.**"
   ]
  },
  {
   "cell_type": "code",
   "execution_count": null,
   "id": "ed8f179a",
   "metadata": {
    "scrolled": false
   },
   "outputs": [],
   "source": [
    "plt.figure(figsize=(10, 6))\n",
    "sns.boxplot(y='duration', data=rides)\n",
    "plt.ylim(0, 40)\n",
    "plt.title('Распределение пользователей по пройденному расстоянию')\n",
    "\n",
    "plt.ylabel('Расстояние за 1 поездку (мин)')\n",
    "plt.show()"
   ]
  },
  {
   "cell_type": "markdown",
   "id": "89bd245d",
   "metadata": {},
   "source": [
    "**Вывод по графику:**\n",
    " - поездки, продолжительностью менее 2 минут и более 35 минут, можно считать аномальными для нашей выборки."
   ]
  },
  {
   "cell_type": "markdown",
   "id": "d1a8dd97",
   "metadata": {},
   "source": [
    "<div class=\"alert alert-success\" style=\"border-radius: 10px; box-shadow: 2px 2px 2px; border: 1px solid; padding: 10px \">\n",
    "<b>Комментарий ревьюера v.1</b> \n",
    "    \n",
    "👍 \n",
    "Отлично, двигаемся дальше.\n",
    "</div>"
   ]
  },
  {
   "cell_type": "markdown",
   "id": "d8b9b226",
   "metadata": {},
   "source": [
    "### Вывод по исследовательскому анализу"
   ]
  },
  {
   "cell_type": "markdown",
   "id": "0e07882b",
   "metadata": {},
   "source": [
    "**Исследовав данные, мы выяснили, что:**\n",
    "1. Данные содержат информацию о пользователях из 8 городов. Пользователи распределены по городам практически равномерно.\n",
    "2. По типу подписки пользователи распределены практически равномерно. В данных немного больше пользователей без подписки, чем с подпиской.\n",
    "3. Данные о возрасте пользователей имеют нормальное распределение со средним возрастом - 25 лет. Пользователи младше 13 лет, а также старше 38 лет - большая редкость.\n",
    "4. Данные о расстоянии, пройденному за одну поездку имеют нормальное распределение со средним около 3000 метров. Расстояние большинства поездок варьируется от 2200 до 4500 метров\n",
    "5. Данные о продолжительности поездки имеют нормальное распределение со средним около 17-18 минут. Время самой непродолжительной поездки в выборке составило 30 секунд, а самой продолжительной - около 41 минуты."
   ]
  },
  {
   "cell_type": "markdown",
   "id": "ffa49b1f",
   "metadata": {},
   "source": [
    "<div class=\"alert alert-success\" style=\"border-radius: 10px; box-shadow: 2px 2px 2px; border: 1px solid; padding: 10px \">\n",
    "<b>Комментарий ревьюера v.1</b> \n",
    "    \n",
    "👍 \n",
    "Молодец, что не забываешь писать промежуточные выводы и сохраняешь структуру проекта.\n",
    "</div>"
   ]
  },
  {
   "cell_type": "markdown",
   "id": "4ef51331",
   "metadata": {},
   "source": [
    "## Объединение данных"
   ]
  },
  {
   "cell_type": "markdown",
   "id": "7f787ed7",
   "metadata": {},
   "source": [
    "### Объединение таблиц и обзор созданного датафрейма ."
   ]
  },
  {
   "cell_type": "code",
   "execution_count": null,
   "id": "6bf288b5",
   "metadata": {
    "scrolled": false
   },
   "outputs": [],
   "source": [
    "data=users.merge(rides,on='user_id',how='left')\n",
    "data=data.merge(subscriptions,on='subscription_type',how='left')\n",
    "info(data)"
   ]
  },
  {
   "cell_type": "markdown",
   "id": "e1e00ceb",
   "metadata": {},
   "source": [
    "**Вывод:**\n",
    " - объенинённый датафрейм содержит 18068 строк и 12 столбцов. \n",
    " - дубликаты и пропуски отсутствуют."
   ]
  },
  {
   "cell_type": "markdown",
   "id": "2701513f",
   "metadata": {},
   "source": [
    "<div class=\"alert alert-success\" style=\"border-radius: 10px; box-shadow: 2px 2px 2px; border: 1px solid; padding: 10px \">\n",
    "<b>Комментарий ревьюера v.1</b> \n",
    "    \n",
    "👍 \n",
    "Объединение прошло корректно.\n",
    "</div>"
   ]
  },
  {
   "cell_type": "markdown",
   "id": "c6785762",
   "metadata": {},
   "source": [
    "### Создаём два отдельных датафрейма:пользователи без подписки и пользователи с подпиской"
   ]
  },
  {
   "cell_type": "markdown",
   "id": "9c939104",
   "metadata": {},
   "source": [
    "**Создаём датафрейм c данными о пользователях с подпиской и смотрим информацию по таблице.**"
   ]
  },
  {
   "cell_type": "code",
   "execution_count": null,
   "id": "5acff04c",
   "metadata": {
    "scrolled": true
   },
   "outputs": [],
   "source": [
    "data_ultra=data.query('subscription_type==\"ultra\"')\n",
    "info(data_ultra)"
   ]
  },
  {
   "cell_type": "markdown",
   "id": "c4d3995a",
   "metadata": {},
   "source": [
    "**Вывод:**\n",
    " - датафрейм содержит информацию о 6500 поездках пользователей с подпиской"
   ]
  },
  {
   "cell_type": "markdown",
   "id": "a5e6805a",
   "metadata": {},
   "source": [
    "**Создаём датафрейм c данными о пользователях без подписки и смотрим информацию по таблице.**"
   ]
  },
  {
   "cell_type": "code",
   "execution_count": null,
   "id": "2d1b89c4",
   "metadata": {
    "scrolled": false
   },
   "outputs": [],
   "source": [
    "data_free=data.query('subscription_type==\"free\"')\n",
    "info(data_free)"
   ]
  },
  {
   "cell_type": "markdown",
   "id": "834e746e",
   "metadata": {},
   "source": [
    "**Вывод:**\n",
    " - датафрейм содержит информацию о 11568 поездках пользователей без подписки"
   ]
  },
  {
   "cell_type": "markdown",
   "id": "802bd55f",
   "metadata": {},
   "source": [
    "**Посчитаем, сколько в среднем поездок совершает пользователь с подпиской и без неё.**"
   ]
  },
  {
   "cell_type": "code",
   "execution_count": null,
   "id": "00a23bfe",
   "metadata": {},
   "outputs": [],
   "source": [
    "display(f'Пользователи с подпиской в среднем совершали {round(data_ultra.user_id.count()/data_ultra.user_id.nunique(),1)} поездки.')\n",
    "display(f'Пользователи без подписки в среднем совершали {round(data_free.user_id.count()/data_free.user_id.nunique(),1)} поездок.')"
   ]
  },
  {
   "cell_type": "markdown",
   "id": "4781d21b",
   "metadata": {},
   "source": [
    "**Вывод:**\n",
    " - пользователь без подписки совершает в полтора раза больше поездок (в среднем 13,9), чем пользователь с подпиской (9,3)."
   ]
  },
  {
   "cell_type": "markdown",
   "id": "17a088ac",
   "metadata": {},
   "source": [
    "### Сравниваем расстояние, пройденное за одну поездку пользователей с подпиской и без неё."
   ]
  },
  {
   "cell_type": "markdown",
   "id": "4a601dfa",
   "metadata": {},
   "source": [
    "**Сравним основные числовые характеристики колонки с расстоянием, преодолённым за 1 поездку.**"
   ]
  },
  {
   "cell_type": "code",
   "execution_count": null,
   "id": "ec21130e",
   "metadata": {
    "scrolled": true
   },
   "outputs": [],
   "source": [
    "data.groupby('subscription_type')['distance'].describe().round()"
   ]
  },
  {
   "cell_type": "markdown",
   "id": "735cb13a",
   "metadata": {},
   "source": [
    "**Вывод:**\n",
    "- среднее расстояние (3050-3100 м) и медиана (3100-3150 м) практически не различаются в зависимости от типа подписки, а вот другие характеристики различаются значительно."
   ]
  },
  {
   "cell_type": "markdown",
   "id": "cccd1d96",
   "metadata": {},
   "source": [
    "**Сравним, как распределены данные о расстоянии в зависимости от типа подписки.**"
   ]
  },
  {
   "cell_type": "code",
   "execution_count": null,
   "id": "cdd79ad2",
   "metadata": {
    "scrolled": false
   },
   "outputs": [],
   "source": [
    "fig = px.histogram(data,\n",
    "             height=450,\n",
    "             width=1000,\n",
    "             range_x=[-100, 7000],\n",
    "             x='distance', \n",
    "             \n",
    "             color='subscription_type' \n",
    "            )\n",
    "# оформляем график\n",
    "fig.update_layout(title='Расстояние за 1 поездку',\n",
    "                   xaxis_title='Расстояние (м)',\n",
    "                   yaxis_title='Количество наблюдений')\n",
    "fig.show()"
   ]
  },
  {
   "cell_type": "markdown",
   "id": "41ed97e7",
   "metadata": {},
   "source": [
    "**Вывод по графику:**\n",
    " - на графике видно, что для пользователей без подписки характерен больший разброс набора данных."
   ]
  },
  {
   "cell_type": "markdown",
   "id": "4faebd61",
   "metadata": {},
   "source": [
    "**Посчитаем размах наборов данных и межквартильный размах.**"
   ]
  },
  {
   "cell_type": "code",
   "execution_count": null,
   "id": "e8784bc7",
   "metadata": {},
   "outputs": [],
   "source": [
    "display(f'Размах набора данных по расстоянию для пользователей без подписки: \\\n",
    "{round(data_free.distance.max()-data_free.distance.min())} метров, а для пользователей с подпиской \\\n",
    "{round(data_ultra.distance.max()-data_ultra.distance.min())} метров')\n",
    "\n"
   ]
  },
  {
   "cell_type": "code",
   "execution_count": null,
   "id": "a8c669c5",
   "metadata": {},
   "outputs": [],
   "source": [
    "display(f'Межквартильный размах расстояния для пользователей без подписки: \\\n",
    "{round(stats.iqr(data_free.distance))} метров, а для пользователей с подпиской {round(stats.iqr(data_ultra.distance))} метров')\n"
   ]
  },
  {
   "cell_type": "markdown",
   "id": "9a403d0f",
   "metadata": {},
   "source": [
    "**Посмотрим, какие значения можно считать выбросами по пройденному расстоянию в зависимости от категори подписки.**"
   ]
  },
  {
   "cell_type": "code",
   "execution_count": null,
   "id": "3c97d85d",
   "metadata": {
    "scrolled": false
   },
   "outputs": [],
   "source": [
    "plt.figure(figsize=(10, 6))\n",
    "sns.boxplot(x='subscription_type',y='distance', data=data)\n",
    "plt.ylim(0, 7000)\n",
    "plt.title('Распределение пользователей по пройденному расстоянию')\n",
    "\n",
    "plt.ylabel('Расстояние за 1 поездку (м)')\n",
    "plt.show()"
   ]
  },
  {
   "cell_type": "markdown",
   "id": "2eec489f",
   "metadata": {},
   "source": [
    "**Вывод по графику:**\n",
    " - выбросами для пользователей без подписки можно считать поездки длиннее 6200 метров\n",
    " - выбросами для пользователей с подпиской можно считать поездки короче 1500 метров и длиннее 4800 метров."
   ]
  },
  {
   "cell_type": "markdown",
   "id": "357aac1a",
   "metadata": {},
   "source": [
    "### Сравниваем продолжительность поездкок пользователей с подпиской и без неё."
   ]
  },
  {
   "cell_type": "markdown",
   "id": "cfcff938",
   "metadata": {},
   "source": [
    "**Сравним основные числовые характеристики колонки с продолжительностью поездок.**"
   ]
  },
  {
   "cell_type": "code",
   "execution_count": null,
   "id": "a6f9d1fd",
   "metadata": {
    "scrolled": true
   },
   "outputs": [],
   "source": [
    "data.groupby('subscription_type')['duration'].describe().round(2)"
   ]
  },
  {
   "cell_type": "markdown",
   "id": "52730312",
   "metadata": {},
   "source": [
    "**Вывод:**\n",
    "- Среднее время поездки и медиана несущественно больше у пользователей с подпиской."
   ]
  },
  {
   "cell_type": "markdown",
   "id": "58500b51",
   "metadata": {},
   "source": [
    "**Сравним, как распределены данные о продолжительности поездки в зависимости от типа подписки.**"
   ]
  },
  {
   "cell_type": "code",
   "execution_count": null,
   "id": "304394b0",
   "metadata": {
    "scrolled": false
   },
   "outputs": [],
   "source": [
    "fig = px.histogram(data,\n",
    "             height=450,\n",
    "             width=1000,\n",
    "             range_x=[-1, 40],\n",
    "             x='duration', \n",
    "            \n",
    "             color='subscription_type' \n",
    "            )\n",
    "# оформляем график\n",
    "fig.update_layout(title='Продолжительность одной поездки ',\n",
    "                   xaxis_title='Продолжительность поездки (мин)',\n",
    "                   yaxis_title='Количество наблюдений')\n",
    "fig.show()"
   ]
  },
  {
   "cell_type": "markdown",
   "id": "15b12dc1",
   "metadata": {},
   "source": [
    "**Вывод:**\n",
    " - в целом, графики имеют практически одинаковую форму, но за счёт того, что у пользователей без подписки больше наблюдений, у них график выше.\n",
    " - у пользователей с подпиской нет поездок, продолжительностью менеее 5 минут, а у пользователей без подписки такие поездки бывают."
   ]
  },
  {
   "cell_type": "markdown",
   "id": "d41a82ff",
   "metadata": {},
   "source": [
    "**Посчитаем размах наборов данных и межквартильный размах.**"
   ]
  },
  {
   "cell_type": "code",
   "execution_count": null,
   "id": "8b86f56a",
   "metadata": {},
   "outputs": [],
   "source": [
    "display(f'Размах набора данных по времени продолжительности поездки для пользователей без подписки: \\\n",
    "{round(data_free.duration.max()-data_free.duration.min())} минуты, а для пользователей с подпиской \\\n",
    "{round(data_ultra.duration.max()-data_ultra.duration.min())} минут')"
   ]
  },
  {
   "cell_type": "code",
   "execution_count": null,
   "id": "76c052ca",
   "metadata": {},
   "outputs": [],
   "source": [
    "display(f'Межквартильный размах расстояния для пользователей без подписки: \\\n",
    "{round(stats.iqr(data_free.duration),1)} минут, а для пользователей с подпиской \\\n",
    "{round(stats.iqr(data_ultra.duration),1)} минут')"
   ]
  },
  {
   "cell_type": "markdown",
   "id": "37e93d7b",
   "metadata": {},
   "source": [
    "**Посмотрим, какие значения можно считать выбросами по продолжительности поездки в зависимости от категори подписки.**"
   ]
  },
  {
   "cell_type": "code",
   "execution_count": null,
   "id": "d37ab072",
   "metadata": {
    "scrolled": false
   },
   "outputs": [],
   "source": [
    "plt.figure(figsize=(10, 6))\n",
    "sns.boxplot(x='subscription_type',y='duration', data=data)\n",
    "plt.ylim(0, 50)\n",
    "plt.title('Распределение пользователей по пройденному расстоянию')\n",
    "\n",
    "plt.ylabel('Продолжительность поездки (мин)')\n",
    "plt.show()"
   ]
  },
  {
   "cell_type": "markdown",
   "id": "68ae8f5d",
   "metadata": {},
   "source": [
    "**Вывод по графику:**\n",
    " - выбросами для пользователей без подписки можно считать поездки продолжительностью более 35 минут.\n",
    " - выбросами для пользователей с подпиской можно считать поездки продолжительностью менее 4 минут и более 33 минут"
   ]
  },
  {
   "cell_type": "markdown",
   "id": "372c21df",
   "metadata": {},
   "source": [
    "### Вывод по объединению данных и сравнению расстояния и времени поездок пользователей в зависимости от типа подписки"
   ]
  },
  {
   "cell_type": "markdown",
   "id": "000aa33e",
   "metadata": {},
   "source": [
    "\n",
    "1. Получены 2 датафрейма:\n",
    " - с информацией о 6500 поездках пользователей с подпиской\n",
    " - с информацией о 11568 поездках пользователей без подписки\n",
    "2. В среднем пользователь без подписки совершает в полтора раза больше поездок , чем пользователь с подпиской .\n",
    "3. Для пользователей без подписки характерен больший разброс данных по расстоянию, преодолённому за одну поездку. Так межквартильный размах в два раза больше у пользователей без подписки. Возможно это связано с тем, что пользователи с подпиской чаще используют самокаты как транпортное средство, с целью добраться из точки А в точку Б, то есть ездят по стандартным маршрутам. Пользователи же без подписки используют самокаты в развлекательных целях.\n",
    "4. Среднее время поездки и медиана немного больше у пользователей с подпиской."
   ]
  },
  {
   "cell_type": "markdown",
   "id": "7e507392",
   "metadata": {},
   "source": [
    "<div class=\"alert alert-success\" style=\"border-radius: 10px; box-shadow: 2px 2px 2px; border: 1px solid; padding: 10px \">\n",
    "<b>Комментарий ревьюера v.1</b> \n",
    "    \n",
    "👍 \n",
    "Выводы верны, визуализация корректная. Здорово, что есть сравнения профилей пользователей двух категорий.\n",
    "</div>"
   ]
  },
  {
   "cell_type": "markdown",
   "id": "fce4e950",
   "metadata": {},
   "source": [
    "<div class=\"alert alert-warning\" style=\"border-radius: 10px; box-shadow: 2px 2px 2px; border: 1px solid; padding: 10px \">\n",
    "<b>Комментарий ревьюера v.1</b> \n",
    "    \n",
    "📝 \n",
    "Также можно совместить графики распределений путем наложения для более наглядного сравнения.\n",
    "</div>"
   ]
  },
  {
   "cell_type": "markdown",
   "id": "b5d6549e",
   "metadata": {},
   "source": [
    "<div class=\"alert alert-info\" style=\"border-radius: 10px; box-shadow: 2px 2px 2px; border: 1px solid; padding: 10px \"> \n",
    "<b>Комментарий студента</b> \n",
    "    \n",
    "Переделал графики. Действительно, так гораздо наглядней!\n",
    "</div>"
   ]
  },
  {
   "cell_type": "markdown",
   "id": "133650d1",
   "metadata": {},
   "source": [
    "<div class=\"alert alert-success\" style=\"border-radius: 10px; box-shadow: 2px 2px 2px; border: 1px solid; padding: 10px \">\n",
    "<b>Комментарий ревьюера v.2</b> \n",
    "    \n",
    "👍 \n",
    "Просто супер!\n",
    "</div>"
   ]
  },
  {
   "cell_type": "markdown",
   "id": "402d620f",
   "metadata": {},
   "source": [
    "## Подсчёт выручки"
   ]
  },
  {
   "cell_type": "markdown",
   "id": "64695891",
   "metadata": {},
   "source": [
    "### Создаём датафрейм с суммарным расстоянием, количеством поездокок и суммарным временем для каждого пользователя за каждый месяц."
   ]
  },
  {
   "cell_type": "code",
   "execution_count": null,
   "id": "53049e0a",
   "metadata": {
    "scrolled": false
   },
   "outputs": [],
   "source": [
    "data_group=data.groupby(['user_id','month','subscription_type'],as_index=False)\\\n",
    ".agg({'distance':'sum','city':'count','duration':'sum'})\n",
    "data_group.columns=['user_id','month','subscription_type','sum_distance','number_of_trips','sum_duration']\n",
    "data_group"
   ]
  },
  {
   "cell_type": "markdown",
   "id": "fd9ee03e",
   "metadata": {},
   "source": [
    "### Добавляем столбец с помесячной выручкой для каждого пользователя."
   ]
  },
  {
   "cell_type": "code",
   "execution_count": null,
   "id": "41a61114",
   "metadata": {},
   "outputs": [],
   "source": [
    "def sum_revenue(row):\n",
    "    subscription_type=row['subscription_type']\n",
    "    distance=row['sum_distance']\n",
    "    count=row['number_of_trips']\n",
    "    duration=row['sum_duration']\n",
    "    if subscription_type=='ultra':\n",
    "        return 199 + np.ceil(duration)*6\n",
    "    else:\n",
    "        return 50*count+np.ceil(duration)*8"
   ]
  },
  {
   "cell_type": "code",
   "execution_count": null,
   "id": "4882daad",
   "metadata": {
    "scrolled": true
   },
   "outputs": [],
   "source": [
    "data_group['revenue']=data_group.apply(sum_revenue,axis=1)\n",
    "data_group.head()"
   ]
  },
  {
   "cell_type": "markdown",
   "id": "046b8670",
   "metadata": {},
   "source": [
    "### Рассчитываем среднюю выручку с поездки и среднюю выручку с пользователя для разных категорий подписки."
   ]
  },
  {
   "cell_type": "code",
   "execution_count": null,
   "id": "1d3e74ba",
   "metadata": {
    "scrolled": true
   },
   "outputs": [],
   "source": [
    "data_revenue=data_group.groupby('subscription_type',as_index=False) \\\n",
    ".agg({'revenue':'sum','number_of_trips':'sum','user_id':'nunique'})\n",
    "data_revenue['average_revenue_per_trip']=round(data_revenue['revenue']/data_revenue['number_of_trips'])\n",
    "data_revenue['average_revenue_per_user']=round(data_revenue['revenue']/data_revenue['user_id'])\n",
    "data_revenue"
   ]
  },
  {
   "cell_type": "markdown",
   "id": "82cb1fa0",
   "metadata": {},
   "source": [
    "**Сравним на графиках среднюю выручку с поездки и среднюю выручку с пользователя.**"
   ]
  },
  {
   "cell_type": "code",
   "execution_count": null,
   "id": "f9bd216c",
   "metadata": {
    "scrolled": false
   },
   "outputs": [],
   "source": [
    "with plt.style.context('seaborn'):\n",
    "    fig, axs= plt.subplots(nrows=1,ncols=2,figsize=(14, 7))\n",
    "    plt.subplots_adjust(wspace = 0.9)\n",
    "    fig. suptitle('Сравнение средней выручки с одной поездки и с одного пользователя')\n",
    "    axs[0].bar(data_revenue['subscription_type'],data_revenue['average_revenue_per_trip'])\n",
    "    axs[0].set_xlabel('Тип подписки')\n",
    "    axs[0].set_ylabel('Средняя выручка с поездки')\n",
    "    axs[0].set_title('Средняя выручка с поездки')\n",
    "\n",
    "    axs[1].bar(data_revenue['subscription_type'],data_revenue['average_revenue_per_user'])\n",
    "    axs[1].set_xlabel('Тип подписки')\n",
    "    axs[1].set_ylabel('Средняя выручка с пользователя')\n",
    "    axs[1].set_title('Средняя выручка с пользователя')\n",
    "\n",
    "\n",
    "    plt.show()"
   ]
  },
  {
   "cell_type": "markdown",
   "id": "d28a4503",
   "metadata": {},
   "source": [
    "**Вывод по графику:**\n",
    " - средняя выручка с одной поездки больше у пользователей с подпиской - 252 рубля. У пользователя без подписки - 191 рубль.\n",
    " - за счёт того, что пользователи без подписки в среднем совершают больше поездок, средняя выручка на одного пользователя у них больше (2653 рубля), чем у пользователя с подпиской (2344 рубля). "
   ]
  },
  {
   "cell_type": "markdown",
   "id": "0be0e6cc",
   "metadata": {},
   "source": [
    "### Вывод по подсчёту выручки "
   ]
  },
  {
   "cell_type": "markdown",
   "id": "b807cf6e",
   "metadata": {},
   "source": [
    "1. Мы создали датафрейм с агрегированными данными для каждого пользователя за каждый месяц с суммарным расстоянием, количество поездок и суммарным временем. Рассчитали и добавили в него столбец с помесячной выручкой на каждого пользователя.\n",
    "2. Посчитали, что средняя выручка с одной поездки выше у пользователей с подпиской, а вот средняя выручка с пользователя выше у тех, у кого подписки нет."
   ]
  },
  {
   "cell_type": "markdown",
   "id": "f683b86b",
   "metadata": {},
   "source": [
    "<div class=\"alert alert-success\" style=\"border-radius: 10px; box-shadow: 2px 2px 2px; border: 1px solid; padding: 10px \">\n",
    "<b>Комментарий ревьюера v.1</b> \n",
    "    \n",
    "👍 \n",
    "Здесь все корректно. Приступим к гипотезам.\n",
    "</div>"
   ]
  },
  {
   "cell_type": "markdown",
   "id": "41545ac0",
   "metadata": {},
   "source": [
    "## Проверка гипотез"
   ]
  },
  {
   "cell_type": "markdown",
   "id": "b3ba1d2d",
   "metadata": {},
   "source": [
    "### Проверяем гипотезу, о том что пользователи с подпиской тратят больше времени на поездки"
   ]
  },
  {
   "cell_type": "markdown",
   "id": "e8809acc",
   "metadata": {},
   "source": [
    "<div class=\"alert alert-danger\" style=\"border-radius: 10px; box-shadow: 2px 2px 2px; border: 1px solid; padding: 10px \">\n",
    "<b>Комментарий ревьюера v.1</b> \n",
    "    \n",
    "✍ \n",
    "К сожалению не сформулированы нулевая и альтернативная гипотезы.\n",
    "</div>"
   ]
  },
  {
   "cell_type": "markdown",
   "id": "a8966a3b",
   "metadata": {},
   "source": [
    "<div class=\"alert alert-info\" style=\"border-radius: 10px; box-shadow: 2px 2px 2px; border: 1px solid; padding: 10px \"> \n",
    "<b>Комментарий студента</b> \n",
    "    \n",
    "Сормулировал гипотезы.\n",
    "</div>"
   ]
  },
  {
   "cell_type": "markdown",
   "id": "5f38960d",
   "metadata": {},
   "source": [
    "<div class=\"alert alert-success\" style=\"border-radius: 10px; box-shadow: 2px 2px 2px; border: 1px solid; padding: 10px \">\n",
    "<b>Комментарий ревьюера v.2</b> \n",
    "    \n",
    "👍 \n",
    "\n",
    "</div>"
   ]
  },
  {
   "cell_type": "markdown",
   "id": "1b4962b1",
   "metadata": {},
   "source": [
    "**Сформулируем гипотезы:** \n",
    "\n",
    "Нулевая гипотеза: средние значения времени, затраченного на одну поездку у пользователей с подпиской и без подписки **равны**.\n",
    "\n",
    "Альтернативная гипотеза: среднее значение времени, затраченного на одну поездку у пользователей с подпиской **больше** среднего значения времени пользователей без подписки.\n",
    "\n",
    "Мы имеем дело с односторонней гипотезой о равенстве средних двух генеральных совокупностей, поэтому для её проверки воспользуемся методом ttest_ind() с аргументом greater для параметра alternative."
   ]
  },
  {
   "cell_type": "code",
   "execution_count": null,
   "id": "23ea867b",
   "metadata": {
    "scrolled": true
   },
   "outputs": [],
   "source": [
    "alpha = 0.05\n",
    "results = st.ttest_ind(data_ultra.duration, data_free.duration, alternative='greater')\n",
    "print(f'Средняя продолжительность поездки пользователей с подпиской: {round(data_ultra.duration.mean(),1)} минут.')\n",
    "print(f'Средняя продолжительность поездки пользователей без подписки: {round(data_free.duration.mean(),1)} минут.')\n",
    "print(f'p-value: {results.pvalue}')\n",
    "\n",
    "# проверяем p-value\n",
    "if results.pvalue < alpha:\n",
    "    print('Пользователи с подпиской тратят больше времени на поездки')\n",
    "else:\n",
    "    print('Нет оснований отвергнуть нулевую гипотезу')"
   ]
  },
  {
   "cell_type": "markdown",
   "id": "0a275341",
   "metadata": {},
   "source": [
    "**Вывод:**\n",
    "- пользователи с подпиской будут выгоднее для компании, так как тратят больше времени на поездки."
   ]
  },
  {
   "cell_type": "markdown",
   "id": "cc5385e9",
   "metadata": {},
   "source": [
    "### Проверяем гипотезу о том, что среднее расстояние, которое проезжают пользователи с подпиской не превышает 3130 метров."
   ]
  },
  {
   "cell_type": "markdown",
   "id": "52180940",
   "metadata": {},
   "source": [
    "<div class=\"alert alert-danger\" style=\"border-radius: 10px; box-shadow: 2px 2px 2px; border: 1px solid; padding: 10px \">\n",
    "<b>Комментарий ревьюера v.1</b> \n",
    "    \n",
    "✍ \n",
    "Также нет гипотез.\n",
    "</div>"
   ]
  },
  {
   "cell_type": "markdown",
   "id": "f3f5ea86",
   "metadata": {},
   "source": [
    "<div class=\"alert alert-info\" style=\"border-radius: 10px; box-shadow: 2px 2px 2px; border: 1px solid; padding: 10px \"> \n",
    "<b>Комментарий студента</b> \n",
    "    \n",
    "Сормулировал гипотезы.\n",
    "</div>"
   ]
  },
  {
   "cell_type": "markdown",
   "id": "0a279e0d",
   "metadata": {},
   "source": [
    "**Сформулируем гипотезы:** \n",
    "\n",
    "Нулевая гипотеза: Среднее расстояние, которое проезжают пользователи с подпиской **равно** 3130 метрам.\n",
    "\n",
    "Альтернативная гипотеза: Среднее расстояние, которое проезжают пользователи с подпиской **больше** 3130 метрам..\n",
    "\n",
    "Мы имеем дело с односторонней гипотезой о равенстве конкретного значения среднему значению генеральный совокупности, поэтому для её проверки воспользуемся методом scipy.stats.ttest_1samp() с аргументом greater для параметра alternative."
   ]
  },
  {
   "cell_type": "markdown",
   "id": "8053a772",
   "metadata": {},
   "source": [
    "<div class=\"alert alert-success\" style=\"border-radius: 10px; box-shadow: 2px 2px 2px; border: 1px solid; padding: 10px \">\n",
    "<b>Комментарий ревьюера v.2</b> \n",
    "    \n",
    "👍 \n",
    "\n",
    "</div>"
   ]
  },
  {
   "cell_type": "code",
   "execution_count": null,
   "id": "7c32ef75",
   "metadata": {},
   "outputs": [],
   "source": [
    "prev_screens_value = 3130\n",
    "\n",
    "alpha = 0.05 # уровень статистической значимости\n",
    "\n",
    "results = st.ttest_1samp(\n",
    "    data_ultra.distance, \n",
    "    prev_screens_value,\n",
    "      alternative='greater')\n",
    "print(round(data_ultra.distance.mean()))\n",
    "print('p-значение:', results.pvalue)\n",
    "\n",
    "if (results.pvalue < alpha):\n",
    "    print('Среднее расстояние, которое проезжают пользователи с подпиской больше 3130 метрам')\n",
    "else:\n",
    "    print('Нельзя утверждать, что среднее расстояние, которое проезжают пользователи с подпиской превышает 3130 метров.') "
   ]
  },
  {
   "cell_type": "markdown",
   "id": "269666be",
   "metadata": {},
   "source": [
    "**Вывод:**\n",
    " -  нельзя утверждать, что среднее расстояние, которое проезжают пользователи с подпиской больше 3130 метров."
   ]
  },
  {
   "cell_type": "markdown",
   "id": "459374ad",
   "metadata": {},
   "source": [
    "<div class=\"alert alert-danger\" style=\"border-radius: 10px; box-shadow: 2px 2px 2px; border: 1px solid; padding: 10px \">\n",
    "<b>Комментарий ревьюера v.1</b> \n",
    "    \n",
    "✍ \n",
    "Поскольку оптимальное расстояние по износу составляет 3130 м, значит большее расстояние приводит к повышенному износу самоката. Следовательно, имеет смысл сформулировать альтернативную гипотезу \"Подписчики в среднем проезжают расстояние больше оптимального\" и соответственно в статистическом тесте использовать параметр `alternative = 'greater'`\n",
    "</div>"
   ]
  },
  {
   "cell_type": "markdown",
   "id": "412e0b2b",
   "metadata": {},
   "source": [
    "<div class=\"alert alert-info\" style=\"border-radius: 10px; box-shadow: 2px 2px 2px; border: 1px solid; padding: 10px \"> \n",
    "<b>Комментарий студента</b> \n",
    "    \n",
    "Параметр поменял на greater. Выводы исправил.\n",
    "</div>"
   ]
  },
  {
   "cell_type": "markdown",
   "id": "20e94a56",
   "metadata": {},
   "source": [
    "<div class=\"alert alert-success\" style=\"border-radius: 10px; box-shadow: 2px 2px 2px; border: 1px solid; padding: 10px \">\n",
    "<b>Комментарий ревьюера v.2</b> \n",
    "    \n",
    "👍 \n",
    "\n",
    "</div>"
   ]
  },
  {
   "cell_type": "markdown",
   "id": "2c0f3b62",
   "metadata": {},
   "source": [
    "### Проверяем гипотезу, о том что помесячная выручка от пользователей с подпиской выше, чем выручка от пользователей без подписки."
   ]
  },
  {
   "cell_type": "markdown",
   "id": "d5169ed0",
   "metadata": {},
   "source": [
    "<div class=\"alert alert-danger\" style=\"border-radius: 10px; box-shadow: 2px 2px 2px; border: 1px solid; padding: 10px \">\n",
    "<b>Комментарий ревьюера v.1</b> \n",
    "    \n",
    "✍ \n",
    "Прошу сформулировать гипотезы.\n",
    "</div>"
   ]
  },
  {
   "cell_type": "markdown",
   "id": "656afe73",
   "metadata": {},
   "source": [
    "<div class=\"alert alert-info\" style=\"border-radius: 10px; box-shadow: 2px 2px 2px; border: 1px solid; padding: 10px \"> \n",
    "<b>Комментарий студента</b> \n",
    "    \n",
    "Сормулировал гипотезы.\n",
    "</div>"
   ]
  },
  {
   "cell_type": "markdown",
   "id": "9f9673d4",
   "metadata": {},
   "source": [
    "<div class=\"alert alert-success\" style=\"border-radius: 10px; box-shadow: 2px 2px 2px; border: 1px solid; padding: 10px \">\n",
    "<b>Комментарий ревьюера v.2</b> \n",
    "    \n",
    "👍 \n",
    "\n",
    "</div>"
   ]
  },
  {
   "cell_type": "markdown",
   "id": "75d82ff8",
   "metadata": {},
   "source": [
    "**Сформулируем гипотезы:** \n",
    "\n",
    "Нулевая гипотеза: средние значения помесячной выручки, у пользователей с подпиской и без подписки **равны**.\n",
    "\n",
    "Альтернативная гипотеза: среднее значение помесячной выручки у пользователей с подпиской **больше** среднего значения помесячной выручки пользователей без подписки.\n",
    "\n",
    "Мы имеем дело с односторонней гипотезой о равенстве средних двух генеральных совокупностей, поэтому для её проверки воспользуемся методом ttest_ind() с аргументом greater для параметра alternative."
   ]
  },
  {
   "cell_type": "code",
   "execution_count": null,
   "id": "a4df7450",
   "metadata": {
    "scrolled": false
   },
   "outputs": [],
   "source": [
    "alpha = 0.05\n",
    "ultra=data_group.query('subscription_type==\"ultra\"')\n",
    "free=data_group.query('subscription_type==\"free\"')\n",
    "results = st.ttest_ind(ultra.revenue, free.revenue, alternative='greater')\n",
    "print(f'Средняя помесячная выручка пользователей с подпиской: {round(ultra.revenue.mean())} рублей.')\n",
    "print(f'Средняя помесячная выручка пользователей без подписки: {round(free.revenue.mean())} рублей.')\n",
    "print(f'p-value: {results.pvalue}')\n",
    "\n",
    "# проверяем p-value\n",
    "if results.pvalue < alpha:\n",
    "    print('У пользователей с подпиской помесячная выручка выше, чем у пользователей без подписки')\n",
    "else:\n",
    "    print('Нет оснований отвергнуть нулевую гипотезу')"
   ]
  },
  {
   "cell_type": "markdown",
   "id": "0cca26dc",
   "metadata": {},
   "source": [
    "**Вывод:**\n",
    " - У пользователей с подпиской помесячная выручка выше, чем у пользователей без подписки, поэтому они будут выгоднее для компании."
   ]
  },
  {
   "cell_type": "markdown",
   "id": "a8fab5dc",
   "metadata": {},
   "source": [
    "<div class=\"alert alert-success\" style=\"border-radius: 10px; box-shadow: 2px 2px 2px; border: 1px solid; padding: 10px \">\n",
    "<b>Комментарий ревьюера v.1</b> \n",
    "    \n",
    "👍 \n",
    "В целом тесты проведены корректно и нам осталось только сформулировать гипотезы к каждому из тестов.\n",
    "</div>"
   ]
  },
  {
   "cell_type": "markdown",
   "id": "8790e8af",
   "metadata": {},
   "source": [
    "### Какой тест необходимо провести, чтобы выяснить, снизилось ли количество обращений в техподдержку после обновления сервера?"
   ]
  },
  {
   "cell_type": "markdown",
   "id": "7cf0d197",
   "metadata": {},
   "source": [
    "В данном случае мы имеем дело с зависимыми выборками - выборками из одной генеральной совокупности до и после изменения. Необходимо выяснить, стало ли меньше обращений после обновления (или другими словами было ли больше обращений до обновления), поэтому нужно проверить правостороннюю гипотезу (она проверит было ли больше обращений до обновления).\n",
    "\n",
    "Необходимо сформулировать следующие гипотезы:\n",
    "\n",
    "Нулевая гипотеза: количество обращений после обновления сервера не изменилось\n",
    "\n",
    "Альтернативная гипотеза: обращений после обновления стало меньше, чем до обновления\n",
    "\n",
    "Чтобы проверить эти гипотезы, необходимо применить scipy.stats.ttest_rel(), в который первым аргументом передать количества обращений до, вторым аргументом - количество обращений после, а параметру alternative передать аргумент greater ."
   ]
  },
  {
   "cell_type": "markdown",
   "id": "6babbf0b",
   "metadata": {},
   "source": [
    "<div class=\"alert alert-warning\" style=\"border-radius: 10px; box-shadow: 2px 2px 2px; border: 1px solid; padding: 10px \">\n",
    "<b>Комментарий ревьюера v.1</b> \n",
    "    \n",
    "📝 \n",
    "Вопрос: какую гипотезу мы будем проверять - одностороннюю или двустороннюю и какие гипотезы мы можем сформулировать?\n",
    "</div>"
   ]
  },
  {
   "cell_type": "markdown",
   "id": "b331024d",
   "metadata": {},
   "source": [
    "<div class=\"alert alert-info\" style=\"border-radius: 10px; box-shadow: 2px 2px 2px; border: 1px solid; padding: 10px \"> \n",
    "<b>Комментарий студента</b> \n",
    "    \n",
    "Всё описал, надеюсь не запутался!)\n",
    "</div>"
   ]
  },
  {
   "cell_type": "markdown",
   "id": "509dc792",
   "metadata": {},
   "source": [
    "<div class=\"alert alert-danger\" style=\"border-radius: 10px; box-shadow: 2px 2px 2px; border: 1px solid; padding: 10px \">\n",
    "<b>Комментарий ревьюера v.2</b> \n",
    "    \n",
    "✍ \n",
    "Здесь нам необходимо использовать односторонний тест, потому что нас интересует только одно направление изменения (уменьшилось ли количество обращений или нет). Нам не интересно, увеличилось ли количество обращений после обновления, так как это не соответствует нашей изначальной гипотезе о положительном эффекте обновления серверов.\n",
    "    \n",
    "Основная (нулевая) гипотеза в этом случае может утверждать, что различия между количеством обращений до и после обновления отсутствуют или что количество обращений после обновления больше или равно, чем до.\n",
    "\n",
    "Альтернативная гипотеза будет утверждать, что количество обращений после обновления меньше, чем до обновления.\n",
    "    \n",
    "    \n",
    "Пометил красным для важности  момента :) Не забудь, пожалуйста, скорректировать.\n",
    "</div>"
   ]
  },
  {
   "cell_type": "markdown",
   "id": "e1250c5a",
   "metadata": {},
   "source": [
    "### Выводы по проверке гипотез"
   ]
  },
  {
   "cell_type": "markdown",
   "id": "8b53bba4",
   "metadata": {},
   "source": [
    "1. Пользователи с подпиской будут более выгодны компании, чем пользователи без подписки, так как тратят больше времени на поездки и приносят бОльшую помесячную выручку.\n",
    "2. Нельзя однозначно утверждать, что среднее расстояние, которое проезжают пользователи с подпиской, не превышает 3130 метров.\n",
    "3. Для того, чтобы проверить снизилось ли количество обращений в техподдержку после обновления сервера необходимо провести scipy.stats.ttest_rel(). "
   ]
  },
  {
   "cell_type": "markdown",
   "id": "61213c5e",
   "metadata": {},
   "source": [
    "## Распределения"
   ]
  },
  {
   "cell_type": "markdown",
   "id": "0bc52abf",
   "metadata": {},
   "source": [
    "### Выясняем, какое минимальное количество промокодов нужно разослать, чтобы вероятность того, что менее 100 существующих клиентов продлят подписку была примерно 5 %.\n"
   ]
  },
  {
   "cell_type": "markdown",
   "id": "07b714eb",
   "metadata": {},
   "source": [
    "**Очевидно, что при вероятности продления подписки равной 10%, разослав 1000 промокодов, вероятность того, что подписку продлят менее 100 человек будет равна 50% (как и вероятность того, что подписку продлят более 100 человек также будет равна 50%), так как математическое ожидание будет равно 100. Поэтому построим график кумулятивной функции распределения вероятностей для 1100 промокодов.**"
   ]
  },
  {
   "cell_type": "code",
   "execution_count": null,
   "id": "7aad0500",
   "metadata": {
    "scrolled": false
   },
   "outputs": [],
   "source": [
    "\n",
    "n = 1100\n",
    "p = 0.1\n",
    "\n",
    "mean = n*p\n",
    "std_dev = sqrt(n * p * (1 - p))\n",
    "\n",
    "# Создаем массив значений случайной величины\n",
    "x = np.linspace(70, 130, 1000)\n",
    "\n",
    "# Вычисляем значения кумулятивной функции\n",
    "cdf = 0.5 + 0.5 * scipy.special.erf((x - mean) / (std_dev * np.sqrt(2)))\n",
    "\n",
    "# Построение графика\n",
    "plt.figure(figsize=(8, 6))\n",
    "plt.plot(x, cdf)\n",
    "plt.xlabel('Значение случайной величины (количество клиентов, продлевающих подписку)')\n",
    "plt.ylabel('Вероятность получить меньше клиентов, продлевающих подписку')\n",
    "plt.title('Кумулятивная функция нормального распределения для 1100 промокодов')\n",
    "plt.grid()\n",
    "plt.show()\n"
   ]
  },
  {
   "cell_type": "markdown",
   "id": "ffd99719",
   "metadata": {},
   "source": [
    "**Пояснение к графику:**\n",
    "- кумулятивная вероятность получить менее 100 продлённых подписок около 18%"
   ]
  },
  {
   "cell_type": "markdown",
   "id": "00b0817d",
   "metadata": {},
   "source": [
    "**Если разослать 1100 промокодов, вероятность не выполнить план довольно высока. Поэтому проверим, какой будет эта вероятность, если разослать 1200 промокодов.**"
   ]
  },
  {
   "cell_type": "code",
   "execution_count": null,
   "id": "ae995d4d",
   "metadata": {
    "scrolled": false
   },
   "outputs": [],
   "source": [
    "n = 1200\n",
    "p = 0.1\n",
    "\n",
    "mean = n*p\n",
    "std_dev = sqrt(n * p * (1 - p))\n",
    "\n",
    "# Создаем массив значений случайной величины\n",
    "x = np.linspace(70, 130, 1000)\n",
    "\n",
    "# Вычисляем значения кумулятивной функции\n",
    "cdf = 0.5 + 0.5 * scipy.special.erf((x - mean) / (std_dev * np.sqrt(2)))\n",
    "\n",
    "# Построение графика\n",
    "plt.figure(figsize=(8, 6))\n",
    "plt.plot(x, cdf)\n",
    "plt.xlabel('Значение случайной величины (количество клиентов, продлевающих подписку)')\n",
    "plt.ylabel('Вероятность получить меньше клиентов, продлевающих подписку')\n",
    "plt.title('Кумулятивная функция нормального распределения для 1200 промокодов')\n",
    "plt.grid()\n",
    "plt.show()"
   ]
  },
  {
   "cell_type": "markdown",
   "id": "42f596c3",
   "metadata": {},
   "source": [
    "**Пояснение к графику:**\n",
    "- кумулятивная вероятность получить менее 100 продлённых подписок около 3%"
   ]
  },
  {
   "cell_type": "markdown",
   "id": "100dc1a3",
   "metadata": {},
   "source": [
    "**Мы нашли интервал, в котором будет находится искомое значение промокодов. Теперь методом cdf() подберём подходящее значение.**"
   ]
  },
  {
   "cell_type": "code",
   "execution_count": null,
   "id": "815389e6",
   "metadata": {},
   "outputs": [],
   "source": [
    "n = 1169\n",
    "p = 0.1\n",
    "\n",
    "mu = n*p \n",
    "sigma = sqrt(n * p * (1 - p))\n",
    "\n",
    "distr = st.norm(mu, sigma)\n",
    "\n",
    "result = distr.cdf(100)\n",
    "f'Нужно разослать {n} промокодов. Тогда вероятность того, что подписку продлят менее 100 человек будет равна {round(result*100,2)} %.'"
   ]
  },
  {
   "cell_type": "markdown",
   "id": "32410a32",
   "metadata": {},
   "source": [
    "**Вывод:**\n",
    " - для того чтобы вероятность того, что подписку продлят менее 100 человек, была около 5 %, необходимо разослать 1169 промокодов."
   ]
  },
  {
   "cell_type": "markdown",
   "id": "ce8c6856",
   "metadata": {},
   "source": [
    "<div class=\"alert alert-success\" style=\"border-radius: 10px; box-shadow: 2px 2px 2px; border: 1px solid; padding: 10px \">\n",
    "<b>Комментарий ревьюера v.1</b> \n",
    "    \n",
    "👍 \n",
    "Отлично! Здорово, что выполнил необязательное задание.\n",
    "</div>"
   ]
  },
  {
   "cell_type": "markdown",
   "id": "53c13e46",
   "metadata": {},
   "source": [
    "### Ищем вероятность того, что из 1 млн. уведомлений будут открыты не более 399,5 тыс..\n"
   ]
  },
  {
   "cell_type": "markdown",
   "id": "d709b58e",
   "metadata": {},
   "source": [
    "**Построим график кумулятивной функции распределения вероятностей для 1 млн. уведомлений с вероятностью того, что его откроют 40% пользователей.**"
   ]
  },
  {
   "cell_type": "code",
   "execution_count": null,
   "id": "94e4bbd5",
   "metadata": {
    "scrolled": false
   },
   "outputs": [],
   "source": [
    "n = 1000000\n",
    "p = 0.4\n",
    "\n",
    "mean = n*p\n",
    "std_dev = sqrt(n * p * (1 - p))\n",
    "\n",
    "\n",
    "x = np.linspace(398500, 401500, 1000)\n",
    "\n",
    "\n",
    "cdf = 0.5 + 0.5 * scipy.special.erf((x - mean) / (std_dev * np.sqrt(2)))\n",
    "\n",
    "plt.figure(figsize=(8, 6))\n",
    "plt.plot(x, cdf)\n",
    "plt.xlabel('Значение случайной величины (количество открытых уведомлений)')\n",
    "plt.ylabel('Вероятность получить меньше открытых уведомлений')\n",
    "plt.title('Кумулятивная функция нормального распределения для 1 млн. уведомлений')\n",
    "plt.grid()\n",
    "plt.show()"
   ]
  },
  {
   "cell_type": "markdown",
   "id": "22d42844",
   "metadata": {},
   "source": [
    "**Пояснение к графику:**\n",
    " - вероятность того, что уведомление откроют менее 399,5 тыс. пользователей около 15 %."
   ]
  },
  {
   "cell_type": "markdown",
   "id": "8d422614",
   "metadata": {},
   "source": [
    "**Методом cdf() найдём конкретное значение вероятности.**"
   ]
  },
  {
   "cell_type": "code",
   "execution_count": null,
   "id": "0f8883ff",
   "metadata": {},
   "outputs": [],
   "source": [
    "n = 1000000\n",
    "p = 0.4\n",
    "\n",
    "mu = n*p \n",
    "sigma = sqrt(n * p * (1 - p))\n",
    "\n",
    "distr = st.norm(mu, sigma)\n",
    "x=399500\n",
    "result = distr.cdf(x)\n",
    "f'Вероятность того, что из 1 млн. уведомлений будут открыты не более {x} примерно равна {round(result*100,2)} %.'"
   ]
  },
  {
   "cell_type": "markdown",
   "id": "94227175",
   "metadata": {},
   "source": [
    "<div class=\"alert alert-success\" style=\"border-radius: 10px; box-shadow: 2px 2px 2px; border: 1px solid; padding: 10px \">\n",
    "<b>Комментарий ревьюера v.1</b> \n",
    "    \n",
    "👍 \n",
    "Совершенно верно.\n",
    "</div>"
   ]
  },
  {
   "cell_type": "markdown",
   "id": "564be980",
   "metadata": {},
   "source": [
    "## Общие выводы "
   ]
  },
  {
   "cell_type": "markdown",
   "id": "84f71711",
   "metadata": {},
   "source": [
    "**Мы получили данные о 18068 поездках 1534 пользователей за период с 1 января по 30 декабря 2021 года из 8 городов России, содержащие информацию о:**\n",
    " - id, имени, возрасте, городе и типе подписки (с подпиской или без) пользователя;\n",
    " - дате совершения, расстоянии и продолжительности поездки;\n",
    " - о ценах и порядке расчёта за поездки.\n",
    " \n",
    "**На этапе предообработки мы:**\n",
    " - избавились от дубликатов;\n",
    " - привели столбец с датой к корректному типу данных;\n",
    " - добавили новую колонку с номером месяца совершения поездки.\n",
    " \n",
    "**Исследовательский анализ показал:**\n",
    " - пользователи равномерно распределены по 8 городам, представленным в выборке;\n",
    " - в данных незначительно преобладают пользователи без подписки;\n",
    " - большинству пользователей в выборке от 20 до 30 лет, пользователи старше 38 лет - большая редкость;\n",
    " - в среднем за одну поездку пользователи проезжают около 3000 метров;\n",
    " - среднее время, потраченное на поездку, примерно равно 18 минутам. Продолжительность самой долгой поездки - почти 41 минута.\n",
    " \n",
    "**На этапе объединения данных мы:**\n",
    " - Получили 2 датафрейма:\n",
    "   - с информацией о 6500 поездках пользователей с подпиской\n",
    "   - с информацией о 11568 поездках пользователей без подписки\n",
    " - Выяснили, что в среднем пользователь без подписки совершает в полтора раза больше поездок , чем пользователь с подпиской .\n",
    " - Выяснили, что среднее время поездки немного больше у пользователей с подпиской\n",
    " - Определили, что для пользователей без подписки характерен больший разброс данных по расстоянию, преодолённому за одну поездку.\n",
    " \n",
    "**На этапе подсчёта выручки мы:**\n",
    " - посчитали помесячную выручку на каждого пользователя;\n",
    " - определили, что в данной выборке средняя выручка с одной поездки выше у пользователей с подпиской, а средняя выручка с пользователя выше у тех, у кого подписки нет.\n",
    " \n",
    "**Проверив гипотезы, мы пришли к следующим выводам:**\n",
    " - пользователи с подпиской выгоднее для компании, так как они тратят больше времени на поездки и их помесячная выручка выше, чем у пользователей без подписки;\n",
    " - нельзя утверждать, что среднее расстояние, которое проезжают пользователи с подпиской больше 3130 метров.\n",
    " \n",
    "**Отвечая на вопросы отдела маркетинга, мы выяснили, что:**\n",
    "1. При условии, что после бесплатного пробного периода подписку продлевают 10% пользователей, необходимо разослать минимум 1169 промокодов, чтобы вероятность того, что как минимум 100 существующих клиентов продлило подписку была не менее 95 %.\n",
    "2. При условии, что уведомления открывают около 40% получивших их клиентов, если разослать 1 млн. уведомлений, то с вероятностью примерно в 15% их откроют не более 399500 пользователей. Другими словами, вероятность того, что их откроют более 399500 пользователей будет около 85%."
   ]
  },
  {
   "cell_type": "markdown",
   "id": "9f3c8d93",
   "metadata": {},
   "source": [
    "<div class=\"alert alert-success\" style=\"border-radius: 10px; box-shadow: 2px 2px 2px; border: 1px solid; padding: 10px \">\n",
    "<b>Комментарий ревьюера v.1</b> \n",
    "    \n",
    "👍 \n",
    "Выводы понятны и логичны, а самое главное подкреплены выявленными фактами. Дана хорошая рекомендация.\n",
    "    \n",
    "Ты очень серьезно подходишь к визуализации.\n",
    "\n",
    "Вот пара ссылок на полезные источники:\n",
    "    \n",
    "- [Дока с примерами по matplotlib](https://devpractice.ru/files/books/python/Matplotlib.book.pdf)\n",
    "    \n",
    "- [Шпаргалка по визуализации данных в Python с помощью Plotly](https://habr.com/ru/articles/502958/)\n",
    "</div>"
   ]
  },
  {
   "cell_type": "markdown",
   "id": "2516e93d",
   "metadata": {},
   "source": [
    "<div style=\"border:solid blue 3px; padding: 20px\">\n",
    "<div class=\"alert alert-success\">\n",
    "<b>Обратная связь v.1</b> \n",
    "    \n",
    "👋\n",
    "Александр, проект выполнен отлично. Особое внимание к деталям и структурированное оформление облегчает процесс просмотра и понимания материала. Все ключевые моменты в данных успешно выделены и четко обоснованы, при этом код написан эффективно. Есть несколько рекомендаций, и после внесения корректировок я готов принять проект.\n",
    "\n",
    "Удачи в доработках, жду! "
   ]
  },
  {
   "cell_type": "markdown",
   "id": "26b76b74",
   "metadata": {},
   "source": [
    "<div style=\"border:solid indigo 3px; padding: 20px\">\n",
    "<div class=\"alert alert-success\">\n",
    "<b>Обратная связь v.2</b> \n",
    "    \n",
    "👋 \n",
    "      \n",
    "Александр, спасибо тебе за исправления критических моментов, а также спасибо за хорошую работу.\n",
    "    \n",
    "Поздравляю с успешным завершением проекта 🥳 🎉\n",
    "    \n",
    "И желаю успехов в новых работах 😊"
   ]
  },
  {
   "cell_type": "code",
   "execution_count": null,
   "id": "f7909198",
   "metadata": {},
   "outputs": [],
   "source": []
  }
 ],
 "metadata": {
  "ExecuteTimeLog": [
   {
    "duration": 46,
    "start_time": "2024-08-09T09:01:15.164Z"
   },
   {
    "duration": 418,
    "start_time": "2024-08-09T09:01:19.589Z"
   },
   {
    "duration": 78,
    "start_time": "2024-08-09T09:01:21.727Z"
   },
   {
    "duration": 2,
    "start_time": "2024-08-09T09:05:23.791Z"
   },
   {
    "duration": 259,
    "start_time": "2024-08-09T09:05:24.865Z"
   },
   {
    "duration": 4,
    "start_time": "2024-08-09T09:05:49.389Z"
   },
   {
    "duration": 28,
    "start_time": "2024-08-09T09:06:13.036Z"
   },
   {
    "duration": 21,
    "start_time": "2024-08-09T09:06:59.968Z"
   },
   {
    "duration": 15,
    "start_time": "2024-08-09T09:07:36.892Z"
   },
   {
    "duration": 3,
    "start_time": "2024-08-09T09:08:37.287Z"
   },
   {
    "duration": 23,
    "start_time": "2024-08-09T09:08:38.655Z"
   },
   {
    "duration": 26,
    "start_time": "2024-08-09T09:08:48.739Z"
   },
   {
    "duration": 21,
    "start_time": "2024-08-09T09:08:53.844Z"
   },
   {
    "duration": 5,
    "start_time": "2024-08-09T09:11:17.734Z"
   },
   {
    "duration": 25,
    "start_time": "2024-08-09T09:11:31.744Z"
   },
   {
    "duration": 30,
    "start_time": "2024-08-09T09:12:37.727Z"
   },
   {
    "duration": 7,
    "start_time": "2024-08-09T09:13:12.336Z"
   },
   {
    "duration": 4,
    "start_time": "2024-08-09T09:14:04.755Z"
   },
   {
    "duration": 7,
    "start_time": "2024-08-09T09:14:30.631Z"
   },
   {
    "duration": 5,
    "start_time": "2024-08-09T09:15:06.490Z"
   },
   {
    "duration": 8,
    "start_time": "2024-08-09T09:20:45.331Z"
   },
   {
    "duration": 7,
    "start_time": "2024-08-09T09:20:54.121Z"
   },
   {
    "duration": 26,
    "start_time": "2024-08-09T09:21:03.176Z"
   },
   {
    "duration": 59,
    "start_time": "2024-08-09T09:27:00.166Z"
   },
   {
    "duration": 21,
    "start_time": "2024-08-09T09:27:17.024Z"
   },
   {
    "duration": 5,
    "start_time": "2024-08-09T09:27:50.655Z"
   },
   {
    "duration": 5,
    "start_time": "2024-08-09T09:28:02.611Z"
   },
   {
    "duration": 11,
    "start_time": "2024-08-09T09:49:42.198Z"
   },
   {
    "duration": 6,
    "start_time": "2024-08-09T09:52:11.792Z"
   },
   {
    "duration": 12,
    "start_time": "2024-08-09T09:55:38.314Z"
   },
   {
    "duration": 10,
    "start_time": "2024-08-09T09:56:37.180Z"
   },
   {
    "duration": 11,
    "start_time": "2024-08-09T09:56:48.259Z"
   },
   {
    "duration": 10,
    "start_time": "2024-08-09T09:57:13.544Z"
   },
   {
    "duration": 14,
    "start_time": "2024-08-09T09:59:07.931Z"
   },
   {
    "duration": 13,
    "start_time": "2024-08-09T09:59:39.617Z"
   },
   {
    "duration": 1018,
    "start_time": "2024-08-09T10:02:39.060Z"
   },
   {
    "duration": 537,
    "start_time": "2024-08-09T10:04:31.665Z"
   },
   {
    "duration": 50,
    "start_time": "2024-08-09T10:06:22.096Z"
   },
   {
    "duration": 57,
    "start_time": "2024-08-09T10:09:07.501Z"
   },
   {
    "duration": 4,
    "start_time": "2024-08-09T10:09:53.432Z"
   },
   {
    "duration": 107,
    "start_time": "2024-08-09T10:10:08.062Z"
   },
   {
    "duration": 52,
    "start_time": "2024-08-09T10:10:25.448Z"
   },
   {
    "duration": 11,
    "start_time": "2024-08-09T10:24:44.884Z"
   },
   {
    "duration": 14,
    "start_time": "2024-08-09T10:26:09.550Z"
   },
   {
    "duration": 10,
    "start_time": "2024-08-09T10:27:12.441Z"
   },
   {
    "duration": 1342,
    "start_time": "2024-08-09T10:27:59.190Z"
   },
   {
    "duration": 71,
    "start_time": "2024-08-09T10:28:00.534Z"
   },
   {
    "duration": 4,
    "start_time": "2024-08-09T10:28:00.607Z"
   },
   {
    "duration": 118,
    "start_time": "2024-08-09T10:28:00.614Z"
   },
   {
    "duration": 108,
    "start_time": "2024-08-09T10:28:00.734Z"
   },
   {
    "duration": 105,
    "start_time": "2024-08-09T10:28:00.843Z"
   },
   {
    "duration": 29,
    "start_time": "2024-08-09T10:28:00.950Z"
   },
   {
    "duration": 102,
    "start_time": "2024-08-09T10:28:00.981Z"
   },
   {
    "duration": 60,
    "start_time": "2024-08-09T10:28:01.084Z"
   },
   {
    "duration": 102,
    "start_time": "2024-08-09T10:28:01.147Z"
   },
   {
    "duration": 454,
    "start_time": "2024-08-09T10:28:01.251Z"
   },
   {
    "duration": 56,
    "start_time": "2024-08-09T10:28:01.706Z"
   },
   {
    "duration": 58,
    "start_time": "2024-08-09T10:28:01.763Z"
   },
   {
    "duration": 40,
    "start_time": "2024-08-09T10:28:01.823Z"
   },
   {
    "duration": 217,
    "start_time": "2024-08-09T10:29:38.231Z"
   },
   {
    "duration": 135,
    "start_time": "2024-08-09T10:29:59.345Z"
   },
   {
    "duration": 136,
    "start_time": "2024-08-09T10:32:37.687Z"
   },
   {
    "duration": 136,
    "start_time": "2024-08-09T10:34:00.861Z"
   },
   {
    "duration": 9,
    "start_time": "2024-08-09T10:34:29.294Z"
   },
   {
    "duration": 9,
    "start_time": "2024-08-09T10:35:02.492Z"
   },
   {
    "duration": 8,
    "start_time": "2024-08-09T10:35:31.402Z"
   },
   {
    "duration": 53,
    "start_time": "2024-08-09T11:22:13.279Z"
   },
   {
    "duration": 49,
    "start_time": "2024-08-09T11:24:22.082Z"
   },
   {
    "duration": 52,
    "start_time": "2024-08-09T11:25:49.873Z"
   },
   {
    "duration": 50,
    "start_time": "2024-08-09T11:26:01.048Z"
   },
   {
    "duration": 53,
    "start_time": "2024-08-09T11:27:02.424Z"
   },
   {
    "duration": 63,
    "start_time": "2024-08-09T11:39:45.062Z"
   },
   {
    "duration": 9,
    "start_time": "2024-08-09T11:50:18.961Z"
   },
   {
    "duration": 7,
    "start_time": "2024-08-09T11:51:27.446Z"
   },
   {
    "duration": 36,
    "start_time": "2024-08-09T11:51:46.260Z"
   },
   {
    "duration": 7,
    "start_time": "2024-08-09T11:52:09.303Z"
   },
   {
    "duration": 139,
    "start_time": "2024-08-09T11:52:56.043Z"
   },
   {
    "duration": 185,
    "start_time": "2024-08-09T11:53:08.157Z"
   },
   {
    "duration": 6,
    "start_time": "2024-08-09T11:53:35.528Z"
   },
   {
    "duration": 6,
    "start_time": "2024-08-09T11:53:42.021Z"
   },
   {
    "duration": 140,
    "start_time": "2024-08-09T11:53:51.204Z"
   },
   {
    "duration": 132,
    "start_time": "2024-08-09T11:53:59.643Z"
   },
   {
    "duration": 139,
    "start_time": "2024-08-09T11:54:22.125Z"
   },
   {
    "duration": 148,
    "start_time": "2024-08-09T11:54:32.893Z"
   },
   {
    "duration": 241,
    "start_time": "2024-08-09T11:54:41.188Z"
   },
   {
    "duration": 1303,
    "start_time": "2024-08-09T11:55:12.559Z"
   },
   {
    "duration": 68,
    "start_time": "2024-08-09T11:55:13.864Z"
   },
   {
    "duration": 4,
    "start_time": "2024-08-09T11:55:13.933Z"
   },
   {
    "duration": 45,
    "start_time": "2024-08-09T11:55:13.939Z"
   },
   {
    "duration": 22,
    "start_time": "2024-08-09T11:55:13.986Z"
   },
   {
    "duration": 26,
    "start_time": "2024-08-09T11:55:14.010Z"
   },
   {
    "duration": 15,
    "start_time": "2024-08-09T11:55:14.038Z"
   },
   {
    "duration": 18,
    "start_time": "2024-08-09T11:55:14.055Z"
   },
   {
    "duration": 4,
    "start_time": "2024-08-09T11:55:14.075Z"
   },
   {
    "duration": 12,
    "start_time": "2024-08-09T11:55:14.119Z"
   },
   {
    "duration": 378,
    "start_time": "2024-08-09T11:55:14.133Z"
   },
   {
    "duration": 5,
    "start_time": "2024-08-09T11:55:14.513Z"
   },
   {
    "duration": 23,
    "start_time": "2024-08-09T11:55:14.520Z"
   },
   {
    "duration": 15,
    "start_time": "2024-08-09T11:55:14.545Z"
   },
   {
    "duration": 226,
    "start_time": "2024-08-09T11:55:14.561Z"
   },
   {
    "duration": 7,
    "start_time": "2024-08-09T11:55:14.788Z"
   },
   {
    "duration": 21,
    "start_time": "2024-08-09T11:55:14.797Z"
   },
   {
    "duration": 224,
    "start_time": "2024-08-09T11:55:14.820Z"
   },
   {
    "duration": 9,
    "start_time": "2024-08-09T11:55:15.046Z"
   },
   {
    "duration": 215,
    "start_time": "2024-08-09T11:55:15.057Z"
   },
   {
    "duration": 5,
    "start_time": "2024-08-09T12:25:52.414Z"
   },
   {
    "duration": 64,
    "start_time": "2024-08-09T12:37:57.952Z"
   },
   {
    "duration": 69,
    "start_time": "2024-08-09T12:38:40.439Z"
   },
   {
    "duration": 6,
    "start_time": "2024-08-09T12:38:55.506Z"
   },
   {
    "duration": 220,
    "start_time": "2024-08-09T12:40:38.567Z"
   },
   {
    "duration": 16,
    "start_time": "2024-08-09T12:41:07.176Z"
   },
   {
    "duration": 5,
    "start_time": "2024-08-09T12:41:10.653Z"
   },
   {
    "duration": 12,
    "start_time": "2024-08-09T12:41:44.803Z"
   },
   {
    "duration": 20,
    "start_time": "2024-08-09T12:41:53.067Z"
   },
   {
    "duration": 19,
    "start_time": "2024-08-09T12:44:10.654Z"
   },
   {
    "duration": 78,
    "start_time": "2024-08-09T12:47:02.959Z"
   },
   {
    "duration": 68,
    "start_time": "2024-08-09T12:47:23.207Z"
   },
   {
    "duration": 64,
    "start_time": "2024-08-09T12:47:45.861Z"
   },
   {
    "duration": 287,
    "start_time": "2024-08-09T12:48:23.647Z"
   },
   {
    "duration": 226,
    "start_time": "2024-08-09T12:48:36.636Z"
   },
   {
    "duration": 224,
    "start_time": "2024-08-09T12:49:08.057Z"
   },
   {
    "duration": 210,
    "start_time": "2024-08-09T12:49:18.960Z"
   },
   {
    "duration": 216,
    "start_time": "2024-08-09T12:49:30.840Z"
   },
   {
    "duration": 196,
    "start_time": "2024-08-09T12:50:05.882Z"
   },
   {
    "duration": 206,
    "start_time": "2024-08-09T12:50:47.142Z"
   },
   {
    "duration": 1526,
    "start_time": "2024-08-10T19:33:11.996Z"
   },
   {
    "duration": 298,
    "start_time": "2024-08-10T19:33:13.524Z"
   },
   {
    "duration": 3,
    "start_time": "2024-08-10T19:33:13.824Z"
   },
   {
    "duration": 33,
    "start_time": "2024-08-10T19:33:13.829Z"
   },
   {
    "duration": 30,
    "start_time": "2024-08-10T19:33:13.864Z"
   },
   {
    "duration": 26,
    "start_time": "2024-08-10T19:33:13.896Z"
   },
   {
    "duration": 51,
    "start_time": "2024-08-10T19:33:13.924Z"
   },
   {
    "duration": 20,
    "start_time": "2024-08-10T19:33:13.977Z"
   },
   {
    "duration": 96,
    "start_time": "2024-08-10T19:33:13.998Z"
   },
   {
    "duration": 6,
    "start_time": "2024-08-10T19:33:14.097Z"
   },
   {
    "duration": 16,
    "start_time": "2024-08-10T19:33:14.105Z"
   },
   {
    "duration": 461,
    "start_time": "2024-08-10T19:33:14.123Z"
   },
   {
    "duration": 6,
    "start_time": "2024-08-10T19:33:14.586Z"
   },
   {
    "duration": 24,
    "start_time": "2024-08-10T19:33:14.594Z"
   },
   {
    "duration": 49,
    "start_time": "2024-08-10T19:33:14.620Z"
   },
   {
    "duration": 317,
    "start_time": "2024-08-10T19:33:14.670Z"
   },
   {
    "duration": 6,
    "start_time": "2024-08-10T19:33:14.989Z"
   },
   {
    "duration": 42,
    "start_time": "2024-08-10T19:33:14.996Z"
   },
   {
    "duration": 249,
    "start_time": "2024-08-10T19:33:15.039Z"
   },
   {
    "duration": 9,
    "start_time": "2024-08-10T19:33:15.290Z"
   },
   {
    "duration": 168,
    "start_time": "2024-08-10T19:33:15.301Z"
   },
   {
    "duration": 5,
    "start_time": "2024-08-10T19:33:15.472Z"
   },
   {
    "duration": 7,
    "start_time": "2024-08-10T19:33:35.586Z"
   },
   {
    "duration": 122,
    "start_time": "2024-08-10T19:34:48.880Z"
   },
   {
    "duration": 149,
    "start_time": "2024-08-10T19:35:38.959Z"
   },
   {
    "duration": 142,
    "start_time": "2024-08-10T19:35:55.510Z"
   },
   {
    "duration": 125,
    "start_time": "2024-08-10T19:40:27.371Z"
   },
   {
    "duration": 95,
    "start_time": "2024-08-10T19:40:40.049Z"
   },
   {
    "duration": 132,
    "start_time": "2024-08-10T19:40:50.276Z"
   },
   {
    "duration": 129,
    "start_time": "2024-08-10T19:41:03.787Z"
   },
   {
    "duration": 128,
    "start_time": "2024-08-10T19:41:09.455Z"
   },
   {
    "duration": 183,
    "start_time": "2024-08-10T19:41:30.097Z"
   },
   {
    "duration": 123,
    "start_time": "2024-08-10T19:41:38.106Z"
   },
   {
    "duration": 176,
    "start_time": "2024-08-10T19:46:41.409Z"
   },
   {
    "duration": 352,
    "start_time": "2024-08-10T19:46:55.704Z"
   },
   {
    "duration": 216,
    "start_time": "2024-08-10T19:47:12.121Z"
   },
   {
    "duration": 200,
    "start_time": "2024-08-10T19:47:29.343Z"
   },
   {
    "duration": 251,
    "start_time": "2024-08-10T19:47:52.417Z"
   },
   {
    "duration": 214,
    "start_time": "2024-08-10T19:48:11.445Z"
   },
   {
    "duration": 130,
    "start_time": "2024-08-10T19:49:01.824Z"
   },
   {
    "duration": 163,
    "start_time": "2024-08-10T19:49:30.715Z"
   },
   {
    "duration": 109,
    "start_time": "2024-08-10T19:50:19.443Z"
   },
   {
    "duration": 76,
    "start_time": "2024-08-10T19:52:19.105Z"
   },
   {
    "duration": 81,
    "start_time": "2024-08-10T19:53:03.584Z"
   },
   {
    "duration": 197,
    "start_time": "2024-08-10T19:53:14.583Z"
   },
   {
    "duration": 61,
    "start_time": "2024-08-10T19:54:02.097Z"
   },
   {
    "duration": 213,
    "start_time": "2024-08-10T19:54:42.256Z"
   },
   {
    "duration": 298,
    "start_time": "2024-08-10T19:55:08.215Z"
   },
   {
    "duration": 1305,
    "start_time": "2024-08-10T19:55:19.908Z"
   },
   {
    "duration": 71,
    "start_time": "2024-08-10T19:55:21.215Z"
   },
   {
    "duration": 4,
    "start_time": "2024-08-10T19:55:21.288Z"
   },
   {
    "duration": 29,
    "start_time": "2024-08-10T19:55:21.294Z"
   },
   {
    "duration": 44,
    "start_time": "2024-08-10T19:55:21.325Z"
   },
   {
    "duration": 28,
    "start_time": "2024-08-10T19:55:21.371Z"
   },
   {
    "duration": 16,
    "start_time": "2024-08-10T19:55:21.401Z"
   },
   {
    "duration": 51,
    "start_time": "2024-08-10T19:55:21.419Z"
   },
   {
    "duration": 34,
    "start_time": "2024-08-10T19:55:21.471Z"
   },
   {
    "duration": 6,
    "start_time": "2024-08-10T19:55:21.508Z"
   },
   {
    "duration": 15,
    "start_time": "2024-08-10T19:55:21.516Z"
   },
   {
    "duration": 408,
    "start_time": "2024-08-10T19:55:21.532Z"
   },
   {
    "duration": 6,
    "start_time": "2024-08-10T19:55:21.941Z"
   },
   {
    "duration": 29,
    "start_time": "2024-08-10T19:55:21.949Z"
   },
   {
    "duration": 8,
    "start_time": "2024-08-10T19:55:21.980Z"
   },
   {
    "duration": 309,
    "start_time": "2024-08-10T19:55:21.990Z"
   },
   {
    "duration": 234,
    "start_time": "2024-08-10T19:55:22.301Z"
   },
   {
    "duration": 228,
    "start_time": "2024-08-10T19:55:22.537Z"
   },
   {
    "duration": 150,
    "start_time": "2024-08-10T19:55:22.767Z"
   },
   {
    "duration": 8,
    "start_time": "2024-08-10T19:55:22.919Z"
   },
   {
    "duration": 144,
    "start_time": "2024-08-10T19:55:22.929Z"
   },
   {
    "duration": 5,
    "start_time": "2024-08-10T19:55:23.074Z"
   },
   {
    "duration": 236,
    "start_time": "2024-08-10T19:57:42.276Z"
   },
   {
    "duration": 228,
    "start_time": "2024-08-10T19:57:49.797Z"
   },
   {
    "duration": 202,
    "start_time": "2024-08-10T19:58:55.214Z"
   },
   {
    "duration": 128,
    "start_time": "2024-08-10T19:59:51.645Z"
   },
   {
    "duration": 10,
    "start_time": "2024-08-10T20:00:40.113Z"
   },
   {
    "duration": 121,
    "start_time": "2024-08-10T20:02:07.116Z"
   },
   {
    "duration": 236,
    "start_time": "2024-08-10T20:02:52.811Z"
   },
   {
    "duration": 192,
    "start_time": "2024-08-10T20:03:17.394Z"
   },
   {
    "duration": 220,
    "start_time": "2024-08-10T20:03:56.223Z"
   },
   {
    "duration": 116,
    "start_time": "2024-08-10T20:04:05.668Z"
   },
   {
    "duration": 155,
    "start_time": "2024-08-10T20:05:44.589Z"
   },
   {
    "duration": 16,
    "start_time": "2024-08-10T20:07:10.004Z"
   },
   {
    "duration": 15,
    "start_time": "2024-08-10T20:10:00.807Z"
   },
   {
    "duration": 18,
    "start_time": "2024-08-10T20:10:19.212Z"
   },
   {
    "duration": 20,
    "start_time": "2024-08-10T20:10:55.836Z"
   },
   {
    "duration": 165,
    "start_time": "2024-08-10T20:15:02.943Z"
   },
   {
    "duration": 1289,
    "start_time": "2024-08-10T20:15:19.140Z"
   },
   {
    "duration": 70,
    "start_time": "2024-08-10T20:15:20.431Z"
   },
   {
    "duration": 4,
    "start_time": "2024-08-10T20:15:20.502Z"
   },
   {
    "duration": 33,
    "start_time": "2024-08-10T20:15:20.508Z"
   },
   {
    "duration": 23,
    "start_time": "2024-08-10T20:15:20.543Z"
   },
   {
    "duration": 25,
    "start_time": "2024-08-10T20:15:20.568Z"
   },
   {
    "duration": 16,
    "start_time": "2024-08-10T20:15:20.594Z"
   },
   {
    "duration": 17,
    "start_time": "2024-08-10T20:15:20.611Z"
   },
   {
    "duration": 53,
    "start_time": "2024-08-10T20:15:20.630Z"
   },
   {
    "duration": 4,
    "start_time": "2024-08-10T20:15:20.686Z"
   },
   {
    "duration": 31,
    "start_time": "2024-08-10T20:15:20.691Z"
   },
   {
    "duration": 379,
    "start_time": "2024-08-10T20:15:20.724Z"
   },
   {
    "duration": 5,
    "start_time": "2024-08-10T20:15:21.105Z"
   },
   {
    "duration": 12,
    "start_time": "2024-08-10T20:15:21.112Z"
   },
   {
    "duration": 40,
    "start_time": "2024-08-10T20:15:21.126Z"
   },
   {
    "duration": 260,
    "start_time": "2024-08-10T20:15:21.168Z"
   },
   {
    "duration": 200,
    "start_time": "2024-08-10T20:15:21.430Z"
   },
   {
    "duration": 9,
    "start_time": "2024-08-10T20:15:21.632Z"
   },
   {
    "duration": 254,
    "start_time": "2024-08-10T20:15:21.643Z"
   },
   {
    "duration": 131,
    "start_time": "2024-08-10T20:15:21.899Z"
   },
   {
    "duration": 9,
    "start_time": "2024-08-10T20:15:22.031Z"
   },
   {
    "duration": 220,
    "start_time": "2024-08-10T20:15:22.042Z"
   },
   {
    "duration": 125,
    "start_time": "2024-08-10T20:15:22.264Z"
   },
   {
    "duration": 20,
    "start_time": "2024-08-10T20:15:22.391Z"
   },
   {
    "duration": 152,
    "start_time": "2024-08-10T20:15:22.413Z"
   },
   {
    "duration": 1264,
    "start_time": "2024-08-10T20:16:04.716Z"
   },
   {
    "duration": 71,
    "start_time": "2024-08-10T20:16:05.982Z"
   },
   {
    "duration": 4,
    "start_time": "2024-08-10T20:16:06.055Z"
   },
   {
    "duration": 36,
    "start_time": "2024-08-10T20:16:06.061Z"
   },
   {
    "duration": 23,
    "start_time": "2024-08-10T20:16:06.098Z"
   },
   {
    "duration": 52,
    "start_time": "2024-08-10T20:16:06.123Z"
   },
   {
    "duration": 17,
    "start_time": "2024-08-10T20:16:06.176Z"
   },
   {
    "duration": 18,
    "start_time": "2024-08-10T20:16:06.195Z"
   },
   {
    "duration": 21,
    "start_time": "2024-08-10T20:16:06.214Z"
   },
   {
    "duration": 11,
    "start_time": "2024-08-10T20:16:06.267Z"
   },
   {
    "duration": 41,
    "start_time": "2024-08-10T20:16:06.280Z"
   },
   {
    "duration": 345,
    "start_time": "2024-08-10T20:16:06.323Z"
   },
   {
    "duration": 7,
    "start_time": "2024-08-10T20:16:06.670Z"
   },
   {
    "duration": 17,
    "start_time": "2024-08-10T20:16:06.679Z"
   },
   {
    "duration": 8,
    "start_time": "2024-08-10T20:16:06.697Z"
   },
   {
    "duration": 316,
    "start_time": "2024-08-10T20:16:06.707Z"
   },
   {
    "duration": 207,
    "start_time": "2024-08-10T20:16:07.024Z"
   },
   {
    "duration": 9,
    "start_time": "2024-08-10T20:16:07.232Z"
   },
   {
    "duration": 314,
    "start_time": "2024-08-10T20:16:07.242Z"
   },
   {
    "duration": 118,
    "start_time": "2024-08-10T20:16:07.558Z"
   },
   {
    "duration": 8,
    "start_time": "2024-08-10T20:16:07.678Z"
   },
   {
    "duration": 209,
    "start_time": "2024-08-10T20:16:07.688Z"
   },
   {
    "duration": 121,
    "start_time": "2024-08-10T20:16:07.898Z"
   },
   {
    "duration": 21,
    "start_time": "2024-08-10T20:16:08.021Z"
   },
   {
    "duration": 165,
    "start_time": "2024-08-10T20:16:08.044Z"
   },
   {
    "duration": 1534,
    "start_time": "2024-08-11T10:56:29.115Z"
   },
   {
    "duration": 353,
    "start_time": "2024-08-11T10:56:30.650Z"
   },
   {
    "duration": 5,
    "start_time": "2024-08-11T10:56:31.004Z"
   },
   {
    "duration": 73,
    "start_time": "2024-08-11T10:56:31.012Z"
   },
   {
    "duration": 30,
    "start_time": "2024-08-11T10:56:31.087Z"
   },
   {
    "duration": 38,
    "start_time": "2024-08-11T10:56:31.118Z"
   },
   {
    "duration": 22,
    "start_time": "2024-08-11T10:56:31.157Z"
   },
   {
    "duration": 51,
    "start_time": "2024-08-11T10:56:31.181Z"
   },
   {
    "duration": 43,
    "start_time": "2024-08-11T10:56:31.234Z"
   },
   {
    "duration": 29,
    "start_time": "2024-08-11T10:56:31.280Z"
   },
   {
    "duration": 66,
    "start_time": "2024-08-11T10:56:31.311Z"
   },
   {
    "duration": 424,
    "start_time": "2024-08-11T10:56:31.378Z"
   },
   {
    "duration": 6,
    "start_time": "2024-08-11T10:56:31.803Z"
   },
   {
    "duration": 41,
    "start_time": "2024-08-11T10:56:31.811Z"
   },
   {
    "duration": 59,
    "start_time": "2024-08-11T10:56:31.854Z"
   },
   {
    "duration": 222,
    "start_time": "2024-08-11T10:56:31.914Z"
   },
   {
    "duration": 210,
    "start_time": "2024-08-11T10:56:32.138Z"
   },
   {
    "duration": 9,
    "start_time": "2024-08-11T10:56:32.349Z"
   },
   {
    "duration": 258,
    "start_time": "2024-08-11T10:56:32.359Z"
   },
   {
    "duration": 137,
    "start_time": "2024-08-11T10:56:32.619Z"
   },
   {
    "duration": 9,
    "start_time": "2024-08-11T10:56:32.757Z"
   },
   {
    "duration": 241,
    "start_time": "2024-08-11T10:56:32.768Z"
   },
   {
    "duration": 134,
    "start_time": "2024-08-11T10:56:33.011Z"
   },
   {
    "duration": 21,
    "start_time": "2024-08-11T10:56:33.146Z"
   },
   {
    "duration": 162,
    "start_time": "2024-08-11T10:56:33.168Z"
   },
   {
    "duration": 59,
    "start_time": "2024-08-11T11:12:07.621Z"
   },
   {
    "duration": 60,
    "start_time": "2024-08-11T11:12:29.169Z"
   },
   {
    "duration": 11,
    "start_time": "2024-08-11T11:12:43.995Z"
   },
   {
    "duration": 9,
    "start_time": "2024-08-11T11:12:56.258Z"
   },
   {
    "duration": 9,
    "start_time": "2024-08-11T11:13:31.070Z"
   },
   {
    "duration": 9,
    "start_time": "2024-08-11T11:13:47.453Z"
   },
   {
    "duration": 10,
    "start_time": "2024-08-11T11:14:05.006Z"
   },
   {
    "duration": 9,
    "start_time": "2024-08-11T11:15:59.168Z"
   },
   {
    "duration": 9,
    "start_time": "2024-08-11T11:16:05.124Z"
   },
   {
    "duration": 9,
    "start_time": "2024-08-11T11:16:16.131Z"
   },
   {
    "duration": 9,
    "start_time": "2024-08-11T11:16:31.890Z"
   },
   {
    "duration": 204,
    "start_time": "2024-08-11T11:23:43.036Z"
   },
   {
    "duration": 200,
    "start_time": "2024-08-11T11:24:07.484Z"
   },
   {
    "duration": 8,
    "start_time": "2024-08-11T11:31:54.755Z"
   },
   {
    "duration": 8,
    "start_time": "2024-08-11T11:32:11.761Z"
   },
   {
    "duration": 13,
    "start_time": "2024-08-11T11:37:03.204Z"
   },
   {
    "duration": 45,
    "start_time": "2024-08-11T11:37:14.008Z"
   },
   {
    "duration": 171,
    "start_time": "2024-08-11T11:38:50.163Z"
   },
   {
    "duration": 53,
    "start_time": "2024-08-11T11:39:16.052Z"
   },
   {
    "duration": 7,
    "start_time": "2024-08-11T11:45:29.868Z"
   },
   {
    "duration": 35,
    "start_time": "2024-08-11T11:46:19.326Z"
   },
   {
    "duration": 20,
    "start_time": "2024-08-11T11:46:40.843Z"
   },
   {
    "duration": 37,
    "start_time": "2024-08-11T11:46:57.555Z"
   },
   {
    "duration": 157,
    "start_time": "2024-08-11T11:50:06.335Z"
   },
   {
    "duration": 160,
    "start_time": "2024-08-11T11:51:18.661Z"
   },
   {
    "duration": 23,
    "start_time": "2024-08-11T11:52:15.386Z"
   },
   {
    "duration": 22,
    "start_time": "2024-08-11T11:54:09.560Z"
   },
   {
    "duration": 166,
    "start_time": "2024-08-11T11:54:47.583Z"
   },
   {
    "duration": 254,
    "start_time": "2024-08-11T11:55:03.400Z"
   },
   {
    "duration": 287,
    "start_time": "2024-08-11T12:01:01.932Z"
   },
   {
    "duration": 336,
    "start_time": "2024-08-11T12:02:00.753Z"
   },
   {
    "duration": 311,
    "start_time": "2024-08-11T12:04:01.724Z"
   },
   {
    "duration": 306,
    "start_time": "2024-08-11T12:04:23.776Z"
   },
   {
    "duration": 305,
    "start_time": "2024-08-11T12:04:49.786Z"
   },
   {
    "duration": 422,
    "start_time": "2024-08-11T12:05:43.639Z"
   },
   {
    "duration": 312,
    "start_time": "2024-08-11T12:06:53.059Z"
   },
   {
    "duration": 303,
    "start_time": "2024-08-11T12:07:11.991Z"
   },
   {
    "duration": 1306,
    "start_time": "2024-08-11T12:08:03.228Z"
   },
   {
    "duration": 72,
    "start_time": "2024-08-11T12:08:04.536Z"
   },
   {
    "duration": 3,
    "start_time": "2024-08-11T12:08:04.610Z"
   },
   {
    "duration": 28,
    "start_time": "2024-08-11T12:08:04.615Z"
   },
   {
    "duration": 23,
    "start_time": "2024-08-11T12:08:04.645Z"
   },
   {
    "duration": 59,
    "start_time": "2024-08-11T12:08:04.670Z"
   },
   {
    "duration": 22,
    "start_time": "2024-08-11T12:08:04.731Z"
   },
   {
    "duration": 18,
    "start_time": "2024-08-11T12:08:04.755Z"
   },
   {
    "duration": 49,
    "start_time": "2024-08-11T12:08:04.775Z"
   },
   {
    "duration": 4,
    "start_time": "2024-08-11T12:08:04.827Z"
   },
   {
    "duration": 15,
    "start_time": "2024-08-11T12:08:04.832Z"
   },
   {
    "duration": 407,
    "start_time": "2024-08-11T12:08:04.848Z"
   },
   {
    "duration": 6,
    "start_time": "2024-08-11T12:08:05.256Z"
   },
   {
    "duration": 15,
    "start_time": "2024-08-11T12:08:05.263Z"
   },
   {
    "duration": 32,
    "start_time": "2024-08-11T12:08:05.279Z"
   },
   {
    "duration": 309,
    "start_time": "2024-08-11T12:08:05.313Z"
   },
   {
    "duration": 201,
    "start_time": "2024-08-11T12:08:05.623Z"
   },
   {
    "duration": 10,
    "start_time": "2024-08-11T12:08:05.826Z"
   },
   {
    "duration": 258,
    "start_time": "2024-08-11T12:08:05.838Z"
   },
   {
    "duration": 137,
    "start_time": "2024-08-11T12:08:06.097Z"
   },
   {
    "duration": 9,
    "start_time": "2024-08-11T12:08:06.235Z"
   },
   {
    "duration": 232,
    "start_time": "2024-08-11T12:08:06.245Z"
   },
   {
    "duration": 140,
    "start_time": "2024-08-11T12:08:06.479Z"
   },
   {
    "duration": 22,
    "start_time": "2024-08-11T12:08:06.621Z"
   },
   {
    "duration": 179,
    "start_time": "2024-08-11T12:08:06.645Z"
   },
   {
    "duration": 54,
    "start_time": "2024-08-11T12:08:06.826Z"
   },
   {
    "duration": 58,
    "start_time": "2024-08-11T12:08:06.881Z"
   },
   {
    "duration": 72,
    "start_time": "2024-08-11T12:08:06.942Z"
   },
   {
    "duration": 23,
    "start_time": "2024-08-11T12:08:07.016Z"
   },
   {
    "duration": 369,
    "start_time": "2024-08-11T12:08:07.040Z"
   },
   {
    "duration": 167,
    "start_time": "2024-08-11T12:08:07.411Z"
   },
   {
    "duration": 32,
    "start_time": "2024-08-11T12:08:07.580Z"
   },
   {
    "duration": 157,
    "start_time": "2024-08-11T12:08:07.614Z"
   },
   {
    "duration": 413,
    "start_time": "2024-08-11T12:10:41.449Z"
   },
   {
    "duration": 302,
    "start_time": "2024-08-11T12:11:08.792Z"
   },
   {
    "duration": 321,
    "start_time": "2024-08-11T12:12:01.100Z"
   },
   {
    "duration": 280,
    "start_time": "2024-08-11T12:12:19.826Z"
   },
   {
    "duration": 295,
    "start_time": "2024-08-11T12:13:03.788Z"
   },
   {
    "duration": 294,
    "start_time": "2024-08-11T12:13:26.819Z"
   },
   {
    "duration": 402,
    "start_time": "2024-08-11T12:14:19.449Z"
   },
   {
    "duration": 173,
    "start_time": "2024-08-11T12:14:42.154Z"
   },
   {
    "duration": 144,
    "start_time": "2024-08-11T12:15:25.016Z"
   },
   {
    "duration": 1334,
    "start_time": "2024-08-11T12:16:13.684Z"
   },
   {
    "duration": 72,
    "start_time": "2024-08-11T12:16:15.020Z"
   },
   {
    "duration": 4,
    "start_time": "2024-08-11T12:16:15.094Z"
   },
   {
    "duration": 76,
    "start_time": "2024-08-11T12:16:15.100Z"
   },
   {
    "duration": 26,
    "start_time": "2024-08-11T12:16:15.177Z"
   },
   {
    "duration": 28,
    "start_time": "2024-08-11T12:16:15.205Z"
   },
   {
    "duration": 16,
    "start_time": "2024-08-11T12:16:15.235Z"
   },
   {
    "duration": 22,
    "start_time": "2024-08-11T12:16:15.252Z"
   },
   {
    "duration": 49,
    "start_time": "2024-08-11T12:16:15.276Z"
   },
   {
    "duration": 9,
    "start_time": "2024-08-11T12:16:15.327Z"
   },
   {
    "duration": 21,
    "start_time": "2024-08-11T12:16:15.338Z"
   },
   {
    "duration": 395,
    "start_time": "2024-08-11T12:16:15.360Z"
   },
   {
    "duration": 6,
    "start_time": "2024-08-11T12:16:15.757Z"
   },
   {
    "duration": 17,
    "start_time": "2024-08-11T12:16:15.764Z"
   },
   {
    "duration": 8,
    "start_time": "2024-08-11T12:16:15.782Z"
   },
   {
    "duration": 270,
    "start_time": "2024-08-11T12:16:15.808Z"
   },
   {
    "duration": 206,
    "start_time": "2024-08-11T12:16:16.080Z"
   },
   {
    "duration": 20,
    "start_time": "2024-08-11T12:16:16.288Z"
   },
   {
    "duration": 251,
    "start_time": "2024-08-11T12:16:16.311Z"
   },
   {
    "duration": 135,
    "start_time": "2024-08-11T12:16:16.564Z"
   },
   {
    "duration": 14,
    "start_time": "2024-08-11T12:16:16.701Z"
   },
   {
    "duration": 274,
    "start_time": "2024-08-11T12:16:16.717Z"
   },
   {
    "duration": 135,
    "start_time": "2024-08-11T12:16:16.992Z"
   },
   {
    "duration": 20,
    "start_time": "2024-08-11T12:16:17.129Z"
   },
   {
    "duration": 188,
    "start_time": "2024-08-11T12:16:17.151Z"
   },
   {
    "duration": 78,
    "start_time": "2024-08-11T12:16:17.342Z"
   },
   {
    "duration": 38,
    "start_time": "2024-08-11T12:16:17.421Z"
   },
   {
    "duration": 68,
    "start_time": "2024-08-11T12:16:17.462Z"
   },
   {
    "duration": 23,
    "start_time": "2024-08-11T12:16:17.532Z"
   },
   {
    "duration": 375,
    "start_time": "2024-08-11T12:16:17.557Z"
   },
   {
    "duration": 166,
    "start_time": "2024-08-11T12:16:17.934Z"
   },
   {
    "duration": 24,
    "start_time": "2024-08-11T12:16:18.106Z"
   },
   {
    "duration": 305,
    "start_time": "2024-08-11T12:16:18.132Z"
   },
   {
    "duration": 261,
    "start_time": "2024-08-11T12:16:18.439Z"
   },
   {
    "duration": 1395,
    "start_time": "2024-08-11T19:50:14.255Z"
   },
   {
    "duration": 358,
    "start_time": "2024-08-11T19:50:15.652Z"
   },
   {
    "duration": 4,
    "start_time": "2024-08-11T19:50:16.012Z"
   },
   {
    "duration": 32,
    "start_time": "2024-08-11T19:50:16.018Z"
   },
   {
    "duration": 23,
    "start_time": "2024-08-11T19:50:16.052Z"
   },
   {
    "duration": 56,
    "start_time": "2024-08-11T19:50:16.076Z"
   },
   {
    "duration": 18,
    "start_time": "2024-08-11T19:50:16.133Z"
   },
   {
    "duration": 20,
    "start_time": "2024-08-11T19:50:16.153Z"
   },
   {
    "duration": 51,
    "start_time": "2024-08-11T19:50:16.174Z"
   },
   {
    "duration": 5,
    "start_time": "2024-08-11T19:50:16.227Z"
   },
   {
    "duration": 18,
    "start_time": "2024-08-11T19:50:16.233Z"
   },
   {
    "duration": 420,
    "start_time": "2024-08-11T19:50:16.252Z"
   },
   {
    "duration": 6,
    "start_time": "2024-08-11T19:50:16.673Z"
   },
   {
    "duration": 16,
    "start_time": "2024-08-11T19:50:16.680Z"
   },
   {
    "duration": 16,
    "start_time": "2024-08-11T19:50:16.697Z"
   },
   {
    "duration": 290,
    "start_time": "2024-08-11T19:50:16.715Z"
   },
   {
    "duration": 200,
    "start_time": "2024-08-11T19:50:17.007Z"
   },
   {
    "duration": 8,
    "start_time": "2024-08-11T19:50:17.209Z"
   },
   {
    "duration": 263,
    "start_time": "2024-08-11T19:50:17.218Z"
   },
   {
    "duration": 139,
    "start_time": "2024-08-11T19:50:17.483Z"
   },
   {
    "duration": 8,
    "start_time": "2024-08-11T19:50:17.624Z"
   },
   {
    "duration": 214,
    "start_time": "2024-08-11T19:50:17.634Z"
   },
   {
    "duration": 140,
    "start_time": "2024-08-11T19:50:17.851Z"
   },
   {
    "duration": 31,
    "start_time": "2024-08-11T19:50:17.993Z"
   },
   {
    "duration": 158,
    "start_time": "2024-08-11T19:50:18.025Z"
   },
   {
    "duration": 57,
    "start_time": "2024-08-11T19:50:18.185Z"
   },
   {
    "duration": 34,
    "start_time": "2024-08-11T19:50:18.244Z"
   },
   {
    "duration": 38,
    "start_time": "2024-08-11T19:50:18.310Z"
   },
   {
    "duration": 22,
    "start_time": "2024-08-11T19:50:18.350Z"
   },
   {
    "duration": 350,
    "start_time": "2024-08-11T19:50:18.374Z"
   },
   {
    "duration": 164,
    "start_time": "2024-08-11T19:50:18.725Z"
   },
   {
    "duration": 26,
    "start_time": "2024-08-11T19:50:18.891Z"
   },
   {
    "duration": 293,
    "start_time": "2024-08-11T19:50:18.919Z"
   },
   {
    "duration": 249,
    "start_time": "2024-08-11T19:50:19.214Z"
   },
   {
    "duration": 56,
    "start_time": "2024-08-11T19:50:50.935Z"
   },
   {
    "duration": 5,
    "start_time": "2024-08-11T19:51:26.197Z"
   },
   {
    "duration": 228,
    "start_time": "2024-08-11T20:09:54.972Z"
   },
   {
    "duration": 198,
    "start_time": "2024-08-11T20:10:20.773Z"
   },
   {
    "duration": 126,
    "start_time": "2024-08-11T20:10:30.699Z"
   },
   {
    "duration": 59,
    "start_time": "2024-08-11T20:21:17.920Z"
   },
   {
    "duration": 5,
    "start_time": "2024-08-11T20:21:42.599Z"
   },
   {
    "duration": 5,
    "start_time": "2024-08-11T20:22:13.800Z"
   },
   {
    "duration": 6,
    "start_time": "2024-08-11T20:23:24.348Z"
   },
   {
    "duration": 7,
    "start_time": "2024-08-11T20:24:17.819Z"
   },
   {
    "duration": 7,
    "start_time": "2024-08-11T20:24:48.137Z"
   },
   {
    "duration": 7,
    "start_time": "2024-08-11T20:25:13.141Z"
   },
   {
    "duration": 8,
    "start_time": "2024-08-11T20:26:12.902Z"
   },
   {
    "duration": 54,
    "start_time": "2024-08-11T20:43:24.076Z"
   },
   {
    "duration": 5,
    "start_time": "2024-08-11T20:43:41.825Z"
   },
   {
    "duration": 6,
    "start_time": "2024-08-11T20:44:21.635Z"
   },
   {
    "duration": 5,
    "start_time": "2024-08-11T20:44:55.390Z"
   },
   {
    "duration": 6,
    "start_time": "2024-08-11T20:45:43.723Z"
   },
   {
    "duration": 3,
    "start_time": "2024-08-11T20:47:48.398Z"
   },
   {
    "duration": 9,
    "start_time": "2024-08-11T20:49:02.466Z"
   },
   {
    "duration": 8,
    "start_time": "2024-08-11T20:49:37.543Z"
   },
   {
    "duration": 7,
    "start_time": "2024-08-11T20:50:04.452Z"
   },
   {
    "duration": 7,
    "start_time": "2024-08-11T20:50:49.385Z"
   },
   {
    "duration": 7,
    "start_time": "2024-08-11T20:50:52.791Z"
   },
   {
    "duration": 23,
    "start_time": "2024-08-11T20:53:41.499Z"
   },
   {
    "duration": 13,
    "start_time": "2024-08-11T21:00:32.712Z"
   },
   {
    "duration": 12,
    "start_time": "2024-08-11T21:00:46.798Z"
   },
   {
    "duration": 22,
    "start_time": "2024-08-11T21:00:56.807Z"
   },
   {
    "duration": 27,
    "start_time": "2024-08-11T21:01:14.120Z"
   },
   {
    "duration": 27,
    "start_time": "2024-08-11T21:02:32.613Z"
   },
   {
    "duration": 26,
    "start_time": "2024-08-11T21:02:55.342Z"
   },
   {
    "duration": 29,
    "start_time": "2024-08-11T21:05:27.679Z"
   },
   {
    "duration": 19,
    "start_time": "2024-08-11T21:06:07.201Z"
   },
   {
    "duration": 28,
    "start_time": "2024-08-11T21:06:36.457Z"
   },
   {
    "duration": 25,
    "start_time": "2024-08-11T21:06:58.352Z"
   },
   {
    "duration": 169,
    "start_time": "2024-08-11T21:07:35.079Z"
   },
   {
    "duration": 26,
    "start_time": "2024-08-11T21:07:45.317Z"
   },
   {
    "duration": 25,
    "start_time": "2024-08-11T21:08:58.840Z"
   },
   {
    "duration": 26,
    "start_time": "2024-08-11T21:09:14.284Z"
   },
   {
    "duration": 29,
    "start_time": "2024-08-11T21:10:12.389Z"
   },
   {
    "duration": 26,
    "start_time": "2024-08-11T21:10:29.075Z"
   },
   {
    "duration": 79,
    "start_time": "2024-08-11T21:10:52.537Z"
   },
   {
    "duration": 27,
    "start_time": "2024-08-11T21:11:20.112Z"
   },
   {
    "duration": 27,
    "start_time": "2024-08-11T21:12:52.113Z"
   },
   {
    "duration": 22,
    "start_time": "2024-08-11T21:16:37.793Z"
   },
   {
    "duration": 53,
    "start_time": "2024-08-11T21:16:54.978Z"
   },
   {
    "duration": 28,
    "start_time": "2024-08-11T21:17:03.571Z"
   },
   {
    "duration": 16,
    "start_time": "2024-08-11T21:17:29.602Z"
   },
   {
    "duration": 4,
    "start_time": "2024-08-11T21:18:30.795Z"
   },
   {
    "duration": 32,
    "start_time": "2024-08-11T21:19:52.750Z"
   },
   {
    "duration": 31,
    "start_time": "2024-08-11T21:20:15.020Z"
   },
   {
    "duration": 332,
    "start_time": "2024-08-11T21:23:36.898Z"
   },
   {
    "duration": 32,
    "start_time": "2024-08-11T21:24:18.295Z"
   },
   {
    "duration": 37,
    "start_time": "2024-08-11T21:24:27.797Z"
   },
   {
    "duration": 1270,
    "start_time": "2024-08-11T21:28:19.260Z"
   },
   {
    "duration": 74,
    "start_time": "2024-08-11T21:28:20.532Z"
   },
   {
    "duration": 4,
    "start_time": "2024-08-11T21:28:20.607Z"
   },
   {
    "duration": 58,
    "start_time": "2024-08-11T21:28:20.613Z"
   },
   {
    "duration": 38,
    "start_time": "2024-08-11T21:28:20.673Z"
   },
   {
    "duration": 36,
    "start_time": "2024-08-11T21:28:20.713Z"
   },
   {
    "duration": 23,
    "start_time": "2024-08-11T21:28:20.750Z"
   },
   {
    "duration": 37,
    "start_time": "2024-08-11T21:28:20.774Z"
   },
   {
    "duration": 38,
    "start_time": "2024-08-11T21:28:20.812Z"
   },
   {
    "duration": 7,
    "start_time": "2024-08-11T21:28:20.851Z"
   },
   {
    "duration": 34,
    "start_time": "2024-08-11T21:28:20.860Z"
   },
   {
    "duration": 401,
    "start_time": "2024-08-11T21:28:20.896Z"
   },
   {
    "duration": 5,
    "start_time": "2024-08-11T21:28:21.299Z"
   },
   {
    "duration": 26,
    "start_time": "2024-08-11T21:28:21.307Z"
   },
   {
    "duration": 86,
    "start_time": "2024-08-11T21:28:21.335Z"
   },
   {
    "duration": 271,
    "start_time": "2024-08-11T21:28:21.422Z"
   },
   {
    "duration": 206,
    "start_time": "2024-08-11T21:28:21.695Z"
   },
   {
    "duration": 10,
    "start_time": "2024-08-11T21:28:21.903Z"
   },
   {
    "duration": 256,
    "start_time": "2024-08-11T21:28:21.915Z"
   },
   {
    "duration": 129,
    "start_time": "2024-08-11T21:28:22.173Z"
   },
   {
    "duration": 9,
    "start_time": "2024-08-11T21:28:22.306Z"
   },
   {
    "duration": 217,
    "start_time": "2024-08-11T21:28:22.319Z"
   },
   {
    "duration": 134,
    "start_time": "2024-08-11T21:28:22.537Z"
   },
   {
    "duration": 91,
    "start_time": "2024-08-11T21:28:22.672Z"
   },
   {
    "duration": 69,
    "start_time": "2024-08-11T21:28:22.765Z"
   },
   {
    "duration": 75,
    "start_time": "2024-08-11T21:28:22.836Z"
   },
   {
    "duration": 11,
    "start_time": "2024-08-11T21:28:22.913Z"
   },
   {
    "duration": 39,
    "start_time": "2024-08-11T21:28:22.925Z"
   },
   {
    "duration": 343,
    "start_time": "2024-08-11T21:28:22.965Z"
   },
   {
    "duration": 8,
    "start_time": "2024-08-11T21:28:23.310Z"
   },
   {
    "duration": 31,
    "start_time": "2024-08-11T21:28:23.321Z"
   },
   {
    "duration": 172,
    "start_time": "2024-08-11T21:28:23.354Z"
   },
   {
    "duration": 23,
    "start_time": "2024-08-11T21:28:23.528Z"
   },
   {
    "duration": 307,
    "start_time": "2024-08-11T21:28:23.553Z"
   },
   {
    "duration": 157,
    "start_time": "2024-08-11T21:28:23.862Z"
   },
   {
    "duration": 29,
    "start_time": "2024-08-11T21:28:24.021Z"
   },
   {
    "duration": 1537,
    "start_time": "2024-08-12T11:29:22.603Z"
   },
   {
    "duration": 306,
    "start_time": "2024-08-12T11:29:24.142Z"
   },
   {
    "duration": 3,
    "start_time": "2024-08-12T11:29:24.450Z"
   },
   {
    "duration": 43,
    "start_time": "2024-08-12T11:29:24.456Z"
   },
   {
    "duration": 24,
    "start_time": "2024-08-12T11:29:24.502Z"
   },
   {
    "duration": 28,
    "start_time": "2024-08-12T11:29:24.528Z"
   },
   {
    "duration": 33,
    "start_time": "2024-08-12T11:29:24.558Z"
   },
   {
    "duration": 37,
    "start_time": "2024-08-12T11:29:24.592Z"
   },
   {
    "duration": 19,
    "start_time": "2024-08-12T11:29:24.631Z"
   },
   {
    "duration": 42,
    "start_time": "2024-08-12T11:29:24.653Z"
   },
   {
    "duration": 15,
    "start_time": "2024-08-12T11:29:24.697Z"
   },
   {
    "duration": 440,
    "start_time": "2024-08-12T11:29:24.714Z"
   },
   {
    "duration": 5,
    "start_time": "2024-08-12T11:29:25.156Z"
   },
   {
    "duration": 34,
    "start_time": "2024-08-12T11:29:25.163Z"
   },
   {
    "duration": 25,
    "start_time": "2024-08-12T11:29:25.199Z"
   },
   {
    "duration": 321,
    "start_time": "2024-08-12T11:29:25.226Z"
   },
   {
    "duration": 246,
    "start_time": "2024-08-12T11:29:25.549Z"
   },
   {
    "duration": 21,
    "start_time": "2024-08-12T11:29:25.798Z"
   },
   {
    "duration": 254,
    "start_time": "2024-08-12T11:29:25.821Z"
   },
   {
    "duration": 147,
    "start_time": "2024-08-12T11:29:26.077Z"
   },
   {
    "duration": 10,
    "start_time": "2024-08-12T11:29:26.226Z"
   },
   {
    "duration": 231,
    "start_time": "2024-08-12T11:29:26.238Z"
   },
   {
    "duration": 141,
    "start_time": "2024-08-12T11:29:26.471Z"
   },
   {
    "duration": 74,
    "start_time": "2024-08-12T11:29:26.617Z"
   },
   {
    "duration": 58,
    "start_time": "2024-08-12T11:29:26.693Z"
   },
   {
    "duration": 70,
    "start_time": "2024-08-12T11:29:26.753Z"
   },
   {
    "duration": 6,
    "start_time": "2024-08-12T11:29:26.825Z"
   },
   {
    "duration": 31,
    "start_time": "2024-08-12T11:29:26.834Z"
   },
   {
    "duration": 385,
    "start_time": "2024-08-12T11:29:26.866Z"
   },
   {
    "duration": 6,
    "start_time": "2024-08-12T11:29:27.253Z"
   },
   {
    "duration": 10,
    "start_time": "2024-08-12T11:29:27.261Z"
   },
   {
    "duration": 189,
    "start_time": "2024-08-12T11:29:27.272Z"
   },
   {
    "duration": 23,
    "start_time": "2024-08-12T11:29:27.463Z"
   },
   {
    "duration": 326,
    "start_time": "2024-08-12T11:29:27.487Z"
   },
   {
    "duration": 171,
    "start_time": "2024-08-12T11:29:27.817Z"
   },
   {
    "duration": 50,
    "start_time": "2024-08-12T11:29:27.990Z"
   },
   {
    "duration": 45,
    "start_time": "2024-08-12T11:33:13.309Z"
   },
   {
    "duration": 3,
    "start_time": "2024-08-12T11:37:06.975Z"
   },
   {
    "duration": 4,
    "start_time": "2024-08-12T11:39:44.856Z"
   },
   {
    "duration": 160,
    "start_time": "2024-08-12T11:41:34.346Z"
   },
   {
    "duration": 3,
    "start_time": "2024-08-12T11:41:38.720Z"
   },
   {
    "duration": 1058,
    "start_time": "2024-08-12T11:41:39.646Z"
   },
   {
    "duration": 4,
    "start_time": "2024-08-12T11:42:41.027Z"
   },
   {
    "duration": 209,
    "start_time": "2024-08-12T11:42:41.964Z"
   },
   {
    "duration": 236,
    "start_time": "2024-08-12T11:43:07.372Z"
   },
   {
    "duration": 111,
    "start_time": "2024-08-12T11:44:54.800Z"
   },
   {
    "duration": 12,
    "start_time": "2024-08-12T11:45:37.044Z"
   },
   {
    "duration": 1354,
    "start_time": "2024-08-12T11:48:36.696Z"
   },
   {
    "duration": 72,
    "start_time": "2024-08-12T11:48:38.052Z"
   },
   {
    "duration": 4,
    "start_time": "2024-08-12T11:48:38.126Z"
   },
   {
    "duration": 76,
    "start_time": "2024-08-12T11:48:38.133Z"
   },
   {
    "duration": 27,
    "start_time": "2024-08-12T11:48:38.211Z"
   },
   {
    "duration": 27,
    "start_time": "2024-08-12T11:48:38.240Z"
   },
   {
    "duration": 50,
    "start_time": "2024-08-12T11:48:38.269Z"
   },
   {
    "duration": 19,
    "start_time": "2024-08-12T11:48:38.320Z"
   },
   {
    "duration": 30,
    "start_time": "2024-08-12T11:48:38.341Z"
   },
   {
    "duration": 9,
    "start_time": "2024-08-12T11:48:38.374Z"
   },
   {
    "duration": 33,
    "start_time": "2024-08-12T11:48:38.385Z"
   },
   {
    "duration": 369,
    "start_time": "2024-08-12T11:48:38.419Z"
   },
   {
    "duration": 5,
    "start_time": "2024-08-12T11:48:38.790Z"
   },
   {
    "duration": 29,
    "start_time": "2024-08-12T11:48:38.797Z"
   },
   {
    "duration": 12,
    "start_time": "2024-08-12T11:48:38.828Z"
   },
   {
    "duration": 293,
    "start_time": "2024-08-12T11:48:38.842Z"
   },
   {
    "duration": 199,
    "start_time": "2024-08-12T11:48:39.136Z"
   },
   {
    "duration": 8,
    "start_time": "2024-08-12T11:48:39.337Z"
   },
   {
    "duration": 308,
    "start_time": "2024-08-12T11:48:39.347Z"
   },
   {
    "duration": 132,
    "start_time": "2024-08-12T11:48:39.657Z"
   },
   {
    "duration": 9,
    "start_time": "2024-08-12T11:48:39.791Z"
   },
   {
    "duration": 207,
    "start_time": "2024-08-12T11:48:39.801Z"
   },
   {
    "duration": 126,
    "start_time": "2024-08-12T11:48:40.017Z"
   },
   {
    "duration": 53,
    "start_time": "2024-08-12T11:48:40.145Z"
   },
   {
    "duration": 35,
    "start_time": "2024-08-12T11:48:40.218Z"
   },
   {
    "duration": 67,
    "start_time": "2024-08-12T11:48:40.255Z"
   },
   {
    "duration": 7,
    "start_time": "2024-08-12T11:48:40.323Z"
   },
   {
    "duration": 23,
    "start_time": "2024-08-12T11:48:40.333Z"
   },
   {
    "duration": 341,
    "start_time": "2024-08-12T11:48:40.357Z"
   },
   {
    "duration": 7,
    "start_time": "2024-08-12T11:48:40.699Z"
   },
   {
    "duration": 55,
    "start_time": "2024-08-12T11:48:40.718Z"
   },
   {
    "duration": 165,
    "start_time": "2024-08-12T11:48:40.775Z"
   },
   {
    "duration": 29,
    "start_time": "2024-08-12T11:48:40.942Z"
   },
   {
    "duration": 312,
    "start_time": "2024-08-12T11:48:40.973Z"
   },
   {
    "duration": 155,
    "start_time": "2024-08-12T11:48:41.287Z"
   },
   {
    "duration": 28,
    "start_time": "2024-08-12T11:48:41.443Z"
   },
   {
    "duration": 4,
    "start_time": "2024-08-12T11:48:41.473Z"
   },
   {
    "duration": 239,
    "start_time": "2024-08-12T11:48:41.479Z"
   },
   {
    "duration": 108,
    "start_time": "2024-08-12T11:48:41.720Z"
   },
   {
    "duration": 1346,
    "start_time": "2024-08-12T15:12:54.088Z"
   },
   {
    "duration": 292,
    "start_time": "2024-08-12T15:12:55.435Z"
   },
   {
    "duration": 3,
    "start_time": "2024-08-12T15:12:55.729Z"
   },
   {
    "duration": 23,
    "start_time": "2024-08-12T15:12:55.733Z"
   },
   {
    "duration": 18,
    "start_time": "2024-08-12T15:12:55.757Z"
   },
   {
    "duration": 25,
    "start_time": "2024-08-12T15:12:55.777Z"
   },
   {
    "duration": 12,
    "start_time": "2024-08-12T15:12:55.803Z"
   },
   {
    "duration": 23,
    "start_time": "2024-08-12T15:12:55.816Z"
   },
   {
    "duration": 17,
    "start_time": "2024-08-12T15:12:55.841Z"
   },
   {
    "duration": 4,
    "start_time": "2024-08-12T15:12:55.860Z"
   },
   {
    "duration": 45,
    "start_time": "2024-08-12T15:12:55.865Z"
   },
   {
    "duration": 352,
    "start_time": "2024-08-12T15:12:55.911Z"
   },
   {
    "duration": 5,
    "start_time": "2024-08-12T15:12:56.265Z"
   },
   {
    "duration": 144,
    "start_time": "2024-08-12T15:12:56.272Z"
   },
   {
    "duration": 43,
    "start_time": "2024-08-12T15:12:56.417Z"
   },
   {
    "duration": 331,
    "start_time": "2024-08-12T15:12:56.462Z"
   },
   {
    "duration": 165,
    "start_time": "2024-08-12T15:12:56.795Z"
   },
   {
    "duration": 7,
    "start_time": "2024-08-12T15:12:56.961Z"
   },
   {
    "duration": 194,
    "start_time": "2024-08-12T15:12:56.969Z"
   },
   {
    "duration": 127,
    "start_time": "2024-08-12T15:12:57.164Z"
   },
   {
    "duration": 9,
    "start_time": "2024-08-12T15:12:57.293Z"
   },
   {
    "duration": 182,
    "start_time": "2024-08-12T15:12:57.303Z"
   },
   {
    "duration": 107,
    "start_time": "2024-08-12T15:12:57.487Z"
   },
   {
    "duration": 47,
    "start_time": "2024-08-12T15:12:57.596Z"
   },
   {
    "duration": 56,
    "start_time": "2024-08-12T15:12:57.645Z"
   },
   {
    "duration": 30,
    "start_time": "2024-08-12T15:12:57.703Z"
   },
   {
    "duration": 5,
    "start_time": "2024-08-12T15:12:57.734Z"
   },
   {
    "duration": 26,
    "start_time": "2024-08-12T15:12:57.742Z"
   },
   {
    "duration": 260,
    "start_time": "2024-08-12T15:12:57.769Z"
   },
   {
    "duration": 6,
    "start_time": "2024-08-12T15:12:58.030Z"
   },
   {
    "duration": 22,
    "start_time": "2024-08-12T15:12:58.037Z"
   },
   {
    "duration": 136,
    "start_time": "2024-08-12T15:12:58.060Z"
   },
   {
    "duration": 19,
    "start_time": "2024-08-12T15:12:58.197Z"
   },
   {
    "duration": 277,
    "start_time": "2024-08-12T15:12:58.218Z"
   },
   {
    "duration": 118,
    "start_time": "2024-08-12T15:12:58.496Z"
   },
   {
    "duration": 22,
    "start_time": "2024-08-12T15:12:58.616Z"
   },
   {
    "duration": 66,
    "start_time": "2024-08-12T15:12:58.639Z"
   },
   {
    "duration": 163,
    "start_time": "2024-08-12T15:12:58.706Z"
   },
   {
    "duration": 81,
    "start_time": "2024-08-12T15:12:58.870Z"
   },
   {
    "duration": 6,
    "start_time": "2024-08-12T15:15:06.262Z"
   },
   {
    "duration": 6,
    "start_time": "2024-08-12T15:15:31.109Z"
   },
   {
    "duration": 4,
    "start_time": "2024-08-12T15:15:47.902Z"
   },
   {
    "duration": 5,
    "start_time": "2024-08-12T15:16:08.733Z"
   },
   {
    "duration": 6,
    "start_time": "2024-08-12T15:17:57.250Z"
   },
   {
    "duration": 6,
    "start_time": "2024-08-12T15:18:15.512Z"
   },
   {
    "duration": 6,
    "start_time": "2024-08-12T15:19:07.107Z"
   },
   {
    "duration": 5,
    "start_time": "2024-08-12T15:19:50.025Z"
   },
   {
    "duration": 18,
    "start_time": "2024-08-12T15:27:18.369Z"
   },
   {
    "duration": 14,
    "start_time": "2024-08-12T15:36:39.928Z"
   },
   {
    "duration": 10,
    "start_time": "2024-08-12T15:37:25.984Z"
   },
   {
    "duration": 12,
    "start_time": "2024-08-12T15:40:55.036Z"
   },
   {
    "duration": 14,
    "start_time": "2024-08-12T15:41:20.706Z"
   },
   {
    "duration": 153,
    "start_time": "2024-08-12T15:44:30.810Z"
   },
   {
    "duration": 169,
    "start_time": "2024-08-12T15:45:15.204Z"
   },
   {
    "duration": 169,
    "start_time": "2024-08-12T15:46:35.673Z"
   },
   {
    "duration": 196,
    "start_time": "2024-08-12T15:47:17.337Z"
   },
   {
    "duration": 173,
    "start_time": "2024-08-12T15:47:26.655Z"
   },
   {
    "duration": 181,
    "start_time": "2024-08-12T15:48:30.137Z"
   },
   {
    "duration": 173,
    "start_time": "2024-08-12T15:49:16.621Z"
   },
   {
    "duration": 234,
    "start_time": "2024-08-12T15:53:47.579Z"
   },
   {
    "duration": 5,
    "start_time": "2024-08-12T15:57:22.771Z"
   },
   {
    "duration": 4,
    "start_time": "2024-08-12T15:57:47.360Z"
   },
   {
    "duration": 5,
    "start_time": "2024-08-12T15:59:03.283Z"
   },
   {
    "duration": 5,
    "start_time": "2024-08-12T15:59:40.084Z"
   },
   {
    "duration": 5,
    "start_time": "2024-08-12T16:00:02.238Z"
   },
   {
    "duration": 5,
    "start_time": "2024-08-12T16:00:38.673Z"
   },
   {
    "duration": 5,
    "start_time": "2024-08-12T16:01:20.804Z"
   },
   {
    "duration": 5,
    "start_time": "2024-08-12T16:01:41.752Z"
   },
   {
    "duration": 1093,
    "start_time": "2024-08-12T16:21:29.742Z"
   },
   {
    "duration": 67,
    "start_time": "2024-08-12T16:21:30.836Z"
   },
   {
    "duration": 21,
    "start_time": "2024-08-12T16:21:30.904Z"
   },
   {
    "duration": 149,
    "start_time": "2024-08-12T16:21:30.928Z"
   },
   {
    "duration": 72,
    "start_time": "2024-08-12T16:21:31.079Z"
   },
   {
    "duration": 38,
    "start_time": "2024-08-12T16:21:31.153Z"
   },
   {
    "duration": 34,
    "start_time": "2024-08-12T16:21:31.193Z"
   },
   {
    "duration": 49,
    "start_time": "2024-08-12T16:21:31.228Z"
   },
   {
    "duration": 57,
    "start_time": "2024-08-12T16:21:31.278Z"
   },
   {
    "duration": 24,
    "start_time": "2024-08-12T16:21:31.338Z"
   },
   {
    "duration": 28,
    "start_time": "2024-08-12T16:21:31.363Z"
   },
   {
    "duration": 335,
    "start_time": "2024-08-12T16:21:31.393Z"
   },
   {
    "duration": 5,
    "start_time": "2024-08-12T16:21:31.729Z"
   },
   {
    "duration": 112,
    "start_time": "2024-08-12T16:21:31.736Z"
   },
   {
    "duration": 12,
    "start_time": "2024-08-12T16:21:31.850Z"
   },
   {
    "duration": 202,
    "start_time": "2024-08-12T16:21:31.864Z"
   },
   {
    "duration": 163,
    "start_time": "2024-08-12T16:21:32.068Z"
   },
   {
    "duration": 7,
    "start_time": "2024-08-12T16:21:32.233Z"
   },
   {
    "duration": 229,
    "start_time": "2024-08-12T16:21:32.241Z"
   },
   {
    "duration": 116,
    "start_time": "2024-08-12T16:21:32.474Z"
   },
   {
    "duration": 18,
    "start_time": "2024-08-12T16:21:32.591Z"
   },
   {
    "duration": 203,
    "start_time": "2024-08-12T16:21:32.610Z"
   },
   {
    "duration": 106,
    "start_time": "2024-08-12T16:21:32.814Z"
   },
   {
    "duration": 42,
    "start_time": "2024-08-12T16:21:32.922Z"
   },
   {
    "duration": 47,
    "start_time": "2024-08-12T16:21:32.966Z"
   },
   {
    "duration": 59,
    "start_time": "2024-08-12T16:21:33.014Z"
   },
   {
    "duration": 5,
    "start_time": "2024-08-12T16:21:33.075Z"
   },
   {
    "duration": 20,
    "start_time": "2024-08-12T16:21:33.083Z"
   },
   {
    "duration": 282,
    "start_time": "2024-08-12T16:21:33.104Z"
   },
   {
    "duration": 5,
    "start_time": "2024-08-12T16:21:33.387Z"
   },
   {
    "duration": 8,
    "start_time": "2024-08-12T16:21:33.402Z"
   },
   {
    "duration": 134,
    "start_time": "2024-08-12T16:21:33.411Z"
   },
   {
    "duration": 17,
    "start_time": "2024-08-12T16:21:33.546Z"
   },
   {
    "duration": 238,
    "start_time": "2024-08-12T16:21:33.565Z"
   },
   {
    "duration": 4,
    "start_time": "2024-08-12T16:21:33.804Z"
   },
   {
    "duration": 15,
    "start_time": "2024-08-12T16:21:33.810Z"
   },
   {
    "duration": 127,
    "start_time": "2024-08-12T16:21:33.826Z"
   },
   {
    "duration": 22,
    "start_time": "2024-08-12T16:21:33.955Z"
   },
   {
    "duration": 3,
    "start_time": "2024-08-12T16:21:33.978Z"
   },
   {
    "duration": 194,
    "start_time": "2024-08-12T16:21:33.983Z"
   },
   {
    "duration": 90,
    "start_time": "2024-08-12T16:21:34.178Z"
   },
   {
    "duration": 208,
    "start_time": "2024-08-12T16:21:34.269Z"
   },
   {
    "duration": 1338,
    "start_time": "2024-08-12T19:17:33.325Z"
   },
   {
    "duration": 375,
    "start_time": "2024-08-12T19:17:34.665Z"
   },
   {
    "duration": 4,
    "start_time": "2024-08-12T19:17:35.041Z"
   },
   {
    "duration": 34,
    "start_time": "2024-08-12T19:17:35.047Z"
   },
   {
    "duration": 27,
    "start_time": "2024-08-12T19:17:35.082Z"
   },
   {
    "duration": 27,
    "start_time": "2024-08-12T19:17:35.111Z"
   },
   {
    "duration": 43,
    "start_time": "2024-08-12T19:17:35.140Z"
   },
   {
    "duration": 18,
    "start_time": "2024-08-12T19:17:35.184Z"
   },
   {
    "duration": 37,
    "start_time": "2024-08-12T19:17:35.203Z"
   },
   {
    "duration": 5,
    "start_time": "2024-08-12T19:17:35.242Z"
   },
   {
    "duration": 15,
    "start_time": "2024-08-12T19:17:35.248Z"
   },
   {
    "duration": 358,
    "start_time": "2024-08-12T19:17:35.264Z"
   },
   {
    "duration": 5,
    "start_time": "2024-08-12T19:17:35.623Z"
   },
   {
    "duration": 36,
    "start_time": "2024-08-12T19:17:35.630Z"
   },
   {
    "duration": 25,
    "start_time": "2024-08-12T19:17:35.667Z"
   },
   {
    "duration": 244,
    "start_time": "2024-08-12T19:17:35.694Z"
   },
   {
    "duration": 194,
    "start_time": "2024-08-12T19:17:35.940Z"
   },
   {
    "duration": 8,
    "start_time": "2024-08-12T19:17:36.136Z"
   },
   {
    "duration": 236,
    "start_time": "2024-08-12T19:17:36.146Z"
   },
   {
    "duration": 119,
    "start_time": "2024-08-12T19:17:36.383Z"
   },
   {
    "duration": 9,
    "start_time": "2024-08-12T19:17:36.504Z"
   },
   {
    "duration": 190,
    "start_time": "2024-08-12T19:17:36.514Z"
   },
   {
    "duration": 119,
    "start_time": "2024-08-12T19:17:36.706Z"
   },
   {
    "duration": 65,
    "start_time": "2024-08-12T19:17:36.827Z"
   },
   {
    "duration": 35,
    "start_time": "2024-08-12T19:17:36.894Z"
   },
   {
    "duration": 70,
    "start_time": "2024-08-12T19:17:36.930Z"
   },
   {
    "duration": 8,
    "start_time": "2024-08-12T19:17:37.001Z"
   },
   {
    "duration": 21,
    "start_time": "2024-08-12T19:17:37.012Z"
   },
   {
    "duration": 306,
    "start_time": "2024-08-12T19:17:37.035Z"
   },
   {
    "duration": 6,
    "start_time": "2024-08-12T19:17:37.343Z"
   },
   {
    "duration": 6,
    "start_time": "2024-08-12T19:17:37.350Z"
   },
   {
    "duration": 161,
    "start_time": "2024-08-12T19:17:37.358Z"
   },
   {
    "duration": 19,
    "start_time": "2024-08-12T19:17:37.521Z"
   },
   {
    "duration": 259,
    "start_time": "2024-08-12T19:17:37.542Z"
   },
   {
    "duration": 6,
    "start_time": "2024-08-12T19:17:37.803Z"
   },
   {
    "duration": 30,
    "start_time": "2024-08-12T19:17:37.811Z"
   },
   {
    "duration": 129,
    "start_time": "2024-08-12T19:17:37.843Z"
   },
   {
    "duration": 29,
    "start_time": "2024-08-12T19:17:37.974Z"
   },
   {
    "duration": 3,
    "start_time": "2024-08-12T19:17:38.005Z"
   },
   {
    "duration": 217,
    "start_time": "2024-08-12T19:17:38.010Z"
   },
   {
    "duration": 109,
    "start_time": "2024-08-12T19:17:38.229Z"
   },
   {
    "duration": 195,
    "start_time": "2024-08-12T19:17:38.340Z"
   },
   {
    "duration": 136,
    "start_time": "2024-08-12T19:49:26.295Z"
   },
   {
    "duration": 133,
    "start_time": "2024-08-12T19:49:39.443Z"
   },
   {
    "duration": 160,
    "start_time": "2024-08-12T19:51:33.118Z"
   },
   {
    "duration": 135,
    "start_time": "2024-08-12T19:58:06.700Z"
   },
   {
    "duration": 138,
    "start_time": "2024-08-12T19:59:34.452Z"
   },
   {
    "duration": 6,
    "start_time": "2024-08-12T20:00:11.989Z"
   },
   {
    "duration": 7,
    "start_time": "2024-08-12T20:00:20.709Z"
   },
   {
    "duration": 9,
    "start_time": "2024-08-12T20:04:25.372Z"
   },
   {
    "duration": 6,
    "start_time": "2024-08-12T20:04:32.256Z"
   },
   {
    "duration": 8,
    "start_time": "2024-08-12T20:07:40.231Z"
   },
   {
    "duration": 6,
    "start_time": "2024-08-12T20:07:48.317Z"
   },
   {
    "duration": 9,
    "start_time": "2024-08-12T20:09:37.689Z"
   },
   {
    "duration": 7,
    "start_time": "2024-08-12T20:10:00.600Z"
   },
   {
    "duration": 139,
    "start_time": "2024-08-12T20:17:30.809Z"
   },
   {
    "duration": 8,
    "start_time": "2024-08-12T20:24:02.056Z"
   },
   {
    "duration": 6,
    "start_time": "2024-08-12T20:25:18.434Z"
   },
   {
    "duration": 8,
    "start_time": "2024-08-12T20:26:45.952Z"
   },
   {
    "duration": 5,
    "start_time": "2024-08-12T20:27:05.906Z"
   },
   {
    "duration": 6,
    "start_time": "2024-08-12T20:27:19.030Z"
   },
   {
    "duration": 3,
    "start_time": "2024-08-12T20:30:15.060Z"
   },
   {
    "duration": 1279,
    "start_time": "2024-08-12T20:30:42.561Z"
   },
   {
    "duration": 78,
    "start_time": "2024-08-12T20:30:43.841Z"
   },
   {
    "duration": 4,
    "start_time": "2024-08-12T20:30:43.920Z"
   },
   {
    "duration": 34,
    "start_time": "2024-08-12T20:30:43.926Z"
   },
   {
    "duration": 21,
    "start_time": "2024-08-12T20:30:43.961Z"
   },
   {
    "duration": 25,
    "start_time": "2024-08-12T20:30:43.983Z"
   },
   {
    "duration": 15,
    "start_time": "2024-08-12T20:30:44.009Z"
   },
   {
    "duration": 16,
    "start_time": "2024-08-12T20:30:44.025Z"
   },
   {
    "duration": 46,
    "start_time": "2024-08-12T20:30:44.043Z"
   },
   {
    "duration": 5,
    "start_time": "2024-08-12T20:30:44.091Z"
   },
   {
    "duration": 16,
    "start_time": "2024-08-12T20:30:44.098Z"
   },
   {
    "duration": 366,
    "start_time": "2024-08-12T20:30:44.116Z"
   },
   {
    "duration": 6,
    "start_time": "2024-08-12T20:30:44.484Z"
   },
   {
    "duration": 19,
    "start_time": "2024-08-12T20:30:44.492Z"
   },
   {
    "duration": 22,
    "start_time": "2024-08-12T20:30:44.513Z"
   },
   {
    "duration": 271,
    "start_time": "2024-08-12T20:30:44.537Z"
   },
   {
    "duration": 190,
    "start_time": "2024-08-12T20:30:44.810Z"
   },
   {
    "duration": 9,
    "start_time": "2024-08-12T20:30:45.001Z"
   },
   {
    "duration": 242,
    "start_time": "2024-08-12T20:30:45.011Z"
   },
   {
    "duration": 129,
    "start_time": "2024-08-12T20:30:45.254Z"
   },
   {
    "duration": 8,
    "start_time": "2024-08-12T20:30:45.385Z"
   },
   {
    "duration": 214,
    "start_time": "2024-08-12T20:30:45.395Z"
   },
   {
    "duration": 129,
    "start_time": "2024-08-12T20:30:45.610Z"
   },
   {
    "duration": 66,
    "start_time": "2024-08-12T20:30:45.740Z"
   },
   {
    "duration": 34,
    "start_time": "2024-08-12T20:30:45.808Z"
   },
   {
    "duration": 61,
    "start_time": "2024-08-12T20:30:45.844Z"
   },
   {
    "duration": 7,
    "start_time": "2024-08-12T20:30:45.907Z"
   },
   {
    "duration": 59,
    "start_time": "2024-08-12T20:30:45.918Z"
   },
   {
    "duration": 295,
    "start_time": "2024-08-12T20:30:45.979Z"
   },
   {
    "duration": 7,
    "start_time": "2024-08-12T20:30:46.276Z"
   },
   {
    "duration": 150,
    "start_time": "2024-08-12T20:30:46.284Z"
   },
   {
    "duration": 0,
    "start_time": "2024-08-12T20:30:46.436Z"
   },
   {
    "duration": 0,
    "start_time": "2024-08-12T20:30:46.437Z"
   },
   {
    "duration": 1,
    "start_time": "2024-08-12T20:30:46.437Z"
   },
   {
    "duration": 0,
    "start_time": "2024-08-12T20:30:46.439Z"
   },
   {
    "duration": 0,
    "start_time": "2024-08-12T20:30:46.440Z"
   },
   {
    "duration": 0,
    "start_time": "2024-08-12T20:30:46.440Z"
   },
   {
    "duration": 0,
    "start_time": "2024-08-12T20:30:46.442Z"
   },
   {
    "duration": 1,
    "start_time": "2024-08-12T20:30:46.442Z"
   },
   {
    "duration": 0,
    "start_time": "2024-08-12T20:30:46.443Z"
   },
   {
    "duration": 0,
    "start_time": "2024-08-12T20:30:46.444Z"
   },
   {
    "duration": 0,
    "start_time": "2024-08-12T20:30:46.446Z"
   },
   {
    "duration": 0,
    "start_time": "2024-08-12T20:30:46.446Z"
   },
   {
    "duration": 0,
    "start_time": "2024-08-12T20:30:46.447Z"
   },
   {
    "duration": 0,
    "start_time": "2024-08-12T20:30:46.448Z"
   },
   {
    "duration": 0,
    "start_time": "2024-08-12T20:30:46.449Z"
   },
   {
    "duration": 0,
    "start_time": "2024-08-12T20:30:46.450Z"
   },
   {
    "duration": 1166,
    "start_time": "2024-08-12T20:31:54.016Z"
   },
   {
    "duration": 71,
    "start_time": "2024-08-12T20:31:55.184Z"
   },
   {
    "duration": 6,
    "start_time": "2024-08-12T20:31:55.257Z"
   },
   {
    "duration": 25,
    "start_time": "2024-08-12T20:31:55.265Z"
   },
   {
    "duration": 21,
    "start_time": "2024-08-12T20:31:55.291Z"
   },
   {
    "duration": 23,
    "start_time": "2024-08-12T20:31:55.314Z"
   },
   {
    "duration": 47,
    "start_time": "2024-08-12T20:31:55.338Z"
   },
   {
    "duration": 16,
    "start_time": "2024-08-12T20:31:55.387Z"
   },
   {
    "duration": 20,
    "start_time": "2024-08-12T20:31:55.404Z"
   },
   {
    "duration": 4,
    "start_time": "2024-08-12T20:31:55.427Z"
   },
   {
    "duration": 12,
    "start_time": "2024-08-12T20:31:55.433Z"
   },
   {
    "duration": 348,
    "start_time": "2024-08-12T20:31:55.483Z"
   },
   {
    "duration": 6,
    "start_time": "2024-08-12T20:31:55.832Z"
   },
   {
    "duration": 13,
    "start_time": "2024-08-12T20:31:55.839Z"
   },
   {
    "duration": 30,
    "start_time": "2024-08-12T20:31:55.853Z"
   },
   {
    "duration": 256,
    "start_time": "2024-08-12T20:31:55.885Z"
   },
   {
    "duration": 191,
    "start_time": "2024-08-12T20:31:56.143Z"
   },
   {
    "duration": 8,
    "start_time": "2024-08-12T20:31:56.335Z"
   },
   {
    "duration": 212,
    "start_time": "2024-08-12T20:31:56.345Z"
   },
   {
    "duration": 119,
    "start_time": "2024-08-12T20:31:56.559Z"
   },
   {
    "duration": 9,
    "start_time": "2024-08-12T20:31:56.679Z"
   },
   {
    "duration": 195,
    "start_time": "2024-08-12T20:31:56.690Z"
   },
   {
    "duration": 117,
    "start_time": "2024-08-12T20:31:56.886Z"
   },
   {
    "duration": 49,
    "start_time": "2024-08-12T20:31:57.004Z"
   },
   {
    "duration": 63,
    "start_time": "2024-08-12T20:31:57.054Z"
   },
   {
    "duration": 36,
    "start_time": "2024-08-12T20:31:57.118Z"
   },
   {
    "duration": 31,
    "start_time": "2024-08-12T20:31:57.155Z"
   },
   {
    "duration": 32,
    "start_time": "2024-08-12T20:31:57.189Z"
   },
   {
    "duration": 280,
    "start_time": "2024-08-12T20:31:57.222Z"
   },
   {
    "duration": 5,
    "start_time": "2024-08-12T20:31:57.503Z"
   },
   {
    "duration": 5,
    "start_time": "2024-08-12T20:31:57.509Z"
   },
   {
    "duration": 157,
    "start_time": "2024-08-12T20:31:57.515Z"
   },
   {
    "duration": 24,
    "start_time": "2024-08-12T20:31:57.673Z"
   },
   {
    "duration": 257,
    "start_time": "2024-08-12T20:31:57.698Z"
   },
   {
    "duration": 5,
    "start_time": "2024-08-12T20:31:57.956Z"
   },
   {
    "duration": 15,
    "start_time": "2024-08-12T20:31:57.962Z"
   },
   {
    "duration": 130,
    "start_time": "2024-08-12T20:31:57.982Z"
   },
   {
    "duration": 26,
    "start_time": "2024-08-12T20:31:58.114Z"
   },
   {
    "duration": 3,
    "start_time": "2024-08-12T20:31:58.142Z"
   },
   {
    "duration": 211,
    "start_time": "2024-08-12T20:31:58.146Z"
   },
   {
    "duration": 108,
    "start_time": "2024-08-12T20:31:58.359Z"
   },
   {
    "duration": 196,
    "start_time": "2024-08-12T20:31:58.469Z"
   },
   {
    "duration": 156,
    "start_time": "2024-08-12T20:31:58.667Z"
   },
   {
    "duration": 139,
    "start_time": "2024-08-12T20:31:58.824Z"
   },
   {
    "duration": 6,
    "start_time": "2024-08-12T20:31:58.965Z"
   },
   {
    "duration": 142,
    "start_time": "2024-08-12T20:31:58.981Z"
   },
   {
    "duration": 5,
    "start_time": "2024-08-12T20:31:59.125Z"
   },
   {
    "duration": 6,
    "start_time": "2024-08-12T20:32:31.296Z"
   },
   {
    "duration": 1179,
    "start_time": "2024-08-12T20:33:07.387Z"
   },
   {
    "duration": 71,
    "start_time": "2024-08-12T20:33:08.567Z"
   },
   {
    "duration": 4,
    "start_time": "2024-08-12T20:33:08.639Z"
   },
   {
    "duration": 26,
    "start_time": "2024-08-12T20:33:08.644Z"
   },
   {
    "duration": 22,
    "start_time": "2024-08-12T20:33:08.671Z"
   },
   {
    "duration": 26,
    "start_time": "2024-08-12T20:33:08.694Z"
   },
   {
    "duration": 14,
    "start_time": "2024-08-12T20:33:08.722Z"
   },
   {
    "duration": 62,
    "start_time": "2024-08-12T20:33:08.737Z"
   },
   {
    "duration": 28,
    "start_time": "2024-08-12T20:33:08.801Z"
   },
   {
    "duration": 7,
    "start_time": "2024-08-12T20:33:08.832Z"
   },
   {
    "duration": 29,
    "start_time": "2024-08-12T20:33:08.840Z"
   },
   {
    "duration": 340,
    "start_time": "2024-08-12T20:33:08.870Z"
   },
   {
    "duration": 5,
    "start_time": "2024-08-12T20:33:09.211Z"
   },
   {
    "duration": 14,
    "start_time": "2024-08-12T20:33:09.218Z"
   },
   {
    "duration": 52,
    "start_time": "2024-08-12T20:33:09.234Z"
   },
   {
    "duration": 232,
    "start_time": "2024-08-12T20:33:09.288Z"
   },
   {
    "duration": 197,
    "start_time": "2024-08-12T20:33:09.521Z"
   },
   {
    "duration": 8,
    "start_time": "2024-08-12T20:33:09.720Z"
   },
   {
    "duration": 216,
    "start_time": "2024-08-12T20:33:09.729Z"
   },
   {
    "duration": 120,
    "start_time": "2024-08-12T20:33:09.946Z"
   },
   {
    "duration": 17,
    "start_time": "2024-08-12T20:33:10.067Z"
   },
   {
    "duration": 204,
    "start_time": "2024-08-12T20:33:10.085Z"
   },
   {
    "duration": 117,
    "start_time": "2024-08-12T20:33:10.290Z"
   },
   {
    "duration": 53,
    "start_time": "2024-08-12T20:33:10.409Z"
   },
   {
    "duration": 44,
    "start_time": "2024-08-12T20:33:10.482Z"
   },
   {
    "duration": 59,
    "start_time": "2024-08-12T20:33:10.528Z"
   },
   {
    "duration": 6,
    "start_time": "2024-08-12T20:33:10.588Z"
   },
   {
    "duration": 23,
    "start_time": "2024-08-12T20:33:10.597Z"
   },
   {
    "duration": 300,
    "start_time": "2024-08-12T20:33:10.621Z"
   },
   {
    "duration": 6,
    "start_time": "2024-08-12T20:33:10.922Z"
   },
   {
    "duration": 10,
    "start_time": "2024-08-12T20:33:10.929Z"
   },
   {
    "duration": 154,
    "start_time": "2024-08-12T20:33:10.941Z"
   },
   {
    "duration": 20,
    "start_time": "2024-08-12T20:33:11.097Z"
   },
   {
    "duration": 257,
    "start_time": "2024-08-12T20:33:11.119Z"
   },
   {
    "duration": 4,
    "start_time": "2024-08-12T20:33:11.382Z"
   },
   {
    "duration": 4,
    "start_time": "2024-08-12T20:33:11.388Z"
   },
   {
    "duration": 138,
    "start_time": "2024-08-12T20:33:11.394Z"
   },
   {
    "duration": 26,
    "start_time": "2024-08-12T20:33:11.533Z"
   },
   {
    "duration": 4,
    "start_time": "2024-08-12T20:33:11.560Z"
   },
   {
    "duration": 203,
    "start_time": "2024-08-12T20:33:11.565Z"
   },
   {
    "duration": 124,
    "start_time": "2024-08-12T20:33:11.769Z"
   },
   {
    "duration": 199,
    "start_time": "2024-08-12T20:33:11.895Z"
   },
   {
    "duration": 144,
    "start_time": "2024-08-12T20:33:12.096Z"
   },
   {
    "duration": 144,
    "start_time": "2024-08-12T20:33:12.241Z"
   },
   {
    "duration": 6,
    "start_time": "2024-08-12T20:33:12.387Z"
   },
   {
    "duration": 150,
    "start_time": "2024-08-12T20:33:12.395Z"
   },
   {
    "duration": 6,
    "start_time": "2024-08-12T20:33:12.546Z"
   },
   {
    "duration": 1199,
    "start_time": "2024-08-12T20:40:39.752Z"
   },
   {
    "duration": 71,
    "start_time": "2024-08-12T20:40:40.952Z"
   },
   {
    "duration": 4,
    "start_time": "2024-08-12T20:40:41.024Z"
   },
   {
    "duration": 26,
    "start_time": "2024-08-12T20:40:41.029Z"
   },
   {
    "duration": 26,
    "start_time": "2024-08-12T20:40:41.056Z"
   },
   {
    "duration": 24,
    "start_time": "2024-08-12T20:40:41.084Z"
   },
   {
    "duration": 16,
    "start_time": "2024-08-12T20:40:41.109Z"
   },
   {
    "duration": 18,
    "start_time": "2024-08-12T20:40:41.126Z"
   },
   {
    "duration": 52,
    "start_time": "2024-08-12T20:40:41.146Z"
   },
   {
    "duration": 4,
    "start_time": "2024-08-12T20:40:41.200Z"
   },
   {
    "duration": 13,
    "start_time": "2024-08-12T20:40:41.206Z"
   },
   {
    "duration": 389,
    "start_time": "2024-08-12T20:40:41.221Z"
   },
   {
    "duration": 6,
    "start_time": "2024-08-12T20:40:41.612Z"
   },
   {
    "duration": 17,
    "start_time": "2024-08-12T20:40:41.620Z"
   },
   {
    "duration": 10,
    "start_time": "2024-08-12T20:40:41.639Z"
   },
   {
    "duration": 293,
    "start_time": "2024-08-12T20:40:41.651Z"
   },
   {
    "duration": 188,
    "start_time": "2024-08-12T20:40:41.946Z"
   },
   {
    "duration": 10,
    "start_time": "2024-08-12T20:40:42.135Z"
   },
   {
    "duration": 219,
    "start_time": "2024-08-12T20:40:42.147Z"
   },
   {
    "duration": 139,
    "start_time": "2024-08-12T20:40:42.368Z"
   },
   {
    "duration": 7,
    "start_time": "2024-08-12T20:40:42.509Z"
   },
   {
    "duration": 189,
    "start_time": "2024-08-12T20:40:42.518Z"
   },
   {
    "duration": 125,
    "start_time": "2024-08-12T20:40:42.709Z"
   },
   {
    "duration": 60,
    "start_time": "2024-08-12T20:40:42.835Z"
   },
   {
    "duration": 31,
    "start_time": "2024-08-12T20:40:42.896Z"
   },
   {
    "duration": 64,
    "start_time": "2024-08-12T20:40:42.929Z"
   },
   {
    "duration": 7,
    "start_time": "2024-08-12T20:40:42.995Z"
   },
   {
    "duration": 28,
    "start_time": "2024-08-12T20:40:43.006Z"
   },
   {
    "duration": 322,
    "start_time": "2024-08-12T20:40:43.036Z"
   },
   {
    "duration": 6,
    "start_time": "2024-08-12T20:40:43.359Z"
   },
   {
    "duration": 18,
    "start_time": "2024-08-12T20:40:43.366Z"
   },
   {
    "duration": 149,
    "start_time": "2024-08-12T20:40:43.385Z"
   },
   {
    "duration": 19,
    "start_time": "2024-08-12T20:40:43.535Z"
   },
   {
    "duration": 264,
    "start_time": "2024-08-12T20:40:43.556Z"
   },
   {
    "duration": 5,
    "start_time": "2024-08-12T20:40:43.822Z"
   },
   {
    "duration": 5,
    "start_time": "2024-08-12T20:40:43.829Z"
   },
   {
    "duration": 148,
    "start_time": "2024-08-12T20:40:43.835Z"
   },
   {
    "duration": 26,
    "start_time": "2024-08-12T20:40:43.985Z"
   },
   {
    "duration": 4,
    "start_time": "2024-08-12T20:40:44.012Z"
   },
   {
    "duration": 233,
    "start_time": "2024-08-12T20:40:44.018Z"
   },
   {
    "duration": 106,
    "start_time": "2024-08-12T20:40:44.252Z"
   },
   {
    "duration": 200,
    "start_time": "2024-08-12T20:40:44.359Z"
   },
   {
    "duration": 150,
    "start_time": "2024-08-12T20:40:44.560Z"
   },
   {
    "duration": 152,
    "start_time": "2024-08-12T20:40:44.712Z"
   },
   {
    "duration": 6,
    "start_time": "2024-08-12T20:40:44.865Z"
   },
   {
    "duration": 149,
    "start_time": "2024-08-12T20:40:44.872Z"
   },
   {
    "duration": 6,
    "start_time": "2024-08-12T20:40:45.022Z"
   },
   {
    "duration": 6,
    "start_time": "2024-08-12T20:48:12.766Z"
   },
   {
    "duration": 6,
    "start_time": "2024-08-12T20:49:21.093Z"
   },
   {
    "duration": 6,
    "start_time": "2024-08-12T20:55:35.232Z"
   },
   {
    "duration": 5,
    "start_time": "2024-08-12T21:00:42.802Z"
   },
   {
    "duration": 6,
    "start_time": "2024-08-12T21:01:29.350Z"
   },
   {
    "duration": 11,
    "start_time": "2024-08-12T21:10:09.526Z"
   },
   {
    "duration": 14,
    "start_time": "2024-08-12T21:11:24.934Z"
   },
   {
    "duration": 14,
    "start_time": "2024-08-12T21:12:06.212Z"
   },
   {
    "duration": 5,
    "start_time": "2024-08-12T21:13:03.028Z"
   },
   {
    "duration": 5,
    "start_time": "2024-08-12T21:13:13.610Z"
   },
   {
    "duration": 5,
    "start_time": "2024-08-12T21:14:43.504Z"
   },
   {
    "duration": 7,
    "start_time": "2024-08-12T21:14:53.247Z"
   },
   {
    "duration": 6,
    "start_time": "2024-08-12T21:16:45.094Z"
   },
   {
    "duration": 1161,
    "start_time": "2024-08-12T21:17:04.997Z"
   },
   {
    "duration": 81,
    "start_time": "2024-08-12T21:17:06.159Z"
   },
   {
    "duration": 4,
    "start_time": "2024-08-12T21:17:06.241Z"
   },
   {
    "duration": 28,
    "start_time": "2024-08-12T21:17:06.247Z"
   },
   {
    "duration": 26,
    "start_time": "2024-08-12T21:17:06.276Z"
   },
   {
    "duration": 24,
    "start_time": "2024-08-12T21:17:06.303Z"
   },
   {
    "duration": 14,
    "start_time": "2024-08-12T21:17:06.328Z"
   },
   {
    "duration": 52,
    "start_time": "2024-08-12T21:17:06.344Z"
   },
   {
    "duration": 18,
    "start_time": "2024-08-12T21:17:06.398Z"
   },
   {
    "duration": 4,
    "start_time": "2024-08-12T21:17:06.418Z"
   },
   {
    "duration": 12,
    "start_time": "2024-08-12T21:17:06.424Z"
   },
   {
    "duration": 388,
    "start_time": "2024-08-12T21:17:06.437Z"
   },
   {
    "duration": 6,
    "start_time": "2024-08-12T21:17:06.826Z"
   },
   {
    "duration": 42,
    "start_time": "2024-08-12T21:17:06.833Z"
   },
   {
    "duration": 23,
    "start_time": "2024-08-12T21:17:06.876Z"
   },
   {
    "duration": 234,
    "start_time": "2024-08-12T21:17:06.900Z"
   },
   {
    "duration": 190,
    "start_time": "2024-08-12T21:17:07.135Z"
   },
   {
    "duration": 9,
    "start_time": "2024-08-12T21:17:07.326Z"
   },
   {
    "duration": 218,
    "start_time": "2024-08-12T21:17:07.336Z"
   },
   {
    "duration": 116,
    "start_time": "2024-08-12T21:17:07.555Z"
   },
   {
    "duration": 16,
    "start_time": "2024-08-12T21:17:07.672Z"
   },
   {
    "duration": 180,
    "start_time": "2024-08-12T21:17:07.690Z"
   },
   {
    "duration": 126,
    "start_time": "2024-08-12T21:17:07.871Z"
   },
   {
    "duration": 46,
    "start_time": "2024-08-12T21:17:07.998Z"
   },
   {
    "duration": 58,
    "start_time": "2024-08-12T21:17:08.046Z"
   },
   {
    "duration": 34,
    "start_time": "2024-08-12T21:17:08.106Z"
   },
   {
    "duration": 5,
    "start_time": "2024-08-12T21:17:08.142Z"
   },
   {
    "duration": 48,
    "start_time": "2024-08-12T21:17:08.150Z"
   },
   {
    "duration": 289,
    "start_time": "2024-08-12T21:17:08.200Z"
   },
   {
    "duration": 6,
    "start_time": "2024-08-12T21:17:08.491Z"
   },
   {
    "duration": 6,
    "start_time": "2024-08-12T21:17:08.499Z"
   },
   {
    "duration": 147,
    "start_time": "2024-08-12T21:17:08.506Z"
   },
   {
    "duration": 37,
    "start_time": "2024-08-12T21:17:08.655Z"
   },
   {
    "duration": 253,
    "start_time": "2024-08-12T21:17:08.694Z"
   },
   {
    "duration": 4,
    "start_time": "2024-08-12T21:17:08.949Z"
   },
   {
    "duration": 5,
    "start_time": "2024-08-12T21:17:08.954Z"
   },
   {
    "duration": 147,
    "start_time": "2024-08-12T21:17:08.961Z"
   },
   {
    "duration": 25,
    "start_time": "2024-08-12T21:17:09.109Z"
   },
   {
    "duration": 3,
    "start_time": "2024-08-12T21:17:09.136Z"
   },
   {
    "duration": 218,
    "start_time": "2024-08-12T21:17:09.140Z"
   },
   {
    "duration": 125,
    "start_time": "2024-08-12T21:17:09.359Z"
   },
   {
    "duration": 210,
    "start_time": "2024-08-12T21:17:09.488Z"
   },
   {
    "duration": 6,
    "start_time": "2024-08-12T21:17:09.700Z"
   },
   {
    "duration": 5,
    "start_time": "2024-08-12T21:17:09.707Z"
   },
   {
    "duration": 26,
    "start_time": "2024-08-12T21:17:09.714Z"
   },
   {
    "duration": 153,
    "start_time": "2024-08-12T21:17:09.741Z"
   },
   {
    "duration": 139,
    "start_time": "2024-08-12T21:17:09.896Z"
   },
   {
    "duration": 7,
    "start_time": "2024-08-12T21:17:10.037Z"
   },
   {
    "duration": 162,
    "start_time": "2024-08-12T21:17:10.045Z"
   },
   {
    "duration": 9,
    "start_time": "2024-08-12T21:17:10.209Z"
   },
   {
    "duration": 1535,
    "start_time": "2024-08-13T09:03:39.203Z"
   },
   {
    "duration": 351,
    "start_time": "2024-08-13T09:03:40.740Z"
   },
   {
    "duration": 4,
    "start_time": "2024-08-13T09:03:41.093Z"
   },
   {
    "duration": 27,
    "start_time": "2024-08-13T09:03:41.099Z"
   },
   {
    "duration": 24,
    "start_time": "2024-08-13T09:03:41.127Z"
   },
   {
    "duration": 60,
    "start_time": "2024-08-13T09:03:41.152Z"
   },
   {
    "duration": 15,
    "start_time": "2024-08-13T09:03:41.214Z"
   },
   {
    "duration": 19,
    "start_time": "2024-08-13T09:03:41.231Z"
   },
   {
    "duration": 53,
    "start_time": "2024-08-13T09:03:41.251Z"
   },
   {
    "duration": 4,
    "start_time": "2024-08-13T09:03:41.307Z"
   },
   {
    "duration": 13,
    "start_time": "2024-08-13T09:03:41.313Z"
   },
   {
    "duration": 509,
    "start_time": "2024-08-13T09:03:41.328Z"
   },
   {
    "duration": 6,
    "start_time": "2024-08-13T09:03:41.838Z"
   },
   {
    "duration": 18,
    "start_time": "2024-08-13T09:03:41.845Z"
   },
   {
    "duration": 9,
    "start_time": "2024-08-13T09:03:41.895Z"
   },
   {
    "duration": 291,
    "start_time": "2024-08-13T09:03:41.905Z"
   },
   {
    "duration": 203,
    "start_time": "2024-08-13T09:03:42.197Z"
   },
   {
    "duration": 8,
    "start_time": "2024-08-13T09:03:42.402Z"
   },
   {
    "duration": 234,
    "start_time": "2024-08-13T09:03:42.412Z"
   },
   {
    "duration": 135,
    "start_time": "2024-08-13T09:03:42.648Z"
   },
   {
    "duration": 13,
    "start_time": "2024-08-13T09:03:42.784Z"
   },
   {
    "duration": 203,
    "start_time": "2024-08-13T09:03:42.798Z"
   },
   {
    "duration": 131,
    "start_time": "2024-08-13T09:03:43.003Z"
   },
   {
    "duration": 69,
    "start_time": "2024-08-13T09:03:43.136Z"
   },
   {
    "duration": 34,
    "start_time": "2024-08-13T09:03:43.207Z"
   },
   {
    "duration": 64,
    "start_time": "2024-08-13T09:03:43.242Z"
   },
   {
    "duration": 6,
    "start_time": "2024-08-13T09:03:43.308Z"
   },
   {
    "duration": 63,
    "start_time": "2024-08-13T09:03:43.317Z"
   },
   {
    "duration": 302,
    "start_time": "2024-08-13T09:03:43.382Z"
   },
   {
    "duration": 15,
    "start_time": "2024-08-13T09:03:43.685Z"
   },
   {
    "duration": 6,
    "start_time": "2024-08-13T09:03:43.702Z"
   },
   {
    "duration": 172,
    "start_time": "2024-08-13T09:03:43.710Z"
   },
   {
    "duration": 26,
    "start_time": "2024-08-13T09:03:43.884Z"
   },
   {
    "duration": 295,
    "start_time": "2024-08-13T09:03:43.912Z"
   },
   {
    "duration": 6,
    "start_time": "2024-08-13T09:03:44.209Z"
   },
   {
    "duration": 31,
    "start_time": "2024-08-13T09:03:44.216Z"
   },
   {
    "duration": 151,
    "start_time": "2024-08-13T09:03:44.249Z"
   },
   {
    "duration": 27,
    "start_time": "2024-08-13T09:03:44.402Z"
   },
   {
    "duration": 28,
    "start_time": "2024-08-13T09:03:44.430Z"
   },
   {
    "duration": 210,
    "start_time": "2024-08-13T09:03:44.460Z"
   },
   {
    "duration": 115,
    "start_time": "2024-08-13T09:03:44.672Z"
   },
   {
    "duration": 214,
    "start_time": "2024-08-13T09:03:44.796Z"
   },
   {
    "duration": 6,
    "start_time": "2024-08-13T09:03:45.011Z"
   },
   {
    "duration": 53,
    "start_time": "2024-08-13T09:03:45.019Z"
   },
   {
    "duration": 63,
    "start_time": "2024-08-13T09:03:45.074Z"
   },
   {
    "duration": 181,
    "start_time": "2024-08-13T09:03:45.139Z"
   },
   {
    "duration": 197,
    "start_time": "2024-08-13T09:03:45.322Z"
   },
   {
    "duration": 6,
    "start_time": "2024-08-13T09:03:45.520Z"
   },
   {
    "duration": 179,
    "start_time": "2024-08-13T09:03:45.528Z"
   },
   {
    "duration": 6,
    "start_time": "2024-08-13T09:03:45.708Z"
   },
   {
    "duration": 8,
    "start_time": "2024-08-13T09:11:13.481Z"
   },
   {
    "duration": 7,
    "start_time": "2024-08-13T09:11:40.577Z"
   },
   {
    "duration": 7,
    "start_time": "2024-08-13T09:12:33.061Z"
   },
   {
    "duration": 6,
    "start_time": "2024-08-13T09:14:49.989Z"
   },
   {
    "duration": 1481,
    "start_time": "2024-08-13T15:16:22.638Z"
   },
   {
    "duration": 353,
    "start_time": "2024-08-13T15:16:24.121Z"
   },
   {
    "duration": 3,
    "start_time": "2024-08-13T15:16:24.476Z"
   },
   {
    "duration": 30,
    "start_time": "2024-08-13T15:16:24.482Z"
   },
   {
    "duration": 25,
    "start_time": "2024-08-13T15:16:24.513Z"
   },
   {
    "duration": 69,
    "start_time": "2024-08-13T15:16:24.539Z"
   },
   {
    "duration": 19,
    "start_time": "2024-08-13T15:16:24.610Z"
   },
   {
    "duration": 22,
    "start_time": "2024-08-13T15:16:24.631Z"
   },
   {
    "duration": 52,
    "start_time": "2024-08-13T15:16:24.654Z"
   },
   {
    "duration": 6,
    "start_time": "2024-08-13T15:16:24.710Z"
   },
   {
    "duration": 17,
    "start_time": "2024-08-13T15:16:24.717Z"
   },
   {
    "duration": 411,
    "start_time": "2024-08-13T15:16:24.736Z"
   },
   {
    "duration": 7,
    "start_time": "2024-08-13T15:16:25.148Z"
   },
   {
    "duration": 49,
    "start_time": "2024-08-13T15:16:25.156Z"
   },
   {
    "duration": 8,
    "start_time": "2024-08-13T15:16:25.207Z"
   },
   {
    "duration": 312,
    "start_time": "2024-08-13T15:16:25.217Z"
   },
   {
    "duration": 234,
    "start_time": "2024-08-13T15:16:25.530Z"
   },
   {
    "duration": 11,
    "start_time": "2024-08-13T15:16:25.766Z"
   },
   {
    "duration": 263,
    "start_time": "2024-08-13T15:16:25.779Z"
   },
   {
    "duration": 148,
    "start_time": "2024-08-13T15:16:26.044Z"
   },
   {
    "duration": 11,
    "start_time": "2024-08-13T15:16:26.196Z"
   },
   {
    "duration": 222,
    "start_time": "2024-08-13T15:16:26.209Z"
   },
   {
    "duration": 163,
    "start_time": "2024-08-13T15:16:26.433Z"
   },
   {
    "duration": 98,
    "start_time": "2024-08-13T15:16:26.598Z"
   },
   {
    "duration": 38,
    "start_time": "2024-08-13T15:16:26.698Z"
   },
   {
    "duration": 70,
    "start_time": "2024-08-13T15:16:26.738Z"
   },
   {
    "duration": 9,
    "start_time": "2024-08-13T15:16:26.810Z"
   },
   {
    "duration": 32,
    "start_time": "2024-08-13T15:16:26.824Z"
   },
   {
    "duration": 355,
    "start_time": "2024-08-13T15:16:26.857Z"
   },
   {
    "duration": 5,
    "start_time": "2024-08-13T15:16:27.214Z"
   },
   {
    "duration": 23,
    "start_time": "2024-08-13T15:16:27.221Z"
   },
   {
    "duration": 197,
    "start_time": "2024-08-13T15:16:27.245Z"
   },
   {
    "duration": 23,
    "start_time": "2024-08-13T15:16:27.444Z"
   },
   {
    "duration": 313,
    "start_time": "2024-08-13T15:16:27.469Z"
   },
   {
    "duration": 14,
    "start_time": "2024-08-13T15:16:27.784Z"
   },
   {
    "duration": 20,
    "start_time": "2024-08-13T15:16:27.799Z"
   },
   {
    "duration": 149,
    "start_time": "2024-08-13T15:16:27.821Z"
   },
   {
    "duration": 34,
    "start_time": "2024-08-13T15:16:27.972Z"
   },
   {
    "duration": 3,
    "start_time": "2024-08-13T15:16:28.008Z"
   },
   {
    "duration": 236,
    "start_time": "2024-08-13T15:16:28.013Z"
   },
   {
    "duration": 116,
    "start_time": "2024-08-13T15:16:28.251Z"
   },
   {
    "duration": 239,
    "start_time": "2024-08-13T15:16:28.369Z"
   },
   {
    "duration": 8,
    "start_time": "2024-08-13T15:16:28.609Z"
   },
   {
    "duration": 17,
    "start_time": "2024-08-13T15:16:28.618Z"
   },
   {
    "duration": 24,
    "start_time": "2024-08-13T15:16:28.637Z"
   },
   {
    "duration": 194,
    "start_time": "2024-08-13T15:16:28.662Z"
   },
   {
    "duration": 168,
    "start_time": "2024-08-13T15:16:28.857Z"
   },
   {
    "duration": 7,
    "start_time": "2024-08-13T15:16:29.026Z"
   },
   {
    "duration": 193,
    "start_time": "2024-08-13T15:16:29.035Z"
   },
   {
    "duration": 7,
    "start_time": "2024-08-13T15:16:29.230Z"
   },
   {
    "duration": 9,
    "start_time": "2024-08-13T15:18:37.075Z"
   },
   {
    "duration": 1331,
    "start_time": "2024-08-13T16:14:24.581Z"
   },
   {
    "duration": 71,
    "start_time": "2024-08-13T16:14:25.914Z"
   },
   {
    "duration": 3,
    "start_time": "2024-08-13T16:14:25.987Z"
   },
   {
    "duration": 34,
    "start_time": "2024-08-13T16:14:25.993Z"
   },
   {
    "duration": 26,
    "start_time": "2024-08-13T16:14:26.029Z"
   },
   {
    "duration": 55,
    "start_time": "2024-08-13T16:14:26.056Z"
   },
   {
    "duration": 16,
    "start_time": "2024-08-13T16:14:26.113Z"
   },
   {
    "duration": 24,
    "start_time": "2024-08-13T16:14:26.130Z"
   },
   {
    "duration": 46,
    "start_time": "2024-08-13T16:14:26.155Z"
   },
   {
    "duration": 5,
    "start_time": "2024-08-13T16:14:26.204Z"
   },
   {
    "duration": 16,
    "start_time": "2024-08-13T16:14:26.211Z"
   },
   {
    "duration": 428,
    "start_time": "2024-08-13T16:14:26.229Z"
   },
   {
    "duration": 5,
    "start_time": "2024-08-13T16:14:26.659Z"
   },
   {
    "duration": 15,
    "start_time": "2024-08-13T16:14:26.665Z"
   },
   {
    "duration": 20,
    "start_time": "2024-08-13T16:14:26.682Z"
   },
   {
    "duration": 292,
    "start_time": "2024-08-13T16:14:26.704Z"
   },
   {
    "duration": 212,
    "start_time": "2024-08-13T16:14:26.997Z"
   },
   {
    "duration": 9,
    "start_time": "2024-08-13T16:14:27.211Z"
   },
   {
    "duration": 275,
    "start_time": "2024-08-13T16:14:27.221Z"
   },
   {
    "duration": 131,
    "start_time": "2024-08-13T16:14:27.498Z"
   },
   {
    "duration": 8,
    "start_time": "2024-08-13T16:14:27.631Z"
   },
   {
    "duration": 213,
    "start_time": "2024-08-13T16:14:27.641Z"
   },
   {
    "duration": 140,
    "start_time": "2024-08-13T16:14:27.856Z"
   },
   {
    "duration": 55,
    "start_time": "2024-08-13T16:14:27.998Z"
   },
   {
    "duration": 63,
    "start_time": "2024-08-13T16:14:28.055Z"
   },
   {
    "duration": 39,
    "start_time": "2024-08-13T16:14:28.119Z"
   },
   {
    "duration": 37,
    "start_time": "2024-08-13T16:14:28.160Z"
   },
   {
    "duration": 23,
    "start_time": "2024-08-13T16:14:28.201Z"
   },
   {
    "duration": 322,
    "start_time": "2024-08-13T16:14:28.226Z"
   },
   {
    "duration": 5,
    "start_time": "2024-08-13T16:14:28.550Z"
   },
   {
    "duration": 18,
    "start_time": "2024-08-13T16:14:28.556Z"
   },
   {
    "duration": 156,
    "start_time": "2024-08-13T16:14:28.576Z"
   },
   {
    "duration": 21,
    "start_time": "2024-08-13T16:14:28.733Z"
   },
   {
    "duration": 292,
    "start_time": "2024-08-13T16:14:28.756Z"
   },
   {
    "duration": 5,
    "start_time": "2024-08-13T16:14:29.050Z"
   },
   {
    "duration": 26,
    "start_time": "2024-08-13T16:14:29.057Z"
   },
   {
    "duration": 146,
    "start_time": "2024-08-13T16:14:29.084Z"
   },
   {
    "duration": 30,
    "start_time": "2024-08-13T16:14:29.231Z"
   },
   {
    "duration": 18,
    "start_time": "2024-08-13T16:14:29.262Z"
   },
   {
    "duration": 222,
    "start_time": "2024-08-13T16:14:29.281Z"
   },
   {
    "duration": 119,
    "start_time": "2024-08-13T16:14:29.504Z"
   },
   {
    "duration": 242,
    "start_time": "2024-08-13T16:14:29.625Z"
   },
   {
    "duration": 7,
    "start_time": "2024-08-13T16:14:29.869Z"
   },
   {
    "duration": 81,
    "start_time": "2024-08-13T16:14:29.877Z"
   },
   {
    "duration": 21,
    "start_time": "2024-08-13T16:14:29.960Z"
   },
   {
    "duration": 156,
    "start_time": "2024-08-13T16:14:29.982Z"
   },
   {
    "duration": 166,
    "start_time": "2024-08-13T16:14:30.139Z"
   },
   {
    "duration": 7,
    "start_time": "2024-08-13T16:14:30.306Z"
   },
   {
    "duration": 186,
    "start_time": "2024-08-13T16:14:30.314Z"
   },
   {
    "duration": 6,
    "start_time": "2024-08-13T16:14:30.501Z"
   },
   {
    "duration": 1350,
    "start_time": "2024-08-13T16:18:46.760Z"
   },
   {
    "duration": 72,
    "start_time": "2024-08-13T16:18:48.112Z"
   },
   {
    "duration": 3,
    "start_time": "2024-08-13T16:18:48.186Z"
   },
   {
    "duration": 44,
    "start_time": "2024-08-13T16:18:48.191Z"
   },
   {
    "duration": 26,
    "start_time": "2024-08-13T16:18:48.237Z"
   },
   {
    "duration": 45,
    "start_time": "2024-08-13T16:18:48.265Z"
   },
   {
    "duration": 16,
    "start_time": "2024-08-13T16:18:48.312Z"
   },
   {
    "duration": 19,
    "start_time": "2024-08-13T16:18:48.330Z"
   },
   {
    "duration": 53,
    "start_time": "2024-08-13T16:18:48.351Z"
   },
   {
    "duration": 5,
    "start_time": "2024-08-13T16:18:48.405Z"
   },
   {
    "duration": 28,
    "start_time": "2024-08-13T16:18:48.411Z"
   },
   {
    "duration": 393,
    "start_time": "2024-08-13T16:18:48.440Z"
   },
   {
    "duration": 6,
    "start_time": "2024-08-13T16:18:48.835Z"
   },
   {
    "duration": 19,
    "start_time": "2024-08-13T16:18:48.844Z"
   },
   {
    "duration": 37,
    "start_time": "2024-08-13T16:18:48.865Z"
   },
   {
    "duration": 264,
    "start_time": "2024-08-13T16:18:48.904Z"
   },
   {
    "duration": 211,
    "start_time": "2024-08-13T16:18:49.170Z"
   },
   {
    "duration": 17,
    "start_time": "2024-08-13T16:18:49.383Z"
   },
   {
    "duration": 232,
    "start_time": "2024-08-13T16:18:49.402Z"
   },
   {
    "duration": 132,
    "start_time": "2024-08-13T16:18:49.636Z"
   },
   {
    "duration": 8,
    "start_time": "2024-08-13T16:18:49.770Z"
   },
   {
    "duration": 218,
    "start_time": "2024-08-13T16:18:49.780Z"
   },
   {
    "duration": 143,
    "start_time": "2024-08-13T16:18:50.000Z"
   },
   {
    "duration": 71,
    "start_time": "2024-08-13T16:18:50.145Z"
   },
   {
    "duration": 39,
    "start_time": "2024-08-13T16:18:50.217Z"
   },
   {
    "duration": 71,
    "start_time": "2024-08-13T16:18:50.257Z"
   },
   {
    "duration": 7,
    "start_time": "2024-08-13T16:18:50.330Z"
   },
   {
    "duration": 32,
    "start_time": "2024-08-13T16:18:50.338Z"
   },
   {
    "duration": 344,
    "start_time": "2024-08-13T16:18:50.372Z"
   },
   {
    "duration": 6,
    "start_time": "2024-08-13T16:18:50.717Z"
   },
   {
    "duration": 8,
    "start_time": "2024-08-13T16:18:50.724Z"
   },
   {
    "duration": 175,
    "start_time": "2024-08-13T16:18:50.733Z"
   },
   {
    "duration": 22,
    "start_time": "2024-08-13T16:18:50.910Z"
   },
   {
    "duration": 303,
    "start_time": "2024-08-13T16:18:50.934Z"
   },
   {
    "duration": 5,
    "start_time": "2024-08-13T16:18:51.239Z"
   },
   {
    "duration": 41,
    "start_time": "2024-08-13T16:18:51.246Z"
   },
   {
    "duration": 148,
    "start_time": "2024-08-13T16:18:51.288Z"
   },
   {
    "duration": 31,
    "start_time": "2024-08-13T16:18:51.438Z"
   },
   {
    "duration": 3,
    "start_time": "2024-08-13T16:18:51.471Z"
   },
   {
    "duration": 238,
    "start_time": "2024-08-13T16:18:51.476Z"
   },
   {
    "duration": 17,
    "start_time": "2024-08-13T16:18:51.718Z"
   },
   {
    "duration": 331,
    "start_time": "2024-08-13T16:18:51.736Z"
   },
   {
    "duration": 8,
    "start_time": "2024-08-13T16:18:52.068Z"
   },
   {
    "duration": 21,
    "start_time": "2024-08-13T16:18:52.078Z"
   },
   {
    "duration": 36,
    "start_time": "2024-08-13T16:18:52.101Z"
   },
   {
    "duration": 160,
    "start_time": "2024-08-13T16:18:52.139Z"
   },
   {
    "duration": 161,
    "start_time": "2024-08-13T16:18:52.301Z"
   },
   {
    "duration": 6,
    "start_time": "2024-08-13T16:18:52.465Z"
   },
   {
    "duration": 165,
    "start_time": "2024-08-13T16:18:52.473Z"
   },
   {
    "duration": 6,
    "start_time": "2024-08-13T16:18:52.639Z"
   },
   {
    "duration": 60,
    "start_time": "2024-08-13T16:48:45.064Z"
   },
   {
    "duration": 58,
    "start_time": "2024-08-13T16:51:43.370Z"
   },
   {
    "duration": 82,
    "start_time": "2024-08-13T16:53:05.640Z"
   },
   {
    "duration": 70,
    "start_time": "2024-08-13T16:54:08.898Z"
   },
   {
    "duration": 1336,
    "start_time": "2024-08-13T16:54:19.021Z"
   },
   {
    "duration": 78,
    "start_time": "2024-08-13T16:54:20.359Z"
   },
   {
    "duration": 4,
    "start_time": "2024-08-13T16:54:20.438Z"
   },
   {
    "duration": 30,
    "start_time": "2024-08-13T16:54:20.444Z"
   },
   {
    "duration": 36,
    "start_time": "2024-08-13T16:54:20.476Z"
   },
   {
    "duration": 28,
    "start_time": "2024-08-13T16:54:20.514Z"
   },
   {
    "duration": 17,
    "start_time": "2024-08-13T16:54:20.544Z"
   },
   {
    "duration": 64,
    "start_time": "2024-08-13T16:54:20.562Z"
   },
   {
    "duration": 23,
    "start_time": "2024-08-13T16:54:20.628Z"
   },
   {
    "duration": 5,
    "start_time": "2024-08-13T16:54:20.655Z"
   },
   {
    "duration": 47,
    "start_time": "2024-08-13T16:54:20.662Z"
   },
   {
    "duration": 404,
    "start_time": "2024-08-13T16:54:20.711Z"
   },
   {
    "duration": 6,
    "start_time": "2024-08-13T16:54:21.117Z"
   },
   {
    "duration": 74,
    "start_time": "2024-08-13T16:54:21.125Z"
   },
   {
    "duration": 11,
    "start_time": "2024-08-13T16:54:21.201Z"
   },
   {
    "duration": 274,
    "start_time": "2024-08-13T16:54:21.213Z"
   },
   {
    "duration": 216,
    "start_time": "2024-08-13T16:54:21.497Z"
   },
   {
    "duration": 9,
    "start_time": "2024-08-13T16:54:21.714Z"
   },
   {
    "duration": 258,
    "start_time": "2024-08-13T16:54:21.725Z"
   },
   {
    "duration": 135,
    "start_time": "2024-08-13T16:54:21.985Z"
   },
   {
    "duration": 8,
    "start_time": "2024-08-13T16:54:22.122Z"
   },
   {
    "duration": 220,
    "start_time": "2024-08-13T16:54:22.132Z"
   },
   {
    "duration": 139,
    "start_time": "2024-08-13T16:54:22.353Z"
   },
   {
    "duration": 56,
    "start_time": "2024-08-13T16:54:22.504Z"
   },
   {
    "duration": 57,
    "start_time": "2024-08-13T16:54:22.562Z"
   },
   {
    "duration": 40,
    "start_time": "2024-08-13T16:54:22.620Z"
   },
   {
    "duration": 7,
    "start_time": "2024-08-13T16:54:22.661Z"
   },
   {
    "duration": 25,
    "start_time": "2024-08-13T16:54:22.702Z"
   },
   {
    "duration": 333,
    "start_time": "2024-08-13T16:54:22.729Z"
   },
   {
    "duration": 6,
    "start_time": "2024-08-13T16:54:23.064Z"
   },
   {
    "duration": 8,
    "start_time": "2024-08-13T16:54:23.071Z"
   },
   {
    "duration": 183,
    "start_time": "2024-08-13T16:54:23.081Z"
   },
   {
    "duration": 22,
    "start_time": "2024-08-13T16:54:23.266Z"
   },
   {
    "duration": 309,
    "start_time": "2024-08-13T16:54:23.297Z"
   },
   {
    "duration": 5,
    "start_time": "2024-08-13T16:54:23.609Z"
   },
   {
    "duration": 6,
    "start_time": "2024-08-13T16:54:23.616Z"
   },
   {
    "duration": 183,
    "start_time": "2024-08-13T16:54:23.624Z"
   },
   {
    "duration": 29,
    "start_time": "2024-08-13T16:54:23.809Z"
   },
   {
    "duration": 3,
    "start_time": "2024-08-13T16:54:23.840Z"
   },
   {
    "duration": 227,
    "start_time": "2024-08-13T16:54:23.845Z"
   },
   {
    "duration": 139,
    "start_time": "2024-08-13T16:54:24.074Z"
   },
   {
    "duration": 223,
    "start_time": "2024-08-13T16:54:24.216Z"
   },
   {
    "duration": 8,
    "start_time": "2024-08-13T16:54:24.442Z"
   },
   {
    "duration": 7,
    "start_time": "2024-08-13T16:54:24.452Z"
   },
   {
    "duration": 53,
    "start_time": "2024-08-13T16:54:24.461Z"
   },
   {
    "duration": 0,
    "start_time": "2024-08-13T16:54:24.516Z"
   },
   {
    "duration": 0,
    "start_time": "2024-08-13T16:54:24.517Z"
   },
   {
    "duration": 0,
    "start_time": "2024-08-13T16:54:24.517Z"
   },
   {
    "duration": 0,
    "start_time": "2024-08-13T16:54:24.518Z"
   },
   {
    "duration": 0,
    "start_time": "2024-08-13T16:54:24.519Z"
   },
   {
    "duration": 56,
    "start_time": "2024-08-13T16:55:53.626Z"
   },
   {
    "duration": 75,
    "start_time": "2024-08-13T16:56:30.609Z"
   },
   {
    "duration": 52,
    "start_time": "2024-08-13T16:58:07.430Z"
   },
   {
    "duration": 55,
    "start_time": "2024-08-13T16:58:45.832Z"
   },
   {
    "duration": 53,
    "start_time": "2024-08-13T16:59:16.230Z"
   },
   {
    "duration": 1357,
    "start_time": "2024-08-13T16:59:34.423Z"
   },
   {
    "duration": 80,
    "start_time": "2024-08-13T16:59:35.782Z"
   },
   {
    "duration": 4,
    "start_time": "2024-08-13T16:59:35.863Z"
   },
   {
    "duration": 32,
    "start_time": "2024-08-13T16:59:35.869Z"
   },
   {
    "duration": 26,
    "start_time": "2024-08-13T16:59:35.910Z"
   },
   {
    "duration": 28,
    "start_time": "2024-08-13T16:59:35.938Z"
   },
   {
    "duration": 45,
    "start_time": "2024-08-13T16:59:35.968Z"
   },
   {
    "duration": 26,
    "start_time": "2024-08-13T16:59:36.015Z"
   },
   {
    "duration": 21,
    "start_time": "2024-08-13T16:59:36.043Z"
   },
   {
    "duration": 40,
    "start_time": "2024-08-13T16:59:36.067Z"
   },
   {
    "duration": 55,
    "start_time": "2024-08-13T16:59:36.109Z"
   },
   {
    "duration": 392,
    "start_time": "2024-08-13T16:59:36.166Z"
   },
   {
    "duration": 6,
    "start_time": "2024-08-13T16:59:36.560Z"
   },
   {
    "duration": 45,
    "start_time": "2024-08-13T16:59:36.568Z"
   },
   {
    "duration": 9,
    "start_time": "2024-08-13T16:59:36.614Z"
   },
   {
    "duration": 315,
    "start_time": "2024-08-13T16:59:36.624Z"
   },
   {
    "duration": 209,
    "start_time": "2024-08-13T16:59:36.941Z"
   },
   {
    "duration": 9,
    "start_time": "2024-08-13T16:59:37.151Z"
   },
   {
    "duration": 263,
    "start_time": "2024-08-13T16:59:37.162Z"
   },
   {
    "duration": 132,
    "start_time": "2024-08-13T16:59:37.426Z"
   },
   {
    "duration": 10,
    "start_time": "2024-08-13T16:59:37.559Z"
   },
   {
    "duration": 239,
    "start_time": "2024-08-13T16:59:37.570Z"
   },
   {
    "duration": 141,
    "start_time": "2024-08-13T16:59:37.810Z"
   },
   {
    "duration": 70,
    "start_time": "2024-08-13T16:59:37.952Z"
   },
   {
    "duration": 36,
    "start_time": "2024-08-13T16:59:38.024Z"
   },
   {
    "duration": 72,
    "start_time": "2024-08-13T16:59:38.062Z"
   },
   {
    "duration": 7,
    "start_time": "2024-08-13T16:59:38.136Z"
   },
   {
    "duration": 63,
    "start_time": "2024-08-13T16:59:38.148Z"
   },
   {
    "duration": 332,
    "start_time": "2024-08-13T16:59:38.213Z"
   },
   {
    "duration": 5,
    "start_time": "2024-08-13T16:59:38.547Z"
   },
   {
    "duration": 5,
    "start_time": "2024-08-13T16:59:38.554Z"
   },
   {
    "duration": 179,
    "start_time": "2024-08-13T16:59:38.561Z"
   },
   {
    "duration": 23,
    "start_time": "2024-08-13T16:59:38.741Z"
   },
   {
    "duration": 332,
    "start_time": "2024-08-13T16:59:38.765Z"
   },
   {
    "duration": 6,
    "start_time": "2024-08-13T16:59:39.099Z"
   },
   {
    "duration": 16,
    "start_time": "2024-08-13T16:59:39.108Z"
   },
   {
    "duration": 155,
    "start_time": "2024-08-13T16:59:39.125Z"
   },
   {
    "duration": 42,
    "start_time": "2024-08-13T16:59:39.282Z"
   },
   {
    "duration": 4,
    "start_time": "2024-08-13T16:59:39.325Z"
   },
   {
    "duration": 244,
    "start_time": "2024-08-13T16:59:39.330Z"
   },
   {
    "duration": 131,
    "start_time": "2024-08-13T16:59:39.576Z"
   },
   {
    "duration": 236,
    "start_time": "2024-08-13T16:59:39.710Z"
   },
   {
    "duration": 7,
    "start_time": "2024-08-13T16:59:39.947Z"
   },
   {
    "duration": 22,
    "start_time": "2024-08-13T16:59:39.956Z"
   },
   {
    "duration": 58,
    "start_time": "2024-08-13T16:59:39.979Z"
   },
   {
    "duration": 0,
    "start_time": "2024-08-13T16:59:40.038Z"
   },
   {
    "duration": 0,
    "start_time": "2024-08-13T16:59:40.040Z"
   },
   {
    "duration": 0,
    "start_time": "2024-08-13T16:59:40.041Z"
   },
   {
    "duration": 0,
    "start_time": "2024-08-13T16:59:40.042Z"
   },
   {
    "duration": 0,
    "start_time": "2024-08-13T16:59:40.043Z"
   },
   {
    "duration": 1469,
    "start_time": "2024-08-13T18:13:41.548Z"
   },
   {
    "duration": 407,
    "start_time": "2024-08-13T18:13:43.019Z"
   },
   {
    "duration": 4,
    "start_time": "2024-08-13T18:13:43.427Z"
   },
   {
    "duration": 43,
    "start_time": "2024-08-13T18:13:43.433Z"
   },
   {
    "duration": 26,
    "start_time": "2024-08-13T18:13:43.478Z"
   },
   {
    "duration": 26,
    "start_time": "2024-08-13T18:13:43.506Z"
   },
   {
    "duration": 52,
    "start_time": "2024-08-13T18:13:43.533Z"
   },
   {
    "duration": 18,
    "start_time": "2024-08-13T18:13:43.586Z"
   },
   {
    "duration": 22,
    "start_time": "2024-08-13T18:13:43.606Z"
   },
   {
    "duration": 4,
    "start_time": "2024-08-13T18:13:43.631Z"
   },
   {
    "duration": 33,
    "start_time": "2024-08-13T18:13:43.636Z"
   },
   {
    "duration": 377,
    "start_time": "2024-08-13T18:13:43.683Z"
   },
   {
    "duration": 5,
    "start_time": "2024-08-13T18:13:44.062Z"
   },
   {
    "duration": 21,
    "start_time": "2024-08-13T18:13:44.069Z"
   },
   {
    "duration": 8,
    "start_time": "2024-08-13T18:13:44.092Z"
   },
   {
    "duration": 297,
    "start_time": "2024-08-13T18:13:44.101Z"
   },
   {
    "duration": 197,
    "start_time": "2024-08-13T18:13:44.400Z"
   },
   {
    "duration": 10,
    "start_time": "2024-08-13T18:13:44.598Z"
   },
   {
    "duration": 244,
    "start_time": "2024-08-13T18:13:44.610Z"
   },
   {
    "duration": 136,
    "start_time": "2024-08-13T18:13:44.856Z"
   },
   {
    "duration": 10,
    "start_time": "2024-08-13T18:13:44.993Z"
   },
   {
    "duration": 213,
    "start_time": "2024-08-13T18:13:45.004Z"
   },
   {
    "duration": 134,
    "start_time": "2024-08-13T18:13:45.219Z"
   },
   {
    "duration": 66,
    "start_time": "2024-08-13T18:13:45.354Z"
   },
   {
    "duration": 72,
    "start_time": "2024-08-13T18:13:45.422Z"
   },
   {
    "duration": 44,
    "start_time": "2024-08-13T18:13:45.496Z"
   },
   {
    "duration": 43,
    "start_time": "2024-08-13T18:13:45.542Z"
   },
   {
    "duration": 23,
    "start_time": "2024-08-13T18:13:45.590Z"
   },
   {
    "duration": 329,
    "start_time": "2024-08-13T18:13:45.615Z"
   },
   {
    "duration": 6,
    "start_time": "2024-08-13T18:13:45.946Z"
   },
   {
    "duration": 10,
    "start_time": "2024-08-13T18:13:45.954Z"
   },
   {
    "duration": 185,
    "start_time": "2024-08-13T18:13:45.965Z"
   },
   {
    "duration": 32,
    "start_time": "2024-08-13T18:13:46.152Z"
   },
   {
    "duration": 294,
    "start_time": "2024-08-13T18:13:46.186Z"
   },
   {
    "duration": 5,
    "start_time": "2024-08-13T18:13:46.484Z"
   },
   {
    "duration": 17,
    "start_time": "2024-08-13T18:13:46.490Z"
   },
   {
    "duration": 156,
    "start_time": "2024-08-13T18:13:46.508Z"
   },
   {
    "duration": 33,
    "start_time": "2024-08-13T18:13:46.666Z"
   },
   {
    "duration": 3,
    "start_time": "2024-08-13T18:13:46.701Z"
   },
   {
    "duration": 309,
    "start_time": "2024-08-13T18:13:46.706Z"
   },
   {
    "duration": 132,
    "start_time": "2024-08-13T18:13:47.017Z"
   },
   {
    "duration": 227,
    "start_time": "2024-08-13T18:13:47.151Z"
   },
   {
    "duration": 7,
    "start_time": "2024-08-13T18:13:47.383Z"
   },
   {
    "duration": 6,
    "start_time": "2024-08-13T18:13:47.391Z"
   },
   {
    "duration": 51,
    "start_time": "2024-08-13T18:13:47.399Z"
   },
   {
    "duration": 0,
    "start_time": "2024-08-13T18:13:47.451Z"
   },
   {
    "duration": 0,
    "start_time": "2024-08-13T18:13:47.453Z"
   },
   {
    "duration": 0,
    "start_time": "2024-08-13T18:13:47.454Z"
   },
   {
    "duration": 0,
    "start_time": "2024-08-13T18:13:47.455Z"
   },
   {
    "duration": 0,
    "start_time": "2024-08-13T18:13:47.456Z"
   },
   {
    "duration": 10,
    "start_time": "2024-08-13T18:14:59.878Z"
   },
   {
    "duration": 17,
    "start_time": "2024-08-13T18:15:56.898Z"
   },
   {
    "duration": 16,
    "start_time": "2024-08-13T18:16:31.779Z"
   },
   {
    "duration": 15,
    "start_time": "2024-08-13T18:18:17.292Z"
   },
   {
    "duration": 14,
    "start_time": "2024-08-13T18:19:50.331Z"
   },
   {
    "duration": 16,
    "start_time": "2024-08-13T18:21:01.018Z"
   },
   {
    "duration": 12,
    "start_time": "2024-08-13T18:21:44.607Z"
   },
   {
    "duration": 7,
    "start_time": "2024-08-13T18:26:36.805Z"
   },
   {
    "duration": 6,
    "start_time": "2024-08-13T18:26:44.653Z"
   },
   {
    "duration": 1310,
    "start_time": "2024-08-13T18:27:08.400Z"
   },
   {
    "duration": 81,
    "start_time": "2024-08-13T18:27:09.712Z"
   },
   {
    "duration": 3,
    "start_time": "2024-08-13T18:27:09.795Z"
   },
   {
    "duration": 34,
    "start_time": "2024-08-13T18:27:09.800Z"
   },
   {
    "duration": 25,
    "start_time": "2024-08-13T18:27:09.835Z"
   },
   {
    "duration": 44,
    "start_time": "2024-08-13T18:27:09.861Z"
   },
   {
    "duration": 28,
    "start_time": "2024-08-13T18:27:09.907Z"
   },
   {
    "duration": 20,
    "start_time": "2024-08-13T18:27:09.936Z"
   },
   {
    "duration": 41,
    "start_time": "2024-08-13T18:27:09.957Z"
   },
   {
    "duration": 29,
    "start_time": "2024-08-13T18:27:10.000Z"
   },
   {
    "duration": 14,
    "start_time": "2024-08-13T18:27:10.031Z"
   },
   {
    "duration": 378,
    "start_time": "2024-08-13T18:27:10.046Z"
   },
   {
    "duration": 5,
    "start_time": "2024-08-13T18:27:10.426Z"
   },
   {
    "duration": 13,
    "start_time": "2024-08-13T18:27:10.432Z"
   },
   {
    "duration": 8,
    "start_time": "2024-08-13T18:27:10.446Z"
   },
   {
    "duration": 289,
    "start_time": "2024-08-13T18:27:10.455Z"
   },
   {
    "duration": 194,
    "start_time": "2024-08-13T18:27:10.746Z"
   },
   {
    "duration": 9,
    "start_time": "2024-08-13T18:27:10.942Z"
   },
   {
    "duration": 243,
    "start_time": "2024-08-13T18:27:10.953Z"
   },
   {
    "duration": 134,
    "start_time": "2024-08-13T18:27:11.198Z"
   },
   {
    "duration": 9,
    "start_time": "2024-08-13T18:27:11.333Z"
   },
   {
    "duration": 195,
    "start_time": "2024-08-13T18:27:11.343Z"
   },
   {
    "duration": 135,
    "start_time": "2024-08-13T18:27:11.539Z"
   },
   {
    "duration": 54,
    "start_time": "2024-08-13T18:27:11.676Z"
   },
   {
    "duration": 61,
    "start_time": "2024-08-13T18:27:11.732Z"
   },
   {
    "duration": 39,
    "start_time": "2024-08-13T18:27:11.795Z"
   },
   {
    "duration": 6,
    "start_time": "2024-08-13T18:27:11.836Z"
   },
   {
    "duration": 54,
    "start_time": "2024-08-13T18:27:11.846Z"
   },
   {
    "duration": 313,
    "start_time": "2024-08-13T18:27:11.902Z"
   },
   {
    "duration": 5,
    "start_time": "2024-08-13T18:27:12.217Z"
   },
   {
    "duration": 6,
    "start_time": "2024-08-13T18:27:12.224Z"
   },
   {
    "duration": 177,
    "start_time": "2024-08-13T18:27:12.231Z"
   },
   {
    "duration": 21,
    "start_time": "2024-08-13T18:27:12.410Z"
   },
   {
    "duration": 288,
    "start_time": "2024-08-13T18:27:12.433Z"
   },
   {
    "duration": 5,
    "start_time": "2024-08-13T18:27:12.723Z"
   },
   {
    "duration": 6,
    "start_time": "2024-08-13T18:27:12.730Z"
   },
   {
    "duration": 166,
    "start_time": "2024-08-13T18:27:12.737Z"
   },
   {
    "duration": 28,
    "start_time": "2024-08-13T18:27:12.904Z"
   },
   {
    "duration": 4,
    "start_time": "2024-08-13T18:27:12.933Z"
   },
   {
    "duration": 227,
    "start_time": "2024-08-13T18:27:12.938Z"
   },
   {
    "duration": 122,
    "start_time": "2024-08-13T18:27:13.167Z"
   },
   {
    "duration": 218,
    "start_time": "2024-08-13T18:27:13.290Z"
   },
   {
    "duration": 7,
    "start_time": "2024-08-13T18:27:13.510Z"
   },
   {
    "duration": 7,
    "start_time": "2024-08-13T18:27:13.519Z"
   },
   {
    "duration": 17,
    "start_time": "2024-08-13T18:27:13.527Z"
   },
   {
    "duration": 173,
    "start_time": "2024-08-13T18:27:13.545Z"
   },
   {
    "duration": 156,
    "start_time": "2024-08-13T18:27:13.720Z"
   },
   {
    "duration": 11,
    "start_time": "2024-08-13T18:27:13.877Z"
   },
   {
    "duration": 219,
    "start_time": "2024-08-13T18:27:13.889Z"
   },
   {
    "duration": 6,
    "start_time": "2024-08-13T18:27:14.110Z"
   },
   {
    "duration": 160,
    "start_time": "2024-08-13T18:27:54.287Z"
   },
   {
    "duration": 169,
    "start_time": "2024-08-13T18:28:19.180Z"
   },
   {
    "duration": 154,
    "start_time": "2024-08-13T18:29:16.142Z"
   },
   {
    "duration": 161,
    "start_time": "2024-08-13T18:30:07.797Z"
   },
   {
    "duration": 164,
    "start_time": "2024-08-13T18:31:00.051Z"
   },
   {
    "duration": 155,
    "start_time": "2024-08-13T18:31:14.988Z"
   },
   {
    "duration": 151,
    "start_time": "2024-08-13T18:31:26.258Z"
   },
   {
    "duration": 158,
    "start_time": "2024-08-13T18:33:12.714Z"
   },
   {
    "duration": 159,
    "start_time": "2024-08-13T18:33:36.527Z"
   },
   {
    "duration": 162,
    "start_time": "2024-08-13T18:34:30.497Z"
   },
   {
    "duration": 266,
    "start_time": "2024-08-13T18:34:54.789Z"
   },
   {
    "duration": 1320,
    "start_time": "2024-08-13T18:35:26.865Z"
   },
   {
    "duration": 79,
    "start_time": "2024-08-13T18:35:28.187Z"
   },
   {
    "duration": 4,
    "start_time": "2024-08-13T18:35:28.268Z"
   },
   {
    "duration": 51,
    "start_time": "2024-08-13T18:35:28.274Z"
   },
   {
    "duration": 22,
    "start_time": "2024-08-13T18:35:28.326Z"
   },
   {
    "duration": 45,
    "start_time": "2024-08-13T18:35:28.349Z"
   },
   {
    "duration": 23,
    "start_time": "2024-08-13T18:35:28.396Z"
   },
   {
    "duration": 26,
    "start_time": "2024-08-13T18:35:28.423Z"
   },
   {
    "duration": 45,
    "start_time": "2024-08-13T18:35:28.451Z"
   },
   {
    "duration": 4,
    "start_time": "2024-08-13T18:35:28.499Z"
   },
   {
    "duration": 14,
    "start_time": "2024-08-13T18:35:28.504Z"
   },
   {
    "duration": 398,
    "start_time": "2024-08-13T18:35:28.520Z"
   },
   {
    "duration": 5,
    "start_time": "2024-08-13T18:35:28.920Z"
   },
   {
    "duration": 13,
    "start_time": "2024-08-13T18:35:28.927Z"
   },
   {
    "duration": 8,
    "start_time": "2024-08-13T18:35:28.942Z"
   },
   {
    "duration": 316,
    "start_time": "2024-08-13T18:35:28.952Z"
   },
   {
    "duration": 193,
    "start_time": "2024-08-13T18:35:29.270Z"
   },
   {
    "duration": 9,
    "start_time": "2024-08-13T18:35:29.464Z"
   },
   {
    "duration": 232,
    "start_time": "2024-08-13T18:35:29.484Z"
   },
   {
    "duration": 155,
    "start_time": "2024-08-13T18:35:29.718Z"
   },
   {
    "duration": 15,
    "start_time": "2024-08-13T18:35:29.875Z"
   },
   {
    "duration": 206,
    "start_time": "2024-08-13T18:35:29.892Z"
   },
   {
    "duration": 147,
    "start_time": "2024-08-13T18:35:30.099Z"
   },
   {
    "duration": 65,
    "start_time": "2024-08-13T18:35:30.247Z"
   },
   {
    "duration": 116,
    "start_time": "2024-08-13T18:35:30.314Z"
   },
   {
    "duration": 57,
    "start_time": "2024-08-13T18:35:30.432Z"
   },
   {
    "duration": 7,
    "start_time": "2024-08-13T18:35:30.492Z"
   },
   {
    "duration": 180,
    "start_time": "2024-08-13T18:35:30.503Z"
   },
   {
    "duration": 306,
    "start_time": "2024-08-13T18:35:30.685Z"
   },
   {
    "duration": 6,
    "start_time": "2024-08-13T18:35:30.993Z"
   },
   {
    "duration": 49,
    "start_time": "2024-08-13T18:35:31.001Z"
   },
   {
    "duration": 177,
    "start_time": "2024-08-13T18:35:31.052Z"
   },
   {
    "duration": 21,
    "start_time": "2024-08-13T18:35:31.231Z"
   },
   {
    "duration": 311,
    "start_time": "2024-08-13T18:35:31.254Z"
   },
   {
    "duration": 5,
    "start_time": "2024-08-13T18:35:31.567Z"
   },
   {
    "duration": 28,
    "start_time": "2024-08-13T18:35:31.584Z"
   },
   {
    "duration": 172,
    "start_time": "2024-08-13T18:35:31.613Z"
   },
   {
    "duration": 28,
    "start_time": "2024-08-13T18:35:31.787Z"
   },
   {
    "duration": 7,
    "start_time": "2024-08-13T18:35:31.817Z"
   },
   {
    "duration": 227,
    "start_time": "2024-08-13T18:35:31.825Z"
   },
   {
    "duration": 116,
    "start_time": "2024-08-13T18:35:32.054Z"
   },
   {
    "duration": 234,
    "start_time": "2024-08-13T18:35:32.171Z"
   },
   {
    "duration": 7,
    "start_time": "2024-08-13T18:35:32.406Z"
   },
   {
    "duration": 34,
    "start_time": "2024-08-13T18:35:32.414Z"
   },
   {
    "duration": 14,
    "start_time": "2024-08-13T18:35:32.449Z"
   },
   {
    "duration": 178,
    "start_time": "2024-08-13T18:35:32.465Z"
   },
   {
    "duration": 164,
    "start_time": "2024-08-13T18:35:32.645Z"
   },
   {
    "duration": 6,
    "start_time": "2024-08-13T18:35:32.811Z"
   },
   {
    "duration": 248,
    "start_time": "2024-08-13T18:35:32.818Z"
   },
   {
    "duration": 6,
    "start_time": "2024-08-13T18:35:33.068Z"
   },
   {
    "duration": 6,
    "start_time": "2024-08-13T18:39:20.450Z"
   },
   {
    "duration": 6,
    "start_time": "2024-08-13T18:39:51.113Z"
   },
   {
    "duration": 1412,
    "start_time": "2024-08-13T19:12:15.798Z"
   },
   {
    "duration": 373,
    "start_time": "2024-08-13T19:12:17.212Z"
   },
   {
    "duration": 4,
    "start_time": "2024-08-13T19:12:17.587Z"
   },
   {
    "duration": 30,
    "start_time": "2024-08-13T19:12:17.592Z"
   },
   {
    "duration": 27,
    "start_time": "2024-08-13T19:12:17.623Z"
   },
   {
    "duration": 59,
    "start_time": "2024-08-13T19:12:17.652Z"
   },
   {
    "duration": 17,
    "start_time": "2024-08-13T19:12:17.713Z"
   },
   {
    "duration": 20,
    "start_time": "2024-08-13T19:12:17.732Z"
   },
   {
    "duration": 22,
    "start_time": "2024-08-13T19:12:17.783Z"
   },
   {
    "duration": 13,
    "start_time": "2024-08-13T19:12:17.807Z"
   },
   {
    "duration": 14,
    "start_time": "2024-08-13T19:12:17.822Z"
   },
   {
    "duration": 518,
    "start_time": "2024-08-13T19:12:17.838Z"
   },
   {
    "duration": 5,
    "start_time": "2024-08-13T19:12:18.358Z"
   },
   {
    "duration": 34,
    "start_time": "2024-08-13T19:12:18.365Z"
   },
   {
    "duration": 12,
    "start_time": "2024-08-13T19:12:18.401Z"
   },
   {
    "duration": 305,
    "start_time": "2024-08-13T19:12:18.415Z"
   },
   {
    "duration": 200,
    "start_time": "2024-08-13T19:12:18.721Z"
   },
   {
    "duration": 9,
    "start_time": "2024-08-13T19:12:18.922Z"
   },
   {
    "duration": 252,
    "start_time": "2024-08-13T19:12:18.932Z"
   },
   {
    "duration": 145,
    "start_time": "2024-08-13T19:12:19.186Z"
   },
   {
    "duration": 8,
    "start_time": "2024-08-13T19:12:19.333Z"
   },
   {
    "duration": 203,
    "start_time": "2024-08-13T19:12:19.343Z"
   },
   {
    "duration": 137,
    "start_time": "2024-08-13T19:12:19.547Z"
   },
   {
    "duration": 53,
    "start_time": "2024-08-13T19:12:19.685Z"
   },
   {
    "duration": 56,
    "start_time": "2024-08-13T19:12:19.740Z"
   },
   {
    "duration": 37,
    "start_time": "2024-08-13T19:12:19.798Z"
   },
   {
    "duration": 6,
    "start_time": "2024-08-13T19:12:19.837Z"
   },
   {
    "duration": 54,
    "start_time": "2024-08-13T19:12:19.846Z"
   },
   {
    "duration": 306,
    "start_time": "2024-08-13T19:12:19.902Z"
   },
   {
    "duration": 5,
    "start_time": "2024-08-13T19:12:20.209Z"
   },
   {
    "duration": 28,
    "start_time": "2024-08-13T19:12:20.216Z"
   },
   {
    "duration": 152,
    "start_time": "2024-08-13T19:12:20.245Z"
   },
   {
    "duration": 21,
    "start_time": "2024-08-13T19:12:20.399Z"
   },
   {
    "duration": 329,
    "start_time": "2024-08-13T19:12:20.422Z"
   },
   {
    "duration": 6,
    "start_time": "2024-08-13T19:12:20.753Z"
   },
   {
    "duration": 14,
    "start_time": "2024-08-13T19:12:20.760Z"
   },
   {
    "duration": 151,
    "start_time": "2024-08-13T19:12:20.776Z"
   },
   {
    "duration": 30,
    "start_time": "2024-08-13T19:12:20.929Z"
   },
   {
    "duration": 3,
    "start_time": "2024-08-13T19:12:20.961Z"
   },
   {
    "duration": 240,
    "start_time": "2024-08-13T19:12:20.966Z"
   },
   {
    "duration": 114,
    "start_time": "2024-08-13T19:12:21.207Z"
   },
   {
    "duration": 233,
    "start_time": "2024-08-13T19:12:21.322Z"
   },
   {
    "duration": 6,
    "start_time": "2024-08-13T19:12:21.557Z"
   },
   {
    "duration": 21,
    "start_time": "2024-08-13T19:12:21.565Z"
   },
   {
    "duration": 54,
    "start_time": "2024-08-13T19:12:21.587Z"
   },
   {
    "duration": 189,
    "start_time": "2024-08-13T19:12:21.642Z"
   },
   {
    "duration": 177,
    "start_time": "2024-08-13T19:12:21.832Z"
   },
   {
    "duration": 7,
    "start_time": "2024-08-13T19:12:22.010Z"
   },
   {
    "duration": 277,
    "start_time": "2024-08-13T19:12:22.019Z"
   },
   {
    "duration": 6,
    "start_time": "2024-08-13T19:12:22.298Z"
   },
   {
    "duration": 1470,
    "start_time": "2024-08-14T04:48:27.713Z"
   },
   {
    "duration": 297,
    "start_time": "2024-08-14T04:48:29.185Z"
   },
   {
    "duration": 4,
    "start_time": "2024-08-14T04:48:29.484Z"
   },
   {
    "duration": 36,
    "start_time": "2024-08-14T04:48:29.489Z"
   },
   {
    "duration": 23,
    "start_time": "2024-08-14T04:48:29.526Z"
   },
   {
    "duration": 26,
    "start_time": "2024-08-14T04:48:29.551Z"
   },
   {
    "duration": 16,
    "start_time": "2024-08-14T04:48:29.579Z"
   },
   {
    "duration": 20,
    "start_time": "2024-08-14T04:48:29.597Z"
   },
   {
    "duration": 58,
    "start_time": "2024-08-14T04:48:29.618Z"
   },
   {
    "duration": 6,
    "start_time": "2024-08-14T04:48:29.679Z"
   },
   {
    "duration": 17,
    "start_time": "2024-08-14T04:48:29.688Z"
   },
   {
    "duration": 405,
    "start_time": "2024-08-14T04:48:29.707Z"
   },
   {
    "duration": 7,
    "start_time": "2024-08-14T04:48:30.114Z"
   },
   {
    "duration": 38,
    "start_time": "2024-08-14T04:48:30.122Z"
   },
   {
    "duration": 36,
    "start_time": "2024-08-14T04:48:30.162Z"
   },
   {
    "duration": 287,
    "start_time": "2024-08-14T04:48:30.200Z"
   },
   {
    "duration": 212,
    "start_time": "2024-08-14T04:48:30.489Z"
   },
   {
    "duration": 10,
    "start_time": "2024-08-14T04:48:30.703Z"
   },
   {
    "duration": 240,
    "start_time": "2024-08-14T04:48:30.715Z"
   },
   {
    "duration": 133,
    "start_time": "2024-08-14T04:48:30.957Z"
   },
   {
    "duration": 9,
    "start_time": "2024-08-14T04:48:31.092Z"
   },
   {
    "duration": 212,
    "start_time": "2024-08-14T04:48:31.102Z"
   },
   {
    "duration": 129,
    "start_time": "2024-08-14T04:48:31.315Z"
   },
   {
    "duration": 62,
    "start_time": "2024-08-14T04:48:31.445Z"
   },
   {
    "duration": 60,
    "start_time": "2024-08-14T04:48:31.509Z"
   },
   {
    "duration": 44,
    "start_time": "2024-08-14T04:48:31.571Z"
   },
   {
    "duration": 40,
    "start_time": "2024-08-14T04:48:31.617Z"
   },
   {
    "duration": 60,
    "start_time": "2024-08-14T04:48:31.661Z"
   },
   {
    "duration": 293,
    "start_time": "2024-08-14T04:48:31.723Z"
   },
   {
    "duration": 6,
    "start_time": "2024-08-14T04:48:32.018Z"
   },
   {
    "duration": 35,
    "start_time": "2024-08-14T04:48:32.025Z"
   },
   {
    "duration": 172,
    "start_time": "2024-08-14T04:48:32.062Z"
   },
   {
    "duration": 27,
    "start_time": "2024-08-14T04:48:32.236Z"
   },
   {
    "duration": 300,
    "start_time": "2024-08-14T04:48:32.265Z"
   },
   {
    "duration": 6,
    "start_time": "2024-08-14T04:48:32.567Z"
   },
   {
    "duration": 12,
    "start_time": "2024-08-14T04:48:32.575Z"
   },
   {
    "duration": 154,
    "start_time": "2024-08-14T04:48:32.589Z"
   },
   {
    "duration": 34,
    "start_time": "2024-08-14T04:48:32.744Z"
   },
   {
    "duration": 3,
    "start_time": "2024-08-14T04:48:32.780Z"
   },
   {
    "duration": 238,
    "start_time": "2024-08-14T04:48:32.785Z"
   },
   {
    "duration": 119,
    "start_time": "2024-08-14T04:48:33.025Z"
   },
   {
    "duration": 211,
    "start_time": "2024-08-14T04:48:33.154Z"
   },
   {
    "duration": 8,
    "start_time": "2024-08-14T04:48:33.367Z"
   },
   {
    "duration": 6,
    "start_time": "2024-08-14T04:48:33.377Z"
   },
   {
    "duration": 16,
    "start_time": "2024-08-14T04:48:33.384Z"
   },
   {
    "duration": 180,
    "start_time": "2024-08-14T04:48:33.402Z"
   },
   {
    "duration": 161,
    "start_time": "2024-08-14T04:48:33.584Z"
   },
   {
    "duration": 6,
    "start_time": "2024-08-14T04:48:33.753Z"
   },
   {
    "duration": 173,
    "start_time": "2024-08-14T04:48:33.760Z"
   },
   {
    "duration": 7,
    "start_time": "2024-08-14T04:48:33.935Z"
   },
   {
    "duration": 45,
    "start_time": "2024-08-14T07:44:37.530Z"
   },
   {
    "duration": 1392,
    "start_time": "2024-08-14T07:44:52.566Z"
   },
   {
    "duration": 392,
    "start_time": "2024-08-14T07:44:53.961Z"
   },
   {
    "duration": 3,
    "start_time": "2024-08-14T07:44:54.354Z"
   },
   {
    "duration": 28,
    "start_time": "2024-08-14T07:44:54.359Z"
   },
   {
    "duration": 20,
    "start_time": "2024-08-14T07:44:54.389Z"
   },
   {
    "duration": 47,
    "start_time": "2024-08-14T07:44:54.410Z"
   },
   {
    "duration": 18,
    "start_time": "2024-08-14T07:44:54.459Z"
   },
   {
    "duration": 15,
    "start_time": "2024-08-14T07:44:54.479Z"
   },
   {
    "duration": 21,
    "start_time": "2024-08-14T07:44:54.496Z"
   },
   {
    "duration": 32,
    "start_time": "2024-08-14T07:44:54.520Z"
   },
   {
    "duration": 14,
    "start_time": "2024-08-14T07:44:54.554Z"
   },
   {
    "duration": 343,
    "start_time": "2024-08-14T07:44:54.569Z"
   },
   {
    "duration": 5,
    "start_time": "2024-08-14T07:44:54.913Z"
   },
   {
    "duration": 21,
    "start_time": "2024-08-14T07:44:54.919Z"
   },
   {
    "duration": 8,
    "start_time": "2024-08-14T07:44:54.951Z"
   },
   {
    "duration": 296,
    "start_time": "2024-08-14T07:44:54.960Z"
   },
   {
    "duration": 113,
    "start_time": "2024-08-14T07:44:55.258Z"
   },
   {
    "duration": 8,
    "start_time": "2024-08-14T07:44:55.372Z"
   },
   {
    "duration": 215,
    "start_time": "2024-08-14T07:44:55.381Z"
   },
   {
    "duration": 111,
    "start_time": "2024-08-14T07:44:55.597Z"
   },
   {
    "duration": 8,
    "start_time": "2024-08-14T07:44:55.709Z"
   },
   {
    "duration": 190,
    "start_time": "2024-08-14T07:44:55.718Z"
   },
   {
    "duration": 113,
    "start_time": "2024-08-14T07:44:55.910Z"
   },
   {
    "duration": 55,
    "start_time": "2024-08-14T07:44:56.025Z"
   },
   {
    "duration": 33,
    "start_time": "2024-08-14T07:44:56.082Z"
   },
   {
    "duration": 64,
    "start_time": "2024-08-14T07:44:56.117Z"
   },
   {
    "duration": 7,
    "start_time": "2024-08-14T07:44:56.182Z"
   },
   {
    "duration": 23,
    "start_time": "2024-08-14T07:44:56.192Z"
   },
   {
    "duration": 279,
    "start_time": "2024-08-14T07:44:56.216Z"
   },
   {
    "duration": 4,
    "start_time": "2024-08-14T07:44:56.497Z"
   },
   {
    "duration": 15,
    "start_time": "2024-08-14T07:44:56.502Z"
   },
   {
    "duration": 141,
    "start_time": "2024-08-14T07:44:56.519Z"
   },
   {
    "duration": 20,
    "start_time": "2024-08-14T07:44:56.661Z"
   },
   {
    "duration": 254,
    "start_time": "2024-08-14T07:44:56.682Z"
   },
   {
    "duration": 4,
    "start_time": "2024-08-14T07:44:56.938Z"
   },
   {
    "duration": 4,
    "start_time": "2024-08-14T07:44:56.952Z"
   },
   {
    "duration": 231,
    "start_time": "2024-08-14T07:44:56.958Z"
   },
   {
    "duration": 26,
    "start_time": "2024-08-14T07:44:57.191Z"
   },
   {
    "duration": 4,
    "start_time": "2024-08-14T07:44:57.218Z"
   },
   {
    "duration": 241,
    "start_time": "2024-08-14T07:44:57.223Z"
   },
   {
    "duration": 14,
    "start_time": "2024-08-14T07:44:57.466Z"
   },
   {
    "duration": 198,
    "start_time": "2024-08-14T07:44:57.482Z"
   },
   {
    "duration": 7,
    "start_time": "2024-08-14T07:44:57.682Z"
   },
   {
    "duration": 8,
    "start_time": "2024-08-14T07:44:57.690Z"
   },
   {
    "duration": 15,
    "start_time": "2024-08-14T07:44:57.700Z"
   },
   {
    "duration": 164,
    "start_time": "2024-08-14T07:44:57.716Z"
   },
   {
    "duration": 165,
    "start_time": "2024-08-14T07:44:57.881Z"
   },
   {
    "duration": 6,
    "start_time": "2024-08-14T07:44:58.051Z"
   },
   {
    "duration": 164,
    "start_time": "2024-08-14T07:44:58.059Z"
   },
   {
    "duration": 6,
    "start_time": "2024-08-14T07:44:58.225Z"
   },
   {
    "duration": 11,
    "start_time": "2024-08-14T07:45:52.916Z"
   },
   {
    "duration": 1153,
    "start_time": "2024-08-14T07:45:58.863Z"
   },
   {
    "duration": 80,
    "start_time": "2024-08-14T07:46:00.018Z"
   },
   {
    "duration": 4,
    "start_time": "2024-08-14T07:46:00.099Z"
   },
   {
    "duration": 68,
    "start_time": "2024-08-14T07:46:00.104Z"
   },
   {
    "duration": 47,
    "start_time": "2024-08-14T07:46:00.174Z"
   },
   {
    "duration": 38,
    "start_time": "2024-08-14T07:46:00.222Z"
   },
   {
    "duration": 39,
    "start_time": "2024-08-14T07:46:00.261Z"
   },
   {
    "duration": 51,
    "start_time": "2024-08-14T07:46:00.301Z"
   },
   {
    "duration": 83,
    "start_time": "2024-08-14T07:46:00.353Z"
   },
   {
    "duration": 43,
    "start_time": "2024-08-14T07:46:00.438Z"
   },
   {
    "duration": 41,
    "start_time": "2024-08-14T07:46:00.482Z"
   },
   {
    "duration": 368,
    "start_time": "2024-08-14T07:46:00.524Z"
   },
   {
    "duration": 5,
    "start_time": "2024-08-14T07:46:00.893Z"
   },
   {
    "duration": 91,
    "start_time": "2024-08-14T07:46:00.900Z"
   },
   {
    "duration": 106,
    "start_time": "2024-08-14T07:46:00.993Z"
   },
   {
    "duration": 273,
    "start_time": "2024-08-14T07:46:01.101Z"
   },
   {
    "duration": 181,
    "start_time": "2024-08-14T07:46:01.376Z"
   },
   {
    "duration": 8,
    "start_time": "2024-08-14T07:46:01.559Z"
   },
   {
    "duration": 216,
    "start_time": "2024-08-14T07:46:01.568Z"
   },
   {
    "duration": 118,
    "start_time": "2024-08-14T07:46:01.785Z"
   },
   {
    "duration": 8,
    "start_time": "2024-08-14T07:46:01.905Z"
   },
   {
    "duration": 207,
    "start_time": "2024-08-14T07:46:01.915Z"
   },
   {
    "duration": 116,
    "start_time": "2024-08-14T07:46:02.124Z"
   },
   {
    "duration": 49,
    "start_time": "2024-08-14T07:46:02.241Z"
   },
   {
    "duration": 31,
    "start_time": "2024-08-14T07:46:02.291Z"
   },
   {
    "duration": 58,
    "start_time": "2024-08-14T07:46:02.323Z"
   },
   {
    "duration": 6,
    "start_time": "2024-08-14T07:46:02.382Z"
   },
   {
    "duration": 26,
    "start_time": "2024-08-14T07:46:02.392Z"
   },
   {
    "duration": 296,
    "start_time": "2024-08-14T07:46:02.420Z"
   },
   {
    "duration": 6,
    "start_time": "2024-08-14T07:46:02.718Z"
   },
   {
    "duration": 27,
    "start_time": "2024-08-14T07:46:02.725Z"
   },
   {
    "duration": 154,
    "start_time": "2024-08-14T07:46:02.754Z"
   },
   {
    "duration": 19,
    "start_time": "2024-08-14T07:46:02.910Z"
   },
   {
    "duration": 291,
    "start_time": "2024-08-14T07:46:02.930Z"
   },
   {
    "duration": 4,
    "start_time": "2024-08-14T07:46:03.222Z"
   },
   {
    "duration": 60,
    "start_time": "2024-08-14T07:46:03.227Z"
   },
   {
    "duration": 130,
    "start_time": "2024-08-14T07:46:03.288Z"
   },
   {
    "duration": 33,
    "start_time": "2024-08-14T07:46:03.419Z"
   },
   {
    "duration": 3,
    "start_time": "2024-08-14T07:46:03.453Z"
   },
   {
    "duration": 193,
    "start_time": "2024-08-14T07:46:03.458Z"
   },
   {
    "duration": 109,
    "start_time": "2024-08-14T07:46:03.652Z"
   },
   {
    "duration": 221,
    "start_time": "2024-08-14T07:46:03.762Z"
   },
   {
    "duration": 6,
    "start_time": "2024-08-14T07:46:03.984Z"
   },
   {
    "duration": 6,
    "start_time": "2024-08-14T07:46:03.991Z"
   },
   {
    "duration": 13,
    "start_time": "2024-08-14T07:46:03.999Z"
   },
   {
    "duration": 162,
    "start_time": "2024-08-14T07:46:04.013Z"
   },
   {
    "duration": 145,
    "start_time": "2024-08-14T07:46:04.176Z"
   },
   {
    "duration": 6,
    "start_time": "2024-08-14T07:46:04.322Z"
   },
   {
    "duration": 147,
    "start_time": "2024-08-14T07:46:04.329Z"
   },
   {
    "duration": 6,
    "start_time": "2024-08-14T07:46:04.477Z"
   },
   {
    "duration": 317,
    "start_time": "2024-08-14T07:54:44.637Z"
   },
   {
    "duration": 739,
    "start_time": "2024-08-14T07:59:10.540Z"
   },
   {
    "duration": 708,
    "start_time": "2024-08-14T07:59:40.879Z"
   },
   {
    "duration": 232,
    "start_time": "2024-08-14T08:02:04.186Z"
   },
   {
    "duration": 146,
    "start_time": "2024-08-14T08:08:21.922Z"
   },
   {
    "duration": 138,
    "start_time": "2024-08-14T08:08:59.866Z"
   },
   {
    "duration": 214,
    "start_time": "2024-08-14T08:09:10.848Z"
   },
   {
    "duration": 139,
    "start_time": "2024-08-14T08:09:26.596Z"
   },
   {
    "duration": 138,
    "start_time": "2024-08-14T08:11:17.781Z"
   },
   {
    "duration": 146,
    "start_time": "2024-08-14T08:11:45.201Z"
   },
   {
    "duration": 238,
    "start_time": "2024-08-14T08:12:02.528Z"
   },
   {
    "duration": 138,
    "start_time": "2024-08-14T08:12:17.906Z"
   },
   {
    "duration": 152,
    "start_time": "2024-08-14T08:13:40.442Z"
   },
   {
    "duration": 232,
    "start_time": "2024-08-14T08:14:34.081Z"
   },
   {
    "duration": 63,
    "start_time": "2024-08-14T08:15:22.804Z"
   },
   {
    "duration": 13,
    "start_time": "2024-08-14T08:15:31.167Z"
   },
   {
    "duration": 136,
    "start_time": "2024-08-14T08:15:39.462Z"
   },
   {
    "duration": 142,
    "start_time": "2024-08-14T08:15:53.727Z"
   },
   {
    "duration": 137,
    "start_time": "2024-08-14T08:16:08.490Z"
   },
   {
    "duration": 217,
    "start_time": "2024-08-14T08:24:03.553Z"
   },
   {
    "duration": 146,
    "start_time": "2024-08-14T08:24:23.963Z"
   },
   {
    "duration": 133,
    "start_time": "2024-08-14T08:25:29.464Z"
   },
   {
    "duration": 5,
    "start_time": "2024-08-14T08:44:09.413Z"
   },
   {
    "duration": 6,
    "start_time": "2024-08-14T08:44:21.396Z"
   },
   {
    "duration": 8,
    "start_time": "2024-08-14T08:44:43.870Z"
   },
   {
    "duration": 5,
    "start_time": "2024-08-14T08:44:56.640Z"
   },
   {
    "duration": 1271,
    "start_time": "2024-08-14T15:52:53.875Z"
   },
   {
    "duration": 76,
    "start_time": "2024-08-14T15:52:55.148Z"
   },
   {
    "duration": 4,
    "start_time": "2024-08-14T15:52:55.225Z"
   },
   {
    "duration": 32,
    "start_time": "2024-08-14T15:52:55.231Z"
   },
   {
    "duration": 25,
    "start_time": "2024-08-14T15:52:55.265Z"
   },
   {
    "duration": 58,
    "start_time": "2024-08-14T15:52:55.291Z"
   },
   {
    "duration": 11,
    "start_time": "2024-08-14T15:52:55.350Z"
   },
   {
    "duration": 34,
    "start_time": "2024-08-14T15:52:55.363Z"
   },
   {
    "duration": 26,
    "start_time": "2024-08-14T15:52:55.400Z"
   },
   {
    "duration": 6,
    "start_time": "2024-08-14T15:52:55.445Z"
   },
   {
    "duration": 25,
    "start_time": "2024-08-14T15:52:55.453Z"
   },
   {
    "duration": 541,
    "start_time": "2024-08-14T15:52:55.480Z"
   },
   {
    "duration": 5,
    "start_time": "2024-08-14T15:52:56.023Z"
   },
   {
    "duration": 69,
    "start_time": "2024-08-14T15:52:56.031Z"
   },
   {
    "duration": 55,
    "start_time": "2024-08-14T15:52:56.102Z"
   },
   {
    "duration": 310,
    "start_time": "2024-08-14T15:52:56.158Z"
   },
   {
    "duration": 229,
    "start_time": "2024-08-14T15:52:56.470Z"
   },
   {
    "duration": 8,
    "start_time": "2024-08-14T15:52:56.701Z"
   },
   {
    "duration": 243,
    "start_time": "2024-08-14T15:52:56.710Z"
   },
   {
    "duration": 136,
    "start_time": "2024-08-14T15:52:56.955Z"
   },
   {
    "duration": 9,
    "start_time": "2024-08-14T15:52:57.092Z"
   },
   {
    "duration": 228,
    "start_time": "2024-08-14T15:52:57.102Z"
   },
   {
    "duration": 135,
    "start_time": "2024-08-14T15:52:57.332Z"
   },
   {
    "duration": 80,
    "start_time": "2024-08-14T15:52:57.468Z"
   },
   {
    "duration": 40,
    "start_time": "2024-08-14T15:52:57.550Z"
   },
   {
    "duration": 66,
    "start_time": "2024-08-14T15:52:57.592Z"
   },
   {
    "duration": 7,
    "start_time": "2024-08-14T15:52:57.660Z"
   },
   {
    "duration": 48,
    "start_time": "2024-08-14T15:52:57.668Z"
   },
   {
    "duration": 178,
    "start_time": "2024-08-14T15:52:57.718Z"
   },
   {
    "duration": 6,
    "start_time": "2024-08-14T15:52:57.897Z"
   },
   {
    "duration": 13,
    "start_time": "2024-08-14T15:52:57.904Z"
   },
   {
    "duration": 202,
    "start_time": "2024-08-14T15:52:57.919Z"
   },
   {
    "duration": 28,
    "start_time": "2024-08-14T15:52:58.123Z"
   },
   {
    "duration": 337,
    "start_time": "2024-08-14T15:52:58.153Z"
   },
   {
    "duration": 6,
    "start_time": "2024-08-14T15:52:58.492Z"
   },
   {
    "duration": 13,
    "start_time": "2024-08-14T15:52:58.499Z"
   },
   {
    "duration": 216,
    "start_time": "2024-08-14T15:52:58.514Z"
   },
   {
    "duration": 36,
    "start_time": "2024-08-14T15:52:58.731Z"
   },
   {
    "duration": 4,
    "start_time": "2024-08-14T15:52:58.769Z"
   },
   {
    "duration": 234,
    "start_time": "2024-08-14T15:52:58.775Z"
   },
   {
    "duration": 17,
    "start_time": "2024-08-14T15:52:59.015Z"
   },
   {
    "duration": 221,
    "start_time": "2024-08-14T15:52:59.045Z"
   },
   {
    "duration": 8,
    "start_time": "2024-08-14T15:52:59.268Z"
   },
   {
    "duration": 9,
    "start_time": "2024-08-14T15:52:59.278Z"
   },
   {
    "duration": 33,
    "start_time": "2024-08-14T15:52:59.289Z"
   },
   {
    "duration": 175,
    "start_time": "2024-08-14T15:52:59.323Z"
   },
   {
    "duration": 168,
    "start_time": "2024-08-14T15:52:59.499Z"
   },
   {
    "duration": 6,
    "start_time": "2024-08-14T15:52:59.669Z"
   },
   {
    "duration": 171,
    "start_time": "2024-08-14T15:52:59.677Z"
   },
   {
    "duration": 6,
    "start_time": "2024-08-14T15:52:59.849Z"
   },
   {
    "duration": 1386,
    "start_time": "2024-08-14T16:15:29.144Z"
   },
   {
    "duration": 79,
    "start_time": "2024-08-14T16:15:30.532Z"
   },
   {
    "duration": 4,
    "start_time": "2024-08-14T16:15:30.612Z"
   },
   {
    "duration": 153,
    "start_time": "2024-08-14T16:15:30.618Z"
   },
   {
    "duration": 81,
    "start_time": "2024-08-14T16:15:30.773Z"
   },
   {
    "duration": 81,
    "start_time": "2024-08-14T16:15:30.855Z"
   },
   {
    "duration": 141,
    "start_time": "2024-08-14T16:15:30.937Z"
   },
   {
    "duration": 46,
    "start_time": "2024-08-14T16:15:31.080Z"
   },
   {
    "duration": 72,
    "start_time": "2024-08-14T16:15:31.128Z"
   },
   {
    "duration": 15,
    "start_time": "2024-08-14T16:15:31.203Z"
   },
   {
    "duration": 34,
    "start_time": "2024-08-14T16:15:31.219Z"
   },
   {
    "duration": 406,
    "start_time": "2024-08-14T16:15:31.254Z"
   },
   {
    "duration": 12,
    "start_time": "2024-08-14T16:15:31.663Z"
   },
   {
    "duration": 24,
    "start_time": "2024-08-14T16:15:31.685Z"
   },
   {
    "duration": 166,
    "start_time": "2024-08-14T16:15:31.712Z"
   },
   {
    "duration": 235,
    "start_time": "2024-08-14T16:15:31.879Z"
   },
   {
    "duration": 223,
    "start_time": "2024-08-14T16:15:32.116Z"
   },
   {
    "duration": 12,
    "start_time": "2024-08-14T16:15:32.341Z"
   },
   {
    "duration": 279,
    "start_time": "2024-08-14T16:15:32.355Z"
   },
   {
    "duration": 149,
    "start_time": "2024-08-14T16:15:32.635Z"
   },
   {
    "duration": 10,
    "start_time": "2024-08-14T16:15:32.786Z"
   },
   {
    "duration": 238,
    "start_time": "2024-08-14T16:15:32.798Z"
   },
   {
    "duration": 140,
    "start_time": "2024-08-14T16:15:33.038Z"
   },
   {
    "duration": 60,
    "start_time": "2024-08-14T16:15:33.180Z"
   },
   {
    "duration": 69,
    "start_time": "2024-08-14T16:15:33.241Z"
   },
   {
    "duration": 45,
    "start_time": "2024-08-14T16:15:33.311Z"
   },
   {
    "duration": 8,
    "start_time": "2024-08-14T16:15:33.384Z"
   },
   {
    "duration": 53,
    "start_time": "2024-08-14T16:15:33.396Z"
   },
   {
    "duration": 183,
    "start_time": "2024-08-14T16:15:33.451Z"
   },
   {
    "duration": 7,
    "start_time": "2024-08-14T16:15:33.636Z"
   },
   {
    "duration": 41,
    "start_time": "2024-08-14T16:15:33.645Z"
   },
   {
    "duration": 191,
    "start_time": "2024-08-14T16:15:33.688Z"
   },
   {
    "duration": 25,
    "start_time": "2024-08-14T16:15:33.881Z"
   },
   {
    "duration": 276,
    "start_time": "2024-08-14T16:15:33.908Z"
   },
   {
    "duration": 6,
    "start_time": "2024-08-14T16:15:34.186Z"
   },
   {
    "duration": 25,
    "start_time": "2024-08-14T16:15:34.193Z"
   },
   {
    "duration": 195,
    "start_time": "2024-08-14T16:15:34.220Z"
   },
   {
    "duration": 29,
    "start_time": "2024-08-14T16:15:34.417Z"
   },
   {
    "duration": 3,
    "start_time": "2024-08-14T16:15:34.447Z"
   },
   {
    "duration": 302,
    "start_time": "2024-08-14T16:15:34.452Z"
   },
   {
    "duration": 30,
    "start_time": "2024-08-14T16:15:34.755Z"
   },
   {
    "duration": 240,
    "start_time": "2024-08-14T16:15:34.786Z"
   },
   {
    "duration": 7,
    "start_time": "2024-08-14T16:15:35.028Z"
   },
   {
    "duration": 41,
    "start_time": "2024-08-14T16:15:35.036Z"
   },
   {
    "duration": 35,
    "start_time": "2024-08-14T16:15:35.079Z"
   },
   {
    "duration": 230,
    "start_time": "2024-08-14T16:15:35.116Z"
   },
   {
    "duration": 177,
    "start_time": "2024-08-14T16:15:35.348Z"
   },
   {
    "duration": 7,
    "start_time": "2024-08-14T16:15:35.526Z"
   },
   {
    "duration": 223,
    "start_time": "2024-08-14T16:15:35.536Z"
   },
   {
    "duration": 7,
    "start_time": "2024-08-14T16:15:35.761Z"
   },
   {
    "duration": 52,
    "start_time": "2024-08-15T09:52:10.404Z"
   },
   {
    "duration": 1573,
    "start_time": "2024-08-15T09:52:20.075Z"
   },
   {
    "duration": 419,
    "start_time": "2024-08-15T09:52:21.650Z"
   },
   {
    "duration": 4,
    "start_time": "2024-08-15T09:52:22.070Z"
   },
   {
    "duration": 33,
    "start_time": "2024-08-15T09:52:22.077Z"
   },
   {
    "duration": 26,
    "start_time": "2024-08-15T09:52:22.112Z"
   },
   {
    "duration": 63,
    "start_time": "2024-08-15T09:52:22.139Z"
   },
   {
    "duration": 15,
    "start_time": "2024-08-15T09:52:22.204Z"
   },
   {
    "duration": 21,
    "start_time": "2024-08-15T09:52:22.221Z"
   },
   {
    "duration": 56,
    "start_time": "2024-08-15T09:52:22.244Z"
   },
   {
    "duration": 6,
    "start_time": "2024-08-15T09:52:22.303Z"
   },
   {
    "duration": 33,
    "start_time": "2024-08-15T09:52:22.311Z"
   },
   {
    "duration": 537,
    "start_time": "2024-08-15T09:52:22.346Z"
   },
   {
    "duration": 6,
    "start_time": "2024-08-15T09:52:22.885Z"
   },
   {
    "duration": 24,
    "start_time": "2024-08-15T09:52:22.897Z"
   },
   {
    "duration": 20,
    "start_time": "2024-08-15T09:52:22.924Z"
   },
   {
    "duration": 312,
    "start_time": "2024-08-15T09:52:22.946Z"
   },
   {
    "duration": 210,
    "start_time": "2024-08-15T09:52:23.260Z"
   },
   {
    "duration": 9,
    "start_time": "2024-08-15T09:52:23.471Z"
   },
   {
    "duration": 249,
    "start_time": "2024-08-15T09:52:23.482Z"
   },
   {
    "duration": 132,
    "start_time": "2024-08-15T09:52:23.733Z"
   },
   {
    "duration": 9,
    "start_time": "2024-08-15T09:52:23.866Z"
   },
   {
    "duration": 214,
    "start_time": "2024-08-15T09:52:23.877Z"
   },
   {
    "duration": 132,
    "start_time": "2024-08-15T09:52:24.093Z"
   },
   {
    "duration": 71,
    "start_time": "2024-08-15T09:52:24.227Z"
   },
   {
    "duration": 38,
    "start_time": "2024-08-15T09:52:24.300Z"
   },
   {
    "duration": 66,
    "start_time": "2024-08-15T09:52:24.340Z"
   },
   {
    "duration": 67,
    "start_time": "2024-08-15T09:52:24.408Z"
   },
   {
    "duration": 35,
    "start_time": "2024-08-15T09:52:24.478Z"
   },
   {
    "duration": 182,
    "start_time": "2024-08-15T09:52:24.514Z"
   },
   {
    "duration": 5,
    "start_time": "2024-08-15T09:52:24.698Z"
   },
   {
    "duration": 7,
    "start_time": "2024-08-15T09:52:24.705Z"
   },
   {
    "duration": 216,
    "start_time": "2024-08-15T09:52:24.713Z"
   },
   {
    "duration": 22,
    "start_time": "2024-08-15T09:52:24.931Z"
   },
   {
    "duration": 311,
    "start_time": "2024-08-15T09:52:24.954Z"
   },
   {
    "duration": 5,
    "start_time": "2024-08-15T09:52:25.267Z"
   },
   {
    "duration": 40,
    "start_time": "2024-08-15T09:52:25.273Z"
   },
   {
    "duration": 237,
    "start_time": "2024-08-15T09:52:25.316Z"
   },
   {
    "duration": 42,
    "start_time": "2024-08-15T09:52:25.555Z"
   },
   {
    "duration": 4,
    "start_time": "2024-08-15T09:52:25.599Z"
   },
   {
    "duration": 244,
    "start_time": "2024-08-15T09:52:25.605Z"
   },
   {
    "duration": 19,
    "start_time": "2024-08-15T09:52:25.851Z"
   },
   {
    "duration": 245,
    "start_time": "2024-08-15T09:52:25.873Z"
   },
   {
    "duration": 7,
    "start_time": "2024-08-15T09:52:26.120Z"
   },
   {
    "duration": 15,
    "start_time": "2024-08-15T09:52:26.129Z"
   },
   {
    "duration": 17,
    "start_time": "2024-08-15T09:52:26.146Z"
   },
   {
    "duration": 209,
    "start_time": "2024-08-15T09:52:26.165Z"
   },
   {
    "duration": 181,
    "start_time": "2024-08-15T09:52:26.376Z"
   },
   {
    "duration": 7,
    "start_time": "2024-08-15T09:52:26.559Z"
   },
   {
    "duration": 193,
    "start_time": "2024-08-15T09:52:26.568Z"
   },
   {
    "duration": 7,
    "start_time": "2024-08-15T09:52:26.762Z"
   },
   {
    "duration": 6,
    "start_time": "2024-08-15T09:53:19.123Z"
   },
   {
    "duration": 6,
    "start_time": "2024-08-15T09:53:25.837Z"
   },
   {
    "duration": 6,
    "start_time": "2024-08-15T09:54:24.760Z"
   },
   {
    "duration": 6,
    "start_time": "2024-08-15T09:54:38.748Z"
   },
   {
    "duration": 6,
    "start_time": "2024-08-15T09:55:19.254Z"
   },
   {
    "duration": 7,
    "start_time": "2024-08-15T09:56:11.388Z"
   },
   {
    "duration": 6,
    "start_time": "2024-08-15T09:59:54.469Z"
   },
   {
    "duration": 5,
    "start_time": "2024-08-15T10:00:05.992Z"
   },
   {
    "duration": 7,
    "start_time": "2024-08-15T10:00:15.404Z"
   },
   {
    "duration": 5,
    "start_time": "2024-08-15T10:00:20.540Z"
   },
   {
    "duration": 6,
    "start_time": "2024-08-15T10:00:27.023Z"
   },
   {
    "duration": 5,
    "start_time": "2024-08-15T10:00:32.282Z"
   },
   {
    "duration": 5,
    "start_time": "2024-08-15T10:00:38.456Z"
   },
   {
    "duration": 5,
    "start_time": "2024-08-15T10:00:43.633Z"
   },
   {
    "duration": 6,
    "start_time": "2024-08-15T10:00:48.580Z"
   },
   {
    "duration": 6,
    "start_time": "2024-08-15T10:00:53.330Z"
   },
   {
    "duration": 5,
    "start_time": "2024-08-15T10:00:58.477Z"
   },
   {
    "duration": 6,
    "start_time": "2024-08-15T10:01:03.093Z"
   },
   {
    "duration": 5,
    "start_time": "2024-08-15T10:01:07.549Z"
   },
   {
    "duration": 6,
    "start_time": "2024-08-15T10:01:12.149Z"
   },
   {
    "duration": 6,
    "start_time": "2024-08-15T10:01:18.679Z"
   },
   {
    "duration": 6,
    "start_time": "2024-08-15T10:01:25.841Z"
   },
   {
    "duration": 6,
    "start_time": "2024-08-15T10:01:30.498Z"
   },
   {
    "duration": 5,
    "start_time": "2024-08-15T10:01:35.178Z"
   },
   {
    "duration": 7,
    "start_time": "2024-08-15T10:01:42.340Z"
   },
   {
    "duration": 5,
    "start_time": "2024-08-15T10:01:47.828Z"
   },
   {
    "duration": 6,
    "start_time": "2024-08-15T10:01:56.999Z"
   },
   {
    "duration": 1519,
    "start_time": "2024-08-16T14:54:20.868Z"
   },
   {
    "duration": 299,
    "start_time": "2024-08-16T14:54:22.390Z"
   },
   {
    "duration": 4,
    "start_time": "2024-08-16T14:54:22.690Z"
   },
   {
    "duration": 28,
    "start_time": "2024-08-16T14:54:22.696Z"
   },
   {
    "duration": 24,
    "start_time": "2024-08-16T14:54:22.726Z"
   },
   {
    "duration": 40,
    "start_time": "2024-08-16T14:54:22.752Z"
   },
   {
    "duration": 12,
    "start_time": "2024-08-16T14:54:22.794Z"
   },
   {
    "duration": 20,
    "start_time": "2024-08-16T14:54:22.808Z"
   },
   {
    "duration": 26,
    "start_time": "2024-08-16T14:54:22.864Z"
   },
   {
    "duration": 5,
    "start_time": "2024-08-16T14:54:22.894Z"
   },
   {
    "duration": 16,
    "start_time": "2024-08-16T14:54:22.901Z"
   },
   {
    "duration": 2090,
    "start_time": "2024-08-16T14:54:22.919Z"
   },
   {
    "duration": 6,
    "start_time": "2024-08-16T14:54:25.010Z"
   },
   {
    "duration": 17,
    "start_time": "2024-08-16T14:54:25.017Z"
   },
   {
    "duration": 35,
    "start_time": "2024-08-16T14:54:25.036Z"
   },
   {
    "duration": 261,
    "start_time": "2024-08-16T14:54:25.072Z"
   },
   {
    "duration": 201,
    "start_time": "2024-08-16T14:54:25.335Z"
   },
   {
    "duration": 9,
    "start_time": "2024-08-16T14:54:25.538Z"
   },
   {
    "duration": 251,
    "start_time": "2024-08-16T14:54:25.549Z"
   },
   {
    "duration": 135,
    "start_time": "2024-08-16T14:54:25.802Z"
   },
   {
    "duration": 11,
    "start_time": "2024-08-16T14:54:25.938Z"
   },
   {
    "duration": 225,
    "start_time": "2024-08-16T14:54:25.951Z"
   },
   {
    "duration": 134,
    "start_time": "2024-08-16T14:54:26.178Z"
   },
   {
    "duration": 69,
    "start_time": "2024-08-16T14:54:26.314Z"
   },
   {
    "duration": 37,
    "start_time": "2024-08-16T14:54:26.384Z"
   },
   {
    "duration": 70,
    "start_time": "2024-08-16T14:54:26.423Z"
   },
   {
    "duration": 6,
    "start_time": "2024-08-16T14:54:26.495Z"
   },
   {
    "duration": 21,
    "start_time": "2024-08-16T14:54:26.504Z"
   },
   {
    "duration": 215,
    "start_time": "2024-08-16T14:54:26.526Z"
   },
   {
    "duration": 5,
    "start_time": "2024-08-16T14:54:26.743Z"
   },
   {
    "duration": 22,
    "start_time": "2024-08-16T14:54:26.749Z"
   },
   {
    "duration": 195,
    "start_time": "2024-08-16T14:54:26.772Z"
   },
   {
    "duration": 21,
    "start_time": "2024-08-16T14:54:26.969Z"
   },
   {
    "duration": 245,
    "start_time": "2024-08-16T14:54:26.992Z"
   },
   {
    "duration": 5,
    "start_time": "2024-08-16T14:54:27.239Z"
   },
   {
    "duration": 28,
    "start_time": "2024-08-16T14:54:27.246Z"
   },
   {
    "duration": 187,
    "start_time": "2024-08-16T14:54:27.276Z"
   },
   {
    "duration": 28,
    "start_time": "2024-08-16T14:54:27.465Z"
   },
   {
    "duration": 3,
    "start_time": "2024-08-16T14:54:27.495Z"
   },
   {
    "duration": 235,
    "start_time": "2024-08-16T14:54:27.500Z"
   },
   {
    "duration": 28,
    "start_time": "2024-08-16T14:54:27.737Z"
   },
   {
    "duration": 250,
    "start_time": "2024-08-16T14:54:27.767Z"
   },
   {
    "duration": 8,
    "start_time": "2024-08-16T14:54:28.019Z"
   },
   {
    "duration": 6,
    "start_time": "2024-08-16T14:54:28.028Z"
   },
   {
    "duration": 31,
    "start_time": "2024-08-16T14:54:28.035Z"
   },
   {
    "duration": 191,
    "start_time": "2024-08-16T14:54:28.067Z"
   },
   {
    "duration": 167,
    "start_time": "2024-08-16T14:54:28.260Z"
   },
   {
    "duration": 6,
    "start_time": "2024-08-16T14:54:28.429Z"
   },
   {
    "duration": 199,
    "start_time": "2024-08-16T14:54:28.437Z"
   },
   {
    "duration": 7,
    "start_time": "2024-08-16T14:54:28.637Z"
   },
   {
    "duration": 1385,
    "start_time": "2024-09-20T11:13:52.634Z"
   },
   {
    "duration": 370,
    "start_time": "2024-09-20T11:13:54.021Z"
   },
   {
    "duration": 4,
    "start_time": "2024-09-20T11:13:54.393Z"
   },
   {
    "duration": 27,
    "start_time": "2024-09-20T11:13:54.399Z"
   },
   {
    "duration": 26,
    "start_time": "2024-09-20T11:13:54.428Z"
   },
   {
    "duration": 27,
    "start_time": "2024-09-20T11:13:54.455Z"
   },
   {
    "duration": 46,
    "start_time": "2024-09-20T11:13:54.484Z"
   },
   {
    "duration": 20,
    "start_time": "2024-09-20T11:13:54.531Z"
   },
   {
    "duration": 22,
    "start_time": "2024-09-20T11:13:54.552Z"
   },
   {
    "duration": 4,
    "start_time": "2024-09-20T11:13:54.578Z"
   },
   {
    "duration": 51,
    "start_time": "2024-09-20T11:13:54.584Z"
   },
   {
    "duration": 394,
    "start_time": "2024-09-20T11:13:54.636Z"
   },
   {
    "duration": 6,
    "start_time": "2024-09-20T11:13:55.032Z"
   },
   {
    "duration": 22,
    "start_time": "2024-09-20T11:13:55.040Z"
   },
   {
    "duration": 8,
    "start_time": "2024-09-20T11:13:55.064Z"
   },
   {
    "duration": 274,
    "start_time": "2024-09-20T11:13:55.125Z"
   },
   {
    "duration": 201,
    "start_time": "2024-09-20T11:13:55.400Z"
   },
   {
    "duration": 7,
    "start_time": "2024-09-20T11:13:55.603Z"
   },
   {
    "duration": 256,
    "start_time": "2024-09-20T11:13:55.612Z"
   },
   {
    "duration": 128,
    "start_time": "2024-09-20T11:13:55.869Z"
   },
   {
    "duration": 8,
    "start_time": "2024-09-20T11:13:55.999Z"
   },
   {
    "duration": 274,
    "start_time": "2024-09-20T11:13:56.008Z"
   },
   {
    "duration": 181,
    "start_time": "2024-09-20T11:13:56.283Z"
   },
   {
    "duration": 74,
    "start_time": "2024-09-20T11:13:56.465Z"
   },
   {
    "duration": 36,
    "start_time": "2024-09-20T11:13:56.541Z"
   },
   {
    "duration": 62,
    "start_time": "2024-09-20T11:13:56.578Z"
   },
   {
    "duration": 6,
    "start_time": "2024-09-20T11:13:56.642Z"
   },
   {
    "duration": 21,
    "start_time": "2024-09-20T11:13:56.651Z"
   },
   {
    "duration": 193,
    "start_time": "2024-09-20T11:13:56.674Z"
   },
   {
    "duration": 5,
    "start_time": "2024-09-20T11:13:56.869Z"
   },
   {
    "duration": 5,
    "start_time": "2024-09-20T11:13:56.876Z"
   },
   {
    "duration": 205,
    "start_time": "2024-09-20T11:13:56.883Z"
   },
   {
    "duration": 23,
    "start_time": "2024-09-20T11:13:57.089Z"
   },
   {
    "duration": 242,
    "start_time": "2024-09-20T11:13:57.126Z"
   },
   {
    "duration": 5,
    "start_time": "2024-09-20T11:13:57.370Z"
   },
   {
    "duration": 18,
    "start_time": "2024-09-20T11:13:57.376Z"
   },
   {
    "duration": 183,
    "start_time": "2024-09-20T11:13:57.396Z"
   },
   {
    "duration": 28,
    "start_time": "2024-09-20T11:13:57.581Z"
   },
   {
    "duration": 15,
    "start_time": "2024-09-20T11:13:57.611Z"
   },
   {
    "duration": 220,
    "start_time": "2024-09-20T11:13:57.628Z"
   },
   {
    "duration": 17,
    "start_time": "2024-09-20T11:13:57.850Z"
   },
   {
    "duration": 231,
    "start_time": "2024-09-20T11:13:57.869Z"
   },
   {
    "duration": 7,
    "start_time": "2024-09-20T11:13:58.102Z"
   },
   {
    "duration": 6,
    "start_time": "2024-09-20T11:13:58.125Z"
   },
   {
    "duration": 12,
    "start_time": "2024-09-20T11:13:58.133Z"
   },
   {
    "duration": 180,
    "start_time": "2024-09-20T11:13:58.147Z"
   },
   {
    "duration": 169,
    "start_time": "2024-09-20T11:13:58.329Z"
   },
   {
    "duration": 7,
    "start_time": "2024-09-20T11:13:58.499Z"
   },
   {
    "duration": 197,
    "start_time": "2024-09-20T11:13:58.507Z"
   },
   {
    "duration": 6,
    "start_time": "2024-09-20T11:13:58.705Z"
   },
   {
    "duration": 1387,
    "start_time": "2024-09-22T13:13:50.986Z"
   },
   {
    "duration": 357,
    "start_time": "2024-09-22T13:13:52.375Z"
   },
   {
    "duration": 4,
    "start_time": "2024-09-22T13:13:52.733Z"
   },
   {
    "duration": 44,
    "start_time": "2024-09-22T13:13:52.738Z"
   },
   {
    "duration": 31,
    "start_time": "2024-09-22T13:13:52.783Z"
   },
   {
    "duration": 31,
    "start_time": "2024-09-22T13:13:52.815Z"
   },
   {
    "duration": 15,
    "start_time": "2024-09-22T13:13:52.848Z"
   },
   {
    "duration": 27,
    "start_time": "2024-09-22T13:13:52.864Z"
   },
   {
    "duration": 52,
    "start_time": "2024-09-22T13:13:52.893Z"
   },
   {
    "duration": 5,
    "start_time": "2024-09-22T13:13:52.950Z"
   },
   {
    "duration": 48,
    "start_time": "2024-09-22T13:13:52.957Z"
   },
   {
    "duration": 392,
    "start_time": "2024-09-22T13:13:53.007Z"
   },
   {
    "duration": 6,
    "start_time": "2024-09-22T13:13:53.401Z"
   },
   {
    "duration": 18,
    "start_time": "2024-09-22T13:13:53.408Z"
   },
   {
    "duration": 11,
    "start_time": "2024-09-22T13:13:53.428Z"
   },
   {
    "duration": 328,
    "start_time": "2024-09-22T13:13:53.441Z"
   },
   {
    "duration": 214,
    "start_time": "2024-09-22T13:13:53.770Z"
   },
   {
    "duration": 8,
    "start_time": "2024-09-22T13:13:53.986Z"
   },
   {
    "duration": 242,
    "start_time": "2024-09-22T13:13:53.995Z"
   },
   {
    "duration": 131,
    "start_time": "2024-09-22T13:13:54.238Z"
   },
   {
    "duration": 11,
    "start_time": "2024-09-22T13:13:54.370Z"
   },
   {
    "duration": 262,
    "start_time": "2024-09-22T13:13:54.383Z"
   },
   {
    "duration": 137,
    "start_time": "2024-09-22T13:13:54.647Z"
   },
   {
    "duration": 74,
    "start_time": "2024-09-22T13:13:54.786Z"
   },
   {
    "duration": 57,
    "start_time": "2024-09-22T13:13:54.862Z"
   },
   {
    "duration": 46,
    "start_time": "2024-09-22T13:13:54.921Z"
   },
   {
    "duration": 7,
    "start_time": "2024-09-22T13:13:54.969Z"
   },
   {
    "duration": 59,
    "start_time": "2024-09-22T13:13:54.979Z"
   },
   {
    "duration": 202,
    "start_time": "2024-09-22T13:13:55.040Z"
   },
   {
    "duration": 7,
    "start_time": "2024-09-22T13:13:55.244Z"
   },
   {
    "duration": 6,
    "start_time": "2024-09-22T13:13:55.253Z"
   },
   {
    "duration": 273,
    "start_time": "2024-09-22T13:13:55.261Z"
   },
   {
    "duration": 21,
    "start_time": "2024-09-22T13:13:55.536Z"
   },
   {
    "duration": 295,
    "start_time": "2024-09-22T13:13:55.559Z"
   },
   {
    "duration": 6,
    "start_time": "2024-09-22T13:13:55.856Z"
   },
   {
    "duration": 7,
    "start_time": "2024-09-22T13:13:55.863Z"
   },
   {
    "duration": 216,
    "start_time": "2024-09-22T13:13:55.871Z"
   },
   {
    "duration": 37,
    "start_time": "2024-09-22T13:13:56.089Z"
   },
   {
    "duration": 4,
    "start_time": "2024-09-22T13:13:56.127Z"
   },
   {
    "duration": 271,
    "start_time": "2024-09-22T13:13:56.133Z"
   },
   {
    "duration": 21,
    "start_time": "2024-09-22T13:13:56.405Z"
   },
   {
    "duration": 246,
    "start_time": "2024-09-22T13:13:56.428Z"
   },
   {
    "duration": 7,
    "start_time": "2024-09-22T13:13:56.676Z"
   },
   {
    "duration": 5,
    "start_time": "2024-09-22T13:13:56.685Z"
   },
   {
    "duration": 40,
    "start_time": "2024-09-22T13:13:56.692Z"
   },
   {
    "duration": 202,
    "start_time": "2024-09-22T13:13:56.734Z"
   },
   {
    "duration": 167,
    "start_time": "2024-09-22T13:13:56.938Z"
   },
   {
    "duration": 13,
    "start_time": "2024-09-22T13:13:57.106Z"
   },
   {
    "duration": 209,
    "start_time": "2024-09-22T13:13:57.122Z"
   },
   {
    "duration": 9,
    "start_time": "2024-09-22T13:13:57.334Z"
   },
   {
    "duration": 1420,
    "start_time": "2024-10-10T10:42:32.957Z"
   },
   {
    "duration": 294,
    "start_time": "2024-10-10T10:42:34.379Z"
   },
   {
    "duration": 4,
    "start_time": "2024-10-10T10:42:34.675Z"
   },
   {
    "duration": 34,
    "start_time": "2024-10-10T10:42:34.681Z"
   },
   {
    "duration": 41,
    "start_time": "2024-10-10T10:42:34.716Z"
   },
   {
    "duration": 29,
    "start_time": "2024-10-10T10:42:34.759Z"
   },
   {
    "duration": 12,
    "start_time": "2024-10-10T10:42:34.789Z"
   },
   {
    "duration": 53,
    "start_time": "2024-10-10T10:42:34.802Z"
   },
   {
    "duration": 21,
    "start_time": "2024-10-10T10:42:34.857Z"
   },
   {
    "duration": 18,
    "start_time": "2024-10-10T10:42:34.880Z"
   },
   {
    "duration": 17,
    "start_time": "2024-10-10T10:42:34.900Z"
   },
   {
    "duration": 408,
    "start_time": "2024-10-10T10:42:34.918Z"
   },
   {
    "duration": 6,
    "start_time": "2024-10-10T10:42:35.328Z"
   },
   {
    "duration": 125,
    "start_time": "2024-10-10T10:42:35.335Z"
   },
   {
    "duration": 10,
    "start_time": "2024-10-10T10:42:35.462Z"
   },
   {
    "duration": 240,
    "start_time": "2024-10-10T10:42:35.474Z"
   },
   {
    "duration": 219,
    "start_time": "2024-10-10T10:42:35.717Z"
   },
   {
    "duration": 18,
    "start_time": "2024-10-10T10:42:35.938Z"
   },
   {
    "duration": 242,
    "start_time": "2024-10-10T10:42:35.958Z"
   },
   {
    "duration": 136,
    "start_time": "2024-10-10T10:42:36.202Z"
   },
   {
    "duration": 18,
    "start_time": "2024-10-10T10:42:36.340Z"
   },
   {
    "duration": 223,
    "start_time": "2024-10-10T10:42:36.360Z"
   },
   {
    "duration": 136,
    "start_time": "2024-10-10T10:42:36.585Z"
   },
   {
    "duration": 71,
    "start_time": "2024-10-10T10:42:36.723Z"
   },
   {
    "duration": 65,
    "start_time": "2024-10-10T10:42:36.796Z"
   },
   {
    "duration": 44,
    "start_time": "2024-10-10T10:42:36.863Z"
   },
   {
    "duration": 13,
    "start_time": "2024-10-10T10:42:36.909Z"
   },
   {
    "duration": 36,
    "start_time": "2024-10-10T10:42:36.956Z"
   },
   {
    "duration": 212,
    "start_time": "2024-10-10T10:42:36.995Z"
   },
   {
    "duration": 6,
    "start_time": "2024-10-10T10:42:37.208Z"
   },
   {
    "duration": 7,
    "start_time": "2024-10-10T10:42:37.216Z"
   },
   {
    "duration": 214,
    "start_time": "2024-10-10T10:42:37.224Z"
   },
   {
    "duration": 30,
    "start_time": "2024-10-10T10:42:37.440Z"
   },
   {
    "duration": 284,
    "start_time": "2024-10-10T10:42:37.472Z"
   },
   {
    "duration": 5,
    "start_time": "2024-10-10T10:42:37.757Z"
   },
   {
    "duration": 54,
    "start_time": "2024-10-10T10:42:37.764Z"
   },
   {
    "duration": 168,
    "start_time": "2024-10-10T10:42:37.819Z"
   },
   {
    "duration": 33,
    "start_time": "2024-10-10T10:42:37.989Z"
   },
   {
    "duration": 4,
    "start_time": "2024-10-10T10:42:38.023Z"
   },
   {
    "duration": 241,
    "start_time": "2024-10-10T10:42:38.028Z"
   },
   {
    "duration": 19,
    "start_time": "2024-10-10T10:42:38.271Z"
   },
   {
    "duration": 247,
    "start_time": "2024-10-10T10:42:38.291Z"
   },
   {
    "duration": 16,
    "start_time": "2024-10-10T10:42:38.540Z"
   },
   {
    "duration": 8,
    "start_time": "2024-10-10T10:42:38.558Z"
   },
   {
    "duration": 26,
    "start_time": "2024-10-10T10:42:38.568Z"
   },
   {
    "duration": 186,
    "start_time": "2024-10-10T10:42:38.596Z"
   },
   {
    "duration": 181,
    "start_time": "2024-10-10T10:42:38.784Z"
   },
   {
    "duration": 7,
    "start_time": "2024-10-10T10:42:38.967Z"
   },
   {
    "duration": 186,
    "start_time": "2024-10-10T10:42:38.976Z"
   },
   {
    "duration": 7,
    "start_time": "2024-10-10T10:42:39.163Z"
   },
   {
    "duration": 1360,
    "start_time": "2024-10-15T12:10:08.747Z"
   },
   {
    "duration": 268,
    "start_time": "2024-10-15T12:10:10.109Z"
   },
   {
    "duration": 4,
    "start_time": "2024-10-15T12:10:10.379Z"
   },
   {
    "duration": 88,
    "start_time": "2024-10-15T12:10:10.386Z"
   },
   {
    "duration": 49,
    "start_time": "2024-10-15T12:10:10.475Z"
   },
   {
    "duration": 51,
    "start_time": "2024-10-15T12:10:10.526Z"
   },
   {
    "duration": 11,
    "start_time": "2024-10-15T12:10:10.579Z"
   },
   {
    "duration": 27,
    "start_time": "2024-10-15T12:10:10.592Z"
   },
   {
    "duration": 70,
    "start_time": "2024-10-15T12:10:10.620Z"
   },
   {
    "duration": 25,
    "start_time": "2024-10-15T12:10:10.692Z"
   },
   {
    "duration": 49,
    "start_time": "2024-10-15T12:10:10.719Z"
   },
   {
    "duration": 409,
    "start_time": "2024-10-15T12:10:10.771Z"
   },
   {
    "duration": 6,
    "start_time": "2024-10-15T12:10:11.182Z"
   },
   {
    "duration": 20,
    "start_time": "2024-10-15T12:10:11.190Z"
   },
   {
    "duration": 31,
    "start_time": "2024-10-15T12:10:11.211Z"
   },
   {
    "duration": 333,
    "start_time": "2024-10-15T12:10:11.244Z"
   },
   {
    "duration": 217,
    "start_time": "2024-10-15T12:10:11.579Z"
   },
   {
    "duration": 9,
    "start_time": "2024-10-15T12:10:11.798Z"
   },
   {
    "duration": 242,
    "start_time": "2024-10-15T12:10:11.808Z"
   },
   {
    "duration": 134,
    "start_time": "2024-10-15T12:10:12.051Z"
   },
   {
    "duration": 9,
    "start_time": "2024-10-15T12:10:12.186Z"
   },
   {
    "duration": 249,
    "start_time": "2024-10-15T12:10:12.197Z"
   },
   {
    "duration": 133,
    "start_time": "2024-10-15T12:10:12.448Z"
   },
   {
    "duration": 69,
    "start_time": "2024-10-15T12:10:12.582Z"
   },
   {
    "duration": 34,
    "start_time": "2024-10-15T12:10:12.652Z"
   },
   {
    "duration": 81,
    "start_time": "2024-10-15T12:10:12.688Z"
   },
   {
    "duration": 8,
    "start_time": "2024-10-15T12:10:12.772Z"
   },
   {
    "duration": 58,
    "start_time": "2024-10-15T12:10:12.786Z"
   },
   {
    "duration": 200,
    "start_time": "2024-10-15T12:10:12.847Z"
   },
   {
    "duration": 5,
    "start_time": "2024-10-15T12:10:13.049Z"
   },
   {
    "duration": 20,
    "start_time": "2024-10-15T12:10:13.056Z"
   },
   {
    "duration": 225,
    "start_time": "2024-10-15T12:10:13.078Z"
   },
   {
    "duration": 20,
    "start_time": "2024-10-15T12:10:13.305Z"
   },
   {
    "duration": 241,
    "start_time": "2024-10-15T12:10:13.327Z"
   },
   {
    "duration": 6,
    "start_time": "2024-10-15T12:10:13.569Z"
   },
   {
    "duration": 20,
    "start_time": "2024-10-15T12:10:13.576Z"
   },
   {
    "duration": 172,
    "start_time": "2024-10-15T12:10:13.598Z"
   },
   {
    "duration": 28,
    "start_time": "2024-10-15T12:10:13.771Z"
   },
   {
    "duration": 4,
    "start_time": "2024-10-15T12:10:13.801Z"
   },
   {
    "duration": 265,
    "start_time": "2024-10-15T12:10:13.806Z"
   },
   {
    "duration": 18,
    "start_time": "2024-10-15T12:10:14.073Z"
   },
   {
    "duration": 231,
    "start_time": "2024-10-15T12:10:14.093Z"
   },
   {
    "duration": 17,
    "start_time": "2024-10-15T12:10:14.326Z"
   },
   {
    "duration": 7,
    "start_time": "2024-10-15T12:10:14.345Z"
   },
   {
    "duration": 20,
    "start_time": "2024-10-15T12:10:14.354Z"
   },
   {
    "duration": 183,
    "start_time": "2024-10-15T12:10:14.375Z"
   },
   {
    "duration": 164,
    "start_time": "2024-10-15T12:10:14.559Z"
   },
   {
    "duration": 8,
    "start_time": "2024-10-15T12:10:14.726Z"
   },
   {
    "duration": 202,
    "start_time": "2024-10-15T12:10:14.743Z"
   },
   {
    "duration": 8,
    "start_time": "2024-10-15T12:10:14.947Z"
   },
   {
    "duration": 1322,
    "start_time": "2024-10-18T10:26:30.764Z"
   },
   {
    "duration": 291,
    "start_time": "2024-10-18T10:26:32.088Z"
   },
   {
    "duration": 4,
    "start_time": "2024-10-18T10:26:32.380Z"
   },
   {
    "duration": 56,
    "start_time": "2024-10-18T10:26:32.386Z"
   },
   {
    "duration": 26,
    "start_time": "2024-10-18T10:26:32.444Z"
   },
   {
    "duration": 37,
    "start_time": "2024-10-18T10:26:32.472Z"
   },
   {
    "duration": 37,
    "start_time": "2024-10-18T10:26:32.511Z"
   },
   {
    "duration": 20,
    "start_time": "2024-10-18T10:26:32.550Z"
   },
   {
    "duration": 41,
    "start_time": "2024-10-18T10:26:32.572Z"
   },
   {
    "duration": 32,
    "start_time": "2024-10-18T10:26:32.616Z"
   },
   {
    "duration": 20,
    "start_time": "2024-10-18T10:26:32.650Z"
   },
   {
    "duration": 408,
    "start_time": "2024-10-18T10:26:32.671Z"
   },
   {
    "duration": 6,
    "start_time": "2024-10-18T10:26:33.081Z"
   },
   {
    "duration": 60,
    "start_time": "2024-10-18T10:26:33.089Z"
   },
   {
    "duration": 33,
    "start_time": "2024-10-18T10:26:33.150Z"
   },
   {
    "duration": 230,
    "start_time": "2024-10-18T10:26:33.185Z"
   },
   {
    "duration": 198,
    "start_time": "2024-10-18T10:26:33.417Z"
   },
   {
    "duration": 10,
    "start_time": "2024-10-18T10:26:33.616Z"
   },
   {
    "duration": 251,
    "start_time": "2024-10-18T10:26:33.628Z"
   },
   {
    "duration": 131,
    "start_time": "2024-10-18T10:26:33.881Z"
   },
   {
    "duration": 8,
    "start_time": "2024-10-18T10:26:34.014Z"
   },
   {
    "duration": 205,
    "start_time": "2024-10-18T10:26:34.024Z"
   },
   {
    "duration": 135,
    "start_time": "2024-10-18T10:26:34.231Z"
   },
   {
    "duration": 51,
    "start_time": "2024-10-18T10:26:34.368Z"
   },
   {
    "duration": 54,
    "start_time": "2024-10-18T10:26:34.421Z"
   },
   {
    "duration": 36,
    "start_time": "2024-10-18T10:26:34.477Z"
   },
   {
    "duration": 33,
    "start_time": "2024-10-18T10:26:34.514Z"
   },
   {
    "duration": 23,
    "start_time": "2024-10-18T10:26:34.551Z"
   },
   {
    "duration": 181,
    "start_time": "2024-10-18T10:26:34.575Z"
   },
   {
    "duration": 6,
    "start_time": "2024-10-18T10:26:34.758Z"
   },
   {
    "duration": 22,
    "start_time": "2024-10-18T10:26:34.767Z"
   },
   {
    "duration": 214,
    "start_time": "2024-10-18T10:26:34.791Z"
   },
   {
    "duration": 23,
    "start_time": "2024-10-18T10:26:35.007Z"
   },
   {
    "duration": 249,
    "start_time": "2024-10-18T10:26:35.042Z"
   },
   {
    "duration": 6,
    "start_time": "2024-10-18T10:26:35.293Z"
   },
   {
    "duration": 45,
    "start_time": "2024-10-18T10:26:35.301Z"
   },
   {
    "duration": 173,
    "start_time": "2024-10-18T10:26:35.348Z"
   },
   {
    "duration": 37,
    "start_time": "2024-10-18T10:26:35.524Z"
   },
   {
    "duration": 4,
    "start_time": "2024-10-18T10:26:35.563Z"
   },
   {
    "duration": 253,
    "start_time": "2024-10-18T10:26:35.569Z"
   },
   {
    "duration": 19,
    "start_time": "2024-10-18T10:26:35.824Z"
   },
   {
    "duration": 228,
    "start_time": "2024-10-18T10:26:35.845Z"
   },
   {
    "duration": 6,
    "start_time": "2024-10-18T10:26:36.075Z"
   },
   {
    "duration": 58,
    "start_time": "2024-10-18T10:26:36.082Z"
   },
   {
    "duration": 58,
    "start_time": "2024-10-18T10:26:36.142Z"
   },
   {
    "duration": 355,
    "start_time": "2024-10-18T10:26:36.201Z"
   },
   {
    "duration": 160,
    "start_time": "2024-10-18T10:26:36.558Z"
   },
   {
    "duration": 6,
    "start_time": "2024-10-18T10:26:36.720Z"
   },
   {
    "duration": 206,
    "start_time": "2024-10-18T10:26:36.728Z"
   },
   {
    "duration": 8,
    "start_time": "2024-10-18T10:26:36.936Z"
   },
   {
    "duration": 1432,
    "start_time": "2024-10-24T10:05:27.357Z"
   },
   {
    "duration": 356,
    "start_time": "2024-10-24T10:05:28.790Z"
   },
   {
    "duration": 5,
    "start_time": "2024-10-24T10:05:29.147Z"
   },
   {
    "duration": 91,
    "start_time": "2024-10-24T10:05:29.154Z"
   },
   {
    "duration": 27,
    "start_time": "2024-10-24T10:05:29.246Z"
   },
   {
    "duration": 70,
    "start_time": "2024-10-24T10:05:29.275Z"
   },
   {
    "duration": 73,
    "start_time": "2024-10-24T10:05:29.347Z"
   },
   {
    "duration": 19,
    "start_time": "2024-10-24T10:05:29.422Z"
   },
   {
    "duration": 35,
    "start_time": "2024-10-24T10:05:29.443Z"
   },
   {
    "duration": 5,
    "start_time": "2024-10-24T10:05:29.482Z"
   },
   {
    "duration": 43,
    "start_time": "2024-10-24T10:05:29.489Z"
   },
   {
    "duration": 369,
    "start_time": "2024-10-24T10:05:29.534Z"
   },
   {
    "duration": 18,
    "start_time": "2024-10-24T10:05:29.905Z"
   },
   {
    "duration": 15,
    "start_time": "2024-10-24T10:05:29.925Z"
   },
   {
    "duration": 8,
    "start_time": "2024-10-24T10:05:29.942Z"
   },
   {
    "duration": 372,
    "start_time": "2024-10-24T10:05:29.951Z"
   },
   {
    "duration": 213,
    "start_time": "2024-10-24T10:05:30.325Z"
   },
   {
    "duration": 9,
    "start_time": "2024-10-24T10:05:30.540Z"
   },
   {
    "duration": 247,
    "start_time": "2024-10-24T10:05:30.550Z"
   },
   {
    "duration": 133,
    "start_time": "2024-10-24T10:05:30.798Z"
   },
   {
    "duration": 8,
    "start_time": "2024-10-24T10:05:30.932Z"
   },
   {
    "duration": 216,
    "start_time": "2024-10-24T10:05:30.942Z"
   },
   {
    "duration": 135,
    "start_time": "2024-10-24T10:05:31.159Z"
   },
   {
    "duration": 63,
    "start_time": "2024-10-24T10:05:31.296Z"
   },
   {
    "duration": 103,
    "start_time": "2024-10-24T10:05:31.361Z"
   },
   {
    "duration": 55,
    "start_time": "2024-10-24T10:05:31.466Z"
   },
   {
    "duration": 6,
    "start_time": "2024-10-24T10:05:31.522Z"
   },
   {
    "duration": 76,
    "start_time": "2024-10-24T10:05:31.532Z"
   },
   {
    "duration": 167,
    "start_time": "2024-10-24T10:05:31.610Z"
   },
   {
    "duration": 6,
    "start_time": "2024-10-24T10:05:31.779Z"
   },
   {
    "duration": 7,
    "start_time": "2024-10-24T10:05:31.786Z"
   },
   {
    "duration": 231,
    "start_time": "2024-10-24T10:05:31.795Z"
   },
   {
    "duration": 21,
    "start_time": "2024-10-24T10:05:32.027Z"
   },
   {
    "duration": 248,
    "start_time": "2024-10-24T10:05:32.050Z"
   },
   {
    "duration": 5,
    "start_time": "2024-10-24T10:05:32.300Z"
   },
   {
    "duration": 92,
    "start_time": "2024-10-24T10:05:32.306Z"
   },
   {
    "duration": 154,
    "start_time": "2024-10-24T10:05:32.399Z"
   },
   {
    "duration": 33,
    "start_time": "2024-10-24T10:05:32.556Z"
   },
   {
    "duration": 3,
    "start_time": "2024-10-24T10:05:32.591Z"
   },
   {
    "duration": 234,
    "start_time": "2024-10-24T10:05:32.596Z"
   },
   {
    "duration": 17,
    "start_time": "2024-10-24T10:05:32.831Z"
   },
   {
    "duration": 240,
    "start_time": "2024-10-24T10:05:32.850Z"
   },
   {
    "duration": 7,
    "start_time": "2024-10-24T10:05:33.092Z"
   },
   {
    "duration": 6,
    "start_time": "2024-10-24T10:05:33.120Z"
   },
   {
    "duration": 12,
    "start_time": "2024-10-24T10:05:33.128Z"
   },
   {
    "duration": 167,
    "start_time": "2024-10-24T10:05:33.142Z"
   },
   {
    "duration": 169,
    "start_time": "2024-10-24T10:05:33.311Z"
   },
   {
    "duration": 8,
    "start_time": "2024-10-24T10:05:33.482Z"
   },
   {
    "duration": 177,
    "start_time": "2024-10-24T10:05:33.492Z"
   },
   {
    "duration": 8,
    "start_time": "2024-10-24T10:05:33.671Z"
   },
   {
    "duration": 1148,
    "start_time": "2024-12-17T09:05:11.408Z"
   },
   {
    "duration": 298,
    "start_time": "2024-12-17T09:05:12.558Z"
   },
   {
    "duration": 3,
    "start_time": "2024-12-17T09:05:12.858Z"
   },
   {
    "duration": 40,
    "start_time": "2024-12-17T09:05:12.864Z"
   },
   {
    "duration": 24,
    "start_time": "2024-12-17T09:05:12.905Z"
   },
   {
    "duration": 62,
    "start_time": "2024-12-17T09:05:12.931Z"
   },
   {
    "duration": 10,
    "start_time": "2024-12-17T09:05:12.995Z"
   },
   {
    "duration": 35,
    "start_time": "2024-12-17T09:05:13.006Z"
   },
   {
    "duration": 25,
    "start_time": "2024-12-17T09:05:13.043Z"
   },
   {
    "duration": 4,
    "start_time": "2024-12-17T09:05:13.071Z"
   },
   {
    "duration": 20,
    "start_time": "2024-12-17T09:05:13.076Z"
   },
   {
    "duration": 351,
    "start_time": "2024-12-17T09:05:13.097Z"
   },
   {
    "duration": 5,
    "start_time": "2024-12-17T09:05:13.450Z"
   },
   {
    "duration": 30,
    "start_time": "2024-12-17T09:05:13.456Z"
   },
   {
    "duration": 7,
    "start_time": "2024-12-17T09:05:13.488Z"
   },
   {
    "duration": 248,
    "start_time": "2024-12-17T09:05:13.496Z"
   },
   {
    "duration": 169,
    "start_time": "2024-12-17T09:05:13.745Z"
   },
   {
    "duration": 7,
    "start_time": "2024-12-17T09:05:13.916Z"
   },
   {
    "duration": 209,
    "start_time": "2024-12-17T09:05:13.924Z"
   },
   {
    "duration": 123,
    "start_time": "2024-12-17T09:05:14.135Z"
   },
   {
    "duration": 8,
    "start_time": "2024-12-17T09:05:14.260Z"
   },
   {
    "duration": 266,
    "start_time": "2024-12-17T09:05:14.269Z"
   },
   {
    "duration": 127,
    "start_time": "2024-12-17T09:05:14.536Z"
   },
   {
    "duration": 53,
    "start_time": "2024-12-17T09:05:14.665Z"
   },
   {
    "duration": 32,
    "start_time": "2024-12-17T09:05:14.720Z"
   },
   {
    "duration": 57,
    "start_time": "2024-12-17T09:05:14.753Z"
   },
   {
    "duration": 5,
    "start_time": "2024-12-17T09:05:14.812Z"
   },
   {
    "duration": 21,
    "start_time": "2024-12-17T09:05:14.820Z"
   },
   {
    "duration": 173,
    "start_time": "2024-12-17T09:05:14.843Z"
   },
   {
    "duration": 5,
    "start_time": "2024-12-17T09:05:15.017Z"
   },
   {
    "duration": 36,
    "start_time": "2024-12-17T09:05:15.024Z"
   },
   {
    "duration": 178,
    "start_time": "2024-12-17T09:05:15.061Z"
   },
   {
    "duration": 63,
    "start_time": "2024-12-17T09:05:15.241Z"
   },
   {
    "duration": 425,
    "start_time": "2024-12-17T09:05:15.305Z"
   },
   {
    "duration": 5,
    "start_time": "2024-12-17T09:05:15.732Z"
   },
   {
    "duration": 13,
    "start_time": "2024-12-17T09:05:15.739Z"
   },
   {
    "duration": 210,
    "start_time": "2024-12-17T09:05:15.754Z"
   },
   {
    "duration": 34,
    "start_time": "2024-12-17T09:05:15.965Z"
   },
   {
    "duration": 4,
    "start_time": "2024-12-17T09:05:16.000Z"
   },
   {
    "duration": 192,
    "start_time": "2024-12-17T09:05:16.005Z"
   },
   {
    "duration": 15,
    "start_time": "2024-12-17T09:05:16.199Z"
   },
   {
    "duration": 208,
    "start_time": "2024-12-17T09:05:16.215Z"
   },
   {
    "duration": 8,
    "start_time": "2024-12-17T09:05:16.424Z"
   },
   {
    "duration": 12,
    "start_time": "2024-12-17T09:05:16.434Z"
   },
   {
    "duration": 22,
    "start_time": "2024-12-17T09:05:16.448Z"
   },
   {
    "duration": 170,
    "start_time": "2024-12-17T09:05:16.471Z"
   },
   {
    "duration": 153,
    "start_time": "2024-12-17T09:05:16.643Z"
   },
   {
    "duration": 6,
    "start_time": "2024-12-17T09:05:16.798Z"
   },
   {
    "duration": 223,
    "start_time": "2024-12-17T09:05:16.806Z"
   },
   {
    "duration": 6,
    "start_time": "2024-12-17T09:05:17.031Z"
   }
  ],
  "kernelspec": {
   "display_name": "Python 3 (ipykernel)",
   "language": "python",
   "name": "python3"
  },
  "language_info": {
   "codemirror_mode": {
    "name": "ipython",
    "version": 3
   },
   "file_extension": ".py",
   "mimetype": "text/x-python",
   "name": "python",
   "nbconvert_exporter": "python",
   "pygments_lexer": "ipython3",
   "version": "3.11.5"
  },
  "toc": {
   "base_numbering": 1,
   "nav_menu": {
    "height": "283px",
    "width": "466px"
   },
   "number_sections": true,
   "sideBar": true,
   "skip_h1_title": true,
   "title_cell": "Table of Contents",
   "title_sidebar": "Contents",
   "toc_cell": false,
   "toc_position": {},
   "toc_section_display": true,
   "toc_window_display": false
  }
 },
 "nbformat": 4,
 "nbformat_minor": 5
}
