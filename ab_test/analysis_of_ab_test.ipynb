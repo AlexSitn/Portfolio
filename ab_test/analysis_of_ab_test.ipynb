{
 "cells": [
  {
   "cell_type": "markdown",
   "metadata": {},
   "source": [
    "# Анализ результатов A/B-теста"
   ]
  },
  {
   "cell_type": "markdown",
   "metadata": {},
   "source": [
    "## Цель и ход исследования."
   ]
  },
  {
   "cell_type": "markdown",
   "metadata": {},
   "source": [
    "**Цели исследования:**\n",
    "1. Приоритизировать гипотезы.\n",
    "2. Проанализировать, как изменения, применённые при проведении A/B-теста, повлияли на среднее количество заказов, средний чек и выручку.\n",
    "\n",
    "**Ход исследования:**\n",
    "  \n",
    "  Мы получили данные о пользователях по результатам проведения A/B-теста. О качестве данных ничего не известно. Поэтому перед тем, как приступить к целям исследования, понадобится обзор данных.\n",
    "  \n",
    "  Мы проверим данные на наличие пропусков и дубликатов и приведём столбцы к необходимым типам данных.\n",
    "  \n",
    "  Таким образом, наше исследование будет состоять из семи этапов:\n",
    "  - Обзор и предобработка данных.\n",
    "  - Приоритизация гипотез фреймворками ICE и RICE.\n",
    "  - Подготовка(агрегация) данных.\n",
    "  - Построение графиков по кумулятивным метрикам: выручке, среднему чеку, среднему количеству заказов  .\n",
    "  - Определение статистической значимости различий в среднем количестве заказов по группам по \"сырым\" и \"очищенным\" данным\n",
    "  - Определение статистической значимости различий в среднем чеке по группам по \"сырым\" и \"очищенным\" данным .\n",
    "  - Формулирование выводов и рекомендаций."
   ]
  },
  {
   "cell_type": "markdown",
   "metadata": {},
   "source": [
    "## Загрузка библиотек"
   ]
  },
  {
   "cell_type": "code",
   "execution_count": 1,
   "metadata": {},
   "outputs": [],
   "source": [
    "import pandas as pd\n",
    "import scipy.stats as stats\n",
    "import datetime as dt\n",
    "import numpy as np\n",
    "import matplotlib.pyplot as plt"
   ]
  },
  {
   "cell_type": "markdown",
   "metadata": {},
   "source": [
    "## Приоритизация гипотез"
   ]
  },
  {
   "cell_type": "markdown",
   "metadata": {},
   "source": [
    "### Загрузка данных и зкамоство с данными"
   ]
  },
  {
   "cell_type": "code",
   "execution_count": 2,
   "metadata": {},
   "outputs": [],
   "source": [
    " hypothesis= pd.read_csv('/datasets/hypothesis.csv', sep=',')"
   ]
  },
  {
   "cell_type": "code",
   "execution_count": 3,
   "metadata": {
    "scrolled": true
   },
   "outputs": [
    {
     "data": {
      "text/html": [
       "<div>\n",
       "<style scoped>\n",
       "    .dataframe tbody tr th:only-of-type {\n",
       "        vertical-align: middle;\n",
       "    }\n",
       "\n",
       "    .dataframe tbody tr th {\n",
       "        vertical-align: top;\n",
       "    }\n",
       "\n",
       "    .dataframe thead th {\n",
       "        text-align: right;\n",
       "    }\n",
       "</style>\n",
       "<table border=\"1\" class=\"dataframe\">\n",
       "  <thead>\n",
       "    <tr style=\"text-align: right;\">\n",
       "      <th></th>\n",
       "      <th>Hypothesis</th>\n",
       "      <th>Reach</th>\n",
       "      <th>Impact</th>\n",
       "      <th>Confidence</th>\n",
       "      <th>Efforts</th>\n",
       "    </tr>\n",
       "  </thead>\n",
       "  <tbody>\n",
       "    <tr>\n",
       "      <th>0</th>\n",
       "      <td>Добавить два новых канала привлечения трафика, что позволит привлекать на 30% больше пользователей</td>\n",
       "      <td>3</td>\n",
       "      <td>10</td>\n",
       "      <td>8</td>\n",
       "      <td>6</td>\n",
       "    </tr>\n",
       "    <tr>\n",
       "      <th>1</th>\n",
       "      <td>Запустить собственную службу доставки, что сократит срок доставки заказов</td>\n",
       "      <td>2</td>\n",
       "      <td>5</td>\n",
       "      <td>4</td>\n",
       "      <td>10</td>\n",
       "    </tr>\n",
       "    <tr>\n",
       "      <th>2</th>\n",
       "      <td>Добавить блоки рекомендаций товаров на сайт интернет магазина, чтобы повысить конверсию и средний чек заказа</td>\n",
       "      <td>8</td>\n",
       "      <td>3</td>\n",
       "      <td>7</td>\n",
       "      <td>3</td>\n",
       "    </tr>\n",
       "    <tr>\n",
       "      <th>3</th>\n",
       "      <td>Изменить структура категорий, что увеличит конверсию, т.к. пользователи быстрее найдут нужный товар</td>\n",
       "      <td>8</td>\n",
       "      <td>3</td>\n",
       "      <td>3</td>\n",
       "      <td>8</td>\n",
       "    </tr>\n",
       "    <tr>\n",
       "      <th>4</th>\n",
       "      <td>Изменить цвет фона главной страницы, чтобы увеличить вовлеченность пользователей</td>\n",
       "      <td>3</td>\n",
       "      <td>1</td>\n",
       "      <td>1</td>\n",
       "      <td>1</td>\n",
       "    </tr>\n",
       "    <tr>\n",
       "      <th>5</th>\n",
       "      <td>Добавить страницу отзывов клиентов о магазине, что позволит увеличить количество заказов</td>\n",
       "      <td>3</td>\n",
       "      <td>2</td>\n",
       "      <td>2</td>\n",
       "      <td>3</td>\n",
       "    </tr>\n",
       "    <tr>\n",
       "      <th>6</th>\n",
       "      <td>Показать на главной странице баннеры с актуальными акциями и распродажами, чтобы увеличить конверсию</td>\n",
       "      <td>5</td>\n",
       "      <td>3</td>\n",
       "      <td>8</td>\n",
       "      <td>3</td>\n",
       "    </tr>\n",
       "    <tr>\n",
       "      <th>7</th>\n",
       "      <td>Добавить форму подписки на все основные страницы, чтобы собрать базу клиентов для email-рассылок</td>\n",
       "      <td>10</td>\n",
       "      <td>7</td>\n",
       "      <td>8</td>\n",
       "      <td>5</td>\n",
       "    </tr>\n",
       "    <tr>\n",
       "      <th>8</th>\n",
       "      <td>Запустить акцию, дающую скидку на товар в день рождения</td>\n",
       "      <td>1</td>\n",
       "      <td>9</td>\n",
       "      <td>9</td>\n",
       "      <td>5</td>\n",
       "    </tr>\n",
       "  </tbody>\n",
       "</table>\n",
       "</div>"
      ],
      "text/plain": [
       "                                                                                                     Hypothesis  \\\n",
       "0            Добавить два новых канала привлечения трафика, что позволит привлекать на 30% больше пользователей   \n",
       "1                                     Запустить собственную службу доставки, что сократит срок доставки заказов   \n",
       "2  Добавить блоки рекомендаций товаров на сайт интернет магазина, чтобы повысить конверсию и средний чек заказа   \n",
       "3           Изменить структура категорий, что увеличит конверсию, т.к. пользователи быстрее найдут нужный товар   \n",
       "4                              Изменить цвет фона главной страницы, чтобы увеличить вовлеченность пользователей   \n",
       "5                      Добавить страницу отзывов клиентов о магазине, что позволит увеличить количество заказов   \n",
       "6          Показать на главной странице баннеры с актуальными акциями и распродажами, чтобы увеличить конверсию   \n",
       "7              Добавить форму подписки на все основные страницы, чтобы собрать базу клиентов для email-рассылок   \n",
       "8                                                       Запустить акцию, дающую скидку на товар в день рождения   \n",
       "\n",
       "   Reach  Impact  Confidence  Efforts  \n",
       "0      3      10           8        6  \n",
       "1      2       5           4       10  \n",
       "2      8       3           7        3  \n",
       "3      8       3           3        8  \n",
       "4      3       1           1        1  \n",
       "5      3       2           2        3  \n",
       "6      5       3           8        3  \n",
       "7     10       7           8        5  \n",
       "8      1       9           9        5  "
      ]
     },
     "execution_count": 3,
     "metadata": {},
     "output_type": "execute_result"
    }
   ],
   "source": [
    "pd.options.display.max_colwidth = 250\n",
    "hypothesis"
   ]
  },
  {
   "cell_type": "markdown",
   "metadata": {},
   "source": [
    "**Вывод:**\n",
    " - в нашем распоряжении 9 гипотез, которые необходимо приоритизировать."
   ]
  },
  {
   "cell_type": "markdown",
   "metadata": {},
   "source": [
    "### Применяем фреймворк ICE для приоритизации гипотез."
   ]
  },
  {
   "cell_type": "code",
   "execution_count": 4,
   "metadata": {
    "scrolled": false
   },
   "outputs": [
    {
     "data": {
      "text/html": [
       "<div>\n",
       "<style scoped>\n",
       "    .dataframe tbody tr th:only-of-type {\n",
       "        vertical-align: middle;\n",
       "    }\n",
       "\n",
       "    .dataframe tbody tr th {\n",
       "        vertical-align: top;\n",
       "    }\n",
       "\n",
       "    .dataframe thead th {\n",
       "        text-align: right;\n",
       "    }\n",
       "</style>\n",
       "<table border=\"1\" class=\"dataframe\">\n",
       "  <thead>\n",
       "    <tr style=\"text-align: right;\">\n",
       "      <th></th>\n",
       "      <th>Hypothesis</th>\n",
       "      <th>ICE</th>\n",
       "    </tr>\n",
       "  </thead>\n",
       "  <tbody>\n",
       "    <tr>\n",
       "      <th>8</th>\n",
       "      <td>Запустить акцию, дающую скидку на товар в день рождения</td>\n",
       "      <td>16.20</td>\n",
       "    </tr>\n",
       "    <tr>\n",
       "      <th>0</th>\n",
       "      <td>Добавить два новых канала привлечения трафика, что позволит привлекать на 30% больше пользователей</td>\n",
       "      <td>13.33</td>\n",
       "    </tr>\n",
       "    <tr>\n",
       "      <th>7</th>\n",
       "      <td>Добавить форму подписки на все основные страницы, чтобы собрать базу клиентов для email-рассылок</td>\n",
       "      <td>11.20</td>\n",
       "    </tr>\n",
       "    <tr>\n",
       "      <th>6</th>\n",
       "      <td>Показать на главной странице баннеры с актуальными акциями и распродажами, чтобы увеличить конверсию</td>\n",
       "      <td>8.00</td>\n",
       "    </tr>\n",
       "    <tr>\n",
       "      <th>2</th>\n",
       "      <td>Добавить блоки рекомендаций товаров на сайт интернет магазина, чтобы повысить конверсию и средний чек заказа</td>\n",
       "      <td>7.00</td>\n",
       "    </tr>\n",
       "    <tr>\n",
       "      <th>1</th>\n",
       "      <td>Запустить собственную службу доставки, что сократит срок доставки заказов</td>\n",
       "      <td>2.00</td>\n",
       "    </tr>\n",
       "    <tr>\n",
       "      <th>5</th>\n",
       "      <td>Добавить страницу отзывов клиентов о магазине, что позволит увеличить количество заказов</td>\n",
       "      <td>1.33</td>\n",
       "    </tr>\n",
       "    <tr>\n",
       "      <th>3</th>\n",
       "      <td>Изменить структура категорий, что увеличит конверсию, т.к. пользователи быстрее найдут нужный товар</td>\n",
       "      <td>1.12</td>\n",
       "    </tr>\n",
       "    <tr>\n",
       "      <th>4</th>\n",
       "      <td>Изменить цвет фона главной страницы, чтобы увеличить вовлеченность пользователей</td>\n",
       "      <td>1.00</td>\n",
       "    </tr>\n",
       "  </tbody>\n",
       "</table>\n",
       "</div>"
      ],
      "text/plain": [
       "                                                                                                     Hypothesis  \\\n",
       "8                                                       Запустить акцию, дающую скидку на товар в день рождения   \n",
       "0            Добавить два новых канала привлечения трафика, что позволит привлекать на 30% больше пользователей   \n",
       "7              Добавить форму подписки на все основные страницы, чтобы собрать базу клиентов для email-рассылок   \n",
       "6          Показать на главной странице баннеры с актуальными акциями и распродажами, чтобы увеличить конверсию   \n",
       "2  Добавить блоки рекомендаций товаров на сайт интернет магазина, чтобы повысить конверсию и средний чек заказа   \n",
       "1                                     Запустить собственную службу доставки, что сократит срок доставки заказов   \n",
       "5                      Добавить страницу отзывов клиентов о магазине, что позволит увеличить количество заказов   \n",
       "3           Изменить структура категорий, что увеличит конверсию, т.к. пользователи быстрее найдут нужный товар   \n",
       "4                              Изменить цвет фона главной страницы, чтобы увеличить вовлеченность пользователей   \n",
       "\n",
       "     ICE  \n",
       "8  16.20  \n",
       "0  13.33  \n",
       "7  11.20  \n",
       "6   8.00  \n",
       "2   7.00  \n",
       "1   2.00  \n",
       "5   1.33  \n",
       "3   1.12  \n",
       "4   1.00  "
      ]
     },
     "execution_count": 4,
     "metadata": {},
     "output_type": "execute_result"
    }
   ],
   "source": [
    "hypothesis['ICE']=round(hypothesis['Impact']*hypothesis['Confidence']/hypothesis['Efforts'],2)\n",
    "\n",
    "hypothesis[['Hypothesis','ICE']].sort_values(by='ICE',ascending=False)"
   ]
  },
  {
   "cell_type": "markdown",
   "metadata": {},
   "source": [
    "**Вывод:**\n",
    " - по результатам приоритизации фреймворком ICE в первую очередь необходимо проверить следующие гипотезы:\n",
    "  1. Запустить акцию, дающую скидку на товар в день рождения.\n",
    "  2. Добавить два новых канала привлечения трафика, что позволит привлекать на 30% больше пользователей.\n",
    "  3. Добавить форму подписки на все основные страницы, чтобы собрать базу клиентов для email-рассылок.\n",
    "  4. Показать на главной странице баннеры с актуальными акциями и распродажами, чтобы увеличить конверсию."
   ]
  },
  {
   "cell_type": "markdown",
   "metadata": {},
   "source": [
    "### Применяем фреймворк RICE для приоритизации гипотез."
   ]
  },
  {
   "cell_type": "code",
   "execution_count": 5,
   "metadata": {
    "scrolled": true
   },
   "outputs": [
    {
     "data": {
      "text/html": [
       "<style  type=\"text/css\" >\n",
       "#T_49816_row0_col1,#T_49816_row4_col2{\n",
       "            background-color:  yellowgreen;\n",
       "        }</style><table id=\"T_49816_\" ><thead>    <tr>        <th class=\"blank level0\" ></th>        <th class=\"col_heading level0 col0\" >Hypothesis</th>        <th class=\"col_heading level0 col1\" >RICE</th>        <th class=\"col_heading level0 col2\" >ICE</th>    </tr></thead><tbody>\n",
       "                <tr>\n",
       "                        <th id=\"T_49816_level0_row0\" class=\"row_heading level0 row0\" >7</th>\n",
       "                        <td id=\"T_49816_row0_col0\" class=\"data row0 col0\" >Добавить форму подписки на все основные страницы, чтобы собрать базу клиентов для email-рассылок</td>\n",
       "                        <td id=\"T_49816_row0_col1\" class=\"data row0 col1\" >112.000000</td>\n",
       "                        <td id=\"T_49816_row0_col2\" class=\"data row0 col2\" >11.200000</td>\n",
       "            </tr>\n",
       "            <tr>\n",
       "                        <th id=\"T_49816_level0_row1\" class=\"row_heading level0 row1\" >2</th>\n",
       "                        <td id=\"T_49816_row1_col0\" class=\"data row1 col0\" >Добавить блоки рекомендаций товаров на сайт интернет магазина, чтобы повысить конверсию и средний чек заказа</td>\n",
       "                        <td id=\"T_49816_row1_col1\" class=\"data row1 col1\" >56.000000</td>\n",
       "                        <td id=\"T_49816_row1_col2\" class=\"data row1 col2\" >7.000000</td>\n",
       "            </tr>\n",
       "            <tr>\n",
       "                        <th id=\"T_49816_level0_row2\" class=\"row_heading level0 row2\" >0</th>\n",
       "                        <td id=\"T_49816_row2_col0\" class=\"data row2 col0\" >Добавить два новых канала привлечения трафика, что позволит привлекать на 30% больше пользователей</td>\n",
       "                        <td id=\"T_49816_row2_col1\" class=\"data row2 col1\" >40.000000</td>\n",
       "                        <td id=\"T_49816_row2_col2\" class=\"data row2 col2\" >13.330000</td>\n",
       "            </tr>\n",
       "            <tr>\n",
       "                        <th id=\"T_49816_level0_row3\" class=\"row_heading level0 row3\" >6</th>\n",
       "                        <td id=\"T_49816_row3_col0\" class=\"data row3 col0\" >Показать на главной странице баннеры с актуальными акциями и распродажами, чтобы увеличить конверсию</td>\n",
       "                        <td id=\"T_49816_row3_col1\" class=\"data row3 col1\" >40.000000</td>\n",
       "                        <td id=\"T_49816_row3_col2\" class=\"data row3 col2\" >8.000000</td>\n",
       "            </tr>\n",
       "            <tr>\n",
       "                        <th id=\"T_49816_level0_row4\" class=\"row_heading level0 row4\" >8</th>\n",
       "                        <td id=\"T_49816_row4_col0\" class=\"data row4 col0\" >Запустить акцию, дающую скидку на товар в день рождения</td>\n",
       "                        <td id=\"T_49816_row4_col1\" class=\"data row4 col1\" >16.200000</td>\n",
       "                        <td id=\"T_49816_row4_col2\" class=\"data row4 col2\" >16.200000</td>\n",
       "            </tr>\n",
       "            <tr>\n",
       "                        <th id=\"T_49816_level0_row5\" class=\"row_heading level0 row5\" >3</th>\n",
       "                        <td id=\"T_49816_row5_col0\" class=\"data row5 col0\" >Изменить структура категорий, что увеличит конверсию, т.к. пользователи быстрее найдут нужный товар</td>\n",
       "                        <td id=\"T_49816_row5_col1\" class=\"data row5 col1\" >9.000000</td>\n",
       "                        <td id=\"T_49816_row5_col2\" class=\"data row5 col2\" >1.120000</td>\n",
       "            </tr>\n",
       "            <tr>\n",
       "                        <th id=\"T_49816_level0_row6\" class=\"row_heading level0 row6\" >1</th>\n",
       "                        <td id=\"T_49816_row6_col0\" class=\"data row6 col0\" >Запустить собственную службу доставки, что сократит срок доставки заказов</td>\n",
       "                        <td id=\"T_49816_row6_col1\" class=\"data row6 col1\" >4.000000</td>\n",
       "                        <td id=\"T_49816_row6_col2\" class=\"data row6 col2\" >2.000000</td>\n",
       "            </tr>\n",
       "            <tr>\n",
       "                        <th id=\"T_49816_level0_row7\" class=\"row_heading level0 row7\" >5</th>\n",
       "                        <td id=\"T_49816_row7_col0\" class=\"data row7 col0\" >Добавить страницу отзывов клиентов о магазине, что позволит увеличить количество заказов</td>\n",
       "                        <td id=\"T_49816_row7_col1\" class=\"data row7 col1\" >4.000000</td>\n",
       "                        <td id=\"T_49816_row7_col2\" class=\"data row7 col2\" >1.330000</td>\n",
       "            </tr>\n",
       "            <tr>\n",
       "                        <th id=\"T_49816_level0_row8\" class=\"row_heading level0 row8\" >4</th>\n",
       "                        <td id=\"T_49816_row8_col0\" class=\"data row8 col0\" >Изменить цвет фона главной страницы, чтобы увеличить вовлеченность пользователей</td>\n",
       "                        <td id=\"T_49816_row8_col1\" class=\"data row8 col1\" >3.000000</td>\n",
       "                        <td id=\"T_49816_row8_col2\" class=\"data row8 col2\" >1.000000</td>\n",
       "            </tr>\n",
       "    </tbody></table>"
      ],
      "text/plain": [
       "<pandas.io.formats.style.Styler at 0x7f4258ce9370>"
      ]
     },
     "execution_count": 5,
     "metadata": {},
     "output_type": "execute_result"
    }
   ],
   "source": [
    "hypothesis['RICE']=hypothesis['Impact']*hypothesis['Confidence']/hypothesis['Efforts']*hypothesis['Reach']\n",
    "\n",
    "hypothesis[['Hypothesis','RICE','ICE']].sort_values(by='RICE',ascending=False)\\\n",
    ".style.highlight_max(color='yellowgreen', subset=['RICE','ICE'])"
   ]
  },
  {
   "cell_type": "markdown",
   "metadata": {},
   "source": [
    "**Вывод:**\n",
    " - по результатам приоритизации фреймворком RICE в первую очередь необходимо проверить следующие гипотезы:\n",
    "  1. Добавить форму подписки на все основные страницы, чтобы собрать базу клиентов для email-рассылок.\n",
    "  2. Добавить блоки рекомендаций товаров на сайт интернет магазина, чтобы повысить конверсию и средний чек заказа.\n",
    "  3. Добавить два новых канала привлечения трафика, что позволит привлекать на 30% больше пользователей.\n",
    "  4. Показать на главной странице баннеры с актуальными акциями и распродажами, чтобы увеличить конверсию."
   ]
  },
  {
   "cell_type": "markdown",
   "metadata": {},
   "source": [
    "### Вывод по приоритизации гипотез"
   ]
  },
  {
   "cell_type": "markdown",
   "metadata": {},
   "source": [
    "**После применения фреймворка RICE порядок проверки гипотез изменился. Теперь на первом месте оказалась гипотеза о добавлении формы подписки на все основные страницы, чтобы собрать базу клиентов для email-рассылок, так как её параметр REACH, который определяет количество пользователей, которых затронет изменение равен 10. В то время как у других гипотез этот параметр меньше.**"
   ]
  },
  {
   "cell_type": "markdown",
   "metadata": {},
   "source": [
    "## Анализ A/B-теста"
   ]
  },
  {
   "cell_type": "markdown",
   "metadata": {},
   "source": [
    "### Загрузка и обзор данных"
   ]
  },
  {
   "cell_type": "code",
   "execution_count": 6,
   "metadata": {},
   "outputs": [],
   "source": [
    "orders,visitors = (\n",
    "    pd.read_csv('/datasets/orders.csv'),  \n",
    "    pd.read_csv('/datasets/visitors.csv'))"
   ]
  },
  {
   "cell_type": "markdown",
   "metadata": {},
   "source": [
    "**Напишем функцию для вывода информации по таблице, а также подсчёту пропусков и дубликатов.**"
   ]
  },
  {
   "cell_type": "code",
   "execution_count": 7,
   "metadata": {},
   "outputs": [],
   "source": [
    "def info(df):\n",
    "    display(df.head())\n",
    "    print(('\\033[1m' + 'Общая информация о таблице ' + '\\033[0m'))\n",
    "    display(df.info())\n",
    "    \n",
    "    print(('\\033[1m' + 'Количество пропусков в таблице :' + '\\033[0m'))\n",
    "    display(df.isna().sum())\n",
    "    \n",
    "    print('\\033[1m' + 'Количество дубликатов в таблице :{}'.format(df.duplicated().sum())  + '\\033[0m')"
   ]
  },
  {
   "cell_type": "markdown",
   "metadata": {},
   "source": [
    "**Обзор таблицы orders.**"
   ]
  },
  {
   "cell_type": "code",
   "execution_count": 8,
   "metadata": {
    "scrolled": true
   },
   "outputs": [
    {
     "data": {
      "text/html": [
       "<div>\n",
       "<style scoped>\n",
       "    .dataframe tbody tr th:only-of-type {\n",
       "        vertical-align: middle;\n",
       "    }\n",
       "\n",
       "    .dataframe tbody tr th {\n",
       "        vertical-align: top;\n",
       "    }\n",
       "\n",
       "    .dataframe thead th {\n",
       "        text-align: right;\n",
       "    }\n",
       "</style>\n",
       "<table border=\"1\" class=\"dataframe\">\n",
       "  <thead>\n",
       "    <tr style=\"text-align: right;\">\n",
       "      <th></th>\n",
       "      <th>transactionId</th>\n",
       "      <th>visitorId</th>\n",
       "      <th>date</th>\n",
       "      <th>revenue</th>\n",
       "      <th>group</th>\n",
       "    </tr>\n",
       "  </thead>\n",
       "  <tbody>\n",
       "    <tr>\n",
       "      <th>0</th>\n",
       "      <td>3667963787</td>\n",
       "      <td>3312258926</td>\n",
       "      <td>2019-08-15</td>\n",
       "      <td>1650</td>\n",
       "      <td>B</td>\n",
       "    </tr>\n",
       "    <tr>\n",
       "      <th>1</th>\n",
       "      <td>2804400009</td>\n",
       "      <td>3642806036</td>\n",
       "      <td>2019-08-15</td>\n",
       "      <td>730</td>\n",
       "      <td>B</td>\n",
       "    </tr>\n",
       "    <tr>\n",
       "      <th>2</th>\n",
       "      <td>2961555356</td>\n",
       "      <td>4069496402</td>\n",
       "      <td>2019-08-15</td>\n",
       "      <td>400</td>\n",
       "      <td>A</td>\n",
       "    </tr>\n",
       "    <tr>\n",
       "      <th>3</th>\n",
       "      <td>3797467345</td>\n",
       "      <td>1196621759</td>\n",
       "      <td>2019-08-15</td>\n",
       "      <td>9759</td>\n",
       "      <td>B</td>\n",
       "    </tr>\n",
       "    <tr>\n",
       "      <th>4</th>\n",
       "      <td>2282983706</td>\n",
       "      <td>2322279887</td>\n",
       "      <td>2019-08-15</td>\n",
       "      <td>2308</td>\n",
       "      <td>B</td>\n",
       "    </tr>\n",
       "  </tbody>\n",
       "</table>\n",
       "</div>"
      ],
      "text/plain": [
       "   transactionId   visitorId        date  revenue group\n",
       "0     3667963787  3312258926  2019-08-15     1650     B\n",
       "1     2804400009  3642806036  2019-08-15      730     B\n",
       "2     2961555356  4069496402  2019-08-15      400     A\n",
       "3     3797467345  1196621759  2019-08-15     9759     B\n",
       "4     2282983706  2322279887  2019-08-15     2308     B"
      ]
     },
     "metadata": {},
     "output_type": "display_data"
    },
    {
     "name": "stdout",
     "output_type": "stream",
     "text": [
      "\u001b[1mОбщая информация о таблице \u001b[0m\n",
      "<class 'pandas.core.frame.DataFrame'>\n",
      "RangeIndex: 1197 entries, 0 to 1196\n",
      "Data columns (total 5 columns):\n",
      " #   Column         Non-Null Count  Dtype \n",
      "---  ------         --------------  ----- \n",
      " 0   transactionId  1197 non-null   int64 \n",
      " 1   visitorId      1197 non-null   int64 \n",
      " 2   date           1197 non-null   object\n",
      " 3   revenue        1197 non-null   int64 \n",
      " 4   group          1197 non-null   object\n",
      "dtypes: int64(3), object(2)\n",
      "memory usage: 46.9+ KB\n"
     ]
    },
    {
     "data": {
      "text/plain": [
       "None"
      ]
     },
     "metadata": {},
     "output_type": "display_data"
    },
    {
     "name": "stdout",
     "output_type": "stream",
     "text": [
      "\u001b[1mКоличество пропусков в таблице :\u001b[0m\n"
     ]
    },
    {
     "data": {
      "text/plain": [
       "transactionId    0\n",
       "visitorId        0\n",
       "date             0\n",
       "revenue          0\n",
       "group            0\n",
       "dtype: int64"
      ]
     },
     "metadata": {},
     "output_type": "display_data"
    },
    {
     "name": "stdout",
     "output_type": "stream",
     "text": [
      "\u001b[1mКоличество дубликатов в таблице :0\u001b[0m\n"
     ]
    }
   ],
   "source": [
    "info(orders)"
   ]
  },
  {
   "cell_type": "markdown",
   "metadata": {},
   "source": [
    "**Вывод:**\n",
    " - таблица orders содержит информацию о 1197 заказах и имеет 5 колонок: идентификатор заказа, идентификатор пользователя, дату покупки, выручку заказа и группу A/B-теста.\n",
    " - пропуски и дубликаты в таблице не обнаружены\n",
    " - столбец с датой имеет некорректный тип данных"
   ]
  },
  {
   "cell_type": "markdown",
   "metadata": {},
   "source": [
    "**Изменим тип данных колонки с датой на корректный.**"
   ]
  },
  {
   "cell_type": "code",
   "execution_count": 9,
   "metadata": {},
   "outputs": [],
   "source": [
    "orders['date'] = orders['date'].map(\n",
    "    lambda x: dt.datetime.strptime(x, '%Y-%m-%d')\n",
    ")"
   ]
  },
  {
   "cell_type": "markdown",
   "metadata": {},
   "source": [
    "**Проверим, нет ли в таблице orders пользователей, попавших в обе группы. Посчитаем для каждого пользователя уникальное количество групп.**"
   ]
  },
  {
   "cell_type": "code",
   "execution_count": 10,
   "metadata": {
    "scrolled": true
   },
   "outputs": [
    {
     "data": {
      "text/html": [
       "<div>\n",
       "<style scoped>\n",
       "    .dataframe tbody tr th:only-of-type {\n",
       "        vertical-align: middle;\n",
       "    }\n",
       "\n",
       "    .dataframe tbody tr th {\n",
       "        vertical-align: top;\n",
       "    }\n",
       "\n",
       "    .dataframe thead th {\n",
       "        text-align: right;\n",
       "    }\n",
       "</style>\n",
       "<table border=\"1\" class=\"dataframe\">\n",
       "  <thead>\n",
       "    <tr style=\"text-align: right;\">\n",
       "      <th></th>\n",
       "      <th>visitorId</th>\n",
       "      <th>group</th>\n",
       "    </tr>\n",
       "  </thead>\n",
       "  <tbody>\n",
       "    <tr>\n",
       "      <th>639</th>\n",
       "      <td>2654030115</td>\n",
       "      <td>2</td>\n",
       "    </tr>\n",
       "    <tr>\n",
       "      <th>932</th>\n",
       "      <td>3891541246</td>\n",
       "      <td>2</td>\n",
       "    </tr>\n",
       "    <tr>\n",
       "      <th>950</th>\n",
       "      <td>3941795274</td>\n",
       "      <td>2</td>\n",
       "    </tr>\n",
       "    <tr>\n",
       "      <th>340</th>\n",
       "      <td>1404934699</td>\n",
       "      <td>2</td>\n",
       "    </tr>\n",
       "    <tr>\n",
       "      <th>84</th>\n",
       "      <td>351125977</td>\n",
       "      <td>2</td>\n",
       "    </tr>\n",
       "    <tr>\n",
       "      <th>...</th>\n",
       "      <td>...</td>\n",
       "      <td>...</td>\n",
       "    </tr>\n",
       "    <tr>\n",
       "      <th>357</th>\n",
       "      <td>1476256851</td>\n",
       "      <td>1</td>\n",
       "    </tr>\n",
       "    <tr>\n",
       "      <th>358</th>\n",
       "      <td>1476741193</td>\n",
       "      <td>1</td>\n",
       "    </tr>\n",
       "    <tr>\n",
       "      <th>359</th>\n",
       "      <td>1484903144</td>\n",
       "      <td>1</td>\n",
       "    </tr>\n",
       "    <tr>\n",
       "      <th>360</th>\n",
       "      <td>1485964287</td>\n",
       "      <td>1</td>\n",
       "    </tr>\n",
       "    <tr>\n",
       "      <th>1030</th>\n",
       "      <td>4283872382</td>\n",
       "      <td>1</td>\n",
       "    </tr>\n",
       "  </tbody>\n",
       "</table>\n",
       "<p>1031 rows × 2 columns</p>\n",
       "</div>"
      ],
      "text/plain": [
       "       visitorId  group\n",
       "639   2654030115      2\n",
       "932   3891541246      2\n",
       "950   3941795274      2\n",
       "340   1404934699      2\n",
       "84     351125977      2\n",
       "...          ...    ...\n",
       "357   1476256851      1\n",
       "358   1476741193      1\n",
       "359   1484903144      1\n",
       "360   1485964287      1\n",
       "1030  4283872382      1\n",
       "\n",
       "[1031 rows x 2 columns]"
      ]
     },
     "execution_count": 10,
     "metadata": {},
     "output_type": "execute_result"
    }
   ],
   "source": [
    "user_on_two_group=orders.groupby('visitorId',as_index=False)['group'].nunique().sort_values(by='group',ascending=False)\n",
    "\n",
    "user_on_two_group"
   ]
  },
  {
   "cell_type": "markdown",
   "metadata": {},
   "source": [
    "**Вывод:**\n",
    "- в тесте участвуют пользователи, попавшие в обе группы. Чтобы результаты теста не исказились, от таких пользователей необходимо избавиться."
   ]
  },
  {
   "cell_type": "markdown",
   "metadata": {},
   "source": [
    "**Создадим список пользователей, попавших в обе группы, а затем из таблицы orders исключим таких пользователей.**"
   ]
  },
  {
   "cell_type": "code",
   "execution_count": 11,
   "metadata": {
    "scrolled": true
   },
   "outputs": [],
   "source": [
    "user_on_two_group=user_on_two_group.query('group>1')['visitorId']\n",
    "orders=orders[np.logical_not(orders['visitorId'].isin(user_on_two_group))]"
   ]
  },
  {
   "cell_type": "code",
   "execution_count": 12,
   "metadata": {},
   "outputs": [
    {
     "data": {
      "text/html": [
       "<div>\n",
       "<style scoped>\n",
       "    .dataframe tbody tr th:only-of-type {\n",
       "        vertical-align: middle;\n",
       "    }\n",
       "\n",
       "    .dataframe tbody tr th {\n",
       "        vertical-align: top;\n",
       "    }\n",
       "\n",
       "    .dataframe thead th {\n",
       "        text-align: right;\n",
       "    }\n",
       "</style>\n",
       "<table border=\"1\" class=\"dataframe\">\n",
       "  <thead>\n",
       "    <tr style=\"text-align: right;\">\n",
       "      <th></th>\n",
       "      <th>visitorId</th>\n",
       "      <th>group</th>\n",
       "    </tr>\n",
       "  </thead>\n",
       "  <tbody>\n",
       "    <tr>\n",
       "      <th>0</th>\n",
       "      <td>5114589</td>\n",
       "      <td>1</td>\n",
       "    </tr>\n",
       "    <tr>\n",
       "      <th>669</th>\n",
       "      <td>2908466434</td>\n",
       "      <td>1</td>\n",
       "    </tr>\n",
       "    <tr>\n",
       "      <th>641</th>\n",
       "      <td>2776274025</td>\n",
       "      <td>1</td>\n",
       "    </tr>\n",
       "    <tr>\n",
       "      <th>642</th>\n",
       "      <td>2785040378</td>\n",
       "      <td>1</td>\n",
       "    </tr>\n",
       "    <tr>\n",
       "      <th>643</th>\n",
       "      <td>2785527055</td>\n",
       "      <td>1</td>\n",
       "    </tr>\n",
       "  </tbody>\n",
       "</table>\n",
       "</div>"
      ],
      "text/plain": [
       "      visitorId  group\n",
       "0       5114589      1\n",
       "669  2908466434      1\n",
       "641  2776274025      1\n",
       "642  2785040378      1\n",
       "643  2785527055      1"
      ]
     },
     "execution_count": 12,
     "metadata": {},
     "output_type": "execute_result"
    }
   ],
   "source": [
    "\n",
    "orders.groupby('visitorId',as_index=False)['group'].nunique().sort_values(by='group',ascending=False).head()"
   ]
  },
  {
   "cell_type": "markdown",
   "metadata": {},
   "source": [
    "**Обзор таблицы visitors.**"
   ]
  },
  {
   "cell_type": "code",
   "execution_count": 13,
   "metadata": {
    "scrolled": true
   },
   "outputs": [
    {
     "data": {
      "text/html": [
       "<div>\n",
       "<style scoped>\n",
       "    .dataframe tbody tr th:only-of-type {\n",
       "        vertical-align: middle;\n",
       "    }\n",
       "\n",
       "    .dataframe tbody tr th {\n",
       "        vertical-align: top;\n",
       "    }\n",
       "\n",
       "    .dataframe thead th {\n",
       "        text-align: right;\n",
       "    }\n",
       "</style>\n",
       "<table border=\"1\" class=\"dataframe\">\n",
       "  <thead>\n",
       "    <tr style=\"text-align: right;\">\n",
       "      <th></th>\n",
       "      <th>date</th>\n",
       "      <th>group</th>\n",
       "      <th>visitors</th>\n",
       "    </tr>\n",
       "  </thead>\n",
       "  <tbody>\n",
       "    <tr>\n",
       "      <th>0</th>\n",
       "      <td>2019-08-01</td>\n",
       "      <td>A</td>\n",
       "      <td>719</td>\n",
       "    </tr>\n",
       "    <tr>\n",
       "      <th>1</th>\n",
       "      <td>2019-08-02</td>\n",
       "      <td>A</td>\n",
       "      <td>619</td>\n",
       "    </tr>\n",
       "    <tr>\n",
       "      <th>2</th>\n",
       "      <td>2019-08-03</td>\n",
       "      <td>A</td>\n",
       "      <td>507</td>\n",
       "    </tr>\n",
       "    <tr>\n",
       "      <th>3</th>\n",
       "      <td>2019-08-04</td>\n",
       "      <td>A</td>\n",
       "      <td>717</td>\n",
       "    </tr>\n",
       "    <tr>\n",
       "      <th>4</th>\n",
       "      <td>2019-08-05</td>\n",
       "      <td>A</td>\n",
       "      <td>756</td>\n",
       "    </tr>\n",
       "  </tbody>\n",
       "</table>\n",
       "</div>"
      ],
      "text/plain": [
       "         date group  visitors\n",
       "0  2019-08-01     A       719\n",
       "1  2019-08-02     A       619\n",
       "2  2019-08-03     A       507\n",
       "3  2019-08-04     A       717\n",
       "4  2019-08-05     A       756"
      ]
     },
     "metadata": {},
     "output_type": "display_data"
    },
    {
     "name": "stdout",
     "output_type": "stream",
     "text": [
      "\u001b[1mОбщая информация о таблице \u001b[0m\n",
      "<class 'pandas.core.frame.DataFrame'>\n",
      "RangeIndex: 62 entries, 0 to 61\n",
      "Data columns (total 3 columns):\n",
      " #   Column    Non-Null Count  Dtype \n",
      "---  ------    --------------  ----- \n",
      " 0   date      62 non-null     object\n",
      " 1   group     62 non-null     object\n",
      " 2   visitors  62 non-null     int64 \n",
      "dtypes: int64(1), object(2)\n",
      "memory usage: 1.6+ KB\n"
     ]
    },
    {
     "data": {
      "text/plain": [
       "None"
      ]
     },
     "metadata": {},
     "output_type": "display_data"
    },
    {
     "name": "stdout",
     "output_type": "stream",
     "text": [
      "\u001b[1mКоличество пропусков в таблице :\u001b[0m\n"
     ]
    },
    {
     "data": {
      "text/plain": [
       "date        0\n",
       "group       0\n",
       "visitors    0\n",
       "dtype: int64"
      ]
     },
     "metadata": {},
     "output_type": "display_data"
    },
    {
     "name": "stdout",
     "output_type": "stream",
     "text": [
      "\u001b[1mКоличество дубликатов в таблице :0\u001b[0m\n"
     ]
    }
   ],
   "source": [
    "info(visitors)"
   ]
  },
  {
   "cell_type": "markdown",
   "metadata": {},
   "source": [
    "**Вывод:**\n",
    " - таблица visitors содержит информацию о количестве посетителей сайта по группам за 31 день проведения A/B-теста и имеет 3 колонки: дату посещения, группу A/B-теста и количество посетителей в указанную дату в указанной группе .\n",
    " - пропуски и дубликаты в таблице не обнаружены\n",
    " - столбец с датой имеет некорректный тип данных"
   ]
  },
  {
   "cell_type": "markdown",
   "metadata": {},
   "source": [
    "**Изменим тип данных колонки с датой на корректный.**"
   ]
  },
  {
   "cell_type": "code",
   "execution_count": 14,
   "metadata": {},
   "outputs": [],
   "source": [
    "visitors['date'] = visitors['date'].map(\n",
    "    lambda x: dt.datetime.strptime(x, '%Y-%m-%d')\n",
    ")"
   ]
  },
  {
   "cell_type": "markdown",
   "metadata": {},
   "source": [
    "**Посмотрим, в какие даты проводился тест.**"
   ]
  },
  {
   "cell_type": "code",
   "execution_count": 15,
   "metadata": {
    "scrolled": true
   },
   "outputs": [
    {
     "data": {
      "text/plain": [
       "'Период проведения теста с 2019-08-01 по 2019-08-31.'"
      ]
     },
     "execution_count": 15,
     "metadata": {},
     "output_type": "execute_result"
    }
   ],
   "source": [
    "f'Период проведения теста с {orders.date.dt.date.min()} по {orders.date.dt.date.max()}.'"
   ]
  },
  {
   "cell_type": "markdown",
   "metadata": {},
   "source": [
    "### Подготовка данных для анализа"
   ]
  },
  {
   "cell_type": "markdown",
   "metadata": {},
   "source": [
    "**Построим таблицу с кумулятивными метриками.**"
   ]
  },
  {
   "cell_type": "code",
   "execution_count": 16,
   "metadata": {
    "scrolled": false
   },
   "outputs": [
    {
     "data": {
      "text/html": [
       "<div>\n",
       "<style scoped>\n",
       "    .dataframe tbody tr th:only-of-type {\n",
       "        vertical-align: middle;\n",
       "    }\n",
       "\n",
       "    .dataframe tbody tr th {\n",
       "        vertical-align: top;\n",
       "    }\n",
       "\n",
       "    .dataframe thead th {\n",
       "        text-align: right;\n",
       "    }\n",
       "</style>\n",
       "<table border=\"1\" class=\"dataframe\">\n",
       "  <thead>\n",
       "    <tr style=\"text-align: right;\">\n",
       "      <th></th>\n",
       "      <th>date</th>\n",
       "      <th>orders_per_date_A</th>\n",
       "      <th>revenue_per_date_A</th>\n",
       "      <th>orders_cummulative_A</th>\n",
       "      <th>revenue_cummulative_A</th>\n",
       "      <th>visitors_per_date_A</th>\n",
       "      <th>visitors_cummulative_A</th>\n",
       "      <th>orders_per_date_B</th>\n",
       "      <th>revenue_per_date_B</th>\n",
       "      <th>orders_cummulative_B</th>\n",
       "      <th>revenue_cummulative_B</th>\n",
       "      <th>visitors_per_date_B</th>\n",
       "      <th>visitors_cummulative_B</th>\n",
       "    </tr>\n",
       "  </thead>\n",
       "  <tbody>\n",
       "    <tr>\n",
       "      <th>0</th>\n",
       "      <td>2019-08-01</td>\n",
       "      <td>23</td>\n",
       "      <td>142779</td>\n",
       "      <td>23</td>\n",
       "      <td>142779</td>\n",
       "      <td>719</td>\n",
       "      <td>719</td>\n",
       "      <td>17</td>\n",
       "      <td>59758</td>\n",
       "      <td>17</td>\n",
       "      <td>59758</td>\n",
       "      <td>713</td>\n",
       "      <td>713</td>\n",
       "    </tr>\n",
       "    <tr>\n",
       "      <th>1</th>\n",
       "      <td>2019-08-02</td>\n",
       "      <td>19</td>\n",
       "      <td>91602</td>\n",
       "      <td>42</td>\n",
       "      <td>234381</td>\n",
       "      <td>619</td>\n",
       "      <td>1338</td>\n",
       "      <td>23</td>\n",
       "      <td>162043</td>\n",
       "      <td>40</td>\n",
       "      <td>221801</td>\n",
       "      <td>581</td>\n",
       "      <td>1294</td>\n",
       "    </tr>\n",
       "    <tr>\n",
       "      <th>2</th>\n",
       "      <td>2019-08-03</td>\n",
       "      <td>24</td>\n",
       "      <td>112473</td>\n",
       "      <td>66</td>\n",
       "      <td>346854</td>\n",
       "      <td>507</td>\n",
       "      <td>1845</td>\n",
       "      <td>14</td>\n",
       "      <td>67049</td>\n",
       "      <td>54</td>\n",
       "      <td>288850</td>\n",
       "      <td>509</td>\n",
       "      <td>1803</td>\n",
       "    </tr>\n",
       "    <tr>\n",
       "      <th>3</th>\n",
       "      <td>2019-08-04</td>\n",
       "      <td>11</td>\n",
       "      <td>41176</td>\n",
       "      <td>77</td>\n",
       "      <td>388030</td>\n",
       "      <td>717</td>\n",
       "      <td>2562</td>\n",
       "      <td>14</td>\n",
       "      <td>96890</td>\n",
       "      <td>68</td>\n",
       "      <td>385740</td>\n",
       "      <td>770</td>\n",
       "      <td>2573</td>\n",
       "    </tr>\n",
       "    <tr>\n",
       "      <th>4</th>\n",
       "      <td>2019-08-05</td>\n",
       "      <td>22</td>\n",
       "      <td>86383</td>\n",
       "      <td>99</td>\n",
       "      <td>474413</td>\n",
       "      <td>756</td>\n",
       "      <td>3318</td>\n",
       "      <td>21</td>\n",
       "      <td>89908</td>\n",
       "      <td>89</td>\n",
       "      <td>475648</td>\n",
       "      <td>707</td>\n",
       "      <td>3280</td>\n",
       "    </tr>\n",
       "  </tbody>\n",
       "</table>\n",
       "</div>"
      ],
      "text/plain": [
       "        date  orders_per_date_A  revenue_per_date_A  orders_cummulative_A  \\\n",
       "0 2019-08-01                 23              142779                    23   \n",
       "1 2019-08-02                 19               91602                    42   \n",
       "2 2019-08-03                 24              112473                    66   \n",
       "3 2019-08-04                 11               41176                    77   \n",
       "4 2019-08-05                 22               86383                    99   \n",
       "\n",
       "   revenue_cummulative_A  visitors_per_date_A  visitors_cummulative_A  \\\n",
       "0                 142779                  719                     719   \n",
       "1                 234381                  619                    1338   \n",
       "2                 346854                  507                    1845   \n",
       "3                 388030                  717                    2562   \n",
       "4                 474413                  756                    3318   \n",
       "\n",
       "   orders_per_date_B  revenue_per_date_B  orders_cummulative_B  \\\n",
       "0                 17               59758                    17   \n",
       "1                 23              162043                    40   \n",
       "2                 14               67049                    54   \n",
       "3                 14               96890                    68   \n",
       "4                 21               89908                    89   \n",
       "\n",
       "   revenue_cummulative_B  visitors_per_date_B  visitors_cummulative_B  \n",
       "0                  59758                  713                     713  \n",
       "1                 221801                  581                    1294  \n",
       "2                 288850                  509                    1803  \n",
       "3                 385740                  770                    2573  \n",
       "4                 475648                  707                    3280  "
      ]
     },
     "execution_count": 16,
     "metadata": {},
     "output_type": "execute_result"
    }
   ],
   "source": [
    "visitors_A_daily = visitors[visitors['group'] == 'A'][['date', 'visitors']]\n",
    "visitors_A_daily.columns = ['date', 'visitors_per_date_A']\n",
    "\n",
    "visitors_A_cummulative = visitors_A_daily.apply(\n",
    "    lambda x: visitors_A_daily[visitors_A_daily['date'] <= x['date']].agg(\n",
    "        {'date': 'max', 'visitors_per_date_A': 'sum'}\n",
    "    ),\n",
    "    axis=1,\n",
    ")\n",
    "visitors_A_cummulative.columns = ['date', 'visitors_cummulative_A']\n",
    "\n",
    "\n",
    "visitors_B_daily = visitors[visitors['group'] == 'B'][['date', 'visitors']]\n",
    "visitors_B_daily.columns = ['date', 'visitors_per_date_B']\n",
    "\n",
    "visitors_B_cummulative = visitors_B_daily.apply(\n",
    "    lambda x: visitors_B_daily[visitors_B_daily['date'] <= x['date']].agg(\n",
    "        {'date': 'max', 'visitors_per_date_B': 'sum'}\n",
    "    ),\n",
    "    axis=1,\n",
    ")\n",
    "visitors_B_cummulative.columns = ['date', 'visitors_cummulative_B']\n",
    "\n",
    "orders_A_daily = (\n",
    "    orders[orders['group'] == 'A'][['date', 'transactionId', 'visitorId', 'revenue']]\n",
    "    .groupby('date', as_index=False)\n",
    "    .agg({'transactionId': 'nunique', 'revenue': 'sum'})\n",
    ")\n",
    "orders_A_daily.columns = ['date', 'orders_per_date_A', 'revenue_per_date_A']\n",
    "\n",
    "orders_A_cummulative = orders_A_daily.apply(\n",
    "    lambda x: orders_A_daily[orders_A_daily['date'] <= x['date']].agg(\n",
    "        {'date': 'max', 'orders_per_date_A': 'sum', 'revenue_per_date_A': 'sum'}\n",
    "    ),\n",
    "    axis=1,\n",
    ").sort_values(by=['date'])\n",
    "orders_A_cummulative.columns = ['date','orders_cummulative_A','revenue_cummulative_A']\n",
    "\n",
    "orders_B_daily = (\n",
    "    orders[orders['group'] == 'B'][['date', 'transactionId', 'visitorId', 'revenue']]\n",
    "    .groupby('date', as_index=False)\n",
    "    .agg({'transactionId': 'nunique', 'revenue': 'sum'})\n",
    ")\n",
    "\n",
    "orders_B_daily.columns = ['date', 'orders_per_date_B', 'revenue_per_date_B']\n",
    "\n",
    "orders_B_cummulative = orders_B_daily.apply(\n",
    "    lambda x: orders_B_daily[orders_B_daily['date'] <= x['date']].agg(\n",
    "        {'date': 'max', 'orders_per_date_B': 'sum', 'revenue_per_date_B': 'sum'}\n",
    "    ),\n",
    "    axis=1,\n",
    ").sort_values(by=['date'])\n",
    "orders_B_cummulative.columns = ['date','orders_cummulative_B','revenue_cummulative_B']\n",
    "\n",
    "\n",
    "data = (\n",
    "    orders_A_daily.merge(\n",
    "        orders_A_cummulative, left_on='date', right_on='date', how='left'\n",
    "    )\n",
    "    .merge(visitors_A_daily, left_on='date', right_on='date', how='left')\n",
    "    .merge(visitors_A_cummulative, left_on='date', right_on='date', how='left')\n",
    "    .merge(orders_B_daily, left_on='date', right_on='date', how='left')\n",
    "    .merge(orders_B_cummulative, left_on='date', right_on='date', how='left')\n",
    "    .merge(visitors_B_daily, left_on='date', right_on='date', how='left')\n",
    "    .merge(visitors_B_cummulative, left_on='date', right_on='date', how='left')\n",
    ")\n",
    "\n",
    "data.head()"
   ]
  },
  {
   "cell_type": "code",
   "execution_count": 17,
   "metadata": {},
   "outputs": [
    {
     "name": "stdout",
     "output_type": "stream",
     "text": [
      "<class 'pandas.core.frame.DataFrame'>\n",
      "Int64Index: 31 entries, 0 to 30\n",
      "Data columns (total 13 columns):\n",
      " #   Column                  Non-Null Count  Dtype         \n",
      "---  ------                  --------------  -----         \n",
      " 0   date                    31 non-null     datetime64[ns]\n",
      " 1   orders_per_date_A       31 non-null     int64         \n",
      " 2   revenue_per_date_A      31 non-null     int64         \n",
      " 3   orders_cummulative_A    31 non-null     int64         \n",
      " 4   revenue_cummulative_A   31 non-null     int64         \n",
      " 5   visitors_per_date_A     31 non-null     int64         \n",
      " 6   visitors_cummulative_A  31 non-null     int64         \n",
      " 7   orders_per_date_B       31 non-null     int64         \n",
      " 8   revenue_per_date_B      31 non-null     int64         \n",
      " 9   orders_cummulative_B    31 non-null     int64         \n",
      " 10  revenue_cummulative_B   31 non-null     int64         \n",
      " 11  visitors_per_date_B     31 non-null     int64         \n",
      " 12  visitors_cummulative_B  31 non-null     int64         \n",
      "dtypes: datetime64[ns](1), int64(12)\n",
      "memory usage: 3.4 KB\n"
     ]
    }
   ],
   "source": [
    "data.info()"
   ]
  },
  {
   "cell_type": "markdown",
   "metadata": {},
   "source": [
    "**Таблица data содержит столбцы:**\n",
    "- date - дата\n",
    "- orders_per_date_A - количество заказов в выбранную дату в группе A\n",
    "- orders_per_date_В - количество заказов в выбранную дату в группе В\n",
    "- revenue_per_date_A - суммарная выручка в выбранную дату в группе A\n",
    "- revenue_per_date_В - суммарная выручка в выбранную дату в группе В\n",
    "- orders_cummulative_A - суммарное число заказов до выбранной даты включительно в группе A\n",
    "- orders_cummulative_B - суммарное число заказов до выбранной даты включительно в группе B\n",
    "- revenue_cummulative_A - суммарная выручка до выбранной даты включительно в группе A\n",
    "- revenue_cummulative_B - суммарная выручка до выбранной даты включительно в группе B\n",
    "- visitors_per_date_A - количество пользователей в выбранную дату в группе A\n",
    "- visitors_per_date_B - количество пользователей в выбранную дату в группе B\n",
    "- visitors_cummulative_A - количество пользователей до выбранной даты включительно в группе A\n",
    "- visitors_cummulative_B - количество пользователей до выбранной даты включительно в группе B\n"
   ]
  },
  {
   "cell_type": "markdown",
   "metadata": {},
   "source": [
    "### График кумулятивной выручки по группам"
   ]
  },
  {
   "cell_type": "code",
   "execution_count": 18,
   "metadata": {
    "scrolled": false
   },
   "outputs": [
    {
     "data": {
      "image/png": "[encoded data removed]",
      "text/plain": [
       "<Figure size 1008x432 with 1 Axes>"
      ]
     },
     "metadata": {
      "needs_background": "light"
     },
     "output_type": "display_data"
    }
   ],
   "source": [
    "plt.figure(figsize=(14, 6))\n",
    "plt.ticklabel_format(style='plain')\n",
    "plt.plot(data['date'], data['revenue_cummulative_A'], label='A')\n",
    "\n",
    "# Строим график выручки группы B\n",
    "plt.plot(data['date'], data['revenue_cummulative_B'], label='B')\n",
    "\n",
    "plt.legend()\n",
    "plt.xlabel('Дата')\n",
    "plt.ylabel('Кумулятивная выручка')\n",
    "plt.title('Кумулятивная выручка по группам')\n",
    "plt.grid()\n",
    "plt.show()"
   ]
  },
  {
   "cell_type": "markdown",
   "metadata": {},
   "source": [
    "**Вывод к графику:**\n",
    " - кумулятивная выручка стабильно растёт по обеим группам\n",
    " - кумулятивная выручка группы B стабильно выше, чем выручка группы A\n",
    " - в середине теста произошёл резкий скачок выручки у группы B. Вероятно это связано с аномально дорогим заказом, сделанным , 19 августа."
   ]
  },
  {
   "cell_type": "markdown",
   "metadata": {},
   "source": [
    "### График кумулятивного среднего чека по группам"
   ]
  },
  {
   "cell_type": "code",
   "execution_count": 19,
   "metadata": {
    "scrolled": false
   },
   "outputs": [
    {
     "data": {
      "image/png": "[encoded data removed]",
      "text/plain": [
       "<Figure size 1008x432 with 1 Axes>"
      ]
     },
     "metadata": {
      "needs_background": "light"
     },
     "output_type": "display_data"
    }
   ],
   "source": [
    "plt.figure(figsize=(14, 6))\n",
    "plt.ticklabel_format(style='plain')\n",
    "plt.plot(data['date'], data['revenue_cummulative_A']/data['orders_cummulative_A'], label='A')\n",
    "\n",
    "# Строим график выручки группы B\n",
    "plt.plot(data['date'], data['revenue_cummulative_B']/data['orders_cummulative_B'], label='B')\n",
    "\n",
    "plt.legend()\n",
    "plt.xlabel('Дата')\n",
    "plt.ylabel('Кумулятивный средний чек')\n",
    "plt.title('Кумулятивный средний чек по группам')\n",
    "plt.grid()\n",
    "plt.show()"
   ]
  },
  {
   "cell_type": "markdown",
   "metadata": {},
   "source": [
    "**Вывод к графику:**\n",
    "- в начале теста лидер по среднему чеку постоянно менялся, но за счёт резкого скачка в середине теста, вызванного аномально большим заказом группа В выбилась в лидеры и опережает группу А до конца теста. По группе А также видны скачки в начале теста, вызванные аномально дорогими заказами в эти даты.\n",
    "- средний чек группы A  практически установился\n",
    "- средний чек группы B ближе к концу теста равномерно падает"
   ]
  },
  {
   "cell_type": "markdown",
   "metadata": {},
   "source": [
    "### График относительного изменения кумулятивного среднего чека группы B к группе A"
   ]
  },
  {
   "cell_type": "code",
   "execution_count": 20,
   "metadata": {
    "scrolled": false
   },
   "outputs": [
    {
     "data": {
      "image/png": "[encoded data removed]",
      "text/plain": [
       "<Figure size 1008x432 with 1 Axes>"
      ]
     },
     "metadata": {
      "needs_background": "light"
     },
     "output_type": "display_data"
    }
   ],
   "source": [
    "plt.figure(figsize=(14, 6))\n",
    "plt.ticklabel_format(style='plain')\n",
    "plt.plot(data['date'], (data['revenue_cummulative_B']/data['orders_cummulative_B'])/\n",
    "         (data['revenue_cummulative_A']/data['orders_cummulative_A'])-1)\n",
    "\n",
    "\n",
    "\n",
    "\n",
    "plt.xlabel('Дата')\n",
    "plt.ylabel('Относительное изменение чека')\n",
    "plt.title('Относительное изменение среднего чека группы В к группе А')\n",
    "plt.grid()\n",
    "plt.axhline(y=0.2, color='grey', linestyle='--')\n",
    "plt.axhline(y=0, color='black', linestyle='--')\n",
    "plt.show()"
   ]
  },
  {
   "cell_type": "markdown",
   "metadata": {},
   "source": [
    "**Вывод к графику:**\n",
    "- график относительного изменения чека резко скачет в нескольких точках. Вероятнее всего, это вызвано аномально дорогими заказами в определённые даты.\n",
    "- на протяжении большей продолжительности теста группа B уверенно выигрывает у группы А."
   ]
  },
  {
   "cell_type": "markdown",
   "metadata": {},
   "source": [
    "### График кумулятивного среднего количества заказов на посетителя по группам."
   ]
  },
  {
   "cell_type": "code",
   "execution_count": 21,
   "metadata": {
    "scrolled": false
   },
   "outputs": [
    {
     "data": {
      "image/png": "[encoded data removed]",
      "text/plain": [
       "<Figure size 1008x432 with 1 Axes>"
      ]
     },
     "metadata": {
      "needs_background": "light"
     },
     "output_type": "display_data"
    }
   ],
   "source": [
    "plt.figure(figsize=(14, 6))\n",
    "\n",
    "plt.plot(data['date'], data['orders_cummulative_A']/data['visitors_cummulative_A'], label='A')\n",
    "\n",
    "# Строим график выручки группы B\n",
    "plt.plot(data['date'], data['orders_cummulative_B']/data['visitors_cummulative_B'], label='B')\n",
    "\n",
    "plt.legend()\n",
    "plt.xlabel('Дата')\n",
    "plt.ylabel('Кумулятивный среднее количество заказов')\n",
    "plt.title('Кумулятивный среднее количество заказов по группам')\n",
    "plt.grid()\n",
    "plt.ylim(0.02, 0.04)\n",
    "plt.show()"
   ]
  },
  {
   "cell_type": "markdown",
   "metadata": {},
   "source": [
    "**Вывод по графику**\n",
    "- в начале теста среднее количество заказов у группы А было больше, чем у группы B, но, начиная со второй недели, группа B уверенно лидирует по этой метрике\n",
    "- у обеих групп наблюдаются резкие скачки, вызванные аномально большим количеством заказов у некоторых пользователей в определнные даты\n",
    "- среднее количество заказов практически зафиксировалось у обеих групп. У группы B среднее количество заказов больше примерно на 15-17%, чем у группы А."
   ]
  },
  {
   "cell_type": "markdown",
   "metadata": {},
   "source": [
    "###  График относительного изменения кумулятивного среднего количества заказов на посетителя группы B к группе A"
   ]
  },
  {
   "cell_type": "code",
   "execution_count": 22,
   "metadata": {
    "scrolled": false
   },
   "outputs": [
    {
     "data": {
      "image/png": "[encoded data removed]",
      "text/plain": [
       "<Figure size 1008x432 with 1 Axes>"
      ]
     },
     "metadata": {
      "needs_background": "light"
     },
     "output_type": "display_data"
    }
   ],
   "source": [
    "plt.figure(figsize=(14, 6))\n",
    "plt.ticklabel_format(style='plain')\n",
    "plt.plot(data['date'], (data['orders_cummulative_B']/data['visitors_cummulative_B'])/\n",
    "         (data['orders_cummulative_A']/data['visitors_cummulative_A'])-1)\n",
    "\n",
    "\n",
    "\n",
    "\n",
    "plt.xlabel('Дата')\n",
    "plt.ylabel('Относительное изменение среднего количества заказов')\n",
    "plt.title('Относительного изменения кумулятивного среднего количества заказов на посетителя группы B к группе A')\n",
    "plt.grid()\n",
    "plt.axhline(y=0, color='black', linestyle='--')\n",
    "plt.axhline(y=0.1, color='grey', linestyle='--')\n",
    "plt.show()"
   ]
  },
  {
   "cell_type": "markdown",
   "metadata": {},
   "source": [
    "**Вывод по графику:**\n",
    "- в начале теста группа А лидировала по среднему количеству заказов на пользователя, но потом группа B вырвалась вперёд и стабильно продолжает лидировать \n",
    "- относительное изменение среднего количества заказов практически стабилизировалось"
   ]
  },
  {
   "cell_type": "markdown",
   "metadata": {},
   "source": [
    "### Ищем выбросы по количеству заказов на пользователя и определяем границу аномальных пользователей"
   ]
  },
  {
   "cell_type": "markdown",
   "metadata": {},
   "source": [
    "**Сгруппирум таблицу orders по пользователям и посчитаем для каждого количество заказов.**"
   ]
  },
  {
   "cell_type": "code",
   "execution_count": 23,
   "metadata": {
    "scrolled": false
   },
   "outputs": [
    {
     "name": "stdout",
     "output_type": "stream",
     "text": [
      "        user_id  orders\n",
      "908  3967698036       3\n",
      "55    249864742       3\n",
      "478  2108163459       3\n",
      "687  2988190573       3\n",
      "890  3908431265       3\n",
      "138   611059232       3\n",
      "632  2742574263       3\n",
      "157   678354126       2\n",
      "323  1404560065       2\n",
      "452  1985475298       2\n",
      "118   522292794       2\n",
      "628  2733145037       2\n",
      "634  2744017357       2\n",
      "407  1772171838       2\n",
      "548  2397843657       2\n",
      "529  2306096143       2\n",
      "940  4134830387       2\n",
      "94    406208401       2\n",
      "176   759473111       2\n",
      "476  2096506107       2\n"
     ]
    }
   ],
   "source": [
    "orders_by_users = (\n",
    "    orders.groupby('visitorId', as_index=False)\n",
    "    .agg({'transactionId': 'nunique'})\n",
    ")\n",
    "\n",
    "orders_by_users.columns = ['user_id', 'orders']\n",
    "\n",
    "print(orders_by_users.sort_values(by='orders', ascending=False).head(20)) "
   ]
  },
  {
   "cell_type": "markdown",
   "metadata": {},
   "source": [
    "**Вывод:**\n",
    "- в тесте участвуют пользователи, сделавшие 2 и 3 заказа."
   ]
  },
  {
   "cell_type": "markdown",
   "metadata": {},
   "source": [
    "**Постороим точечный график количества заказов по пользователям.**"
   ]
  },
  {
   "cell_type": "code",
   "execution_count": 24,
   "metadata": {
    "scrolled": false
   },
   "outputs": [
    {
     "data": {
      "image/png": "[encoded data removed]",
      "text/plain": [
       "<Figure size 1008x432 with 1 Axes>"
      ]
     },
     "metadata": {
      "needs_background": "light"
     },
     "output_type": "display_data"
    }
   ],
   "source": [
    "x_values = pd.Series(range(0,len(orders_by_users)))\n",
    "plt.figure(figsize=(14, 6))\n",
    "\n",
    "plt.scatter(x_values, orders_by_users['orders'])\n",
    "\n",
    "plt.ylabel('Количество заказов')\n",
    "plt.title('График количества заказов')\n",
    "plt.show()"
   ]
  },
  {
   "cell_type": "markdown",
   "metadata": {},
   "source": [
    "**Вывод к графику:**\n",
    "- подавляющее большинство пользователей сделало 1 заказ\n",
    "- есть пользователи, сделавшие 2-3 заказа."
   ]
  },
  {
   "cell_type": "markdown",
   "metadata": {},
   "source": [
    "**Посчитаем 95-й и 99-й перцентили количества заказов на пользователя.**"
   ]
  },
  {
   "cell_type": "code",
   "execution_count": 25,
   "metadata": {},
   "outputs": [
    {
     "name": "stdout",
     "output_type": "stream",
     "text": [
      "[1. 2. 2.]\n"
     ]
    }
   ],
   "source": [
    "print(np.percentile(orders_by_users['orders'], [95, 97, 99]))"
   ]
  },
  {
   "cell_type": "markdown",
   "metadata": {},
   "source": [
    "**Вывод:**\n",
    "- пользователей, сделавших более 2 заказов, будем считать аномальными. Доля таких пользователей менее 1 %."
   ]
  },
  {
   "cell_type": "markdown",
   "metadata": {},
   "source": [
    "### Ищем выбросы по стоимости заказов"
   ]
  },
  {
   "cell_type": "markdown",
   "metadata": {},
   "source": [
    "**Постороим точечный график стоимостей заказов.**"
   ]
  },
  {
   "cell_type": "code",
   "execution_count": 26,
   "metadata": {
    "scrolled": false
   },
   "outputs": [
    {
     "data": {
      "image/png": "[encoded data removed]",
      "text/plain": [
       "<Figure size 1008x432 with 1 Axes>"
      ]
     },
     "metadata": {
      "needs_background": "light"
     },
     "output_type": "display_data"
    }
   ],
   "source": [
    "x_values = pd.Series(range(0,len(orders['revenue'])))\n",
    "\n",
    "plt.figure(figsize=(14, 6))\n",
    "plt.ticklabel_format(style='plain')\n",
    "plt.grid()\n",
    "plt.scatter(x_values, orders['revenue']) \n",
    "plt.ylabel('Выручка с одного заказа')\n",
    "plt.title('График выручки с одного заказа')\n",
    "plt.show()"
   ]
  },
  {
   "cell_type": "markdown",
   "metadata": {},
   "source": [
    "**Вывод к графику:**\n",
    "- в тесте участвуют пользователи с аномально дорогими заказами\n",
    "- по графику видно, что большинство пользователи делали заказы до 60000-70000, но точно определить границы невозможно"
   ]
  },
  {
   "cell_type": "markdown",
   "metadata": {},
   "source": [
    "**Посчитаем 95-й и 99-й перцентили стоимости заказов.**"
   ]
  },
  {
   "cell_type": "code",
   "execution_count": 27,
   "metadata": {
    "scrolled": true
   },
   "outputs": [
    {
     "name": "stdout",
     "output_type": "stream",
     "text": [
      "[26785. 34792. 53904.]\n"
     ]
    }
   ],
   "source": [
    "print(np.percentile(orders['revenue'], [95,97, 99]))"
   ]
  },
  {
   "cell_type": "markdown",
   "metadata": {},
   "source": [
    "**Вывод:**\n",
    "- пользователей, сделавших заказ, стоимостью выше 35000 руб будем считать аномальными. Доля таких пользователей около 3 %."
   ]
  },
  {
   "cell_type": "markdown",
   "metadata": {},
   "source": [
    "### Cчитаем статистическую значимость различий в среднем количестве заказов на посетителя между группами по «сырым» данным"
   ]
  },
  {
   "cell_type": "markdown",
   "metadata": {},
   "source": [
    "**Создаём списки по группам с количеством заказов для пользователей в которые войдут:**\n",
    "- список с количеством заказов, пользователей сделавших хотя бы один заказ для каждой группы\n",
    "- нули для пользователей, не сделавших ни одного заказа. Количество нулей посчитаем, отняв от общего количества пользователей количество покупателей."
   ]
  },
  {
   "cell_type": "code",
   "execution_count": 28,
   "metadata": {
    "scrolled": true
   },
   "outputs": [],
   "source": [
    "orders_by_users_A = (orders[orders['group'] == 'A'].groupby('visitorId', as_index=False)\n",
    "    .agg({'transactionId': pd.Series.nunique}))\n",
    "\n",
    "orders_by_users_A.columns = ['userId', 'orders']\n",
    "\n",
    "orders_by_users_B = (orders[orders['group'] == 'B'].groupby('visitorId', as_index=False)\n",
    "    .agg({'transactionId': pd.Series.nunique}))\n",
    "\n",
    "orders_by_users_B.columns = ['userId', 'orders']\n",
    "\n",
    "\n",
    "sampleA = pd.concat([orders_by_users_A['orders'],\n",
    "     pd.Series(0,index=np.arange(data['visitors_per_date_A'].sum() - len(orders_by_users_A['orders'])),\n",
    "    name='orders')],axis=0)\n",
    "\n",
    "\n",
    "sampleB = pd.concat([orders_by_users_B['orders'],\n",
    "    pd.Series(0,index=np.arange(data['visitors_per_date_B'].sum() - len(orders_by_users_B['orders'])),\n",
    "    name='orders')],axis=0)\n",
    "\n"
   ]
  },
  {
   "cell_type": "markdown",
   "metadata": {},
   "source": [
    "**Сфорумулируем гипотезы:**\n",
    "\n",
    "Нулевая гипотеза: статистически значимых различий в среднем количестве заказов по сырым данным между группами А и В нет.\n",
    "\n",
    "Альтернативная гипотеза: есть статистически значимые различия в среднем количестве заказов по сырым данным между группами А и В\n",
    "\n",
    "Проверим статистически значимые различия методом stats.mannwhitneyu и посчитаем относительный прирост среднего числа заказов группы B по сырым данным."
   ]
  },
  {
   "cell_type": "code",
   "execution_count": 29,
   "metadata": {
    "scrolled": true
   },
   "outputs": [
    {
     "name": "stdout",
     "output_type": "stream",
     "text": [
      "p-value: 0.011\n",
      "ЕСТЬ статистически значимые различия в среднем количестве заказов по сырым данным между группами А и В\n",
      "Относительный прирост среднего числа заказов группы B по сырым данным: 15.98 %\n"
     ]
    }
   ],
   "source": [
    "alpha=0.05\n",
    "result=round(stats.mannwhitneyu(sampleA, sampleB)[1],3)\n",
    "print(f'p-value: {result}')\n",
    "if result < alpha:\n",
    "    print('ЕСТЬ статистически значимые различия в среднем количестве заказов по сырым данным между группами А и В')\n",
    "else:\n",
    "    print(' НЕТ статистически значимых различий в среднем количестве заказов по сырым данным между группами А и В')\n",
    "\n",
    "print(f'Относительный прирост среднего числа заказов группы B по сырым данным: {round((sampleB.mean() / sampleA.mean() - 1)*100,3)} %')\n"
   ]
  },
  {
   "cell_type": "markdown",
   "metadata": {},
   "source": [
    "**Вывод:**\n",
    "- по сырым данным имеются статистически значимые различия по количеству заказов в пользу группы В\n",
    "- среднее число заказов у группы В по сырым данным больше почти на 16% чем у группы А."
   ]
  },
  {
   "cell_type": "markdown",
   "metadata": {},
   "source": [
    "### Cчитаем статистическую значимость различий в среднем чеке заказа между группами по «сырым» данным"
   ]
  },
  {
   "cell_type": "markdown",
   "metadata": {},
   "source": [
    "**Сфорумулируем гипотезы:**\n",
    "\n",
    "Нулевая гипотеза: статистически значимых различий в среднем чеке заказа по сырым данным между группами А и В нет.\n",
    "\n",
    "Альтернативная гипотеза: есть статистически значимые различия в среднем чеке заказа по сырым данным между группами А и В\n",
    "\n",
    "Проверим статистически значимые различия методом stats.mannwhitneyu и посчитаем относительный прирост среднего чека группы B по сырым данным."
   ]
  },
  {
   "cell_type": "code",
   "execution_count": 30,
   "metadata": {
    "scrolled": true
   },
   "outputs": [
    {
     "name": "stdout",
     "output_type": "stream",
     "text": [
      "p-value: 0.829\n",
      "НЕТ статистически значимых различий в среднем чеке заказа по сырым данным между группами А и В\n",
      "Относительный прирост среднего чека группы B по сырым данным: 28.660 %\n"
     ]
    }
   ],
   "source": [
    "alpha=0.05\n",
    "\n",
    "result=round(stats.mannwhitneyu(orders[orders['group']=='A']['revenue'],orders[orders['group']=='B']['revenue'])[1],3)\n",
    "print(f'p-value: {result}')\n",
    "if result < alpha:\n",
    "    print('ЕСТЬ статистически значимые различия в среднем чеке заказа по сырым данным между группами А и В')\n",
    "else:\n",
    "    print('НЕТ статистически значимых различий в среднем чеке заказа по сырым данным между группами А и В')\n",
    "             \n",
    "print('Относительный прирост среднего чека группы B по сырым данным: {0:.3f} %'\\\n",
    "      .format((orders[orders['group']=='B']['revenue'].mean()/orders[orders['group']=='A']['revenue'].mean()-1)*100)) "
   ]
  },
  {
   "cell_type": "markdown",
   "metadata": {},
   "source": [
    "**Вывод:**\n",
    "- не смотря на то, что по сырым данным относительный прирост среднего чека группы B к группе А составляет более 28 %, он не является статистически значимым."
   ]
  },
  {
   "cell_type": "markdown",
   "metadata": {},
   "source": [
    "### Cчитаем статистическую значимость различий в среднем количестве заказов на посетителя между группами по «очищенным» данным"
   ]
  },
  {
   "cell_type": "markdown",
   "metadata": {},
   "source": [
    "**Для начала посчитаем сколько у нас аномальных пользователей и какую долю они занимают от всех покупателей.**"
   ]
  },
  {
   "cell_type": "code",
   "execution_count": 31,
   "metadata": {
    "scrolled": true
   },
   "outputs": [
    {
     "data": {
      "text/plain": [
       "'Количество аномальных пользователей: 37'"
      ]
     },
     "metadata": {},
     "output_type": "display_data"
    },
    {
     "data": {
      "text/plain": [
       "'Доля аномальных пользователей от всех покупателей:3.8 %'"
      ]
     },
     "metadata": {},
     "output_type": "display_data"
    }
   ],
   "source": [
    "users_with_many_orders = pd.concat([orders_by_users_A[orders_by_users_A['orders'] > 2]['userId'],\n",
    "        orders_by_users_B[orders_by_users_B['orders'] > 2]['userId']],axis=0)\n",
    "\n",
    "users_with_expensive_orders = orders[orders['revenue'] > 35000]['visitorId']\n",
    "abnormalUsers = (pd.concat([users_with_many_orders, users_with_expensive_orders], axis=0)\n",
    ".drop_duplicates().sort_values())\n",
    "\n",
    "display(f'Количество аномальных пользователей: {abnormalUsers.shape[0]}')\n",
    "display(f'Доля аномальных пользователей от всех покупателей:{round(abnormalUsers.shape[0]/orders.visitorId.nunique()*100,2)} %' )"
   ]
  },
  {
   "cell_type": "markdown",
   "metadata": {},
   "source": [
    "**Вывод:**\n",
    "- доля аномальных пользователей составляет 3,8 % от всех покупателей."
   ]
  },
  {
   "cell_type": "markdown",
   "metadata": {},
   "source": [
    "**Сфорумулируем гипотезы:**\n",
    "\n",
    "Нулевая гипотеза: статистически значимых различий в среднем количестве заказов по очищенным данным между группами А и В нет.\n",
    "\n",
    "Альтернативная гипотеза: есть статистически значимые различия в среднем количестве заказов по очищенным данным между группами А и В\n",
    "\n",
    "Проверим статистически значимые различия методом stats.mannwhitneyu и посчитаем относительный прирост среднего числа заказов группы B по очищенным данным."
   ]
  },
  {
   "cell_type": "code",
   "execution_count": 32,
   "metadata": {
    "scrolled": true
   },
   "outputs": [],
   "source": [
    "sampleAFiltered = pd.concat([orders_by_users_A[np.logical_not(orders_by_users_A['userId'].isin(abnormalUsers))]['orders'],\n",
    "    pd.Series(0,index=np.arange(data['visitors_per_date_A'].sum() - len(orders_by_users_A['orders'])),name='orders')],axis=0,)\n",
    "\n",
    "sampleBFiltered = pd.concat([orders_by_users_B[np.logical_not(orders_by_users_B['userId'].isin(abnormalUsers))]['orders'],\n",
    "    pd.Series(0,index=np.arange(data['visitors_per_date_B'].sum() - len(orders_by_users_B['orders'])),name='orders')],axis=0,)\n",
    "\n"
   ]
  },
  {
   "cell_type": "code",
   "execution_count": 33,
   "metadata": {},
   "outputs": [
    {
     "name": "stdout",
     "output_type": "stream",
     "text": [
      "p-value: 0.007\n",
      "ЕСТЬ статистически значимые различия в среднем количестве заказов по очищенным данным между группами А и В\n",
      "относительный прирост среднего числа заказов группы B по очищеным данным: 19.427 %\n"
     ]
    }
   ],
   "source": [
    "alpha=0.05\n",
    "result=round(stats.mannwhitneyu(sampleAFiltered, sampleBFiltered)[1],3)\n",
    "print(f'p-value: {result}')\n",
    "if result < alpha:\n",
    "    print('ЕСТЬ статистически значимые различия в среднем количестве заказов по очищенным данным между группами А и В')\n",
    "else:\n",
    "    print(' НЕТ статистически значимых различий в среднем количестве заказов по очищенным данным между группами А и В')\n",
    "\n",
    "\n",
    "print(f'относительный прирост среднего числа заказов группы B по очищеным данным: {round((sampleBFiltered.mean()/sampleAFiltered.mean()-1)*100,3)} %') "
   ]
  },
  {
   "cell_type": "markdown",
   "metadata": {},
   "source": [
    "**Вывод:**\n",
    "- исключив аномальных пользователей, мы получили ещё бОльшую статическую значимость различия по количеству заказов в пользу группы В\n",
    "- прирост среднего количества заказов на пользователя группы B к группе A увеличился до  20,5 %"
   ]
  },
  {
   "cell_type": "markdown",
   "metadata": {},
   "source": [
    "### Считаем статистическую значимость различий в среднем чеке заказа между группами по «очищенным» данным."
   ]
  },
  {
   "cell_type": "markdown",
   "metadata": {},
   "source": [
    "**Сфорумулируем гипотезы:**\n",
    "\n",
    "Нулевая гипотеза: статистически значимых различий в среднем чеке заказа по очищенным данным между группами А и В нет.\n",
    "\n",
    "Альтернативная гипотеза: есть статистически значимые различия в среднем чеке заказа по очищенным данным между группами А и В\n",
    "\n",
    "Проверим статистически значимые различия методом stats.mannwhitneyu и посчитаем относительный прирост среднего чека группы B по очищенным данным."
   ]
  },
  {
   "cell_type": "code",
   "execution_count": 34,
   "metadata": {},
   "outputs": [
    {
     "name": "stdout",
     "output_type": "stream",
     "text": [
      "p-value: 0.869\n",
      "НЕТ статистически значимых различий в среднем чеке заказа по очищенным данным между группами А и В\n",
      "Относительный прирост среднего чека группы B по очищенным данным: 0.332 %\n"
     ]
    }
   ],
   "source": [
    "alpha=0.05\n",
    "\n",
    "result=round(stats.mannwhitneyu(orders[np.logical_and(orders['group'] == 'A',\n",
    "                    np.logical_not(orders['visitorId'].isin(abnormalUsers)),)]['revenue'],\n",
    "orders[np.logical_and(orders['group'] == 'B',\n",
    "                      np.logical_not(orders['visitorId'].isin(abnormalUsers)),)]['revenue'],)[1],3)\n",
    "\n",
    "print(f'p-value: {result}')\n",
    "if result < alpha:\n",
    "    print('ЕСТЬ статистически значимые различия в среднем чеке заказа по очищенным данным между группами А и В')\n",
    "else:\n",
    "    print('НЕТ статистически значимых различий в среднем чеке заказа по очищенным данным между группами А и В')\n",
    "             \n",
    "print(\"Относительный прирост среднего чека группы B по очищенным данным: {0:.3f} %\".format((orders[np.logical_and(orders['group'] == 'B',\n",
    "                np.logical_not(orders['visitorId'].isin(abnormalUsers)),)]['revenue'].mean()\n",
    "/ orders[np.logical_and(orders['group'] == 'A',np.logical_not(orders['visitorId'].isin(abnormalUsers)),)]['revenue'].mean()\n",
    "        - 1)*100))"
   ]
  },
  {
   "cell_type": "markdown",
   "metadata": {},
   "source": [
    "**Вывод:**\n",
    "- без аномальных пользователей разница в среднем чеке составила всего 5,5% в пользу группы B, и тем более не является статистически значимой."
   ]
  },
  {
   "cell_type": "markdown",
   "metadata": {},
   "source": [
    "## Выводы и рекомендации по анализу A/B-теста"
   ]
  },
  {
   "cell_type": "markdown",
   "metadata": {},
   "source": [
    "### Выводы по анализу A/B-теста"
   ]
  },
  {
   "cell_type": "markdown",
   "metadata": {},
   "source": [
    "**Мы проанализировали данные, содержащие информацию о заказах, выручке, количеству посетителей и группе теста по A/B-тесту, проводившемуся с 01 августа 2019 года по 31 августа 2019 года:**\n",
    "\n",
    "**На этапе предобратоки мы:**\n",
    "- исключили из анализа пользователей, попавших в обе группы\n",
    "- проверили данные на наличие дубликатов и пропусков\n",
    "- привели столбцы к корректному типу данных\n",
    "\n",
    "**Анализ A/B-теста показал:**\n",
    "1. Куммулятивная выручка растёт по обеим группам.\n",
    "2. Есть статистистически значимое различие по количеству заказов как по сырым, так и по отфильтрованным данным в пользу группы B. Прирост среднего количества заказов на пользователя группы B к группе A по очищенным данным составил 20,5 %.\n",
    "3. График относительного изменения среднего количества заказов показал,что результаты практически стабилизировалось.\n",
    "4. По сырым данным относительный прирост среднего чека группы B к группе А составил более 28%, но при этом тест показал, что этот прирост не имеет статистической значимости.\n",
    "5. По данным после фильтрации от аномалий также нет статистически значимого различия по среднему чеку между группами."
   ]
  },
  {
   "cell_type": "markdown",
   "metadata": {},
   "source": [
    "### Рекомендации по проведению теста"
   ]
  },
  {
   "cell_type": "markdown",
   "metadata": {},
   "source": [
    "**Тест следует остановить и признать победу группы B. Благодаря внесённым изменениям, статистически значимо увеличилось количество заказов, а следовательно увеличилась и выручка.**"
   ]
  }
 ],
 "metadata": {
  "ExecuteTimeLog": [
   {
    "duration": 887,
    "start_time": "2024-08-27T13:37:05.364Z"
   },
   {
    "duration": 67,
    "start_time": "2024-08-27T13:37:47.663Z"
   },
   {
    "duration": 84,
    "start_time": "2024-08-27T13:38:01.057Z"
   },
   {
    "duration": 13,
    "start_time": "2024-08-27T13:38:10.999Z"
   },
   {
    "duration": 88,
    "start_time": "2024-08-27T13:39:59.349Z"
   },
   {
    "duration": 1113,
    "start_time": "2024-08-27T13:40:37.348Z"
   },
   {
    "duration": 13,
    "start_time": "2024-08-27T13:41:24.238Z"
   },
   {
    "duration": 12,
    "start_time": "2024-08-27T13:42:41.934Z"
   },
   {
    "duration": 10,
    "start_time": "2024-08-27T13:43:33.211Z"
   },
   {
    "duration": 895,
    "start_time": "2024-08-28T07:12:31.200Z"
   },
   {
    "duration": 94,
    "start_time": "2024-08-28T07:12:32.097Z"
   },
   {
    "duration": 17,
    "start_time": "2024-08-28T07:12:32.193Z"
   },
   {
    "duration": 12,
    "start_time": "2024-08-28T07:12:32.212Z"
   },
   {
    "duration": 12,
    "start_time": "2024-08-28T07:12:32.226Z"
   },
   {
    "duration": 38,
    "start_time": "2024-08-28T07:12:32.241Z"
   },
   {
    "duration": 467,
    "start_time": "2024-08-28T07:18:21.467Z"
   },
   {
    "duration": 71,
    "start_time": "2024-08-28T07:20:44.747Z"
   },
   {
    "duration": 178,
    "start_time": "2024-08-28T07:21:09.128Z"
   },
   {
    "duration": 3,
    "start_time": "2024-08-28T07:21:17.907Z"
   },
   {
    "duration": 27,
    "start_time": "2024-08-28T07:21:32.396Z"
   },
   {
    "duration": 24,
    "start_time": "2024-08-28T07:22:11.220Z"
   },
   {
    "duration": 13,
    "start_time": "2024-08-28T07:22:26.646Z"
   },
   {
    "duration": 26,
    "start_time": "2024-08-28T07:22:30.960Z"
   },
   {
    "duration": 23,
    "start_time": "2024-08-28T07:22:48.648Z"
   },
   {
    "duration": 4,
    "start_time": "2024-08-28T07:23:21.304Z"
   },
   {
    "duration": 226,
    "start_time": "2024-08-28T07:46:45.926Z"
   },
   {
    "duration": 280,
    "start_time": "2024-08-28T07:48:15.301Z"
   },
   {
    "duration": 276,
    "start_time": "2024-08-28T07:51:40.293Z"
   },
   {
    "duration": 185,
    "start_time": "2024-08-28T07:54:44.964Z"
   },
   {
    "duration": 189,
    "start_time": "2024-08-28T07:55:14.042Z"
   },
   {
    "duration": 214,
    "start_time": "2024-08-28T07:55:28.020Z"
   },
   {
    "duration": 211,
    "start_time": "2024-08-28T07:56:47.533Z"
   },
   {
    "duration": 240,
    "start_time": "2024-08-28T07:58:20.357Z"
   },
   {
    "duration": 235,
    "start_time": "2024-08-28T08:00:29.976Z"
   },
   {
    "duration": 321,
    "start_time": "2024-08-28T08:05:11.670Z"
   },
   {
    "duration": 238,
    "start_time": "2024-08-28T08:07:23.599Z"
   },
   {
    "duration": 223,
    "start_time": "2024-08-28T08:17:18.761Z"
   },
   {
    "duration": 225,
    "start_time": "2024-08-28T08:20:17.815Z"
   },
   {
    "duration": 212,
    "start_time": "2024-08-28T08:20:44.822Z"
   },
   {
    "duration": 374,
    "start_time": "2024-08-28T08:21:26.113Z"
   },
   {
    "duration": 269,
    "start_time": "2024-08-28T08:46:08.603Z"
   },
   {
    "duration": 281,
    "start_time": "2024-08-28T08:46:21.772Z"
   },
   {
    "duration": 386,
    "start_time": "2024-08-28T08:48:15.773Z"
   },
   {
    "duration": 266,
    "start_time": "2024-08-28T08:49:01.986Z"
   },
   {
    "duration": 233,
    "start_time": "2024-08-28T08:49:35.861Z"
   },
   {
    "duration": 339,
    "start_time": "2024-08-28T08:49:40.784Z"
   },
   {
    "duration": 242,
    "start_time": "2024-08-28T08:49:50.579Z"
   },
   {
    "duration": 235,
    "start_time": "2024-08-28T08:50:10.563Z"
   },
   {
    "duration": 237,
    "start_time": "2024-08-28T08:50:17.850Z"
   },
   {
    "duration": 252,
    "start_time": "2024-08-28T08:50:53.536Z"
   },
   {
    "duration": 265,
    "start_time": "2024-08-28T08:51:09.832Z"
   },
   {
    "duration": 285,
    "start_time": "2024-08-28T08:53:30.777Z"
   },
   {
    "duration": 357,
    "start_time": "2024-08-28T08:54:52.004Z"
   },
   {
    "duration": 248,
    "start_time": "2024-08-28T08:55:44.219Z"
   },
   {
    "duration": 342,
    "start_time": "2024-08-28T08:57:20.996Z"
   },
   {
    "duration": 373,
    "start_time": "2024-08-28T08:57:48.374Z"
   },
   {
    "duration": 420,
    "start_time": "2024-08-28T08:58:17.434Z"
   },
   {
    "duration": 390,
    "start_time": "2024-08-28T08:59:05.101Z"
   },
   {
    "duration": 402,
    "start_time": "2024-08-28T08:59:27.188Z"
   },
   {
    "duration": 9,
    "start_time": "2024-08-28T09:02:41.856Z"
   },
   {
    "duration": 12,
    "start_time": "2024-08-28T09:03:40.474Z"
   },
   {
    "duration": 122,
    "start_time": "2024-08-28T09:19:36.520Z"
   },
   {
    "duration": 149,
    "start_time": "2024-08-28T09:23:46.182Z"
   },
   {
    "duration": 133,
    "start_time": "2024-08-28T09:26:10.477Z"
   },
   {
    "duration": 158,
    "start_time": "2024-08-28T09:26:39.680Z"
   },
   {
    "duration": 251,
    "start_time": "2024-08-28T09:27:03.740Z"
   },
   {
    "duration": 151,
    "start_time": "2024-08-28T09:27:21.439Z"
   },
   {
    "duration": 6,
    "start_time": "2024-08-28T09:36:17.306Z"
   },
   {
    "duration": 4,
    "start_time": "2024-08-28T09:38:52.703Z"
   },
   {
    "duration": 4,
    "start_time": "2024-08-28T09:39:42.044Z"
   },
   {
    "duration": 4,
    "start_time": "2024-08-28T09:46:53.262Z"
   },
   {
    "duration": 4,
    "start_time": "2024-08-28T09:48:44.648Z"
   },
   {
    "duration": 1251,
    "start_time": "2024-08-29T07:26:12.564Z"
   },
   {
    "duration": 170,
    "start_time": "2024-08-29T07:26:13.817Z"
   },
   {
    "duration": 12,
    "start_time": "2024-08-29T07:26:13.989Z"
   },
   {
    "duration": 11,
    "start_time": "2024-08-29T07:26:14.003Z"
   },
   {
    "duration": 23,
    "start_time": "2024-08-29T07:26:14.015Z"
   },
   {
    "duration": 13,
    "start_time": "2024-08-29T07:26:14.040Z"
   },
   {
    "duration": 164,
    "start_time": "2024-08-29T07:26:14.054Z"
   },
   {
    "duration": 4,
    "start_time": "2024-08-29T07:26:14.220Z"
   },
   {
    "duration": 26,
    "start_time": "2024-08-29T07:26:14.225Z"
   },
   {
    "duration": 12,
    "start_time": "2024-08-29T07:26:14.253Z"
   },
   {
    "duration": 21,
    "start_time": "2024-08-29T07:26:14.267Z"
   },
   {
    "duration": 4,
    "start_time": "2024-08-29T07:26:14.290Z"
   },
   {
    "duration": 241,
    "start_time": "2024-08-29T07:26:14.295Z"
   },
   {
    "duration": 316,
    "start_time": "2024-08-29T07:26:14.538Z"
   },
   {
    "duration": 226,
    "start_time": "2024-08-29T07:26:14.855Z"
   },
   {
    "duration": 355,
    "start_time": "2024-08-29T07:26:15.083Z"
   },
   {
    "duration": 253,
    "start_time": "2024-08-29T07:26:15.439Z"
   },
   {
    "duration": 318,
    "start_time": "2024-08-29T07:26:15.694Z"
   },
   {
    "duration": 8,
    "start_time": "2024-08-29T07:26:16.014Z"
   },
   {
    "duration": 150,
    "start_time": "2024-08-29T07:26:16.024Z"
   },
   {
    "duration": 4,
    "start_time": "2024-08-29T07:26:16.176Z"
   },
   {
    "duration": 156,
    "start_time": "2024-08-29T07:26:16.182Z"
   },
   {
    "duration": 4,
    "start_time": "2024-08-29T07:26:16.340Z"
   },
   {
    "duration": 4,
    "start_time": "2024-08-29T07:26:33.203Z"
   },
   {
    "duration": 4,
    "start_time": "2024-08-29T07:26:38.344Z"
   },
   {
    "duration": 4,
    "start_time": "2024-08-29T07:26:47.208Z"
   },
   {
    "duration": 5,
    "start_time": "2024-08-29T07:26:54.597Z"
   },
   {
    "duration": 4,
    "start_time": "2024-08-29T07:27:09.127Z"
   },
   {
    "duration": 4,
    "start_time": "2024-08-29T07:27:14.043Z"
   },
   {
    "duration": 4,
    "start_time": "2024-08-29T07:27:25.994Z"
   },
   {
    "duration": 4,
    "start_time": "2024-08-29T07:27:36.865Z"
   },
   {
    "duration": 4,
    "start_time": "2024-08-29T07:27:41.398Z"
   },
   {
    "duration": 4,
    "start_time": "2024-08-29T07:27:48.614Z"
   },
   {
    "duration": 11,
    "start_time": "2024-08-29T07:30:37.469Z"
   },
   {
    "duration": 9,
    "start_time": "2024-08-29T07:35:47.788Z"
   },
   {
    "duration": 11,
    "start_time": "2024-08-29T07:37:26.339Z"
   },
   {
    "duration": 15,
    "start_time": "2024-08-29T07:37:49.978Z"
   },
   {
    "duration": 169,
    "start_time": "2024-08-29T07:39:41.699Z"
   },
   {
    "duration": 133,
    "start_time": "2024-08-29T07:40:10.596Z"
   },
   {
    "duration": 158,
    "start_time": "2024-08-29T07:40:45.367Z"
   },
   {
    "duration": 10,
    "start_time": "2024-08-29T07:47:58.026Z"
   },
   {
    "duration": 9,
    "start_time": "2024-08-29T07:48:15.523Z"
   },
   {
    "duration": 14,
    "start_time": "2024-08-29T07:48:45.845Z"
   },
   {
    "duration": 8,
    "start_time": "2024-08-29T07:50:13.178Z"
   },
   {
    "duration": 8,
    "start_time": "2024-08-29T07:50:23.612Z"
   },
   {
    "duration": 9,
    "start_time": "2024-08-29T07:51:17.545Z"
   },
   {
    "duration": 10,
    "start_time": "2024-08-29T07:51:26.231Z"
   },
   {
    "duration": 1019,
    "start_time": "2024-08-29T07:52:13.306Z"
   },
   {
    "duration": 79,
    "start_time": "2024-08-29T07:52:14.327Z"
   },
   {
    "duration": 11,
    "start_time": "2024-08-29T07:52:14.407Z"
   },
   {
    "duration": 10,
    "start_time": "2024-08-29T07:52:14.420Z"
   },
   {
    "duration": 10,
    "start_time": "2024-08-29T07:52:14.431Z"
   },
   {
    "duration": 8,
    "start_time": "2024-08-29T07:52:14.452Z"
   },
   {
    "duration": 64,
    "start_time": "2024-08-29T07:52:14.462Z"
   },
   {
    "duration": 3,
    "start_time": "2024-08-29T07:52:14.528Z"
   },
   {
    "duration": 24,
    "start_time": "2024-08-29T07:52:14.532Z"
   },
   {
    "duration": 12,
    "start_time": "2024-08-29T07:52:14.558Z"
   },
   {
    "duration": 23,
    "start_time": "2024-08-29T07:52:14.571Z"
   },
   {
    "duration": 4,
    "start_time": "2024-08-29T07:52:14.595Z"
   },
   {
    "duration": 229,
    "start_time": "2024-08-29T07:52:14.600Z"
   },
   {
    "duration": 321,
    "start_time": "2024-08-29T07:52:14.831Z"
   },
   {
    "duration": 230,
    "start_time": "2024-08-29T07:52:15.153Z"
   },
   {
    "duration": 324,
    "start_time": "2024-08-29T07:52:15.385Z"
   },
   {
    "duration": 249,
    "start_time": "2024-08-29T07:52:15.710Z"
   },
   {
    "duration": 331,
    "start_time": "2024-08-29T07:52:15.960Z"
   },
   {
    "duration": 9,
    "start_time": "2024-08-29T07:52:16.292Z"
   },
   {
    "duration": 149,
    "start_time": "2024-08-29T07:52:16.303Z"
   },
   {
    "duration": 5,
    "start_time": "2024-08-29T07:52:16.453Z"
   },
   {
    "duration": 166,
    "start_time": "2024-08-29T07:52:16.459Z"
   },
   {
    "duration": 3,
    "start_time": "2024-08-29T07:52:16.627Z"
   },
   {
    "duration": 189,
    "start_time": "2024-08-29T07:52:16.632Z"
   },
   {
    "duration": 12,
    "start_time": "2024-08-29T07:52:16.823Z"
   },
   {
    "duration": 21,
    "start_time": "2024-08-29T07:52:16.837Z"
   },
   {
    "duration": 1424,
    "start_time": "2024-08-29T13:28:16.232Z"
   },
   {
    "duration": 152,
    "start_time": "2024-08-29T13:28:17.658Z"
   },
   {
    "duration": 12,
    "start_time": "2024-08-29T13:28:17.811Z"
   },
   {
    "duration": 16,
    "start_time": "2024-08-29T13:28:17.825Z"
   },
   {
    "duration": 10,
    "start_time": "2024-08-29T13:28:17.842Z"
   },
   {
    "duration": 14,
    "start_time": "2024-08-29T13:28:17.854Z"
   },
   {
    "duration": 170,
    "start_time": "2024-08-29T13:28:17.869Z"
   },
   {
    "duration": 4,
    "start_time": "2024-08-29T13:28:18.040Z"
   },
   {
    "duration": 34,
    "start_time": "2024-08-29T13:28:18.046Z"
   },
   {
    "duration": 17,
    "start_time": "2024-08-29T13:28:18.084Z"
   },
   {
    "duration": 48,
    "start_time": "2024-08-29T13:28:18.103Z"
   },
   {
    "duration": 4,
    "start_time": "2024-08-29T13:28:18.153Z"
   },
   {
    "duration": 249,
    "start_time": "2024-08-29T13:28:18.158Z"
   },
   {
    "duration": 346,
    "start_time": "2024-08-29T13:28:18.409Z"
   },
   {
    "duration": 230,
    "start_time": "2024-08-29T13:28:18.757Z"
   },
   {
    "duration": 443,
    "start_time": "2024-08-29T13:28:18.989Z"
   },
   {
    "duration": 328,
    "start_time": "2024-08-29T13:28:19.434Z"
   },
   {
    "duration": 349,
    "start_time": "2024-08-29T13:28:19.765Z"
   },
   {
    "duration": 13,
    "start_time": "2024-08-29T13:28:20.116Z"
   },
   {
    "duration": 166,
    "start_time": "2024-08-29T13:28:20.131Z"
   },
   {
    "duration": 4,
    "start_time": "2024-08-29T13:28:20.299Z"
   },
   {
    "duration": 227,
    "start_time": "2024-08-29T13:28:20.305Z"
   },
   {
    "duration": 5,
    "start_time": "2024-08-29T13:28:20.534Z"
   },
   {
    "duration": 168,
    "start_time": "2024-08-29T13:28:20.546Z"
   },
   {
    "duration": 11,
    "start_time": "2024-08-29T13:28:20.716Z"
   },
   {
    "duration": 44,
    "start_time": "2024-08-29T13:28:20.729Z"
   },
   {
    "duration": 8,
    "start_time": "2024-08-29T13:28:58.844Z"
   },
   {
    "duration": 87,
    "start_time": "2024-08-29T13:30:44.024Z"
   },
   {
    "duration": 9,
    "start_time": "2024-08-29T13:30:51.464Z"
   },
   {
    "duration": 56,
    "start_time": "2024-08-29T13:33:19.593Z"
   },
   {
    "duration": 10,
    "start_time": "2024-08-29T13:33:35.064Z"
   },
   {
    "duration": 12,
    "start_time": "2024-08-29T13:33:56.147Z"
   },
   {
    "duration": 14,
    "start_time": "2024-08-29T13:35:43.265Z"
   },
   {
    "duration": 13,
    "start_time": "2024-08-29T13:35:54.516Z"
   },
   {
    "duration": 10,
    "start_time": "2024-08-29T13:36:28.833Z"
   },
   {
    "duration": 31,
    "start_time": "2024-08-29T13:42:25.088Z"
   },
   {
    "duration": 1496,
    "start_time": "2024-08-29T13:50:49.570Z"
   },
   {
    "duration": 18,
    "start_time": "2024-08-29T13:51:36.115Z"
   },
   {
    "duration": 16,
    "start_time": "2024-08-29T13:52:45.405Z"
   },
   {
    "duration": 68,
    "start_time": "2024-08-29T13:55:18.690Z"
   },
   {
    "duration": 10,
    "start_time": "2024-08-29T13:55:39.152Z"
   },
   {
    "duration": 11,
    "start_time": "2024-08-29T13:55:52.995Z"
   },
   {
    "duration": 12,
    "start_time": "2024-08-29T13:56:20.361Z"
   },
   {
    "duration": 32,
    "start_time": "2024-08-29T13:56:37.760Z"
   },
   {
    "duration": 35,
    "start_time": "2024-08-29T13:56:59.405Z"
   },
   {
    "duration": 38,
    "start_time": "2024-08-29T13:57:48.021Z"
   },
   {
    "duration": 49,
    "start_time": "2024-08-29T13:57:57.520Z"
   },
   {
    "duration": 89,
    "start_time": "2024-08-29T13:59:35.976Z"
   },
   {
    "duration": 30,
    "start_time": "2024-08-29T13:59:45.697Z"
   },
   {
    "duration": 32,
    "start_time": "2024-08-29T14:00:15.467Z"
   },
   {
    "duration": 33,
    "start_time": "2024-08-29T14:00:33.522Z"
   },
   {
    "duration": 32,
    "start_time": "2024-08-29T14:00:56.371Z"
   },
   {
    "duration": 31,
    "start_time": "2024-08-29T14:01:08.396Z"
   },
   {
    "duration": 39,
    "start_time": "2024-08-29T14:01:41.816Z"
   },
   {
    "duration": 12,
    "start_time": "2024-08-29T14:06:56.833Z"
   },
   {
    "duration": 10,
    "start_time": "2024-08-29T14:07:46.528Z"
   },
   {
    "duration": 1131,
    "start_time": "2024-08-29T14:18:42.479Z"
   },
   {
    "duration": 91,
    "start_time": "2024-08-29T14:18:43.619Z"
   },
   {
    "duration": 10,
    "start_time": "2024-08-29T14:18:43.712Z"
   },
   {
    "duration": 47,
    "start_time": "2024-08-29T14:18:43.724Z"
   },
   {
    "duration": 30,
    "start_time": "2024-08-29T14:18:43.773Z"
   },
   {
    "duration": 12,
    "start_time": "2024-08-29T14:18:43.804Z"
   },
   {
    "duration": 69,
    "start_time": "2024-08-29T14:18:43.818Z"
   },
   {
    "duration": 5,
    "start_time": "2024-08-29T14:18:43.889Z"
   },
   {
    "duration": 45,
    "start_time": "2024-08-29T14:18:43.896Z"
   },
   {
    "duration": 13,
    "start_time": "2024-08-29T14:18:43.943Z"
   },
   {
    "duration": 34,
    "start_time": "2024-08-29T14:18:43.957Z"
   },
   {
    "duration": 15,
    "start_time": "2024-08-29T14:18:43.992Z"
   },
   {
    "duration": 228,
    "start_time": "2024-08-29T14:18:44.009Z"
   },
   {
    "duration": 307,
    "start_time": "2024-08-29T14:18:44.239Z"
   },
   {
    "duration": 251,
    "start_time": "2024-08-29T14:18:44.548Z"
   },
   {
    "duration": 322,
    "start_time": "2024-08-29T14:18:44.801Z"
   },
   {
    "duration": 276,
    "start_time": "2024-08-29T14:18:45.125Z"
   },
   {
    "duration": 333,
    "start_time": "2024-08-29T14:18:45.402Z"
   },
   {
    "duration": 18,
    "start_time": "2024-08-29T14:18:45.736Z"
   },
   {
    "duration": 152,
    "start_time": "2024-08-29T14:18:45.756Z"
   },
   {
    "duration": 5,
    "start_time": "2024-08-29T14:18:45.909Z"
   },
   {
    "duration": 167,
    "start_time": "2024-08-29T14:18:45.916Z"
   },
   {
    "duration": 5,
    "start_time": "2024-08-29T14:18:46.084Z"
   },
   {
    "duration": 167,
    "start_time": "2024-08-29T14:18:46.090Z"
   },
   {
    "duration": 10,
    "start_time": "2024-08-29T14:18:46.259Z"
   },
   {
    "duration": 20,
    "start_time": "2024-08-29T14:18:46.270Z"
   },
   {
    "duration": 38,
    "start_time": "2024-08-29T14:18:46.291Z"
   },
   {
    "duration": 20,
    "start_time": "2024-08-29T14:18:46.332Z"
   },
   {
    "duration": 1335,
    "start_time": "2024-08-30T07:11:24.206Z"
   },
   {
    "duration": 137,
    "start_time": "2024-08-30T07:11:25.543Z"
   },
   {
    "duration": 11,
    "start_time": "2024-08-30T07:11:25.682Z"
   },
   {
    "duration": 11,
    "start_time": "2024-08-30T07:11:25.695Z"
   },
   {
    "duration": 12,
    "start_time": "2024-08-30T07:11:25.708Z"
   },
   {
    "duration": 10,
    "start_time": "2024-08-30T07:11:25.722Z"
   },
   {
    "duration": 168,
    "start_time": "2024-08-30T07:11:25.746Z"
   },
   {
    "duration": 4,
    "start_time": "2024-08-30T07:11:25.915Z"
   },
   {
    "duration": 26,
    "start_time": "2024-08-30T07:11:25.920Z"
   },
   {
    "duration": 12,
    "start_time": "2024-08-30T07:11:25.949Z"
   },
   {
    "duration": 26,
    "start_time": "2024-08-30T07:11:25.963Z"
   },
   {
    "duration": 5,
    "start_time": "2024-08-30T07:11:25.990Z"
   },
   {
    "duration": 271,
    "start_time": "2024-08-30T07:11:25.997Z"
   },
   {
    "duration": 357,
    "start_time": "2024-08-30T07:11:26.270Z"
   },
   {
    "duration": 259,
    "start_time": "2024-08-30T07:11:26.629Z"
   },
   {
    "duration": 352,
    "start_time": "2024-08-30T07:11:26.890Z"
   },
   {
    "duration": 245,
    "start_time": "2024-08-30T07:11:27.244Z"
   },
   {
    "duration": 307,
    "start_time": "2024-08-30T07:11:27.490Z"
   },
   {
    "duration": 9,
    "start_time": "2024-08-30T07:11:27.799Z"
   },
   {
    "duration": 149,
    "start_time": "2024-08-30T07:11:27.809Z"
   },
   {
    "duration": 5,
    "start_time": "2024-08-30T07:11:27.960Z"
   },
   {
    "duration": 182,
    "start_time": "2024-08-30T07:11:27.967Z"
   },
   {
    "duration": 5,
    "start_time": "2024-08-30T07:11:28.151Z"
   },
   {
    "duration": 185,
    "start_time": "2024-08-30T07:11:28.158Z"
   },
   {
    "duration": 11,
    "start_time": "2024-08-30T07:11:28.347Z"
   },
   {
    "duration": 11,
    "start_time": "2024-08-30T07:11:28.360Z"
   },
   {
    "duration": 32,
    "start_time": "2024-08-30T07:11:28.373Z"
   },
   {
    "duration": 48,
    "start_time": "2024-08-30T07:11:28.409Z"
   },
   {
    "duration": 240,
    "start_time": "2024-08-30T07:50:55.871Z"
   },
   {
    "duration": 13,
    "start_time": "2024-08-30T07:54:19.314Z"
   },
   {
    "duration": 221,
    "start_time": "2024-08-30T07:55:56.677Z"
   },
   {
    "duration": 235,
    "start_time": "2024-08-30T08:02:32.184Z"
   },
   {
    "duration": 366,
    "start_time": "2024-08-30T08:12:42.658Z"
   },
   {
    "duration": 14,
    "start_time": "2024-08-30T08:29:05.162Z"
   },
   {
    "duration": 6,
    "start_time": "2024-08-30T08:34:09.762Z"
   },
   {
    "duration": 6,
    "start_time": "2024-08-30T08:35:44.137Z"
   },
   {
    "duration": 6,
    "start_time": "2024-08-30T08:36:03.822Z"
   },
   {
    "duration": 9,
    "start_time": "2024-08-30T08:37:34.077Z"
   },
   {
    "duration": 296,
    "start_time": "2024-08-30T08:45:00.951Z"
   },
   {
    "duration": 13,
    "start_time": "2024-08-30T08:48:11.957Z"
   },
   {
    "duration": 11,
    "start_time": "2024-08-30T08:48:20.894Z"
   },
   {
    "duration": 31,
    "start_time": "2024-08-30T08:54:33.700Z"
   },
   {
    "duration": 6,
    "start_time": "2024-08-30T08:54:40.633Z"
   },
   {
    "duration": 161,
    "start_time": "2024-08-30T08:54:48.327Z"
   },
   {
    "duration": 24,
    "start_time": "2024-08-30T08:54:51.034Z"
   },
   {
    "duration": 156,
    "start_time": "2024-08-30T08:57:14.337Z"
   },
   {
    "duration": 26,
    "start_time": "2024-08-30T08:57:15.347Z"
   },
   {
    "duration": 142,
    "start_time": "2024-08-30T08:57:23.127Z"
   },
   {
    "duration": 26,
    "start_time": "2024-08-30T08:57:23.925Z"
   },
   {
    "duration": 173,
    "start_time": "2024-08-30T08:57:32.390Z"
   },
   {
    "duration": 26,
    "start_time": "2024-08-30T08:57:33.149Z"
   },
   {
    "duration": 158,
    "start_time": "2024-08-30T08:57:39.442Z"
   },
   {
    "duration": 28,
    "start_time": "2024-08-30T08:57:40.539Z"
   },
   {
    "duration": 143,
    "start_time": "2024-08-30T08:58:46.065Z"
   },
   {
    "duration": 27,
    "start_time": "2024-08-30T08:58:47.097Z"
   },
   {
    "duration": 134,
    "start_time": "2024-08-30T08:59:07.861Z"
   },
   {
    "duration": 1188,
    "start_time": "2024-08-30T08:59:36.724Z"
   },
   {
    "duration": 84,
    "start_time": "2024-08-30T08:59:37.914Z"
   },
   {
    "duration": 11,
    "start_time": "2024-08-30T08:59:38.000Z"
   },
   {
    "duration": 10,
    "start_time": "2024-08-30T08:59:38.013Z"
   },
   {
    "duration": 25,
    "start_time": "2024-08-30T08:59:38.024Z"
   },
   {
    "duration": 58,
    "start_time": "2024-08-30T08:59:38.050Z"
   },
   {
    "duration": 4,
    "start_time": "2024-08-30T08:59:38.110Z"
   },
   {
    "duration": 28,
    "start_time": "2024-08-30T08:59:38.115Z"
   },
   {
    "duration": 11,
    "start_time": "2024-08-30T08:59:38.144Z"
   },
   {
    "duration": 22,
    "start_time": "2024-08-30T08:59:38.158Z"
   },
   {
    "duration": 4,
    "start_time": "2024-08-30T08:59:38.181Z"
   },
   {
    "duration": 23,
    "start_time": "2024-08-30T08:59:38.187Z"
   },
   {
    "duration": 237,
    "start_time": "2024-08-30T08:59:38.211Z"
   },
   {
    "duration": 12,
    "start_time": "2024-08-30T08:59:38.450Z"
   },
   {
    "duration": 369,
    "start_time": "2024-08-30T08:59:38.463Z"
   },
   {
    "duration": 230,
    "start_time": "2024-08-30T08:59:38.834Z"
   },
   {
    "duration": 338,
    "start_time": "2024-08-30T08:59:39.065Z"
   },
   {
    "duration": 250,
    "start_time": "2024-08-30T08:59:39.405Z"
   },
   {
    "duration": 319,
    "start_time": "2024-08-30T08:59:39.657Z"
   },
   {
    "duration": 10,
    "start_time": "2024-08-30T08:59:39.978Z"
   },
   {
    "duration": 150,
    "start_time": "2024-08-30T08:59:39.989Z"
   },
   {
    "duration": 4,
    "start_time": "2024-08-30T08:59:40.145Z"
   },
   {
    "duration": 165,
    "start_time": "2024-08-30T08:59:40.151Z"
   },
   {
    "duration": 4,
    "start_time": "2024-08-30T08:59:40.318Z"
   },
   {
    "duration": 163,
    "start_time": "2024-08-30T08:59:40.324Z"
   },
   {
    "duration": 28,
    "start_time": "2024-08-30T08:59:40.489Z"
   },
   {
    "duration": 29,
    "start_time": "2024-08-30T08:59:40.519Z"
   },
   {
    "duration": 15,
    "start_time": "2024-08-30T08:59:40.553Z"
   },
   {
    "duration": 46,
    "start_time": "2024-08-30T08:59:40.571Z"
   },
   {
    "duration": 37,
    "start_time": "2024-08-30T08:59:40.619Z"
   },
   {
    "duration": 63,
    "start_time": "2024-08-30T09:09:59.124Z"
   },
   {
    "duration": 27,
    "start_time": "2024-08-30T09:10:45.441Z"
   },
   {
    "duration": 28,
    "start_time": "2024-08-30T09:12:34.687Z"
   },
   {
    "duration": 26,
    "start_time": "2024-08-30T09:13:04.831Z"
   },
   {
    "duration": 18,
    "start_time": "2024-08-30T09:18:21.734Z"
   },
   {
    "duration": 15,
    "start_time": "2024-08-30T09:18:48.441Z"
   },
   {
    "duration": 11,
    "start_time": "2024-08-30T09:19:00.375Z"
   },
   {
    "duration": 13,
    "start_time": "2024-08-30T09:20:35.061Z"
   },
   {
    "duration": 12,
    "start_time": "2024-08-30T09:20:56.768Z"
   },
   {
    "duration": 12,
    "start_time": "2024-08-30T09:21:30.122Z"
   },
   {
    "duration": 11,
    "start_time": "2024-08-30T09:21:41.503Z"
   },
   {
    "duration": 15,
    "start_time": "2024-08-30T09:30:20.912Z"
   },
   {
    "duration": 15,
    "start_time": "2024-08-30T09:30:52.317Z"
   },
   {
    "duration": 14,
    "start_time": "2024-08-30T09:33:34.146Z"
   },
   {
    "duration": 34,
    "start_time": "2024-08-30T09:35:23.710Z"
   },
   {
    "duration": 15,
    "start_time": "2024-08-30T09:36:14.111Z"
   },
   {
    "duration": 14,
    "start_time": "2024-08-30T09:37:15.531Z"
   },
   {
    "duration": 224,
    "start_time": "2024-08-30T09:41:03.692Z"
   },
   {
    "duration": 17,
    "start_time": "2024-08-30T09:47:02.809Z"
   },
   {
    "duration": 13,
    "start_time": "2024-08-30T09:47:20.257Z"
   },
   {
    "duration": 33,
    "start_time": "2024-08-30T10:51:13.291Z"
   },
   {
    "duration": 29,
    "start_time": "2024-08-30T10:53:32.517Z"
   },
   {
    "duration": 28,
    "start_time": "2024-08-30T10:54:11.959Z"
   },
   {
    "duration": 25,
    "start_time": "2024-08-30T10:54:38.763Z"
   },
   {
    "duration": 25,
    "start_time": "2024-08-30T10:54:45.674Z"
   },
   {
    "duration": 28,
    "start_time": "2024-08-30T11:00:15.965Z"
   },
   {
    "duration": 70,
    "start_time": "2024-08-30T11:00:57.420Z"
   },
   {
    "duration": 59,
    "start_time": "2024-08-30T11:03:19.311Z"
   },
   {
    "duration": 67,
    "start_time": "2024-08-30T11:04:49.882Z"
   },
   {
    "duration": 55,
    "start_time": "2024-08-30T11:05:17.056Z"
   },
   {
    "duration": 58,
    "start_time": "2024-08-30T11:06:20.218Z"
   },
   {
    "duration": 13,
    "start_time": "2024-08-30T11:08:11.254Z"
   },
   {
    "duration": 12,
    "start_time": "2024-08-30T11:08:19.728Z"
   },
   {
    "duration": 11,
    "start_time": "2024-08-30T11:09:11.873Z"
   },
   {
    "duration": 13,
    "start_time": "2024-08-30T11:11:28.576Z"
   },
   {
    "duration": 10,
    "start_time": "2024-08-30T11:11:43.514Z"
   },
   {
    "duration": 11,
    "start_time": "2024-08-30T11:12:13.591Z"
   },
   {
    "duration": 33,
    "start_time": "2024-08-30T11:14:48.419Z"
   },
   {
    "duration": 34,
    "start_time": "2024-08-30T11:15:02.956Z"
   },
   {
    "duration": 32,
    "start_time": "2024-08-30T11:16:03.335Z"
   },
   {
    "duration": 49,
    "start_time": "2024-08-30T11:17:36.445Z"
   },
   {
    "duration": 29,
    "start_time": "2024-08-30T11:18:27.884Z"
   },
   {
    "duration": 28,
    "start_time": "2024-08-30T11:18:40.455Z"
   },
   {
    "duration": 27,
    "start_time": "2024-08-30T11:19:11.469Z"
   },
   {
    "duration": 14,
    "start_time": "2024-08-30T11:21:41.482Z"
   },
   {
    "duration": 13,
    "start_time": "2024-08-30T11:22:04.144Z"
   },
   {
    "duration": 15,
    "start_time": "2024-08-30T11:22:32.528Z"
   },
   {
    "duration": 9,
    "start_time": "2024-08-30T11:23:49.341Z"
   },
   {
    "duration": 27,
    "start_time": "2024-08-30T11:23:50.186Z"
   },
   {
    "duration": 14,
    "start_time": "2024-08-30T11:51:10.311Z"
   },
   {
    "duration": 7,
    "start_time": "2024-08-30T11:51:34.881Z"
   },
   {
    "duration": 11,
    "start_time": "2024-08-30T11:51:55.406Z"
   },
   {
    "duration": 13,
    "start_time": "2024-08-30T11:52:29.818Z"
   },
   {
    "duration": 12,
    "start_time": "2024-08-30T11:52:45.046Z"
   },
   {
    "duration": 14,
    "start_time": "2024-08-30T12:00:20.132Z"
   },
   {
    "duration": 17,
    "start_time": "2024-08-30T12:00:28.577Z"
   },
   {
    "duration": 20,
    "start_time": "2024-08-30T12:17:41.431Z"
   },
   {
    "duration": 10,
    "start_time": "2024-08-30T12:18:29.797Z"
   },
   {
    "duration": 15,
    "start_time": "2024-08-30T12:18:40.908Z"
   },
   {
    "duration": 12,
    "start_time": "2024-08-30T12:18:57.499Z"
   },
   {
    "duration": 5,
    "start_time": "2024-08-30T12:20:44.649Z"
   },
   {
    "duration": 12,
    "start_time": "2024-08-30T12:21:05.806Z"
   },
   {
    "duration": 14,
    "start_time": "2024-08-30T12:24:34.093Z"
   },
   {
    "duration": 1047,
    "start_time": "2024-08-30T12:25:30.697Z"
   },
   {
    "duration": 88,
    "start_time": "2024-08-30T12:25:31.746Z"
   },
   {
    "duration": 12,
    "start_time": "2024-08-30T12:25:31.836Z"
   },
   {
    "duration": 35,
    "start_time": "2024-08-30T12:25:31.850Z"
   },
   {
    "duration": 32,
    "start_time": "2024-08-30T12:25:31.886Z"
   },
   {
    "duration": 61,
    "start_time": "2024-08-30T12:25:31.919Z"
   },
   {
    "duration": 4,
    "start_time": "2024-08-30T12:25:31.982Z"
   },
   {
    "duration": 41,
    "start_time": "2024-08-30T12:25:31.987Z"
   },
   {
    "duration": 12,
    "start_time": "2024-08-30T12:25:32.030Z"
   },
   {
    "duration": 15,
    "start_time": "2024-08-30T12:25:32.045Z"
   },
   {
    "duration": 21,
    "start_time": "2024-08-30T12:25:32.061Z"
   },
   {
    "duration": 39,
    "start_time": "2024-08-30T12:25:32.084Z"
   },
   {
    "duration": 21,
    "start_time": "2024-08-30T12:25:32.125Z"
   },
   {
    "duration": 5,
    "start_time": "2024-08-30T12:25:32.147Z"
   },
   {
    "duration": 59,
    "start_time": "2024-08-30T12:25:32.153Z"
   },
   {
    "duration": 238,
    "start_time": "2024-08-30T12:25:32.214Z"
   },
   {
    "duration": 13,
    "start_time": "2024-08-30T12:25:32.454Z"
   },
   {
    "duration": 333,
    "start_time": "2024-08-30T12:25:32.469Z"
   },
   {
    "duration": 228,
    "start_time": "2024-08-30T12:25:32.804Z"
   },
   {
    "duration": 326,
    "start_time": "2024-08-30T12:25:33.034Z"
   },
   {
    "duration": 247,
    "start_time": "2024-08-30T12:25:33.362Z"
   },
   {
    "duration": 343,
    "start_time": "2024-08-30T12:25:33.610Z"
   },
   {
    "duration": 9,
    "start_time": "2024-08-30T12:25:33.955Z"
   },
   {
    "duration": 185,
    "start_time": "2024-08-30T12:25:33.966Z"
   },
   {
    "duration": 4,
    "start_time": "2024-08-30T12:25:34.153Z"
   },
   {
    "duration": 163,
    "start_time": "2024-08-30T12:25:34.159Z"
   },
   {
    "duration": 5,
    "start_time": "2024-08-30T12:25:34.325Z"
   },
   {
    "duration": 146,
    "start_time": "2024-08-30T12:25:34.345Z"
   },
   {
    "duration": 27,
    "start_time": "2024-08-30T12:25:34.493Z"
   },
   {
    "duration": 27,
    "start_time": "2024-08-30T12:25:34.522Z"
   },
   {
    "duration": 26,
    "start_time": "2024-08-30T12:25:34.551Z"
   },
   {
    "duration": 11,
    "start_time": "2024-08-30T12:25:34.578Z"
   },
   {
    "duration": 28,
    "start_time": "2024-08-30T12:25:34.590Z"
   },
   {
    "duration": 31,
    "start_time": "2024-08-30T12:25:34.619Z"
   },
   {
    "duration": 1144,
    "start_time": "2024-08-30T12:30:50.820Z"
   },
   {
    "duration": 86,
    "start_time": "2024-08-30T12:30:51.966Z"
   },
   {
    "duration": 13,
    "start_time": "2024-08-30T12:30:52.053Z"
   },
   {
    "duration": 14,
    "start_time": "2024-08-30T12:30:52.069Z"
   },
   {
    "duration": 18,
    "start_time": "2024-08-30T12:30:52.084Z"
   },
   {
    "duration": 70,
    "start_time": "2024-08-30T12:30:52.103Z"
   },
   {
    "duration": 4,
    "start_time": "2024-08-30T12:30:52.175Z"
   },
   {
    "duration": 25,
    "start_time": "2024-08-30T12:30:52.181Z"
   },
   {
    "duration": 21,
    "start_time": "2024-08-30T12:30:52.208Z"
   },
   {
    "duration": 28,
    "start_time": "2024-08-30T12:30:52.231Z"
   },
   {
    "duration": 7,
    "start_time": "2024-08-30T12:30:52.260Z"
   },
   {
    "duration": 14,
    "start_time": "2024-08-30T12:30:52.269Z"
   },
   {
    "duration": 34,
    "start_time": "2024-08-30T12:30:52.285Z"
   },
   {
    "duration": 3,
    "start_time": "2024-08-30T12:30:52.321Z"
   },
   {
    "duration": 29,
    "start_time": "2024-08-30T12:30:52.326Z"
   },
   {
    "duration": 227,
    "start_time": "2024-08-30T12:30:52.357Z"
   },
   {
    "duration": 13,
    "start_time": "2024-08-30T12:30:52.586Z"
   },
   {
    "duration": 323,
    "start_time": "2024-08-30T12:30:52.600Z"
   },
   {
    "duration": 264,
    "start_time": "2024-08-30T12:30:52.925Z"
   },
   {
    "duration": 313,
    "start_time": "2024-08-30T12:30:53.191Z"
   },
   {
    "duration": 249,
    "start_time": "2024-08-30T12:30:53.506Z"
   },
   {
    "duration": 340,
    "start_time": "2024-08-30T12:30:53.757Z"
   },
   {
    "duration": 8,
    "start_time": "2024-08-30T12:30:54.099Z"
   },
   {
    "duration": 169,
    "start_time": "2024-08-30T12:30:54.109Z"
   },
   {
    "duration": 4,
    "start_time": "2024-08-30T12:30:54.280Z"
   },
   {
    "duration": 165,
    "start_time": "2024-08-30T12:30:54.285Z"
   },
   {
    "duration": 4,
    "start_time": "2024-08-30T12:30:54.451Z"
   },
   {
    "duration": 163,
    "start_time": "2024-08-30T12:30:54.458Z"
   },
   {
    "duration": 37,
    "start_time": "2024-08-30T12:30:54.624Z"
   },
   {
    "duration": 11,
    "start_time": "2024-08-30T12:30:54.663Z"
   },
   {
    "duration": 10,
    "start_time": "2024-08-30T12:30:54.676Z"
   },
   {
    "duration": 8,
    "start_time": "2024-08-30T12:30:54.688Z"
   },
   {
    "duration": 55,
    "start_time": "2024-08-30T12:30:54.697Z"
   },
   {
    "duration": 14,
    "start_time": "2024-08-30T12:30:54.754Z"
   },
   {
    "duration": 101,
    "start_time": "2024-08-30T12:32:38.089Z"
   },
   {
    "duration": 1123,
    "start_time": "2024-08-30T12:33:32.172Z"
   },
   {
    "duration": 86,
    "start_time": "2024-08-30T12:33:33.297Z"
   },
   {
    "duration": 11,
    "start_time": "2024-08-30T12:33:33.385Z"
   },
   {
    "duration": 30,
    "start_time": "2024-08-30T12:33:33.399Z"
   },
   {
    "duration": 15,
    "start_time": "2024-08-30T12:33:33.431Z"
   },
   {
    "duration": 53,
    "start_time": "2024-08-30T12:33:33.448Z"
   },
   {
    "duration": 4,
    "start_time": "2024-08-30T12:33:33.502Z"
   },
   {
    "duration": 40,
    "start_time": "2024-08-30T12:33:33.507Z"
   },
   {
    "duration": 12,
    "start_time": "2024-08-30T12:33:33.549Z"
   },
   {
    "duration": 24,
    "start_time": "2024-08-30T12:33:33.564Z"
   },
   {
    "duration": 7,
    "start_time": "2024-08-30T12:33:33.589Z"
   },
   {
    "duration": 17,
    "start_time": "2024-08-30T12:33:33.598Z"
   },
   {
    "duration": 40,
    "start_time": "2024-08-30T12:33:33.617Z"
   },
   {
    "duration": 4,
    "start_time": "2024-08-30T12:33:33.659Z"
   },
   {
    "duration": 22,
    "start_time": "2024-08-30T12:33:33.665Z"
   },
   {
    "duration": 266,
    "start_time": "2024-08-30T12:33:33.689Z"
   },
   {
    "duration": 12,
    "start_time": "2024-08-30T12:33:33.957Z"
   },
   {
    "duration": 333,
    "start_time": "2024-08-30T12:33:33.970Z"
   },
   {
    "duration": 268,
    "start_time": "2024-08-30T12:33:34.305Z"
   },
   {
    "duration": 297,
    "start_time": "2024-08-30T12:33:34.576Z"
   },
   {
    "duration": 249,
    "start_time": "2024-08-30T12:33:34.875Z"
   },
   {
    "duration": 344,
    "start_time": "2024-08-30T12:33:35.126Z"
   },
   {
    "duration": 9,
    "start_time": "2024-08-30T12:33:35.471Z"
   },
   {
    "duration": 177,
    "start_time": "2024-08-30T12:33:35.482Z"
   },
   {
    "duration": 4,
    "start_time": "2024-08-30T12:33:35.660Z"
   },
   {
    "duration": 170,
    "start_time": "2024-08-30T12:33:35.666Z"
   },
   {
    "duration": 10,
    "start_time": "2024-08-30T12:33:35.838Z"
   },
   {
    "duration": 154,
    "start_time": "2024-08-30T12:33:35.851Z"
   },
   {
    "duration": 26,
    "start_time": "2024-08-30T12:33:36.006Z"
   },
   {
    "duration": 20,
    "start_time": "2024-08-30T12:33:36.034Z"
   },
   {
    "duration": 51,
    "start_time": "2024-08-30T12:33:36.056Z"
   },
   {
    "duration": 14,
    "start_time": "2024-08-30T12:33:36.109Z"
   },
   {
    "duration": 50,
    "start_time": "2024-08-30T12:33:36.125Z"
   },
   {
    "duration": 18,
    "start_time": "2024-08-30T12:33:36.176Z"
   },
   {
    "duration": 98,
    "start_time": "2024-08-30T12:34:28.003Z"
   },
   {
    "duration": 10,
    "start_time": "2024-08-30T12:34:29.322Z"
   },
   {
    "duration": 1100,
    "start_time": "2024-08-30T12:34:36.426Z"
   },
   {
    "duration": 92,
    "start_time": "2024-08-30T12:34:37.528Z"
   },
   {
    "duration": 12,
    "start_time": "2024-08-30T12:34:37.621Z"
   },
   {
    "duration": 13,
    "start_time": "2024-08-30T12:34:37.635Z"
   },
   {
    "duration": 12,
    "start_time": "2024-08-30T12:34:37.649Z"
   },
   {
    "duration": 59,
    "start_time": "2024-08-30T12:34:37.662Z"
   },
   {
    "duration": 4,
    "start_time": "2024-08-30T12:34:37.722Z"
   },
   {
    "duration": 155,
    "start_time": "2024-08-30T12:34:37.728Z"
   },
   {
    "duration": 12,
    "start_time": "2024-08-30T12:34:37.885Z"
   },
   {
    "duration": 14,
    "start_time": "2024-08-30T12:34:37.899Z"
   },
   {
    "duration": 7,
    "start_time": "2024-08-30T12:34:37.914Z"
   },
   {
    "duration": 59,
    "start_time": "2024-08-30T12:34:37.922Z"
   },
   {
    "duration": 25,
    "start_time": "2024-08-30T12:34:37.983Z"
   },
   {
    "duration": 4,
    "start_time": "2024-08-30T12:34:38.010Z"
   },
   {
    "duration": 7,
    "start_time": "2024-08-30T12:34:38.016Z"
   },
   {
    "duration": 257,
    "start_time": "2024-08-30T12:34:38.024Z"
   },
   {
    "duration": 11,
    "start_time": "2024-08-30T12:34:38.282Z"
   },
   {
    "duration": 349,
    "start_time": "2024-08-30T12:34:38.295Z"
   },
   {
    "duration": 237,
    "start_time": "2024-08-30T12:34:38.645Z"
   },
   {
    "duration": 294,
    "start_time": "2024-08-30T12:34:38.884Z"
   },
   {
    "duration": 266,
    "start_time": "2024-08-30T12:34:39.180Z"
   },
   {
    "duration": 335,
    "start_time": "2024-08-30T12:34:39.447Z"
   },
   {
    "duration": 10,
    "start_time": "2024-08-30T12:34:39.783Z"
   },
   {
    "duration": 182,
    "start_time": "2024-08-30T12:34:39.794Z"
   },
   {
    "duration": 5,
    "start_time": "2024-08-30T12:34:39.977Z"
   },
   {
    "duration": 183,
    "start_time": "2024-08-30T12:34:39.984Z"
   },
   {
    "duration": 5,
    "start_time": "2024-08-30T12:34:40.168Z"
   },
   {
    "duration": 139,
    "start_time": "2024-08-30T12:34:40.176Z"
   },
   {
    "duration": 36,
    "start_time": "2024-08-30T12:34:40.317Z"
   },
   {
    "duration": 11,
    "start_time": "2024-08-30T12:34:40.355Z"
   },
   {
    "duration": 11,
    "start_time": "2024-08-30T12:34:40.368Z"
   },
   {
    "duration": 8,
    "start_time": "2024-08-30T12:34:40.380Z"
   },
   {
    "duration": 29,
    "start_time": "2024-08-30T12:34:40.390Z"
   },
   {
    "duration": 17,
    "start_time": "2024-08-30T12:34:40.446Z"
   },
   {
    "duration": 164,
    "start_time": "2024-08-30T12:48:13.842Z"
   },
   {
    "duration": 11,
    "start_time": "2024-08-30T12:51:55.754Z"
   },
   {
    "duration": 170,
    "start_time": "2024-08-30T12:57:16.816Z"
   },
   {
    "duration": 278,
    "start_time": "2024-08-30T12:58:16.527Z"
   },
   {
    "duration": 162,
    "start_time": "2024-08-30T12:58:45.030Z"
   },
   {
    "duration": 161,
    "start_time": "2024-08-30T12:59:18.426Z"
   },
   {
    "duration": 164,
    "start_time": "2024-08-30T12:59:59.131Z"
   },
   {
    "duration": 172,
    "start_time": "2024-08-30T13:00:07.417Z"
   },
   {
    "duration": 1097,
    "start_time": "2024-09-02T07:19:53.527Z"
   },
   {
    "duration": 82,
    "start_time": "2024-09-02T07:19:54.626Z"
   },
   {
    "duration": 13,
    "start_time": "2024-09-02T07:19:54.709Z"
   },
   {
    "duration": 19,
    "start_time": "2024-09-02T07:19:54.724Z"
   },
   {
    "duration": 11,
    "start_time": "2024-09-02T07:19:54.744Z"
   },
   {
    "duration": 62,
    "start_time": "2024-09-02T07:19:54.757Z"
   },
   {
    "duration": 4,
    "start_time": "2024-09-02T07:19:54.821Z"
   },
   {
    "duration": 111,
    "start_time": "2024-09-02T07:19:54.826Z"
   },
   {
    "duration": 13,
    "start_time": "2024-09-02T07:19:54.939Z"
   },
   {
    "duration": 15,
    "start_time": "2024-09-02T07:19:54.954Z"
   },
   {
    "duration": 6,
    "start_time": "2024-09-02T07:19:54.971Z"
   },
   {
    "duration": 25,
    "start_time": "2024-09-02T07:19:54.979Z"
   },
   {
    "duration": 21,
    "start_time": "2024-09-02T07:19:55.006Z"
   },
   {
    "duration": 4,
    "start_time": "2024-09-02T07:19:55.029Z"
   },
   {
    "duration": 9,
    "start_time": "2024-09-02T07:19:55.034Z"
   },
   {
    "duration": 262,
    "start_time": "2024-09-02T07:19:55.045Z"
   },
   {
    "duration": 16,
    "start_time": "2024-09-02T07:19:55.309Z"
   },
   {
    "duration": 335,
    "start_time": "2024-09-02T07:19:55.327Z"
   },
   {
    "duration": 242,
    "start_time": "2024-09-02T07:19:55.663Z"
   },
   {
    "duration": 322,
    "start_time": "2024-09-02T07:19:55.906Z"
   },
   {
    "duration": 254,
    "start_time": "2024-09-02T07:19:56.230Z"
   },
   {
    "duration": 348,
    "start_time": "2024-09-02T07:19:56.485Z"
   },
   {
    "duration": 9,
    "start_time": "2024-09-02T07:19:56.835Z"
   },
   {
    "duration": 188,
    "start_time": "2024-09-02T07:19:56.846Z"
   },
   {
    "duration": 4,
    "start_time": "2024-09-02T07:19:57.036Z"
   },
   {
    "duration": 182,
    "start_time": "2024-09-02T07:19:57.041Z"
   },
   {
    "duration": 5,
    "start_time": "2024-09-02T07:19:57.224Z"
   },
   {
    "duration": 168,
    "start_time": "2024-09-02T07:19:57.232Z"
   },
   {
    "duration": 26,
    "start_time": "2024-09-02T07:19:57.402Z"
   },
   {
    "duration": 12,
    "start_time": "2024-09-02T07:19:57.430Z"
   },
   {
    "duration": 11,
    "start_time": "2024-09-02T07:19:57.443Z"
   },
   {
    "duration": 12,
    "start_time": "2024-09-02T07:19:57.456Z"
   },
   {
    "duration": 53,
    "start_time": "2024-09-02T07:19:57.469Z"
   },
   {
    "duration": 15,
    "start_time": "2024-09-02T07:19:57.523Z"
   },
   {
    "duration": 13,
    "start_time": "2024-09-02T07:29:39.715Z"
   },
   {
    "duration": 10,
    "start_time": "2024-09-02T07:30:00.767Z"
   },
   {
    "duration": 11,
    "start_time": "2024-09-02T07:30:10.167Z"
   },
   {
    "duration": 9,
    "start_time": "2024-09-02T07:30:15.275Z"
   },
   {
    "duration": 10,
    "start_time": "2024-09-02T07:31:06.482Z"
   },
   {
    "duration": 13,
    "start_time": "2024-09-02T07:31:43.205Z"
   },
   {
    "duration": 11,
    "start_time": "2024-09-02T07:32:19.529Z"
   },
   {
    "duration": 13,
    "start_time": "2024-09-02T07:42:19.679Z"
   },
   {
    "duration": 13,
    "start_time": "2024-09-02T07:42:38.565Z"
   },
   {
    "duration": 168,
    "start_time": "2024-09-02T07:45:22.466Z"
   },
   {
    "duration": 14,
    "start_time": "2024-09-02T07:51:17.343Z"
   },
   {
    "duration": 15,
    "start_time": "2024-09-02T07:51:47.744Z"
   },
   {
    "duration": 13,
    "start_time": "2024-09-02T07:52:17.381Z"
   },
   {
    "duration": 1138,
    "start_time": "2024-09-02T08:17:51.914Z"
   },
   {
    "duration": 85,
    "start_time": "2024-09-02T08:17:53.054Z"
   },
   {
    "duration": 12,
    "start_time": "2024-09-02T08:17:53.141Z"
   },
   {
    "duration": 26,
    "start_time": "2024-09-02T08:17:53.155Z"
   },
   {
    "duration": 56,
    "start_time": "2024-09-02T08:17:53.183Z"
   },
   {
    "duration": 56,
    "start_time": "2024-09-02T08:17:53.241Z"
   },
   {
    "duration": 21,
    "start_time": "2024-09-02T08:17:53.299Z"
   },
   {
    "duration": 40,
    "start_time": "2024-09-02T08:17:53.322Z"
   },
   {
    "duration": 13,
    "start_time": "2024-09-02T08:17:53.364Z"
   },
   {
    "duration": 12,
    "start_time": "2024-09-02T08:17:53.381Z"
   },
   {
    "duration": 7,
    "start_time": "2024-09-02T08:17:53.394Z"
   },
   {
    "duration": 19,
    "start_time": "2024-09-02T08:17:53.402Z"
   },
   {
    "duration": 21,
    "start_time": "2024-09-02T08:17:53.423Z"
   },
   {
    "duration": 4,
    "start_time": "2024-09-02T08:17:53.446Z"
   },
   {
    "duration": 24,
    "start_time": "2024-09-02T08:17:53.451Z"
   },
   {
    "duration": 246,
    "start_time": "2024-09-02T08:17:53.476Z"
   },
   {
    "duration": 12,
    "start_time": "2024-09-02T08:17:53.723Z"
   },
   {
    "duration": 334,
    "start_time": "2024-09-02T08:17:53.736Z"
   },
   {
    "duration": 243,
    "start_time": "2024-09-02T08:17:54.072Z"
   },
   {
    "duration": 337,
    "start_time": "2024-09-02T08:17:54.317Z"
   },
   {
    "duration": 252,
    "start_time": "2024-09-02T08:17:54.657Z"
   },
   {
    "duration": 341,
    "start_time": "2024-09-02T08:17:54.911Z"
   },
   {
    "duration": 10,
    "start_time": "2024-09-02T08:17:55.254Z"
   },
   {
    "duration": 209,
    "start_time": "2024-09-02T08:17:55.266Z"
   },
   {
    "duration": 4,
    "start_time": "2024-09-02T08:17:55.477Z"
   },
   {
    "duration": 173,
    "start_time": "2024-09-02T08:17:55.483Z"
   },
   {
    "duration": 5,
    "start_time": "2024-09-02T08:17:55.657Z"
   },
   {
    "duration": 175,
    "start_time": "2024-09-02T08:17:55.665Z"
   },
   {
    "duration": 27,
    "start_time": "2024-09-02T08:17:55.842Z"
   },
   {
    "duration": 30,
    "start_time": "2024-09-02T08:17:55.870Z"
   },
   {
    "duration": 11,
    "start_time": "2024-09-02T08:17:55.902Z"
   },
   {
    "duration": 35,
    "start_time": "2024-09-02T08:17:55.915Z"
   },
   {
    "duration": 38,
    "start_time": "2024-09-02T08:17:55.951Z"
   },
   {
    "duration": 15,
    "start_time": "2024-09-02T08:17:55.991Z"
   },
   {
    "duration": 1173,
    "start_time": "2024-09-02T08:18:36.788Z"
   },
   {
    "duration": 61,
    "start_time": "2024-09-02T08:18:37.963Z"
   },
   {
    "duration": 20,
    "start_time": "2024-09-02T08:18:38.026Z"
   },
   {
    "duration": 22,
    "start_time": "2024-09-02T08:18:38.047Z"
   },
   {
    "duration": 57,
    "start_time": "2024-09-02T08:18:38.070Z"
   },
   {
    "duration": 56,
    "start_time": "2024-09-02T08:18:38.129Z"
   },
   {
    "duration": 4,
    "start_time": "2024-09-02T08:18:38.186Z"
   },
   {
    "duration": 90,
    "start_time": "2024-09-02T08:18:38.191Z"
   },
   {
    "duration": 13,
    "start_time": "2024-09-02T08:18:38.282Z"
   },
   {
    "duration": 44,
    "start_time": "2024-09-02T08:18:38.297Z"
   },
   {
    "duration": 6,
    "start_time": "2024-09-02T08:18:38.343Z"
   },
   {
    "duration": 23,
    "start_time": "2024-09-02T08:18:38.351Z"
   },
   {
    "duration": 30,
    "start_time": "2024-09-02T08:18:38.375Z"
   },
   {
    "duration": 6,
    "start_time": "2024-09-02T08:18:38.407Z"
   },
   {
    "duration": 14,
    "start_time": "2024-09-02T08:18:38.416Z"
   },
   {
    "duration": 260,
    "start_time": "2024-09-02T08:18:38.433Z"
   },
   {
    "duration": 13,
    "start_time": "2024-09-02T08:18:38.694Z"
   },
   {
    "duration": 325,
    "start_time": "2024-09-02T08:18:38.708Z"
   },
   {
    "duration": 280,
    "start_time": "2024-09-02T08:18:39.035Z"
   },
   {
    "duration": 312,
    "start_time": "2024-09-02T08:18:39.316Z"
   },
   {
    "duration": 245,
    "start_time": "2024-09-02T08:18:39.630Z"
   },
   {
    "duration": 345,
    "start_time": "2024-09-02T08:18:39.877Z"
   },
   {
    "duration": 10,
    "start_time": "2024-09-02T08:18:40.223Z"
   },
   {
    "duration": 192,
    "start_time": "2024-09-02T08:18:40.235Z"
   },
   {
    "duration": 5,
    "start_time": "2024-09-02T08:18:40.429Z"
   },
   {
    "duration": 194,
    "start_time": "2024-09-02T08:18:40.436Z"
   },
   {
    "duration": 5,
    "start_time": "2024-09-02T08:18:40.632Z"
   },
   {
    "duration": 243,
    "start_time": "2024-09-02T08:18:40.640Z"
   },
   {
    "duration": 189,
    "start_time": "2024-09-02T08:18:40.885Z"
   },
   {
    "duration": 13,
    "start_time": "2024-09-02T08:18:41.076Z"
   },
   {
    "duration": 34,
    "start_time": "2024-09-02T08:18:41.091Z"
   },
   {
    "duration": 23,
    "start_time": "2024-09-02T08:18:41.127Z"
   },
   {
    "duration": 65,
    "start_time": "2024-09-02T08:18:41.152Z"
   },
   {
    "duration": 15,
    "start_time": "2024-09-02T08:18:41.219Z"
   },
   {
    "duration": 1109,
    "start_time": "2024-09-22T13:05:19.282Z"
   },
   {
    "duration": 143,
    "start_time": "2024-09-22T13:05:20.393Z"
   },
   {
    "duration": 16,
    "start_time": "2024-09-22T13:05:20.538Z"
   },
   {
    "duration": 14,
    "start_time": "2024-09-22T13:05:20.556Z"
   },
   {
    "duration": 78,
    "start_time": "2024-09-22T13:05:20.572Z"
   },
   {
    "duration": 147,
    "start_time": "2024-09-22T13:05:20.651Z"
   },
   {
    "duration": 4,
    "start_time": "2024-09-22T13:05:20.799Z"
   },
   {
    "duration": 55,
    "start_time": "2024-09-22T13:05:20.804Z"
   },
   {
    "duration": 13,
    "start_time": "2024-09-22T13:05:20.860Z"
   },
   {
    "duration": 47,
    "start_time": "2024-09-22T13:05:20.875Z"
   },
   {
    "duration": 39,
    "start_time": "2024-09-22T13:05:20.924Z"
   },
   {
    "duration": 36,
    "start_time": "2024-09-22T13:05:20.965Z"
   },
   {
    "duration": 38,
    "start_time": "2024-09-22T13:05:21.003Z"
   },
   {
    "duration": 10,
    "start_time": "2024-09-22T13:05:21.043Z"
   },
   {
    "duration": 28,
    "start_time": "2024-09-22T13:05:21.055Z"
   },
   {
    "duration": 251,
    "start_time": "2024-09-22T13:05:21.085Z"
   },
   {
    "duration": 13,
    "start_time": "2024-09-22T13:05:21.337Z"
   },
   {
    "duration": 333,
    "start_time": "2024-09-22T13:05:21.351Z"
   },
   {
    "duration": 234,
    "start_time": "2024-09-22T13:05:21.685Z"
   },
   {
    "duration": 338,
    "start_time": "2024-09-22T13:05:21.920Z"
   },
   {
    "duration": 258,
    "start_time": "2024-09-22T13:05:22.259Z"
   },
   {
    "duration": 346,
    "start_time": "2024-09-22T13:05:22.519Z"
   },
   {
    "duration": 9,
    "start_time": "2024-09-22T13:05:22.867Z"
   },
   {
    "duration": 187,
    "start_time": "2024-09-22T13:05:22.877Z"
   },
   {
    "duration": 4,
    "start_time": "2024-09-22T13:05:23.066Z"
   },
   {
    "duration": 180,
    "start_time": "2024-09-22T13:05:23.072Z"
   },
   {
    "duration": 4,
    "start_time": "2024-09-22T13:05:23.254Z"
   },
   {
    "duration": 177,
    "start_time": "2024-09-22T13:05:23.261Z"
   },
   {
    "duration": 28,
    "start_time": "2024-09-22T13:05:23.440Z"
   },
   {
    "duration": 12,
    "start_time": "2024-09-22T13:05:23.470Z"
   },
   {
    "duration": 35,
    "start_time": "2024-09-22T13:05:23.484Z"
   },
   {
    "duration": 7,
    "start_time": "2024-09-22T13:05:23.521Z"
   },
   {
    "duration": 27,
    "start_time": "2024-09-22T13:05:23.529Z"
   },
   {
    "duration": 14,
    "start_time": "2024-09-22T13:05:23.557Z"
   },
   {
    "duration": 989,
    "start_time": "2024-11-27T09:17:13.749Z"
   },
   {
    "duration": 103,
    "start_time": "2024-11-27T09:17:14.740Z"
   },
   {
    "duration": 11,
    "start_time": "2024-11-27T09:17:14.844Z"
   },
   {
    "duration": 12,
    "start_time": "2024-11-27T09:17:14.858Z"
   },
   {
    "duration": 64,
    "start_time": "2024-11-27T09:17:14.871Z"
   },
   {
    "duration": 156,
    "start_time": "2024-11-27T09:17:14.937Z"
   },
   {
    "duration": 6,
    "start_time": "2024-11-27T09:17:15.095Z"
   },
   {
    "duration": 40,
    "start_time": "2024-11-27T09:17:15.102Z"
   },
   {
    "duration": 12,
    "start_time": "2024-11-27T09:17:15.143Z"
   },
   {
    "duration": 15,
    "start_time": "2024-11-27T09:17:15.158Z"
   },
   {
    "duration": 26,
    "start_time": "2024-11-27T09:17:15.174Z"
   },
   {
    "duration": 16,
    "start_time": "2024-11-27T09:17:15.201Z"
   },
   {
    "duration": 31,
    "start_time": "2024-11-27T09:17:15.219Z"
   },
   {
    "duration": 4,
    "start_time": "2024-11-27T09:17:15.251Z"
   },
   {
    "duration": 12,
    "start_time": "2024-11-27T09:17:15.256Z"
   },
   {
    "duration": 201,
    "start_time": "2024-11-27T09:17:15.269Z"
   },
   {
    "duration": 12,
    "start_time": "2024-11-27T09:17:15.472Z"
   },
   {
    "duration": 461,
    "start_time": "2024-11-27T09:17:15.486Z"
   },
   {
    "duration": 345,
    "start_time": "2024-11-27T09:17:15.948Z"
   },
   {
    "duration": 328,
    "start_time": "2024-11-27T09:17:16.294Z"
   },
   {
    "duration": 217,
    "start_time": "2024-11-27T09:17:16.624Z"
   },
   {
    "duration": 583,
    "start_time": "2024-11-27T09:17:16.842Z"
   },
   {
    "duration": 8,
    "start_time": "2024-11-27T09:17:17.426Z"
   },
   {
    "duration": 322,
    "start_time": "2024-11-27T09:17:17.436Z"
   },
   {
    "duration": 4,
    "start_time": "2024-11-27T09:17:17.811Z"
   },
   {
    "duration": 176,
    "start_time": "2024-11-27T09:17:17.816Z"
   },
   {
    "duration": 4,
    "start_time": "2024-11-27T09:17:17.993Z"
   },
   {
    "duration": 135,
    "start_time": "2024-11-27T09:17:17.999Z"
   },
   {
    "duration": 22,
    "start_time": "2024-11-27T09:17:18.135Z"
   },
   {
    "duration": 10,
    "start_time": "2024-11-27T09:17:18.158Z"
   },
   {
    "duration": 22,
    "start_time": "2024-11-27T09:17:18.169Z"
   },
   {
    "duration": 22,
    "start_time": "2024-11-27T09:17:18.193Z"
   },
   {
    "duration": 22,
    "start_time": "2024-11-27T09:17:18.217Z"
   },
   {
    "duration": 13,
    "start_time": "2024-11-27T09:17:18.240Z"
   },
   {
    "duration": 1224,
    "start_time": "2024-12-18T07:07:01.828Z"
   },
   {
    "duration": 134,
    "start_time": "2024-12-18T07:07:03.054Z"
   },
   {
    "duration": 11,
    "start_time": "2024-12-18T07:07:03.190Z"
   },
   {
    "duration": 12,
    "start_time": "2024-12-18T07:07:03.204Z"
   },
   {
    "duration": 56,
    "start_time": "2024-12-18T07:07:03.217Z"
   },
   {
    "duration": 136,
    "start_time": "2024-12-18T07:07:03.275Z"
   },
   {
    "duration": 5,
    "start_time": "2024-12-18T07:07:03.413Z"
   },
   {
    "duration": 27,
    "start_time": "2024-12-18T07:07:03.419Z"
   },
   {
    "duration": 16,
    "start_time": "2024-12-18T07:07:03.448Z"
   },
   {
    "duration": 26,
    "start_time": "2024-12-18T07:07:03.466Z"
   },
   {
    "duration": 18,
    "start_time": "2024-12-18T07:07:03.493Z"
   },
   {
    "duration": 12,
    "start_time": "2024-12-18T07:07:03.512Z"
   },
   {
    "duration": 16,
    "start_time": "2024-12-18T07:07:03.526Z"
   },
   {
    "duration": 3,
    "start_time": "2024-12-18T07:07:03.544Z"
   },
   {
    "duration": 7,
    "start_time": "2024-12-18T07:07:03.548Z"
   },
   {
    "duration": 206,
    "start_time": "2024-12-18T07:07:03.556Z"
   },
   {
    "duration": 11,
    "start_time": "2024-12-18T07:07:03.763Z"
   },
   {
    "duration": 299,
    "start_time": "2024-12-18T07:07:03.776Z"
   },
   {
    "duration": 215,
    "start_time": "2024-12-18T07:07:04.076Z"
   },
   {
    "duration": 326,
    "start_time": "2024-12-18T07:07:04.293Z"
   },
   {
    "duration": 220,
    "start_time": "2024-12-18T07:07:04.621Z"
   },
   {
    "duration": 310,
    "start_time": "2024-12-18T07:07:04.845Z"
   },
   {
    "duration": 9,
    "start_time": "2024-12-18T07:07:05.156Z"
   },
   {
    "duration": 160,
    "start_time": "2024-12-18T07:07:05.167Z"
   },
   {
    "duration": 4,
    "start_time": "2024-12-18T07:07:05.328Z"
   },
   {
    "duration": 159,
    "start_time": "2024-12-18T07:07:05.334Z"
   },
   {
    "duration": 4,
    "start_time": "2024-12-18T07:07:05.495Z"
   },
   {
    "duration": 199,
    "start_time": "2024-12-18T07:07:05.503Z"
   },
   {
    "duration": 23,
    "start_time": "2024-12-18T07:07:05.704Z"
   },
   {
    "duration": 26,
    "start_time": "2024-12-18T07:07:05.728Z"
   },
   {
    "duration": 158,
    "start_time": "2024-12-18T07:07:05.755Z"
   },
   {
    "duration": 33,
    "start_time": "2024-12-18T07:07:05.915Z"
   },
   {
    "duration": 31,
    "start_time": "2024-12-18T07:07:05.949Z"
   },
   {
    "duration": 19,
    "start_time": "2024-12-18T07:07:05.981Z"
   }
  ],
  "kernelspec": {
   "display_name": "Python 3 (ipykernel)",
   "language": "python",
   "name": "python3"
  },
  "language_info": {
   "codemirror_mode": {
    "name": "ipython",
    "version": 3
   },
   "file_extension": ".py",
   "mimetype": "text/x-python",
   "name": "python",
   "nbconvert_exporter": "python",
   "pygments_lexer": "ipython3",
   "version": "3.9.5"
  },
  "toc": {
   "base_numbering": 1,
   "nav_menu": {
    "height": "347px",
    "width": "816px"
   },
   "number_sections": true,
   "sideBar": true,
   "skip_h1_title": true,
   "title_cell": "Table of Contents",
   "title_sidebar": "Contents",
   "toc_cell": false,
   "toc_position": {},
   "toc_section_display": true,
   "toc_window_display": false
  }
 },
 "nbformat": 4,
 "nbformat_minor": 2
}
